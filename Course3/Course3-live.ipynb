{
 "cells": [
  {
   "cell_type": "markdown",
   "metadata": {},
   "source": [
    "# Course 3: The NumPy package"
   ]
  },
  {
   "cell_type": "markdown",
   "metadata": {},
   "source": [
    "## Motivation"
   ]
  },
  {
   "cell_type": "markdown",
   "metadata": {},
   "source": [
    "NumPy (Numerical Python) is the core package for scientific computations in Python. It supports vectors and multidimensional matrices (tensors), functions for random number generation, linear algebra, signal processing, basic stats, etc. NumPy is a standard used by other packages. The manipulated data must fit RAM memory. NumPy relies on  C compiled code. \n",
    "\n",
    "In many situations data can be converted to numbers:\n",
    "* an image in grey can be seen as a 2d matrix; every number is the intensity of the corresponding pixel  (0 - black, 255 - white)\n",
    "![Imagine minsi scalata 0-1](./images/mnist_image.png)\n",
    "* a colour image can be seen as a 3d matrix, of represented as RGB: the \"parallel\" matrices are representing a colour channel:\n",
    "![Imagine RGB descompusa in 3 canale](./images/channelsrgb.gif)\n",
    "* an audio file can be seen as one or more vectors, where the number of vectors is the number of recoring channels. For a wav file, the values represent membrane's displacement, sampled in time:\n",
    "![sunet](./images/sound.png)\n",
    "* a text can be translated in numerical vectors by using techniques as [Bag of words](https://en.wikipedia.org/wiki/Bag-of-words_model), [Word2vec](https://en.wikipedia.org/wiki/Word2vec), or any other type of embedding.\n",
    "\n",
    "Vector and matrix representation used by NumPy is much more efficient than Python lists. The NumPy code actually uses native libraries, not interpreted code. If you vectorize you code, the efficiency is even greater on actual CPUs. \n",
    "\n",
    "The basic data type from NumPy is `ndarray` - n-dimensional array. "
   ]
  },
  {
   "cell_type": "markdown",
   "metadata": {},
   "source": [
    "## Creating arrays"
   ]
  },
  {
   "cell_type": "code",
   "execution_count": null,
   "metadata": {
    "ExecuteTime": {
     "end_time": "2022-02-20T13:06:47.714966Z",
     "start_time": "2022-02-20T13:06:47.539933Z"
    }
   },
   "outputs": [],
   "source": [
    "# importing numpy, traditionally aliased as np\n",
    "import numpy as np\n",
    "\n",
    "# print numpy version, for further reproducibility\n",
    "..."
   ]
  },
  {
   "cell_type": "code",
   "execution_count": null,
   "metadata": {
    "ExecuteTime": {
     "end_time": "2022-02-20T13:06:47.731021Z",
     "start_time": "2022-02-20T13:06:47.716931Z"
    }
   },
   "outputs": [],
   "source": [
    "# create a vector starting from a Python list\n",
    "x = np.array([1, 4, 2, 5, 3])\n",
    "\n",
    "# printing x's type\n",
    "print(...) \n",
    "\n",
    "# all the elements in the array are of the same type\n",
    "print(...) \n",
    "\n",
    "# you can explicitely specify the underlying type in the array\n",
    "y = np.array([1, 2, 3], dtype=np.float16)\n",
    "print(y.dtype)"
   ]
  },
  {
   "cell_type": "code",
   "execution_count": null,
   "metadata": {
    "ExecuteTime": {
     "end_time": "2022-02-20T13:06:47.747037Z",
     "start_time": "2022-02-20T13:06:47.734021Z"
    }
   },
   "outputs": [],
   "source": [
    "# useful functions\n",
    "all_zeros = ...\n",
    "print(all_zeros)\n",
    "# printing number of elements on each dimension (axes)\n",
    "print(all_zeros.shape)"
   ]
  },
  {
   "cell_type": "code",
   "execution_count": null,
   "metadata": {
    "ExecuteTime": {
     "end_time": "2022-02-20T13:06:47.763057Z",
     "start_time": "2022-02-20T13:06:47.750021Z"
    }
   },
   "outputs": [],
   "source": [
    "# 2d matrix\n",
    "mat = np.array(...)  # note we start from lists of lists\n",
    "print(mat)\n",
    "print(mat.shape)\n",
    "print(mat[0, 1])"
   ]
  },
  {
   "cell_type": "code",
   "execution_count": null,
   "metadata": {
    "ExecuteTime": {
     "end_time": "2022-02-20T13:06:47.779055Z",
     "start_time": "2022-02-20T13:06:47.765033Z"
    }
   },
   "outputs": [],
   "source": [
    "# matrix with same value:\n",
    "mat_7 = ....\n",
    "print(mat_7)\n",
    "\n",
    "mat_7_2 = ...\n",
    "\n",
    "print(mat_7 == mat_7_2)"
   ]
  },
  {
   "cell_type": "markdown",
   "metadata": {},
   "source": [
    "The number of dimensions of a matrix is given by:"
   ]
  },
  {
   "cell_type": "code",
   "execution_count": null,
   "metadata": {
    "ExecuteTime": {
     "end_time": "2022-02-20T13:06:47.795055Z",
     "start_time": "2022-02-20T13:06:47.781020Z"
    }
   },
   "outputs": [],
   "source": [
    "print('Number of dimensions of all_zeros:', all_zeros.ndim)\n",
    "print('Number of dimensions of mat:', mat.ndim)"
   ]
  },
  {
   "cell_type": "markdown",
   "metadata": {},
   "source": [
    "The total number of elements, byte size of an element are found as:"
   ]
  },
  {
   "cell_type": "code",
   "execution_count": null,
   "metadata": {
    "ExecuteTime": {
     "end_time": "2022-02-20T13:06:47.811055Z",
     "start_time": "2022-02-20T13:06:47.798020Z"
    }
   },
   "outputs": [],
   "source": [
    "print('mat size: {0}\\nmat element size: {1} bytes\\nmat.dtype:{2}'.format(mat.size, mat.itemsize, mat.dtype))"
   ]
  },
  {
   "cell_type": "code",
   "execution_count": null,
   "metadata": {
    "ExecuteTime": {
     "end_time": "2022-02-20T13:06:47.827057Z",
     "start_time": "2022-02-20T13:06:47.813021Z"
    }
   },
   "outputs": [],
   "source": [
    "# usefull function\n",
    "# identity matrix\n",
    "print(...)"
   ]
  },
  {
   "cell_type": "code",
   "execution_count": null,
   "metadata": {
    "ExecuteTime": {
     "end_time": "2022-02-20T13:06:47.843055Z",
     "start_time": "2022-02-20T13:06:47.828021Z"
    }
   },
   "outputs": [],
   "source": [
    "# equally spaced values in an interval; the interval bounds are part of the vector\n",
    "print(...)"
   ]
  },
  {
   "cell_type": "code",
   "execution_count": null,
   "metadata": {
    "ExecuteTime": {
     "end_time": "2022-02-20T13:06:47.859058Z",
     "start_time": "2022-02-20T13:06:47.849022Z"
    }
   },
   "outputs": [],
   "source": [
    "# arange works identically with Python's range function\n",
    "some_values = np.arange(0, 10, 3)\n",
    "print(some_values)\n",
    "print(type(some_values))"
   ]
  },
  {
   "cell_type": "code",
   "execution_count": null,
   "metadata": {
    "ExecuteTime": {
     "end_time": "2022-02-20T13:06:47.875058Z",
     "start_time": "2022-02-20T13:06:47.861022Z"
    }
   },
   "outputs": [],
   "source": [
    "# random numbers\n",
    "x = np.random.random(...)\n",
    "print(x)"
   ]
  },
  {
   "cell_type": "markdown",
   "metadata": {},
   "source": [
    "The following data types can be used for NumPy arrays:\n",
    "\n",
    "| Type  | Explanation |\n",
    "| ---- | -----------|\n",
    "| bool_ | \tBoolean (True or False) stored as a byte | \n",
    "| int_ | \tDefault integer type (same as C long; normally either int64 or int32) | \n",
    "| intc | \tIdentical to C int (normally int32 or int64) | \n",
    "| intp | \tInteger used for indexing (same as C ssize_t; normally either int32 or int64) | \n",
    "| int8 | \tByte (-128 to 127) | \n",
    "| int16 | \tInteger (-32768 to 32767) | \n",
    "| int32 | \tInteger (-2147483648 to 2147483647) | \n",
    "| int64 | \tInteger (-9223372036854775808 to 9223372036854775807) | \n",
    "| uint8 | \tUnsigned integer (0 to 255) | \n",
    "| uint16 | \tUnsigned integer (0 to 65535) | \n",
    "| uint32 | \tUnsigned integer (0 to 4294967295) | \n",
    "| uint64 | \tUnsigned integer (0 to 18446744073709551615) | \n",
    "| float_ | \tShorthand for float64. | \n",
    "| float16 | \tHalf precision float: sign bit, 5 bits exponent, 10 bits mantissa | \n",
    "| float32 | \tSingle precision float: sign bit, 8 bits exponent, 23 bits mantissa | \n",
    "| float64 | \tDouble precision float: sign bit, 11 bits exponent, 52 bits mantissa | \n",
    "| complex_ | \tShorthand for complex128. | \n",
    "| complex64 | \tComplex number, represented by two 32-bit floats (real and imaginary components) | \n",
    "| complex128 | \tComplex number, represented by two 64-bit floats (real and imaginary components) |"
   ]
  },
  {
   "cell_type": "markdown",
   "metadata": {},
   "source": [
    "A popular operation is taking an array and changing its shape:"
   ]
  },
  {
   "cell_type": "code",
   "execution_count": null,
   "metadata": {
    "ExecuteTime": {
     "end_time": "2022-02-20T13:06:47.891034Z",
     "start_time": "2022-02-20T13:06:47.880034Z"
    }
   },
   "outputs": [],
   "source": [
    "# from a vector to a matrix\n",
    "vec = np.arange(10)\n",
    "mat = vec.reshape(...)\n",
    "print(vec)\n",
    "print(mat)"
   ]
  },
  {
   "cell_type": "code",
   "execution_count": null,
   "metadata": {
    "ExecuteTime": {
     "end_time": "2022-02-20T13:06:47.907022Z",
     "start_time": "2022-02-20T13:06:47.895035Z"
    }
   },
   "outputs": [],
   "source": [
    "#...and vice versa:\n",
    "vec2 = ...\n",
    "print(vec2)"
   ]
  },
  {
   "cell_type": "markdown",
   "metadata": {},
   "source": [
    "Matrices can be concatenated; the concatenation dimension (axis) should be specified:"
   ]
  },
  {
   "cell_type": "code",
   "execution_count": null,
   "metadata": {
    "ExecuteTime": {
     "end_time": "2022-02-20T13:06:47.922055Z",
     "start_time": "2022-02-20T13:06:47.909024Z"
    }
   },
   "outputs": [],
   "source": [
    "a = np.array([[1, 2], [3, 4]], float)\n",
    "b = np.array([[5, 6], [7,8]], float)"
   ]
  },
  {
   "cell_type": "code",
   "execution_count": null,
   "metadata": {
    "ExecuteTime": {
     "end_time": "2022-02-20T13:06:47.937057Z",
     "start_time": "2022-02-20T13:06:47.923021Z"
    }
   },
   "outputs": [],
   "source": [
    "# vertical concatenation (stacking)\n",
    "vertical = np.concatenate(...)\n",
    "print(vertical)"
   ]
  },
  {
   "cell_type": "markdown",
   "metadata": {},
   "source": [
    "The axis concept is defined for matrices with at least two dimensions. For a 2D matrix, the axis 0 sweeps the matrix vertically, while axis 1 sweeps it horizontally."
   ]
  },
  {
   "cell_type": "code",
   "execution_count": null,
   "metadata": {
    "ExecuteTime": {
     "end_time": "2022-02-20T13:06:47.953060Z",
     "start_time": "2022-02-20T13:06:47.939021Z"
    }
   },
   "outputs": [],
   "source": [
    "# horizontal concatenation\n",
    "horizontal = np.concatenate(...)\n",
    "print(horizontal)"
   ]
  },
  {
   "cell_type": "code",
   "execution_count": null,
   "metadata": {
    "ExecuteTime": {
     "end_time": "2022-02-20T13:06:47.969026Z",
     "start_time": "2022-02-20T13:06:47.955023Z"
    }
   },
   "outputs": [],
   "source": [
    "# same as:\n",
    "vertical = np...\n",
    "horizontal = np...\n",
    "print(vertical)\n",
    "print(horizontal)"
   ]
  },
  {
   "cell_type": "code",
   "execution_count": null,
   "metadata": {
    "ExecuteTime": {
     "end_time": "2022-02-20T13:06:47.984054Z",
     "start_time": "2022-02-20T13:06:47.971022Z"
    }
   },
   "outputs": [],
   "source": [
    "matrix = np.arange(15).reshape(3, 5)\n",
    "print(matrix)"
   ]
  },
  {
   "cell_type": "code",
   "execution_count": null,
   "metadata": {
    "ExecuteTime": {
     "end_time": "2022-02-20T13:06:47.999064Z",
     "start_time": "2022-02-20T13:06:47.986023Z"
    }
   },
   "outputs": [],
   "source": [
    "sum_by_columns= ...\n",
    "print(sum_by_columns)"
   ]
  },
  {
   "cell_type": "code",
   "execution_count": null,
   "metadata": {
    "ExecuteTime": {
     "end_time": "2022-02-20T13:06:48.015059Z",
     "start_time": "2022-02-20T13:06:48.001023Z"
    }
   },
   "outputs": [],
   "source": [
    "sum_by_rows= ...\n",
    "print(sum_by_rows)"
   ]
  },
  {
   "cell_type": "markdown",
   "metadata": {},
   "source": [
    "## Operating with ndarrays\n",
    "\n",
    "As expected, the basic operations from linear algebra are already implemented."
   ]
  },
  {
   "cell_type": "code",
   "execution_count": null,
   "metadata": {
    "ExecuteTime": {
     "end_time": "2022-02-20T13:06:48.031059Z",
     "start_time": "2022-02-20T13:06:48.017024Z"
    }
   },
   "outputs": [],
   "source": [
    "# multiplying by a scalar\n",
    "a = np.array([[1, 2, 3], [4, 5, 6]])\n",
    "print('a=\\n', a)\n",
    "b = ...\n",
    "print('b=\\n', b)"
   ]
  },
  {
   "cell_type": "code",
   "execution_count": null,
   "metadata": {
    "ExecuteTime": {
     "end_time": "2022-02-20T13:06:48.047053Z",
     "start_time": "2022-02-20T13:06:48.033022Z"
    }
   },
   "outputs": [],
   "source": [
    "# add and substract two matrices\n",
    "sum_mat = a + b\n",
    "print(sum_mat)\n",
    "diff_mat = a - b\n",
    "print(diff_mat)"
   ]
  },
  {
   "cell_type": "markdown",
   "metadata": {},
   "source": [
    "The multiplication operator \\* is implemented in a different way from linear algebra: For two matrices with \n",
    "same shapes the elements at the same coordinates are multiplied: c[i, j] = a[i, j] * b[i, j]. This is called pointwise multiplication, or Hadamard product, and it is often used in signal processing and machine learning"
   ]
  },
  {
   "cell_type": "code",
   "execution_count": null,
   "metadata": {
    "ExecuteTime": {
     "end_time": "2022-02-20T13:06:48.063059Z",
     "start_time": "2022-02-20T13:06:48.050021Z"
    }
   },
   "outputs": [],
   "source": [
    "# multiplication by * leads to Hadamard product: c[i, j] = a[i, j] * b[i, j]\n",
    "c = a * b\n",
    "print(c)\n",
    "for i in range(c.shape[0]):  # c.shape[0] = number of rows of matrix c\n",
    "    for j in range(c.shape[1]): # c.shape[1] = number of columns of matrix c\n",
    "        print(c[i, j] == a[i, j] * b[i, j])"
   ]
  },
  {
   "cell_type": "markdown",
   "metadata": {},
   "source": [
    "The above operations are using linear algebra libraries, which are optimized for the current microprocessors. It is recommended to use them instead of (nested) for cycles:"
   ]
  },
  {
   "cell_type": "code",
   "execution_count": null,
   "metadata": {
    "ExecuteTime": {
     "end_time": "2022-02-20T13:06:48.079058Z",
     "start_time": "2022-02-20T13:06:48.064022Z"
    }
   },
   "outputs": [],
   "source": [
    "# create matrices\n",
    "matrix_shape = (100, 100)\n",
    "a_big = np.random.random(matrix_shape)\n",
    "b_big = np.random.random(matrix_shape)"
   ]
  },
  {
   "cell_type": "code",
   "execution_count": null,
   "metadata": {
    "ExecuteTime": {
     "end_time": "2022-02-20T13:06:52.485345Z",
     "start_time": "2022-02-20T13:06:48.082519Z"
    }
   },
   "outputs": [],
   "source": [
    "%%timeit\n",
    "c_big = np.empty_like(a_big)\n",
    "for i in range(c_big.shape[0]):\n",
    "    for j in range(c_big.shape[1]):\n",
    "        c_big[i, j] = a_big[i, j] * b_big[i, j]"
   ]
  },
  {
   "cell_type": "code",
   "execution_count": null,
   "metadata": {
    "ExecuteTime": {
     "end_time": "2022-02-20T13:06:57.290946Z",
     "start_time": "2022-02-20T13:06:52.488316Z"
    }
   },
   "outputs": [],
   "source": [
    "%%timeit\n",
    "c_big = a_big * b_big"
   ]
  },
  {
   "cell_type": "code",
   "execution_count": null,
   "metadata": {
    "ExecuteTime": {
     "end_time": "2022-02-20T13:06:57.306563Z",
     "start_time": "2022-02-20T13:06:57.293939Z"
    }
   },
   "outputs": [],
   "source": [
    "# 'raising to power' using ** : each element of the matrix is individually raised to that power.\n",
    "print('initial matrix:\\n', a)\n",
    "a_to_the_power_of_2 = ...\n",
    "print('after squaring each component:\\n', a_to_the_power_of_2)\n",
    "power_3 = ...\n",
    "print('after raising to the power of 3:\\n', power_3)"
   ]
  },
  {
   "cell_type": "markdown",
   "metadata": {},
   "source": [
    "You can use the / operator to get pointwise division (element by element) of two matrices:"
   ]
  },
  {
   "cell_type": "code",
   "execution_count": null,
   "metadata": {
    "ExecuteTime": {
     "end_time": "2022-02-20T13:06:57.322517Z",
     "start_time": "2022-02-20T13:06:57.313516Z"
    }
   },
   "outputs": [],
   "source": [
    "print('a=', a)\n",
    "print('b=', b)\n",
    "print('a/b=', a/b)"
   ]
  },
  {
   "cell_type": "code",
   "execution_count": null,
   "metadata": {
    "ExecuteTime": {
     "end_time": "2022-02-20T13:06:57.337519Z",
     "start_time": "2022-02-20T13:06:57.325517Z"
    }
   },
   "outputs": [],
   "source": [
    "# raising a square matrix to a power, as defined in linear algebra\n",
    "square_matrix = np.array([[1, 2, 3], [4, 5, 6], [7, 8, 9]])\n",
    "pow_3 = np.linalg...\n",
    "print(pow_3)"
   ]
  },
  {
   "cell_type": "markdown",
   "metadata": {},
   "source": [
    "If you call a NumPy numerical function on an ndarray, the result will be an ndarray of same shape as the original one. Its elements are computed by applying the function on each of the initial matrix componets, one by one:"
   ]
  },
  {
   "cell_type": "code",
   "execution_count": null,
   "metadata": {
    "ExecuteTime": {
     "end_time": "2022-02-20T13:06:57.352562Z",
     "start_time": "2022-02-20T13:06:57.339517Z"
    }
   },
   "outputs": [],
   "source": [
    "x = np.arange(6).reshape(2, 3)\n",
    "print(x)\n",
    "y = np.exp(x)\n",
    "print(f'e^x=\\n{y}')\n",
    "assert x.shape == y.shape\n",
    "for i in range(0, x.shape[0]):\n",
    "    for j in range(0, x.shape[1]):\n",
    "        assert ..."
   ]
  },
  {
   "cell_type": "code",
   "execution_count": null,
   "metadata": {
    "ExecuteTime": {
     "end_time": "2022-02-20T13:06:57.368555Z",
     "start_time": "2022-02-20T13:06:57.354517Z"
    }
   },
   "outputs": [],
   "source": [
    "# linear-algebra style matrix product\n",
    "a = np.random.rand(3, 5)\n",
    "b = np.random.rand(5, 10)\n",
    "assert a.shape[1] == b.shape[0]\n",
    "c = ...\n",
    "\n",
    "# equivalent form\n",
    "c = ...\n",
    "assert a.shape[0] == c.shape[0] and b.shape[1] == c.shape[1]\n",
    "\n",
    "# or even shorter:\n",
    "c = ..."
   ]
  },
  {
   "cell_type": "markdown",
   "metadata": {},
   "source": [
    "NumPy defines a plethora of functions: `all, any, apply_along_axis, argmax, argmin, argsort, average, bincount, ceil, clip, conj, corrcoef, cov, cross, cumprod, cumsum, diff, dot, floor, inner, inv, lexsort, max, maximum, mean, median, min, minimum, nonzero, outer, prod, re, round, sort, std, sum, trace, transpose, var, vdot, vectorize, where` - [docs here](https://docs.scipy.org/doc/numpy-dev/reference/generated/)."
   ]
  },
  {
   "cell_type": "markdown",
   "metadata": {},
   "source": [
    "## Indexing \n",
    "\n",
    "So far, we used individual indices to refer to particular elements in a NumPy array:\n",
    "```python\n",
    "vector[index]\n",
    "# or\n",
    "matrix[i, j]\n",
    "```"
   ]
  },
  {
   "cell_type": "code",
   "execution_count": null,
   "metadata": {
    "ExecuteTime": {
     "end_time": "2022-02-20T13:06:57.384560Z",
     "start_time": "2022-02-20T13:06:57.370517Z"
    }
   },
   "outputs": [],
   "source": [
    "vector = np.arange(10)\n",
    "print(vector)\n",
    "print('vector[4]={0}'.format(vector[4]))"
   ]
  },
  {
   "cell_type": "code",
   "execution_count": null,
   "metadata": {
    "ExecuteTime": {
     "end_time": "2022-02-20T13:06:57.400548Z",
     "start_time": "2022-02-20T13:06:57.387517Z"
    }
   },
   "outputs": [],
   "source": [
    "matrix = np.arange(12).reshape(3, 4)\n",
    "print(matrix)\n",
    "print(matrix[2, 1])"
   ]
  },
  {
   "cell_type": "markdown",
   "metadata": {},
   "source": [
    "For a matrix one can use indices as:\n",
    "```python\n",
    "m[i][j] \n",
    "```\n",
    "but this is innefficient compared to `m[i,j]`, as in the former case a temporary copy of row `i` is done, and from this one the element at index `j` is retrieved."
   ]
  },
  {
   "cell_type": "markdown",
   "metadata": {},
   "source": [
    "By using `slicing`, one can refer to a whole subset of elements. For example, one gets for vectors:"
   ]
  },
  {
   "cell_type": "code",
   "execution_count": null,
   "metadata": {
    "ExecuteTime": {
     "end_time": "2022-02-20T13:06:57.415517Z",
     "start_time": "2022-02-20T13:06:57.403516Z"
    }
   },
   "outputs": [],
   "source": [
    "vector = 10 * np.arange(10)\n",
    "print(vector)\n",
    "print(vector[...]) # note that the rightmost boundary is not used for selection; \n",
    "# i.e. the elements are retrieved up to index 6-1"
   ]
  },
  {
   "cell_type": "code",
   "execution_count": null,
   "metadata": {
    "ExecuteTime": {
     "end_time": "2022-02-20T13:06:57.430552Z",
     "start_time": "2022-02-20T13:06:57.418526Z"
    }
   },
   "outputs": [],
   "source": [
    "indices = [1, 3, 2, 7]\n",
    "print(vector)\n",
    "print(...)"
   ]
  },
  {
   "cell_type": "code",
   "execution_count": null,
   "metadata": {
    "ExecuteTime": {
     "end_time": "2022-02-20T13:06:57.446551Z",
     "start_time": "2022-02-20T13:06:57.432517Z"
    }
   },
   "outputs": [],
   "source": [
    "# the same index can be repeated:\n",
    "indices = [1, 3, 2, 3, 3, 3, 3]\n",
    "print(vector)\n",
    "print(vector[indices])"
   ]
  },
  {
   "cell_type": "code",
   "execution_count": null,
   "metadata": {
    "ExecuteTime": {
     "end_time": "2022-02-20T13:06:57.476556Z",
     "start_time": "2022-02-20T13:06:57.450522Z"
    }
   },
   "outputs": [],
   "source": [
    "# or we can use a sequence of indices, with initial/step/final value given\n",
    "vector[...]"
   ]
  },
  {
   "cell_type": "markdown",
   "metadata": {},
   "source": [
    "For a matrix you can use:"
   ]
  },
  {
   "cell_type": "code",
   "execution_count": null,
   "metadata": {
    "ExecuteTime": {
     "end_time": "2022-02-20T13:06:57.492556Z",
     "start_time": "2022-02-20T13:06:57.478517Z"
    }
   },
   "outputs": [],
   "source": [
    "matrix = 10 * np.arange(20).reshape(4, 5)\n",
    "print(matrix)\n",
    "\n",
    "print(matrix[1,])\n",
    "# which is the same with the more explicit form:\n",
    "print(matrix[1, :])"
   ]
  },
  {
   "cell_type": "code",
   "execution_count": null,
   "metadata": {
    "ExecuteTime": {
     "end_time": "2022-02-20T13:06:57.523550Z",
     "start_time": "2022-02-20T13:06:57.511519Z"
    }
   },
   "outputs": [],
   "source": [
    "# you can slice indices, on any axis\n",
    "matrix[1:3, :]"
   ]
  },
  {
   "cell_type": "code",
   "execution_count": null,
   "metadata": {
    "ExecuteTime": {
     "end_time": "2022-02-20T13:06:57.539519Z",
     "start_time": "2022-02-20T13:06:57.529749Z"
    }
   },
   "outputs": [],
   "source": [
    "# slicing on each axis\n",
    "matrix[1:3, 2:4]"
   ]
  },
  {
   "cell_type": "markdown",
   "metadata": {},
   "source": [
    "### Logical indexing\n",
    "\n",
    "You can execute logical operations against the elements of a NumPy array. As a result of this, you will obtain an ndarray of the same shape as the initial array, filled in with `True` and `False`. The exact boolean value is the result of the logical operation on the values at the same positions:"
   ]
  },
  {
   "cell_type": "code",
   "execution_count": null,
   "metadata": {
    "ExecuteTime": {
     "end_time": "2022-02-20T13:06:57.554529Z",
     "start_time": "2022-02-20T13:06:57.543577Z"
    }
   },
   "outputs": [],
   "source": [
    "a = np.array([[1,2], [3, 4], [5, 6]])\n",
    "print(a)\n",
    "print(...)"
   ]
  },
  {
   "cell_type": "markdown",
   "metadata": {},
   "source": [
    "Furthermore, the resulted ndarray can be used for indexing. You will get only those elements for which the boolean operation yielded `True`:"
   ]
  },
  {
   "cell_type": "code",
   "execution_count": null,
   "metadata": {
    "ExecuteTime": {
     "end_time": "2022-02-20T13:06:57.570561Z",
     "start_time": "2022-02-20T13:06:57.558520Z"
    }
   },
   "outputs": [],
   "source": [
    "larger_than_2 = a > 2\n",
    "print(a[larger_than_2])\n",
    "\n",
    "# direct selection\n",
    "print(...)\n",
    "\n",
    "# Note that the initial shape of a is lost. Can you explain why?"
   ]
  },
  {
   "cell_type": "markdown",
   "metadata": {},
   "source": [
    "If you want to find the positions in the matrix where the values fulfill a given condition, use method `where`:"
   ]
  },
  {
   "cell_type": "code",
   "execution_count": null,
   "metadata": {},
   "outputs": [],
   "source": [
    "np.where(a > 2)"
   ]
  },
  {
   "cell_type": "markdown",
   "metadata": {},
   "source": [
    "For joint conditions one can use boolean operators. For example, to select elements which are larger than 2, but smaller than 6, one writes:"
   ]
  },
  {
   "cell_type": "code",
   "execution_count": null,
   "metadata": {
    "ExecuteTime": {
     "end_time": "2022-02-20T13:06:57.585554Z",
     "start_time": "2022-02-20T13:06:57.573517Z"
    }
   },
   "outputs": [],
   "source": [
    "a[np.logical_and(...)]"
   ]
  },
  {
   "cell_type": "markdown",
   "metadata": {},
   "source": [
    "Similar operators are: `np.logical_or`, `np.logical_not`, `np.logical_xor`."
   ]
  },
  {
   "cell_type": "markdown",
   "metadata": {},
   "source": [
    "A popular request for ndarrays is getting those FP elements which are defined - i.e. those which are not NaNs (NaN = not a number, values resulted due to invalid operations like: 0/0, np.sqrt(-1), np.log(-1), etc.):"
   ]
  },
  {
   "cell_type": "code",
   "execution_count": null,
   "metadata": {
    "ExecuteTime": {
     "end_time": "2022-02-20T13:06:57.600555Z",
     "start_time": "2022-02-20T13:06:57.587517Z"
    }
   },
   "outputs": [],
   "source": [
    "tab = np.array([[1.0, 2.3, np.nan, 4], [10, np.nan, np.nan, 0]])\n",
    "print(tab[...])"
   ]
  },
  {
   "cell_type": "markdown",
   "metadata": {},
   "source": [
    "In all cases, indexing returns a view of the initial array. Modifications done on this view will actually update the underlying initial array:"
   ]
  },
  {
   "cell_type": "code",
   "execution_count": null,
   "metadata": {
    "ExecuteTime": {
     "end_time": "2022-02-20T13:06:57.616558Z",
     "start_time": "2022-02-20T13:06:57.602517Z"
    },
    "scrolled": true
   },
   "outputs": [],
   "source": [
    "print('Before:\\n', tab)\n",
    "tab[np.isnan(tab)] = 0.0\n",
    "print('After:\\n', tab)"
   ]
  },
  {
   "cell_type": "markdown",
   "metadata": {},
   "source": [
    "Logical indexing allows selection of the elements in an array whose contents is to be changed:"
   ]
  },
  {
   "cell_type": "code",
   "execution_count": null,
   "metadata": {
    "ExecuteTime": {
     "end_time": "2022-02-20T13:06:57.632550Z",
     "start_time": "2022-02-20T13:06:57.618516Z"
    }
   },
   "outputs": [],
   "source": [
    "# even numbers are multiplied by 10, the other ones remain unchanged \n",
    "matrix = np.array([[1, 2, 3, 4], [5, 6, 7, 8]])\n",
    "print('Before update:\\n', matrix)\n",
    "matrix...\n",
    "print('After update:\\n', matrix)"
   ]
  },
  {
   "cell_type": "markdown",
   "metadata": {},
   "source": [
    "You may perform update on a specific axis:"
   ]
  },
  {
   "cell_type": "code",
   "execution_count": null,
   "metadata": {
    "ExecuteTime": {
     "end_time": "2022-02-20T13:06:57.647551Z",
     "start_time": "2022-02-20T13:06:57.633561Z"
    }
   },
   "outputs": [],
   "source": [
    "matrix = np.array([[1, 2, 3, 4], [5, 6, 7, 8]], dtype=np.float32)\n",
    "print('Before update:\\n', matrix)\n",
    "# columns 0, 2, 3 will be updated\n",
    "bool_columns = [True, False, True, True]\n",
    "matrix[:, bool_columns] = (matrix[:, bool_columns] +3 )/10\n",
    "print('After update\\n', matrix)"
   ]
  },
  {
   "cell_type": "markdown",
   "metadata": {},
   "source": [
    "### Supplementary bibliography \n",
    "1. https://docs.scipy.org/doc/numpy-1.13.0/glossary.html\n",
    "1. https://engineering.ucsb.edu/~shell/che210d/numpy.pdf\n",
    "1. http://www.scipy-lectures.org/intro/numpy/numpy.html#indexing-and-slicing"
   ]
  },
  {
   "cell_type": "markdown",
   "metadata": {},
   "source": [
    "## Broadcasting"
   ]
  },
  {
   "cell_type": "markdown",
   "metadata": {},
   "source": [
    "Broadcasting allows operations with matrices of incompatible dimensions, under specific circumstances. For example, following the mathematical definition of matrix addiction, the matrices `a` and `b`b below could not be added:"
   ]
  },
  {
   "cell_type": "code",
   "execution_count": null,
   "metadata": {
    "ExecuteTime": {
     "end_time": "2022-02-20T13:06:57.663518Z",
     "start_time": "2022-02-20T13:06:57.651521Z"
    },
    "scrolled": true
   },
   "outputs": [],
   "source": [
    "a = np.array([[0.0,0.0,0.0],[10.0,10.0,10.0],[20.0,20.0,20.0],[30.0,30.0,30.0]]) \n",
    "b = np.array([0.0,1.0,2.0])  \n",
    "\n",
    "print('a=\\n{0}\\n'.format(a))\n",
    "print('b=\\n{0}\\n'.format(b))"
   ]
  },
  {
   "cell_type": "markdown",
   "metadata": {},
   "source": [
    "Through broadcasting, the matrix `b` is automatically extended through copy/paste of its line:\n",
    "![broadcast](./images/broadcast1.png)"
   ]
  },
  {
   "cell_type": "code",
   "execution_count": null,
   "metadata": {
    "ExecuteTime": {
     "end_time": "2022-02-20T13:06:57.678550Z",
     "start_time": "2022-02-20T13:06:57.665518Z"
    }
   },
   "outputs": [],
   "source": [
    "# broadcasting\n",
    "result = ...\n",
    "print('result=\\n{0}\\n'.format(result))"
   ]
  },
  {
   "cell_type": "markdown",
   "metadata": {},
   "source": [
    "Broadcasting is done if some conditions are fulfilled. When one operates on two matrices, NumPy compares the sizes on each dimension, starting with the last dimension. Two dimensions are compatible when: \n",
    "\n",
    "1. they are equal, or\n",
    "1. one of them is 1\n",
    "\n",
    "The rules above are not fulfilled, for example, by:\n",
    "\n",
    "![Broadcat imposibil](./images/broadcast2.png)\n",
    "or for the case below:"
   ]
  },
  {
   "cell_type": "code",
   "execution_count": null,
   "metadata": {
    "ExecuteTime": {
     "end_time": "2022-02-20T13:06:57.694559Z",
     "start_time": "2022-02-20T13:06:57.680516Z"
    }
   },
   "outputs": [],
   "source": [
    "x = np.arange(4)\n",
    "y = np.ones(5)\n",
    "print(x.shape, y.shape)\n",
    "\n",
    "#print(x+y) # ValueError: operands could not be broadcast together with shapes (4,) (5,) "
   ]
  },
  {
   "cell_type": "code",
   "execution_count": null,
   "metadata": {
    "ExecuteTime": {
     "end_time": "2022-02-20T13:06:57.710545Z",
     "start_time": "2022-02-20T13:06:57.697555Z"
    }
   },
   "outputs": [],
   "source": [
    "x = np.arange(4).reshape(4, 1)\n",
    "print('x shape: ', x.shape)\n",
    "print('x:\\n', x)"
   ]
  },
  {
   "cell_type": "code",
   "execution_count": null,
   "metadata": {
    "ExecuteTime": {
     "end_time": "2022-02-20T13:06:57.726518Z",
     "start_time": "2022-02-20T13:06:57.713523Z"
    }
   },
   "outputs": [],
   "source": [
    "y = np.arange(5).reshape(1, 5)\n",
    "print('y shape: ', y.shape)\n",
    "print('y:\\n', y)"
   ]
  },
  {
   "cell_type": "code",
   "execution_count": null,
   "metadata": {
    "ExecuteTime": {
     "end_time": "2022-02-20T13:06:57.741554Z",
     "start_time": "2022-02-20T13:06:57.728516Z"
    }
   },
   "outputs": [],
   "source": [
    "z = x + y\n",
    "print('z shape:', z.shape)\n",
    "print('z\\n', z)"
   ]
  },
  {
   "cell_type": "markdown",
   "metadata": {},
   "source": [
    "The broadcast internally produced the following two matrices right before doing the addition:"
   ]
  },
  {
   "cell_type": "code",
   "execution_count": null,
   "metadata": {
    "ExecuteTime": {
     "end_time": "2022-02-20T13:06:57.756554Z",
     "start_time": "2022-02-20T13:06:57.743517Z"
    }
   },
   "outputs": [],
   "source": [
    "# clone x and create multiple identical columns:\n",
    "x_broadcast = np.tile(x, (1, 5))\n",
    "x_broadcast"
   ]
  },
  {
   "cell_type": "code",
   "execution_count": null,
   "metadata": {
    "ExecuteTime": {
     "end_time": "2022-02-20T13:06:57.772551Z",
     "start_time": "2022-02-20T13:06:57.757580Z"
    }
   },
   "outputs": [],
   "source": [
    "# clone y and create multiple identical rows:\n",
    "y_broadcast = np.tile(y, (4, 1))\n",
    "y_broadcast"
   ]
  },
  {
   "cell_type": "markdown",
   "metadata": {},
   "source": [
    "Now, the two matrices can be added:"
   ]
  },
  {
   "cell_type": "code",
   "execution_count": null,
   "metadata": {
    "ExecuteTime": {
     "end_time": "2022-02-20T13:06:57.788543Z",
     "start_time": "2022-02-20T13:06:57.774518Z"
    }
   },
   "outputs": [],
   "source": [
    "z_broadcast = x_broadcast + y_broadcast\n",
    "assert np.alltrue(z_broadcast == z)"
   ]
  },
  {
   "cell_type": "markdown",
   "metadata": {},
   "source": [
    "### Broadcast practical example\n",
    "\n",
    "([Source](https://eli.thegreenplace.net/2015/broadcasting-arrays-in-numpy/)) For specific food types, we decompose them in fats, carbs, proteins, all of them weighted in grams. We want to convert each food type components into calories, by using multiplicative constants:\n",
    "1. calories for fats = 9 * fats in grams\n",
    "1. calories for proteins = 4 * protein grams\n",
    "1. calories for carbs = 4 * carbs in grams\n",
    "\n",
    "![tabel portii](./images/broadcast3.png)"
   ]
  },
  {
   "cell_type": "markdown",
   "metadata": {},
   "source": [
    "The multiplication is computed by broadcasting:"
   ]
  },
  {
   "cell_type": "code",
   "execution_count": null,
   "metadata": {
    "ExecuteTime": {
     "end_time": "2022-02-20T13:06:57.803553Z",
     "start_time": "2022-02-20T13:06:57.791522Z"
    }
   },
   "outputs": [],
   "source": [
    "weights = np.array([\n",
    "  [0.3, 2.5, 3.5],\n",
    "  [2.9, 27.5, 0],\n",
    "  [0.4, 1.3, 23.9],\n",
    "  [14.4, 6, 2.3]]\n",
    ")\n",
    "\n",
    "cal_per_g = np.array([9, 4, 4])\n",
    "\n",
    "# broadcasting\n",
    "calories = ...\n",
    "\n",
    "print('Calories:\\n', calories)"
   ]
  },
  {
   "cell_type": "markdown",
   "metadata": {},
   "source": [
    "### Supplementary bibliography \n",
    "\n",
    "[Basic broadcasting: https://docs.scipy.org/doc/numpy/user/basics.broadcasting.html](https://docs.scipy.org/doc/numpy/user/basics.broadcasting.html)\n",
    "\n",
    "http://scipy.github.io/old-wiki/pages/EricsBroadcastingDoc\n",
    "\n",
    "http://cs231n.github.io/python-numpy-tutorial/#numpy-broadcasting"
   ]
  },
  {
   "cell_type": "markdown",
   "metadata": {},
   "source": [
    "## Vectorized computation"
   ]
  },
  {
   "cell_type": "markdown",
   "metadata": {},
   "source": [
    "### Example\n",
    "\n",
    "We have 2 collections of numbers: the first one contains distances, the second one is time requested to cover them. We want to compyte the speed. We will present two approaches: a classical `for` cycle, and vectorized computation."
   ]
  },
  {
   "cell_type": "code",
   "execution_count": null,
   "metadata": {
    "ExecuteTime": {
     "end_time": "2022-02-20T13:06:57.819557Z",
     "start_time": "2022-02-20T13:06:57.804551Z"
    }
   },
   "outputs": [],
   "source": [
    "distances = [10, 20, 23, 14, 33, 45]\n",
    "durations = [0.3, 0.44, 0.9, 1.2, 0.7, 1.1]"
   ]
  },
  {
   "cell_type": "code",
   "execution_count": null,
   "metadata": {
    "ExecuteTime": {
     "end_time": "2022-02-20T13:06:57.834551Z",
     "start_time": "2022-02-20T13:06:57.820553Z"
    }
   },
   "outputs": [],
   "source": [
    "# Version 1: traditional cycle\n",
    "speeds = []\n",
    "for i in range(len(distances)):\n",
    "    ...\n",
    "    \n",
    "print('Speed computed by for loop: ', speeds)"
   ]
  },
  {
   "cell_type": "code",
   "execution_count": null,
   "metadata": {
    "ExecuteTime": {
     "end_time": "2022-02-20T13:06:57.849552Z",
     "start_time": "2022-02-20T13:06:57.836516Z"
    }
   },
   "outputs": [],
   "source": [
    "# Version 2: vectorization\n",
    "# Vectorization works on vector/matrices, the first step is to convert lists to NumPy arrays\n",
    "\n",
    "distances_array = np.array(distances)\n",
    "durations_array = np.array(durations)\n",
    "\n",
    "# We use NumPy operations which work with full matices. The C code  \n",
    "# uses Single Instruction Multiple Data (SIMD) facilities from the CPU. \n",
    "\n",
    "speeds_array = ...\n",
    "\n",
    "print(f'speed computed by vectorization: {speeds_array}')\n",
    "\n",
    "assert np.alltrue(speeds_array == speeds)"
   ]
  },
  {
   "cell_type": "markdown",
   "metadata": {},
   "source": [
    "### Benefits of vectorization"
   ]
  },
  {
   "cell_type": "markdown",
   "metadata": {},
   "source": [
    "1. Fast(er) execution\n",
    "1. Short and often more readable code"
   ]
  },
  {
   "cell_type": "markdown",
   "metadata": {},
   "source": [
    "Example: let us compute\n",
    "$$\n",
    "\\sum\\limits_{i=0}^{N-1} (i\\%3-1) \\cdot i\n",
    "$$"
   ]
  },
  {
   "cell_type": "code",
   "execution_count": null,
   "metadata": {
    "ExecuteTime": {
     "end_time": "2022-02-20T13:06:57.880553Z",
     "start_time": "2022-02-20T13:06:57.852517Z"
    }
   },
   "outputs": [],
   "source": [
    "# Python funciton with non-vectorized computation (`for` cycle)\n",
    "\n",
    "n = 100000\n",
    "\n",
    "def func_python(n):\n",
    "    d = 0.0\n",
    "    for i in range(n):\n",
    "        d += (i%3-1) * i\n",
    "    return d\n",
    "\n",
    "print(func_python(n))"
   ]
  },
  {
   "cell_type": "code",
   "execution_count": null,
   "metadata": {
    "ExecuteTime": {
     "end_time": "2022-02-20T13:07:08.527922Z",
     "start_time": "2022-02-20T13:06:57.881551Z"
    }
   },
   "outputs": [],
   "source": [
    "%timeit func_python(n)"
   ]
  },
  {
   "cell_type": "code",
   "execution_count": null,
   "metadata": {
    "ExecuteTime": {
     "end_time": "2022-02-20T13:07:08.542936Z",
     "start_time": "2022-02-20T13:07:08.532889Z"
    }
   },
   "outputs": [],
   "source": [
    "# function with vectorized computation\n",
    "\n",
    "def func_numpy(n):\n",
    "    i_array = np.arange(n)\n",
    "    return ((i_array % 3 - 1 ) * i_array).sum()\n",
    "\n",
    "print(func_numpy(n))"
   ]
  },
  {
   "cell_type": "code",
   "execution_count": null,
   "metadata": {
    "ExecuteTime": {
     "end_time": "2022-02-20T13:07:18.382522Z",
     "start_time": "2022-02-20T13:07:08.544949Z"
    }
   },
   "outputs": [],
   "source": [
    "%timeit func_numpy(n)"
   ]
  },
  {
   "cell_type": "markdown",
   "metadata": {},
   "source": [
    "Most operations and NumPy functions work for any number of values, element by element - they are also called universal functions. They are optimized to work with SIMD devices. The following operators and functions are efficiently working with arrays:\n",
    "\n",
    "- arithmetic operators: + - * / // % **\n",
    "- bitwise operators: & | ~ ^ >> <<\n",
    "- comparisons: < <= > >= == !=\n",
    "- math functions: np.sin, np.log, np.exp, ...\n",
    "- special scipy functions: `scipy.special.*`\n",
    "\n",
    "Although some NumPy functions are already provided by Python - e.g. `sum`, `min`, `mean` -ufuncs are much faster:"
   ]
  },
  {
   "cell_type": "code",
   "execution_count": null,
   "metadata": {
    "ExecuteTime": {
     "end_time": "2022-02-20T13:07:18.414612Z",
     "start_time": "2022-02-20T13:07:18.384520Z"
    }
   },
   "outputs": [],
   "source": [
    "from random import random\n",
    "c = [random() for i in range(n)]"
   ]
  },
  {
   "cell_type": "code",
   "execution_count": null,
   "metadata": {
    "ExecuteTime": {
     "end_time": "2022-02-20T13:07:22.620765Z",
     "start_time": "2022-02-20T13:07:18.416606Z"
    }
   },
   "outputs": [],
   "source": [
    "# Python builtin function\n",
    "%timeit sum(c)"
   ]
  },
  {
   "cell_type": "code",
   "execution_count": null,
   "metadata": {
    "ExecuteTime": {
     "end_time": "2022-02-20T13:07:22.636898Z",
     "start_time": "2022-02-20T13:07:22.624733Z"
    }
   },
   "outputs": [],
   "source": [
    "# NumPy vectorized: prepare the NumPy array\n",
    "c_array = np.array(c)"
   ]
  },
  {
   "cell_type": "code",
   "execution_count": null,
   "metadata": {
    "ExecuteTime": {
     "end_time": "2022-02-20T13:07:28.165235Z",
     "start_time": "2022-02-20T13:07:22.639849Z"
    }
   },
   "outputs": [],
   "source": [
    "# NumPy vectorized: use ufunc sum\n",
    "%timeit ..."
   ]
  },
  {
   "cell_type": "markdown",
   "metadata": {},
   "source": [
    "### Vectorization exercises"
   ]
  },
  {
   "cell_type": "markdown",
   "metadata": {},
   "source": [
    "#### Sum of filtered numbers\n",
    "\n",
    "For a given list of numbers, compute the sum of contained values which are in a specified interval $[a, b]$. "
   ]
  },
  {
   "cell_type": "code",
   "execution_count": null,
   "metadata": {
    "ExecuteTime": {
     "end_time": "2022-02-20T13:07:55.401640Z",
     "start_time": "2022-02-20T13:07:28.167232Z"
    }
   },
   "outputs": [],
   "source": [
    "n = 100000000\n",
    "numbers = [int(1000 * random()) for _ in range(n)]\n",
    "\n",
    "a, b = 100, 500"
   ]
  },
  {
   "cell_type": "markdown",
   "metadata": {},
   "source": [
    "A direct Python implementatin would be:"
   ]
  },
  {
   "cell_type": "code",
   "execution_count": null,
   "metadata": {
    "ExecuteTime": {
     "end_time": "2022-02-20T13:09:11.027611Z",
     "start_time": "2022-02-20T13:07:55.404641Z"
    }
   },
   "outputs": [],
   "source": [
    "%%timeit\n",
    "..."
   ]
  },
  {
   "cell_type": "markdown",
   "metadata": {},
   "source": [
    "Using comprehension:"
   ]
  },
  {
   "cell_type": "code",
   "execution_count": null,
   "metadata": {
    "ExecuteTime": {
     "end_time": "2022-02-20T13:10:28.013699Z",
     "start_time": "2022-02-20T13:09:11.029617Z"
    }
   },
   "outputs": [],
   "source": [
    "%%timeit\n",
    "s = ..."
   ]
  },
  {
   "cell_type": "markdown",
   "metadata": {},
   "source": [
    "Python built-in filtering:"
   ]
  },
  {
   "cell_type": "code",
   "execution_count": null,
   "metadata": {
    "ExecuteTime": {
     "end_time": "2022-02-20T13:12:18.253960Z",
     "start_time": "2022-02-20T13:10:28.017685Z"
    }
   },
   "outputs": [],
   "source": [
    "%%timeit\n",
    "s = ..."
   ]
  },
  {
   "cell_type": "markdown",
   "metadata": {},
   "source": [
    "Python vectorization - build ndarray vector, then find indices of interest:"
   ]
  },
  {
   "cell_type": "code",
   "execution_count": null,
   "metadata": {
    "ExecuteTime": {
     "end_time": "2022-02-20T13:12:26.133891Z",
     "start_time": "2022-02-20T13:12:18.256954Z"
    }
   },
   "outputs": [],
   "source": [
    "np_numbers = np.array(numbers)"
   ]
  },
  {
   "cell_type": "code",
   "execution_count": null,
   "metadata": {
    "ExecuteTime": {
     "end_time": "2022-02-20T13:12:35.892293Z",
     "start_time": "2022-02-20T13:12:26.135898Z"
    }
   },
   "outputs": [],
   "source": [
    "%%timeit\n",
    "ind_a = ...\n",
    "ind_b = ...\n",
    "s = np_numbers[np.logical_and(ind_a, ind_b)].sum()"
   ]
  },
  {
   "cell_type": "markdown",
   "metadata": {},
   "source": [
    "#### Counting the number of sign changes"
   ]
  },
  {
   "cell_type": "markdown",
   "metadata": {},
   "source": [
    "For a given vector with positive an negative values, count how many times the values are changing their signs in consecutive positions. It is guaranteed that the vector does not contain 0 values. \n",
    "\n",
    "Example: for input \n",
    "$$\n",
    "v = [-1, 2, 3, -3, 1, -1, 1]\n",
    "$$\n",
    "the 4 sign of the values change at positions (0, 1), (2, 3), (3, 4), (4, 5), (5, 6). The requested answer is 5."
   ]
  },
  {
   "cell_type": "code",
   "execution_count": null,
   "metadata": {
    "ExecuteTime": {
     "end_time": "2022-02-20T13:12:35.938540Z",
     "start_time": "2022-02-20T13:12:35.894264Z"
    }
   },
   "outputs": [],
   "source": [
    "n = 1000000\n",
    "v = np.random.randint(-10, 10, n)\n",
    "# replace 0s with random -1 or +1\n",
    "v[v==0] = np.random.randint(0, 2) * 2 - 1 # the initial random values {0, 1} are changed to {0*2-1, 1*2-1} = {-1, 1} \n",
    "assert 0 == (v == 0).sum()"
   ]
  },
  {
   "cell_type": "markdown",
   "metadata": {},
   "source": [
    "The Python-base approach is straightforward:"
   ]
  },
  {
   "cell_type": "code",
   "execution_count": null,
   "metadata": {
    "ExecuteTime": {
     "end_time": "2022-02-20T13:13:03.123324Z",
     "start_time": "2022-02-20T13:12:35.940548Z"
    }
   },
   "outputs": [],
   "source": [
    "%%timeit\n",
    "..."
   ]
  },
  {
   "cell_type": "markdown",
   "metadata": {},
   "source": [
    "The vectorized solution is:"
   ]
  },
  {
   "cell_type": "code",
   "execution_count": null,
   "metadata": {
    "ExecuteTime": {
     "end_time": "2022-02-20T13:13:04.728287Z",
     "start_time": "2022-02-20T13:13:03.126190Z"
    }
   },
   "outputs": [],
   "source": [
    "%%timeit\n",
    "# get the signs of the values\n",
    "signs = ...\n",
    "# compute the difference between succesive values. Two successive equal signs produce 0, different signs produce -2 or +2\n",
    "first_order_difference = ...\n",
    "# find non zero positions\n",
    "positions_not_0_in_diff = ...\n",
    "# the number of non-zero positions is the requested value\n",
    "sign_changes = len(positions_not_0_in_diff)\n",
    "# sign_changes = len(np.where(np.diff(np.sign(v)))[0])"
   ]
  },
  {
   "cell_type": "markdown",
   "metadata": {},
   "source": [
    "#### Cumulative sum of values in a vector"
   ]
  },
  {
   "cell_type": "markdown",
   "metadata": {},
   "source": [
    "Given a vector v[0..n-1], find the cumulative sum of its values: s=[v[0], v[0]+v[1], v[0]+v[1]+v[2], ..., v[0]+v[1]+...+v[n-1]]"
   ]
  },
  {
   "cell_type": "code",
   "execution_count": null,
   "metadata": {
    "ExecuteTime": {
     "end_time": "2022-02-20T13:13:04.837378Z",
     "start_time": "2022-02-20T13:13:04.731130Z"
    }
   },
   "outputs": [],
   "source": [
    "n = 10000000\n",
    "v = np.random.rand(n)"
   ]
  },
  {
   "cell_type": "markdown",
   "metadata": {},
   "source": [
    "We will use the obvious relation:\n",
    "$$\n",
    "s[i] = \n",
    "\\begin{cases}\n",
    "v[0] & \\textrm{if }i =0 \\\\\n",
    "s[i-1] + v[i] & \\textrm{if }i> 0\n",
    "\\end{cases}\n",
    "$$\n",
    "\n",
    "The unvectorized version is:"
   ]
  },
  {
   "cell_type": "code",
   "execution_count": null,
   "metadata": {
    "ExecuteTime": {
     "end_time": "2022-02-20T13:13:45.412972Z",
     "start_time": "2022-02-20T13:13:04.843189Z"
    }
   },
   "outputs": [],
   "source": [
    "%%timeit\n",
    "..."
   ]
  },
  {
   "cell_type": "markdown",
   "metadata": {},
   "source": [
    "For the vectorized version, we mention that NumPy offers a function specifically for this, called `cumsum`. Its documentation is found [here](https://numpy.org/doc/stable/reference/generated/numpy.cumsum.html)."
   ]
  },
  {
   "cell_type": "code",
   "execution_count": null,
   "metadata": {
    "ExecuteTime": {
     "end_time": "2022-02-20T13:13:50.572095Z",
     "start_time": "2022-02-20T13:13:45.415959Z"
    }
   },
   "outputs": [],
   "source": [
    "%%timeit\n",
    "s = ..."
   ]
  },
  {
   "cell_type": "markdown",
   "metadata": {},
   "source": [
    "Another approach is based on the accumulate extension introduced by NumPy for any universal function, as seen [here](https://numpy.org/doc/stable/reference/generated/numpy.ufunc.accumulate.html). The "
   ]
  },
  {
   "cell_type": "code",
   "execution_count": null,
   "metadata": {
    "ExecuteTime": {
     "end_time": "2022-02-20T13:13:55.479447Z",
     "start_time": "2022-02-20T13:13:50.583089Z"
    }
   },
   "outputs": [],
   "source": [
    "%%timeit\n",
    "s = ..."
   ]
  },
  {
   "cell_type": "markdown",
   "metadata": {},
   "source": [
    "#### Converting vectors to monotonically increasing vectors\n",
    "\n",
    "Given an input vector, it is requested to add minimum amount to the its components, where needed, to ensure that the resulted vector is piecewise constant or piecewise increasing. \n",
    "\n",
    "For example, if we start from:\n",
    "$$\n",
    "v = [1, 2, \\color{red}{1}, 3, 3, 5, \\color{red}{4}, 6]\n",
    "$$\n",
    "we transform it as requested into:\n",
    "$$\n",
    "v = [1, 2, \\color{red}{2}, 3, 3, 5, \\color{red}{5}, 6]\n",
    "$$"
   ]
  },
  {
   "cell_type": "code",
   "execution_count": null,
   "metadata": {
    "ExecuteTime": {
     "end_time": "2022-02-20T13:13:55.589325Z",
     "start_time": "2022-02-20T13:13:55.481319Z"
    }
   },
   "outputs": [],
   "source": [
    "n = 10000000\n",
    "v = np.random.randint(0, 1000, n)\n",
    "\n",
    "v_clone_py = v.copy()\n",
    "v_clone_np = v.copy()"
   ]
  },
  {
   "cell_type": "markdown",
   "metadata": {},
   "source": [
    "The Pythron unvectorize approach would be:"
   ]
  },
  {
   "cell_type": "code",
   "execution_count": null,
   "metadata": {
    "ExecuteTime": {
     "end_time": "2022-02-20T13:14:22.872084Z",
     "start_time": "2022-02-20T13:13:55.595327Z"
    }
   },
   "outputs": [],
   "source": [
    "%%timeit\n",
    "max_so_far = v_clone_py[0]\n",
    "for i in range(len(v_clone_py)):\n",
    "    if v_clone_py[i] > max_so_far:\n",
    "        max_so_far = v_clone_py[i]\n",
    "    v_clone_py[i] = max_so_far"
   ]
  },
  {
   "cell_type": "markdown",
   "metadata": {},
   "source": [
    "For the vectorized approach, we use the aforementioned `cumsum` extension, now called for `maximum` universal function:"
   ]
  },
  {
   "cell_type": "code",
   "execution_count": null,
   "metadata": {
    "ExecuteTime": {
     "end_time": "2022-02-20T13:14:26.923706Z",
     "start_time": "2022-02-20T13:14:22.876045Z"
    }
   },
   "outputs": [],
   "source": [
    "%%timeit\n",
    "np.maximum.accumulate(v_clone_np)"
   ]
  },
  {
   "cell_type": "markdown",
   "metadata": {},
   "source": [
    "#### Finding the closest pair of points\n",
    "\n",
    "We have $n$ points in 2D space. Their coordinates are given in vectors **x** and **y**, respectively. Compute the closest pair of points, using Euclidean distance:\n",
    "$$\n",
    "d^2((x_i, y_i), (x_j, y_j)) = (x_i-x_j)^2 + (y_i-y_j)^2\n",
    "$$"
   ]
  },
  {
   "cell_type": "code",
   "execution_count": null,
   "metadata": {
    "ExecuteTime": {
     "end_time": "2022-02-20T13:14:26.939708Z",
     "start_time": "2022-02-20T13:14:26.930719Z"
    }
   },
   "outputs": [],
   "source": [
    "n = 2000\n",
    "x = np.random.random(size = n)\n",
    "y = np.random.random(size = n)"
   ]
  },
  {
   "cell_type": "code",
   "execution_count": null,
   "metadata": {
    "ExecuteTime": {
     "end_time": "2022-02-20T13:14:26.954714Z",
     "start_time": "2022-02-20T13:14:26.944951Z"
    }
   },
   "outputs": [],
   "source": [
    "# Version 1: compute the matrix `d` of pairwise distances. d[i, j] will store the square of the distance \n",
    "# between points of coordinates (xi, yi) and (xj, yj), respectively."
   ]
  },
  {
   "cell_type": "code",
   "execution_count": null,
   "metadata": {
    "ExecuteTime": {
     "end_time": "2022-02-20T13:14:59.286907Z",
     "start_time": "2022-02-20T13:14:26.958710Z"
    }
   },
   "outputs": [],
   "source": [
    "%%timeit\n",
    "\n",
    "d = np.empty((n, n))\n",
    "for i in range(n):\n",
    "    for j in range(i, n):\n",
    "        d[i, j] = d[j, i] = (x[i] - x[j])**2 + (y[i]-y[j])**2"
   ]
  },
  {
   "cell_type": "code",
   "execution_count": null,
   "metadata": {
    "ExecuteTime": {
     "end_time": "2022-02-20T13:14:59.302924Z",
     "start_time": "2022-02-20T13:14:59.291906Z"
    }
   },
   "outputs": [],
   "source": [
    "# compute the indices i and j, i != j, for which the distance is minimized\n",
    "\n",
    "def closest_pair(mat):\n",
    "    n = mat.shape[0]\n",
    "    # distance between a point and itself is always 0; we will exclude these cases by setting infinity on the main diagonal of distances\n",
    "    i = np.arange(n)\n",
    "    mat[i, i] = np.inf\n",
    "    pos_flatten = np.argmin(mat)\n",
    "    return pos_flatten // n, pos_flatten % n\n",
    "    "
   ]
  },
  {
   "cell_type": "code",
   "execution_count": null,
   "metadata": {
    "ExecuteTime": {
     "end_time": "2022-02-20T13:14:59.318918Z",
     "start_time": "2022-02-20T13:14:59.305923Z"
    }
   },
   "outputs": [],
   "source": [
    "# Version 2: vectorized computation and broadcasting"
   ]
  },
  {
   "cell_type": "code",
   "execution_count": null,
   "metadata": {
    "ExecuteTime": {
     "end_time": "2022-02-20T13:15:05.503071Z",
     "start_time": "2022-02-20T13:14:59.323946Z"
    }
   },
   "outputs": [],
   "source": [
    "%%timeit\n",
    "\n",
    "dx = (x[:, np.newaxis] - x[np.newaxis, :]) ** 2\n",
    "dy = (y[:, np.newaxis] - y[np.newaxis, :]) ** 2\n",
    "\n",
    "d = dx + dy"
   ]
  },
  {
   "cell_type": "markdown",
   "metadata": {},
   "source": [
    "### Supplementary bibliography \n",
    "\n",
    "[https://speakerdeck.com/jakevdp/losing-your-loops-fast-numerical-computing-with-numpy-pycon-2015](https://speakerdeck.com/jakevdp/losing-your-loops-fast-numerical-computing-with-numpy-pycon-2015)\n",
    "\n",
    "[Losing your Loops Fast Numerical Computing with NumPy](https://www.youtube.com/watch?v=EEUXKG97YRw)\n",
    "\n",
    "Ivan Idris, NumPy Cookbook, Packt Publishing; 2nd Revised ed., 2015"
   ]
  },
  {
   "cell_type": "code",
   "execution_count": null,
   "metadata": {},
   "outputs": [],
   "source": []
  }
 ],
 "metadata": {
  "kernelspec": {
   "display_name": "Python 3 (ipykernel)",
   "language": "python",
   "name": "python3"
  },
  "language_info": {
   "codemirror_mode": {
    "name": "ipython",
    "version": 3
   },
   "file_extension": ".py",
   "mimetype": "text/x-python",
   "name": "python",
   "nbconvert_exporter": "python",
   "pygments_lexer": "ipython3",
   "version": "3.9.7"
  },
  "notify_time": "5",
  "toc": {
   "base_numbering": 1,
   "nav_menu": {},
   "number_sections": true,
   "sideBar": true,
   "skip_h1_title": false,
   "title_cell": "Table of Contents",
   "title_sidebar": "Contents",
   "toc_cell": false,
   "toc_position": {
    "height": "calc(100% - 180px)",
    "left": "10px",
    "top": "150px",
    "width": "267.487px"
   },
   "toc_section_display": true,
   "toc_window_display": true
  },
  "varInspector": {
   "cols": {
    "lenName": 16,
    "lenType": 16,
    "lenVar": 40
   },
   "kernels_config": {
    "python": {
     "delete_cmd_postfix": "",
     "delete_cmd_prefix": "del ",
     "library": "var_list.py",
     "varRefreshCmd": "print(var_dic_list())"
    },
    "r": {
     "delete_cmd_postfix": ") ",
     "delete_cmd_prefix": "rm(",
     "library": "var_list.r",
     "varRefreshCmd": "cat(var_dic_list()) "
    }
   },
   "types_to_exclude": [
    "module",
    "function",
    "builtin_function_or_method",
    "instance",
    "_Feature"
   ],
   "window_display": false
  }
 },
 "nbformat": 4,
 "nbformat_minor": 2
}
