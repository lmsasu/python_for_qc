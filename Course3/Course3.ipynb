{
 "cells": [
  {
   "cell_type": "markdown",
   "metadata": {},
   "source": [
    "# Course 3: The NumPy package"
   ]
  },
  {
   "cell_type": "markdown",
   "metadata": {},
   "source": [
    "## Motivation"
   ]
  },
  {
   "cell_type": "markdown",
   "metadata": {},
   "source": [
    "NumPy (Numerical Python) is the core package for scientific computations in Python. It supports vectors and multidimensional matrices (tensors), functions for random number generation, linear algebra, signal processing, basic stats, etc. NumPy is a standard used by other packages. The manipulated data must fit RAM memory. NumPy relies on  C compiled code. \n",
    "\n",
    "In many situations data can be converted to numbers:\n",
    "* an image in grey can be seen as a 2d matrix; every number is the intensity of the corresponding pixel  (0 - black, 255 - white)\n",
    "![Imagine minsi scalata 0-1](./images/mnist_image.png)\n",
    "* a colour image can be seen as a 3d matrix, of represented as RGB: the \"parallel\" matrices are representing a colour channel:\n",
    "![Imagine RGB descompusa in 3 canale](./images/channelsrgb.gif)\n",
    "* an audio file can be seen as one or more vectors, where the number of vectors is the number of recoring channels. For a wav file, the values represent membrane's displacement, sampled in time:\n",
    "![sunet](./images/sound.png)\n",
    "* a text can be translated in numerical vectors by using techniques as [Bag of words](https://en.wikipedia.org/wiki/Bag-of-words_model), [Word2vec](https://en.wikipedia.org/wiki/Word2vec), or any other type of embedding.\n",
    "\n",
    "Vector and matrix representation used by NumPy is much more efficient than Python lists. The NumPy code actually uses native libraries, not interpreted code. If you vectorize you code, the efficiency is even greater on actual CPUs. \n",
    "\n",
    "The basic data type from NumPy is `ndarray` - n-dimensional array. "
   ]
  },
  {
   "cell_type": "markdown",
   "metadata": {},
   "source": [
    "## Creating arrays"
   ]
  },
  {
   "cell_type": "code",
   "execution_count": 1,
   "metadata": {
    "ExecuteTime": {
     "end_time": "2022-02-20T12:08:09.160528Z",
     "start_time": "2022-02-20T12:08:08.983431Z"
    }
   },
   "outputs": [
    {
     "name": "stdout",
     "output_type": "stream",
     "text": [
      "<class 'numpy.ndarray'>\n",
      "int32\n",
      "float16\n"
     ]
    }
   ],
   "source": [
    "# importing numpy, traditionally aliased as np\n",
    "import numpy as np\n",
    "\n",
    "# create a vector starting from a Python list\n",
    "x = np.array([1, 4, 2, 5, 3])\n",
    "\n",
    "# printing x's type\n",
    "print(type(x)) \n",
    "\n",
    "# all the elements in the array are of the same type\n",
    "print(x.dtype) \n",
    "\n",
    "# you can explicitely specify the underlying type in the array\n",
    "y = np.array([1, 2, 3], dtype=np.float16)\n",
    "print(y.dtype)"
   ]
  },
  {
   "cell_type": "code",
   "execution_count": 2,
   "metadata": {
    "ExecuteTime": {
     "end_time": "2022-02-20T12:08:09.176615Z",
     "start_time": "2022-02-20T12:08:09.163517Z"
    }
   },
   "outputs": [
    {
     "name": "stdout",
     "output_type": "stream",
     "text": [
      "[0 0 0 0 0 0 0 0 0 0]\n",
      "(10,)\n"
     ]
    }
   ],
   "source": [
    "# useful functions\n",
    "all_zeros = np.zeros(10, dtype=int)\n",
    "print(all_zeros)\n",
    "# printing number of elements on each dimension (axis)\n",
    "print(all_zeros.shape)"
   ]
  },
  {
   "cell_type": "code",
   "execution_count": 3,
   "metadata": {
    "ExecuteTime": {
     "end_time": "2022-02-20T12:08:09.191617Z",
     "start_time": "2022-02-20T12:08:09.179582Z"
    }
   },
   "outputs": [
    {
     "name": "stdout",
     "output_type": "stream",
     "text": [
      "[[1 2 3]\n",
      " [4 5 6]]\n",
      "(2, 3)\n",
      "2\n"
     ]
    }
   ],
   "source": [
    "# 2d matrix\n",
    "mat = np.array([[1, 2, 3], [4, 5, 6]])  # note we start from lists of lists\n",
    "print(mat)\n",
    "print(mat.shape)\n",
    "print(mat[0, 1])"
   ]
  },
  {
   "cell_type": "code",
   "execution_count": 4,
   "metadata": {
    "ExecuteTime": {
     "end_time": "2022-02-20T12:08:09.207623Z",
     "start_time": "2022-02-20T12:08:09.194589Z"
    }
   },
   "outputs": [
    {
     "name": "stdout",
     "output_type": "stream",
     "text": [
      "[[7. 7. 7. 7. 7. 7. 7. 7. 7. 7.]\n",
      " [7. 7. 7. 7. 7. 7. 7. 7. 7. 7.]\n",
      " [7. 7. 7. 7. 7. 7. 7. 7. 7. 7.]\n",
      " [7. 7. 7. 7. 7. 7. 7. 7. 7. 7.]]\n",
      "[[ True  True  True  True  True  True  True  True  True  True]\n",
      " [ True  True  True  True  True  True  True  True  True  True]\n",
      " [ True  True  True  True  True  True  True  True  True  True]\n",
      " [ True  True  True  True  True  True  True  True  True  True]]\n"
     ]
    }
   ],
   "source": [
    "# matrix with same value:\n",
    "mat_7 = np.ones((4, 10)) * 7\n",
    "print(mat_7)\n",
    "\n",
    "mat_7_2 = np.full((4, 10), 7)\n",
    "\n",
    "print(mat_7 == mat_7_2)"
   ]
  },
  {
   "cell_type": "markdown",
   "metadata": {},
   "source": [
    "The number of dimensions of a matrix is given by:"
   ]
  },
  {
   "cell_type": "code",
   "execution_count": 5,
   "metadata": {
    "ExecuteTime": {
     "end_time": "2022-02-20T12:08:09.223614Z",
     "start_time": "2022-02-20T12:08:09.209612Z"
    }
   },
   "outputs": [
    {
     "name": "stdout",
     "output_type": "stream",
     "text": [
      "Number of dimensions of all_zeros: 1\n",
      "Number of dimensions of mat: 2\n"
     ]
    }
   ],
   "source": [
    "print('Number of dimensions of all_zeros:', all_zeros.ndim)\n",
    "print('Number of dimensions of mat:', mat.ndim)"
   ]
  },
  {
   "cell_type": "markdown",
   "metadata": {},
   "source": [
    "The total number of elements, byte size of an element are found as:"
   ]
  },
  {
   "cell_type": "code",
   "execution_count": 6,
   "metadata": {
    "ExecuteTime": {
     "end_time": "2022-02-20T12:08:09.238620Z",
     "start_time": "2022-02-20T12:08:09.226593Z"
    }
   },
   "outputs": [
    {
     "name": "stdout",
     "output_type": "stream",
     "text": [
      "mat size: 6\n",
      "mat element size: 4 bytes\n",
      "mat.dtype:int32\n"
     ]
    }
   ],
   "source": [
    "print('mat size: {0}\\nmat element size: {1} bytes\\nmat.dtype:{2}'.format(mat.size, mat.itemsize, mat.dtype))"
   ]
  },
  {
   "cell_type": "code",
   "execution_count": 7,
   "metadata": {
    "ExecuteTime": {
     "end_time": "2022-02-20T12:08:09.254621Z",
     "start_time": "2022-02-20T12:08:09.241623Z"
    }
   },
   "outputs": [
    {
     "name": "stdout",
     "output_type": "stream",
     "text": [
      "[[1. 1. 1. 1. 1.]\n",
      " [1. 1. 1. 1. 1.]\n",
      " [1. 1. 1. 1. 1.]]\n",
      "[[3.14159265 3.14159265]\n",
      " [3.14159265 3.14159265]\n",
      " [3.14159265 3.14159265]]\n",
      "[[1. 0. 0.]\n",
      " [0. 1. 0.]\n",
      " [0. 0. 1.]]\n"
     ]
    }
   ],
   "source": [
    "# usefull cases\n",
    "all_ones = np.ones((3, 5))\n",
    "\n",
    "print(all_ones)\n",
    "all_pi = np.full((3, 2), np.pi)\n",
    "\n",
    "print(all_pi)\n",
    "print(np.eye(3))"
   ]
  },
  {
   "cell_type": "code",
   "execution_count": 8,
   "metadata": {
    "ExecuteTime": {
     "end_time": "2022-02-20T12:08:09.269619Z",
     "start_time": "2022-02-20T12:08:09.256591Z"
    }
   },
   "outputs": [
    {
     "name": "stdout",
     "output_type": "stream",
     "text": [
      "[ 0.   2.5  5.   7.5 10. ]\n"
     ]
    }
   ],
   "source": [
    "# equally spaced values in an interval; the interval bounds are part of the vector\n",
    "print(np.linspace(0, 10, 5))"
   ]
  },
  {
   "cell_type": "code",
   "execution_count": 9,
   "metadata": {
    "ExecuteTime": {
     "end_time": "2022-02-20T12:08:09.285587Z",
     "start_time": "2022-02-20T12:08:09.274613Z"
    }
   },
   "outputs": [
    {
     "name": "stdout",
     "output_type": "stream",
     "text": [
      "[0 3 6 9]\n",
      "<class 'numpy.ndarray'>\n"
     ]
    }
   ],
   "source": [
    "# arange works identically with Python's range function\n",
    "some_values = np.arange(0, 10, 3)\n",
    "print(some_values)\n",
    "print(type(some_values))"
   ]
  },
  {
   "cell_type": "code",
   "execution_count": 10,
   "metadata": {
    "ExecuteTime": {
     "end_time": "2022-02-20T12:08:09.301587Z",
     "start_time": "2022-02-20T12:08:09.290585Z"
    }
   },
   "outputs": [
    {
     "name": "stdout",
     "output_type": "stream",
     "text": [
      "[[0.75976309 0.16261257 0.97336502]\n",
      " [0.09168004 0.61604223 0.05257277]]\n"
     ]
    }
   ],
   "source": [
    "# random numbers\n",
    "x = np.random.random((2, 3))\n",
    "print(x)"
   ]
  },
  {
   "cell_type": "markdown",
   "metadata": {},
   "source": [
    "Tipurile de date folosibile pentru ndarrays sunt:\n",
    "\n",
    "| Type  | Explanation |\n",
    "| ---- | -----------|\n",
    "| bool_ | \tBoolean (True or False) stored as a byte | \n",
    "| int_ | \tDefault integer type (same as C long; normally either int64 or int32) | \n",
    "| intc | \tIdentical to C int (normally int32 or int64) | \n",
    "| intp | \tInteger used for indexing (same as C ssize_t; normally either int32 or int64) | \n",
    "| int8 | \tByte (-128 to 127) | \n",
    "| int16 | \tInteger (-32768 to 32767) | \n",
    "| int32 | \tInteger (-2147483648 to 2147483647) | \n",
    "| int64 | \tInteger (-9223372036854775808 to 9223372036854775807) | \n",
    "| uint8 | \tUnsigned integer (0 to 255) | \n",
    "| uint16 | \tUnsigned integer (0 to 65535) | \n",
    "| uint32 | \tUnsigned integer (0 to 4294967295) | \n",
    "| uint64 | \tUnsigned integer (0 to 18446744073709551615) | \n",
    "| float_ | \tShorthand for float64. | \n",
    "| float16 | \tHalf precision float: sign bit, 5 bits exponent, 10 bits mantissa | \n",
    "| float32 | \tSingle precision float: sign bit, 8 bits exponent, 23 bits mantissa | \n",
    "| float64 | \tDouble precision float: sign bit, 11 bits exponent, 52 bits mantissa | \n",
    "| complex_ | \tShorthand for complex128. | \n",
    "| complex64 | \tComplex number, represented by two 32-bit floats (real and imaginary components) | \n",
    "| complex128 | \tComplex number, represented by two 64-bit floats (real and imaginary components) |"
   ]
  },
  {
   "cell_type": "markdown",
   "metadata": {},
   "source": [
    "A popular operation is taking an array and changing its shape:"
   ]
  },
  {
   "cell_type": "code",
   "execution_count": 11,
   "metadata": {
    "ExecuteTime": {
     "end_time": "2022-02-20T12:08:09.316618Z",
     "start_time": "2022-02-20T12:08:09.303586Z"
    }
   },
   "outputs": [
    {
     "name": "stdout",
     "output_type": "stream",
     "text": [
      "[0 1 2 3 4 5 6 7 8 9]\n",
      "[[0 1 2 3 4]\n",
      " [5 6 7 8 9]]\n"
     ]
    }
   ],
   "source": [
    "# from a vector to a matrix\n",
    "vec = np.arange(10)\n",
    "mat = vec.reshape(2, 5)\n",
    "print(vec)\n",
    "print(mat)"
   ]
  },
  {
   "cell_type": "code",
   "execution_count": 12,
   "metadata": {
    "ExecuteTime": {
     "end_time": "2022-02-20T12:08:09.332621Z",
     "start_time": "2022-02-20T12:08:09.319622Z"
    }
   },
   "outputs": [
    {
     "name": "stdout",
     "output_type": "stream",
     "text": [
      "[0 1 2 3 4 5 6 7 8 9]\n"
     ]
    }
   ],
   "source": [
    "#...and vice versa:\n",
    "vec2 = mat.flatten()\n",
    "print(vec2)"
   ]
  },
  {
   "cell_type": "markdown",
   "metadata": {},
   "source": [
    "Matrices can be concatenated; the concatenation dimension (axis) should be specified:"
   ]
  },
  {
   "cell_type": "code",
   "execution_count": 13,
   "metadata": {
    "ExecuteTime": {
     "end_time": "2022-02-20T12:08:09.347619Z",
     "start_time": "2022-02-20T12:08:09.336585Z"
    }
   },
   "outputs": [],
   "source": [
    "a = np.array([[1, 2], [3, 4]], float)\n",
    "b = np.array([[5, 6], [7,8]], float)"
   ]
  },
  {
   "cell_type": "code",
   "execution_count": 14,
   "metadata": {
    "ExecuteTime": {
     "end_time": "2022-02-20T12:08:09.363633Z",
     "start_time": "2022-02-20T12:08:09.349588Z"
    }
   },
   "outputs": [
    {
     "name": "stdout",
     "output_type": "stream",
     "text": [
      "[[1. 2.]\n",
      " [3. 4.]\n",
      " [5. 6.]\n",
      " [7. 8.]]\n"
     ]
    }
   ],
   "source": [
    "# vertical concatenation (stacking)\n",
    "vertical = np.concatenate((a, b), axis=0)\n",
    "print(vertical)"
   ]
  },
  {
   "cell_type": "markdown",
   "metadata": {},
   "source": [
    "The axis concept is defined for matrices with at least two dimensions. For a 2D matrix, the axis 0 sweeps the matrix vertically, while axis 1 sweeps it horizontally."
   ]
  },
  {
   "cell_type": "code",
   "execution_count": 15,
   "metadata": {
    "ExecuteTime": {
     "end_time": "2022-02-20T12:08:09.379620Z",
     "start_time": "2022-02-20T12:08:09.365588Z"
    }
   },
   "outputs": [
    {
     "name": "stdout",
     "output_type": "stream",
     "text": [
      "[[1. 2. 5. 6.]\n",
      " [3. 4. 7. 8.]]\n"
     ]
    }
   ],
   "source": [
    "# horizontal concatenation\n",
    "horizontal = np.concatenate((a, b), axis=1)\n",
    "print(horizontal)"
   ]
  },
  {
   "cell_type": "code",
   "execution_count": 16,
   "metadata": {
    "ExecuteTime": {
     "end_time": "2022-02-20T12:08:09.395623Z",
     "start_time": "2022-02-20T12:08:09.381588Z"
    }
   },
   "outputs": [
    {
     "name": "stdout",
     "output_type": "stream",
     "text": [
      "[[1. 2.]\n",
      " [3. 4.]\n",
      " [5. 6.]\n",
      " [7. 8.]]\n",
      "[[1. 2. 5. 6.]\n",
      " [3. 4. 7. 8.]]\n"
     ]
    }
   ],
   "source": [
    "# same as:\n",
    "vertical = np.vstack((a, b))\n",
    "horizontal = np.hstack((a, b))\n",
    "print(vertical)\n",
    "print(horizontal)"
   ]
  },
  {
   "cell_type": "code",
   "execution_count": 17,
   "metadata": {
    "ExecuteTime": {
     "end_time": "2022-02-20T12:08:09.411583Z",
     "start_time": "2022-02-20T12:08:09.398589Z"
    }
   },
   "outputs": [
    {
     "name": "stdout",
     "output_type": "stream",
     "text": [
      "[[ 0  1  2  3  4]\n",
      " [ 5  6  7  8  9]\n",
      " [10 11 12 13 14]]\n"
     ]
    }
   ],
   "source": [
    "matrix = np.arange(15).reshape(3, 5)\n",
    "print(matrix)"
   ]
  },
  {
   "cell_type": "code",
   "execution_count": 18,
   "metadata": {
    "ExecuteTime": {
     "end_time": "2022-02-20T12:08:09.427621Z",
     "start_time": "2022-02-20T12:08:09.415595Z"
    }
   },
   "outputs": [
    {
     "name": "stdout",
     "output_type": "stream",
     "text": [
      "[15 18 21 24 27]\n"
     ]
    }
   ],
   "source": [
    "sum_by_columns= np.sum(matrix, axis=0)\n",
    "print(sum_by_columns)"
   ]
  },
  {
   "cell_type": "code",
   "execution_count": 19,
   "metadata": {
    "ExecuteTime": {
     "end_time": "2022-02-20T12:08:09.443621Z",
     "start_time": "2022-02-20T12:08:09.430617Z"
    }
   },
   "outputs": [
    {
     "name": "stdout",
     "output_type": "stream",
     "text": [
      "[10 35 60]\n"
     ]
    }
   ],
   "source": [
    "sum_by_rows= np.sum(matrix, axis=1)\n",
    "print(sum_by_rows)"
   ]
  },
  {
   "cell_type": "markdown",
   "metadata": {},
   "source": [
    "## Operating with ndarrays\n",
    "\n",
    "As expected, the basic operations from linear algebra are already implemented."
   ]
  },
  {
   "cell_type": "code",
   "execution_count": 20,
   "metadata": {
    "ExecuteTime": {
     "end_time": "2022-02-20T12:08:09.459628Z",
     "start_time": "2022-02-20T12:08:09.445596Z"
    }
   },
   "outputs": [
    {
     "name": "stdout",
     "output_type": "stream",
     "text": [
      "a=\n",
      " [[1 2 3]\n",
      " [4 5 6]]\n",
      "b=\n",
      " [[10 20 30]\n",
      " [40 50 60]]\n"
     ]
    }
   ],
   "source": [
    "# multiplying by a scalar\n",
    "a = np.array([[1, 2, 3], [4, 5, 6]])\n",
    "print('a=\\n', a)\n",
    "b = a * 10\n",
    "print('b=\\n', b)"
   ]
  },
  {
   "cell_type": "code",
   "execution_count": 21,
   "metadata": {
    "ExecuteTime": {
     "end_time": "2022-02-20T12:08:09.475622Z",
     "start_time": "2022-02-20T12:08:09.462587Z"
    }
   },
   "outputs": [
    {
     "name": "stdout",
     "output_type": "stream",
     "text": [
      "[[11 22 33]\n",
      " [44 55 66]]\n",
      "[[ -9 -18 -27]\n",
      " [-36 -45 -54]]\n"
     ]
    }
   ],
   "source": [
    "# add and substract two matrices\n",
    "sum_mat = a + b\n",
    "print(sum_mat)\n",
    "diff_mat = a - b\n",
    "print(diff_mat)"
   ]
  },
  {
   "cell_type": "markdown",
   "metadata": {},
   "source": [
    "The multiplication operator \\* is implemented in a different way from linear algebra: For two matrices with \n",
    "same shapes the elements at the same coordinates are multiplied: c[i, j] = a[i, j] * b[i, j]. This is called pointwise multiplication, or Hadamard product, and it is often used in signal processing and machine learning"
   ]
  },
  {
   "cell_type": "code",
   "execution_count": 22,
   "metadata": {
    "ExecuteTime": {
     "end_time": "2022-02-20T12:08:09.490621Z",
     "start_time": "2022-02-20T12:08:09.477590Z"
    }
   },
   "outputs": [
    {
     "name": "stdout",
     "output_type": "stream",
     "text": [
      "[[ 10  40  90]\n",
      " [160 250 360]]\n",
      "True\n",
      "True\n",
      "True\n",
      "True\n",
      "True\n",
      "True\n"
     ]
    }
   ],
   "source": [
    "# multiplication by * leads to Hadamard product: c[i, j] = a[i, j] * b[i, j]\n",
    "c = a * b\n",
    "print(c)\n",
    "for i in range(c.shape[0]):  # c.shape[0] = number of rows of matrix c\n",
    "    for j in range(c.shape[1]): # c.shape[1] = number of columns of matrix c\n",
    "        print(c[i, j] == a[i, j] * b[i, j])"
   ]
  },
  {
   "cell_type": "markdown",
   "metadata": {},
   "source": [
    "The above operations are using linear algebra libraries, which are optimized for the current microprocessors. It is recommended to use them instead of (nested) for cycles:"
   ]
  },
  {
   "cell_type": "code",
   "execution_count": 23,
   "metadata": {
    "ExecuteTime": {
     "end_time": "2022-02-20T12:08:09.506582Z",
     "start_time": "2022-02-20T12:08:09.492583Z"
    }
   },
   "outputs": [],
   "source": [
    "# create matrices\n",
    "matrix_shape = (100, 100)\n",
    "a_big = np.random.random(matrix_shape)\n",
    "b_big = np.random.random(matrix_shape)"
   ]
  },
  {
   "cell_type": "code",
   "execution_count": 24,
   "metadata": {
    "ExecuteTime": {
     "end_time": "2022-02-20T12:08:13.814302Z",
     "start_time": "2022-02-20T12:08:09.508585Z"
    }
   },
   "outputs": [
    {
     "name": "stdout",
     "output_type": "stream",
     "text": [
      "5.15 ms ± 178 µs per loop (mean ± std. dev. of 7 runs, 100 loops each)\n"
     ]
    }
   ],
   "source": [
    "%%timeit\n",
    "c_big = np.empty_like(a_big)\n",
    "for i in range(c_big.shape[0]):\n",
    "    for j in range(c_big.shape[1]):\n",
    "        c_big[i, j] = a_big[i, j] * b_big[i, j]"
   ]
  },
  {
   "cell_type": "code",
   "execution_count": 25,
   "metadata": {
    "ExecuteTime": {
     "end_time": "2022-02-20T12:08:18.700354Z",
     "start_time": "2022-02-20T12:08:13.817273Z"
    }
   },
   "outputs": [
    {
     "name": "stdout",
     "output_type": "stream",
     "text": [
      "5.95 µs ± 297 ns per loop (mean ± std. dev. of 7 runs, 100000 loops each)\n"
     ]
    }
   ],
   "source": [
    "%%timeit\n",
    "c_big = a_big * b_big"
   ]
  },
  {
   "cell_type": "code",
   "execution_count": 26,
   "metadata": {
    "ExecuteTime": {
     "end_time": "2022-02-20T12:08:18.716395Z",
     "start_time": "2022-02-20T12:08:18.704326Z"
    }
   },
   "outputs": [
    {
     "name": "stdout",
     "output_type": "stream",
     "text": [
      "initial matrix:\n",
      " [[1 2 3]\n",
      " [4 5 6]]\n",
      "after squaring each component:\n",
      " [[ 1  4  9]\n",
      " [16 25 36]]\n",
      "after raising to the power of 3:\n",
      " [[  1   8  27]\n",
      " [ 64 125 216]]\n"
     ]
    }
   ],
   "source": [
    "# 'raising to power' using ** : each element of the matrix is individually raised to that power.\n",
    "print('initial matrix:\\n', a)\n",
    "a_to_the_power_of_2 = a ** 2\n",
    "print('after squaring each component:\\n', a_to_the_power_of_2)\n",
    "power_3 = np.power(a, 3)\n",
    "print('after raising to the power of 3:\\n', power_3)"
   ]
  },
  {
   "cell_type": "markdown",
   "metadata": {},
   "source": [
    "You can use the / operator to get pointwise division (element by element) of two matrices:"
   ]
  },
  {
   "cell_type": "code",
   "execution_count": 27,
   "metadata": {
    "ExecuteTime": {
     "end_time": "2022-02-20T12:08:18.731369Z",
     "start_time": "2022-02-20T12:08:18.720357Z"
    }
   },
   "outputs": [
    {
     "name": "stdout",
     "output_type": "stream",
     "text": [
      "a= [[1 2 3]\n",
      " [4 5 6]]\n",
      "b= [[10 20 30]\n",
      " [40 50 60]]\n",
      "a/b= [[0.1 0.1 0.1]\n",
      " [0.1 0.1 0.1]]\n"
     ]
    }
   ],
   "source": [
    "print('a=', a)\n",
    "print('b=', b)\n",
    "print('a/b=', a/b)"
   ]
  },
  {
   "cell_type": "code",
   "execution_count": 28,
   "metadata": {
    "ExecuteTime": {
     "end_time": "2022-02-20T12:08:18.762392Z",
     "start_time": "2022-02-20T12:08:18.741437Z"
    }
   },
   "outputs": [
    {
     "name": "stdout",
     "output_type": "stream",
     "text": [
      "[[ 468  576  684]\n",
      " [1062 1305 1548]\n",
      " [1656 2034 2412]]\n"
     ]
    }
   ],
   "source": [
    "# raising a square matrix to a power, as defined in linear algebra\n",
    "square_matrix = np.array([[1, 2, 3], [4, 5, 6], [7, 8, 9]])\n",
    "pow_3 = np.linalg.matrix_power(square_matrix, 3)\n",
    "print(pow_3)"
   ]
  },
  {
   "cell_type": "markdown",
   "metadata": {},
   "source": [
    "If you call a NumPy numerical function on an ndarray, the result will be an ndarray of same shape as the original one. Its elements are computed by applying the function on each of the initial matrix componets, one by one:"
   ]
  },
  {
   "cell_type": "code",
   "execution_count": 29,
   "metadata": {
    "ExecuteTime": {
     "end_time": "2022-02-20T12:08:18.777391Z",
     "start_time": "2022-02-20T12:08:18.765364Z"
    }
   },
   "outputs": [
    {
     "name": "stdout",
     "output_type": "stream",
     "text": [
      "[[0 1 2]\n",
      " [3 4 5]]\n",
      "e^x=\n",
      "[[  1.           2.71828183   7.3890561 ]\n",
      " [ 20.08553692  54.59815003 148.4131591 ]]\n"
     ]
    }
   ],
   "source": [
    "x = np.arange(6).reshape(2, 3)\n",
    "print(x)\n",
    "y = np.exp(x)\n",
    "print(f'e^x=\\n{y}')\n",
    "assert x.shape == y.shape\n",
    "for i in range(0, x.shape[0]):\n",
    "    for j in range(0, x.shape[1]):\n",
    "        assert y[i, j] == np.exp(x[i, j])"
   ]
  },
  {
   "cell_type": "code",
   "execution_count": 30,
   "metadata": {
    "ExecuteTime": {
     "end_time": "2022-02-20T12:08:18.793392Z",
     "start_time": "2022-02-20T12:08:18.780359Z"
    }
   },
   "outputs": [],
   "source": [
    "# linear-algebra style matrix product\n",
    "a = np.random.rand(3, 5)\n",
    "b = np.random.rand(5, 10)\n",
    "assert a.shape[1] == b.shape[0]\n",
    "c = np.dot(a, b)\n",
    "\n",
    "# equivalent form\n",
    "c = a.dot(b)\n",
    "assert a.shape[0] == c.shape[0] and b.shape[1] == c.shape[1]\n",
    "\n",
    "# or even shorter:\n",
    "c = a@b"
   ]
  },
  {
   "cell_type": "markdown",
   "metadata": {},
   "source": [
    "NumPy defines a whole pletora of functions: `all, any, apply_along_axis, argmax, argmin, argsort, average, bincount, ceil, clip, conj, corrcoef, cov, cross, cumprod, cumsum, diff, dot, floor, inner, inv, lexsort, max, maximum, mean, median, min, minimum, nonzero, outer, prod, re, round, sort, std, sum, trace, transpose, var, vdot, vectorize, where` - [docs here](https://docs.scipy.org/doc/numpy-dev/reference/generated/)."
   ]
  },
  {
   "cell_type": "markdown",
   "metadata": {},
   "source": [
    "## Indexing \n",
    "\n",
    "So far, we used individual indices to refer to particular elements in a NumPy array:\n",
    "```python\n",
    "vector[index]\n",
    "# or\n",
    "matrix[i, j]\n",
    "```"
   ]
  },
  {
   "cell_type": "code",
   "execution_count": 31,
   "metadata": {
    "ExecuteTime": {
     "end_time": "2022-02-20T12:08:18.809399Z",
     "start_time": "2022-02-20T12:08:18.795359Z"
    }
   },
   "outputs": [
    {
     "name": "stdout",
     "output_type": "stream",
     "text": [
      "[0 1 2 3 4 5 6 7 8 9]\n",
      "vector[4]=4\n"
     ]
    }
   ],
   "source": [
    "vector = np.arange(10)\n",
    "print(vector)\n",
    "print('vector[4]={0}'.format(vector[4]))"
   ]
  },
  {
   "cell_type": "code",
   "execution_count": 32,
   "metadata": {
    "ExecuteTime": {
     "end_time": "2022-02-20T12:08:18.825396Z",
     "start_time": "2022-02-20T12:08:18.811359Z"
    }
   },
   "outputs": [
    {
     "name": "stdout",
     "output_type": "stream",
     "text": [
      "[[ 0  1  2  3]\n",
      " [ 4  5  6  7]\n",
      " [ 8  9 10 11]]\n",
      "9\n"
     ]
    }
   ],
   "source": [
    "matrix = np.arange(12).reshape(3, 4)\n",
    "print(matrix)\n",
    "print(matrix[2, 1])"
   ]
  },
  {
   "cell_type": "markdown",
   "metadata": {},
   "source": [
    "For a matrix one can use indices as:\n",
    "```python\n",
    "m[i][j] \n",
    "```\n",
    "but this is innefficient compared to `m[i,j]`, as in the former case a temporary copy of row `i` is done, and from this one the element at index `j` is retrieved."
   ]
  },
  {
   "cell_type": "markdown",
   "metadata": {},
   "source": [
    "By using `slicing`, one can refer to a whole subset of elements. For example, one gets for vectors:"
   ]
  },
  {
   "cell_type": "code",
   "execution_count": 33,
   "metadata": {
    "ExecuteTime": {
     "end_time": "2022-02-20T12:08:18.840396Z",
     "start_time": "2022-02-20T12:08:18.827360Z"
    }
   },
   "outputs": [
    {
     "name": "stdout",
     "output_type": "stream",
     "text": [
      "[ 0 10 20 30 40 50 60 70 80 90]\n",
      "[20 30 40 50]\n"
     ]
    }
   ],
   "source": [
    "vector = 10 * np.arange(10)\n",
    "print(vector)\n",
    "print(vector[2:6]) # note that the rightmost boundary is not used for selection; \n",
    "# i.e. the elements are retrieved up to index 6-1"
   ]
  },
  {
   "cell_type": "code",
   "execution_count": 34,
   "metadata": {
    "ExecuteTime": {
     "end_time": "2022-02-20T12:08:18.855356Z",
     "start_time": "2022-02-20T12:08:18.844359Z"
    }
   },
   "outputs": [
    {
     "name": "stdout",
     "output_type": "stream",
     "text": [
      "[ 0 10 20 30 40 50 60 70 80 90]\n",
      "[10 30 20 70]\n"
     ]
    }
   ],
   "source": [
    "indices = [1, 3, 2, 7]\n",
    "print(vector)\n",
    "print(vector[indices])"
   ]
  },
  {
   "cell_type": "code",
   "execution_count": 35,
   "metadata": {
    "ExecuteTime": {
     "end_time": "2022-02-20T12:08:18.871396Z",
     "start_time": "2022-02-20T12:08:18.858357Z"
    }
   },
   "outputs": [
    {
     "name": "stdout",
     "output_type": "stream",
     "text": [
      "[ 0 10 20 30 40 50 60 70 80 90]\n",
      "[10 30 20 30 30 30 30]\n"
     ]
    }
   ],
   "source": [
    "# the same index can be repeated:\n",
    "indices = [1, 3, 2, 3, 3, 3, 3]\n",
    "print(vector)\n",
    "print(vector[indices])"
   ]
  },
  {
   "cell_type": "code",
   "execution_count": 36,
   "metadata": {
    "ExecuteTime": {
     "end_time": "2022-02-20T12:08:18.887397Z",
     "start_time": "2022-02-20T12:08:18.874358Z"
    }
   },
   "outputs": [
    {
     "data": {
      "text/plain": [
       "array([20, 40, 60])"
      ]
     },
     "execution_count": 36,
     "metadata": {},
     "output_type": "execute_result"
    }
   ],
   "source": [
    "# or we can use a sequence of indices, with initial/step/final value given\n",
    "vector[2:8:2]"
   ]
  },
  {
   "cell_type": "markdown",
   "metadata": {},
   "source": [
    "For a matrix you can use:"
   ]
  },
  {
   "cell_type": "code",
   "execution_count": 37,
   "metadata": {
    "ExecuteTime": {
     "end_time": "2022-02-20T12:08:18.903387Z",
     "start_time": "2022-02-20T12:08:18.889361Z"
    }
   },
   "outputs": [
    {
     "name": "stdout",
     "output_type": "stream",
     "text": [
      "[[  0  10  20  30  40]\n",
      " [ 50  60  70  80  90]\n",
      " [100 110 120 130 140]\n",
      " [150 160 170 180 190]]\n",
      "[50 60 70 80 90]\n",
      "[50 60 70 80 90]\n"
     ]
    }
   ],
   "source": [
    "matrix = 10 * np.arange(20).reshape(4, 5)\n",
    "print(matrix)\n",
    "\n",
    "print(matrix[1,])\n",
    "# which is the same with the more explicit form:\n",
    "print(matrix[1, :])"
   ]
  },
  {
   "cell_type": "code",
   "execution_count": 38,
   "metadata": {
    "ExecuteTime": {
     "end_time": "2022-02-20T12:08:18.918393Z",
     "start_time": "2022-02-20T12:08:18.906391Z"
    }
   },
   "outputs": [
    {
     "name": "stdout",
     "output_type": "stream",
     "text": [
      "[50 60 70 80 90]\n",
      "[50 60 70 80 90]\n"
     ]
    }
   ],
   "source": [
    "print(matrix[1,])\n",
    "# which is the same with the more explicit form:\n",
    "print(matrix[1, :])"
   ]
  },
  {
   "cell_type": "code",
   "execution_count": 39,
   "metadata": {
    "ExecuteTime": {
     "end_time": "2022-02-20T12:08:18.933362Z",
     "start_time": "2022-02-20T12:08:18.922377Z"
    }
   },
   "outputs": [
    {
     "data": {
      "text/plain": [
       "array([[ 50,  60,  70,  80,  90],\n",
       "       [100, 110, 120, 130, 140]])"
      ]
     },
     "execution_count": 39,
     "metadata": {},
     "output_type": "execute_result"
    }
   ],
   "source": [
    "# you can slice indices, on any axis\n",
    "matrix[1:3, :]"
   ]
  },
  {
   "cell_type": "code",
   "execution_count": 40,
   "metadata": {
    "ExecuteTime": {
     "end_time": "2022-02-20T12:08:18.949359Z",
     "start_time": "2022-02-20T12:08:18.935361Z"
    }
   },
   "outputs": [
    {
     "data": {
      "text/plain": [
       "array([[ 70,  80],\n",
       "       [120, 130]])"
      ]
     },
     "execution_count": 40,
     "metadata": {},
     "output_type": "execute_result"
    }
   ],
   "source": [
    "# slicing on avery axis\n",
    "matrix[1:3, 2:4]"
   ]
  },
  {
   "cell_type": "markdown",
   "metadata": {},
   "source": [
    "### Logical indexing\n",
    "\n",
    "You can execute logical operations against the elements of a NumPy array. As a result of this, you will obtain an ndarray of the same shape as the initial array, filled in with `True` and `False`. The exact boolean value is the result of the logical operation on the values at the same positions:"
   ]
  },
  {
   "cell_type": "code",
   "execution_count": 41,
   "metadata": {
    "ExecuteTime": {
     "end_time": "2022-02-20T12:08:18.965420Z",
     "start_time": "2022-02-20T12:08:18.952358Z"
    }
   },
   "outputs": [
    {
     "name": "stdout",
     "output_type": "stream",
     "text": [
      "[[1 2]\n",
      " [3 4]\n",
      " [5 6]]\n",
      "[[False False]\n",
      " [ True  True]\n",
      " [ True  True]]\n"
     ]
    }
   ],
   "source": [
    "a = np.array([[1,2], [3, 4], [5, 6]])\n",
    "print(a)\n",
    "print(a > 2)"
   ]
  },
  {
   "cell_type": "markdown",
   "metadata": {},
   "source": [
    "Furthermore, the resulted ndarray can be used for indexing. You will get only those elements for which the boolean operation yielded `True`:"
   ]
  },
  {
   "cell_type": "code",
   "execution_count": 42,
   "metadata": {
    "ExecuteTime": {
     "end_time": "2022-02-20T12:08:18.981393Z",
     "start_time": "2022-02-20T12:08:18.969398Z"
    }
   },
   "outputs": [
    {
     "name": "stdout",
     "output_type": "stream",
     "text": [
      "[3 4 5 6]\n",
      "[3 4 5 6]\n"
     ]
    }
   ],
   "source": [
    "larger_than_2 = a > 2\n",
    "print(a[larger_than_2])\n",
    "\n",
    "# direct selection\n",
    "print(a[a>2])\n",
    "\n",
    "# Note that the initial shape of a is lost. Can you explain why?"
   ]
  },
  {
   "cell_type": "markdown",
   "metadata": {},
   "source": [
    "For joint conditions one can use boolean operators. For example, to select elements which are larger than 2, but smaller than 6, one writes:"
   ]
  },
  {
   "cell_type": "code",
   "execution_count": 43,
   "metadata": {
    "ExecuteTime": {
     "end_time": "2022-02-20T12:08:18.997395Z",
     "start_time": "2022-02-20T12:08:18.984412Z"
    }
   },
   "outputs": [
    {
     "data": {
      "text/plain": [
       "array([3, 4, 5])"
      ]
     },
     "execution_count": 43,
     "metadata": {},
     "output_type": "execute_result"
    }
   ],
   "source": [
    "a[np.logical_and(a > 2, a < 6)]"
   ]
  },
  {
   "cell_type": "markdown",
   "metadata": {},
   "source": [
    "Similar operators are: `np.logical_or`, `np.logical_not`, `np.logical_xor`."
   ]
  },
  {
   "cell_type": "markdown",
   "metadata": {},
   "source": [
    "A popular request for ndarrays is getting those FP elements which are defined - i.e. those which are not NaNs (NaN = not a number, values resulted due to invalid operations like: 0/0, np.sqrt(-1), np.log(-1), etc.):"
   ]
  },
  {
   "cell_type": "code",
   "execution_count": 44,
   "metadata": {
    "ExecuteTime": {
     "end_time": "2022-02-20T12:08:19.013393Z",
     "start_time": "2022-02-20T12:08:18.999361Z"
    }
   },
   "outputs": [
    {
     "name": "stdout",
     "output_type": "stream",
     "text": [
      "[ 1.   2.3  4.  10.   0. ]\n"
     ]
    }
   ],
   "source": [
    "tab = np.array([[1.0, 2.3, np.nan, 4], [10, np.nan, np.nan, 0]])\n",
    "print(tab[~np.isnan(tab)])"
   ]
  },
  {
   "cell_type": "markdown",
   "metadata": {},
   "source": [
    "In all cases, indexing returns a view of the initial array. Modifications done on this view will actually update the underlying initial array:"
   ]
  },
  {
   "cell_type": "code",
   "execution_count": 45,
   "metadata": {
    "ExecuteTime": {
     "end_time": "2022-02-20T12:08:19.028398Z",
     "start_time": "2022-02-20T12:08:19.015362Z"
    },
    "scrolled": true
   },
   "outputs": [
    {
     "name": "stdout",
     "output_type": "stream",
     "text": [
      "Before:\n",
      " [[ 1.   2.3  nan  4. ]\n",
      " [10.   nan  nan  0. ]]\n",
      "After:\n",
      " [[ 1.   2.3  0.   4. ]\n",
      " [10.   0.   0.   0. ]]\n"
     ]
    }
   ],
   "source": [
    "print('Before:\\n', tab)\n",
    "tab[np.isnan(tab)] = 0.0\n",
    "print('After:\\n', tab)"
   ]
  },
  {
   "cell_type": "markdown",
   "metadata": {},
   "source": [
    "Logical indexing allows selection of the elements in an array whose contents is to be changed:"
   ]
  },
  {
   "cell_type": "code",
   "execution_count": 46,
   "metadata": {
    "ExecuteTime": {
     "end_time": "2022-02-20T12:08:19.043398Z",
     "start_time": "2022-02-20T12:08:19.030359Z"
    }
   },
   "outputs": [
    {
     "name": "stdout",
     "output_type": "stream",
     "text": [
      "Before update:\n",
      " [[1 2 3 4]\n",
      " [5 6 7 8]]\n",
      "After update:\n",
      " [[ 1 20  3 40]\n",
      " [ 5 60  7 80]]\n"
     ]
    }
   ],
   "source": [
    "# even numbers are multiplied by 10, the other ones remain unchanged \n",
    "matrix = np.array([[1, 2, 3, 4], [5, 6, 7, 8]])\n",
    "print('Before update:\\n', matrix)\n",
    "matrix[matrix % 2 == 0] *= 10\n",
    "print('After update:\\n', matrix)"
   ]
  },
  {
   "cell_type": "markdown",
   "metadata": {},
   "source": [
    "You may perform update on a specific axis:"
   ]
  },
  {
   "cell_type": "code",
   "execution_count": 47,
   "metadata": {
    "ExecuteTime": {
     "end_time": "2022-02-20T12:08:19.059399Z",
     "start_time": "2022-02-20T12:08:19.045394Z"
    }
   },
   "outputs": [
    {
     "name": "stdout",
     "output_type": "stream",
     "text": [
      "Before update:\n",
      " [[1. 2. 3. 4.]\n",
      " [5. 6. 7. 8.]]\n",
      "After update\n",
      " [[0.4 2.  0.6 0.7]\n",
      " [0.8 6.  1.  1.1]]\n"
     ]
    }
   ],
   "source": [
    "matrix = np.array([[1, 2, 3, 4], [5, 6, 7, 8]], dtype=np.float32)\n",
    "print('Before update:\\n', matrix)\n",
    "# columns 0, 2, 3 will be updated\n",
    "bool_columns = [True, False, True, True]\n",
    "matrix[:, bool_columns] = (matrix[:, bool_columns] +3 )/10\n",
    "print('After update\\n', matrix)"
   ]
  },
  {
   "cell_type": "markdown",
   "metadata": {},
   "source": [
    "### Supplementary bibliography \n",
    "1. https://docs.scipy.org/doc/numpy-1.13.0/glossary.html\n",
    "1. https://engineering.ucsb.edu/~shell/che210d/numpy.pdf\n",
    "1. http://www.scipy-lectures.org/intro/numpy/numpy.html#indexing-and-slicing"
   ]
  },
  {
   "cell_type": "markdown",
   "metadata": {},
   "source": [
    "## Broadcasting"
   ]
  },
  {
   "cell_type": "markdown",
   "metadata": {},
   "source": [
    "Broadcasting allows operations with matrices of incompatible dimensions, under specific circumstances. For example, following the mathematical definition of matrix addiction, the matrices `a` and `b`b below could not be added:"
   ]
  },
  {
   "cell_type": "code",
   "execution_count": 48,
   "metadata": {
    "ExecuteTime": {
     "end_time": "2022-02-20T12:08:19.075398Z",
     "start_time": "2022-02-20T12:08:19.061393Z"
    },
    "scrolled": true
   },
   "outputs": [
    {
     "name": "stdout",
     "output_type": "stream",
     "text": [
      "a=\n",
      "[[ 0.  0.  0.]\n",
      " [10. 10. 10.]\n",
      " [20. 20. 20.]\n",
      " [30. 30. 30.]]\n",
      "\n",
      "b=\n",
      "[0. 1. 2.]\n",
      "\n"
     ]
    }
   ],
   "source": [
    "a = np.array([[0.0,0.0,0.0],[10.0,10.0,10.0],[20.0,20.0,20.0],[30.0,30.0,30.0]]) \n",
    "b = np.array([0.0,1.0,2.0])  \n",
    "\n",
    "print('a=\\n{0}\\n'.format(a))\n",
    "print('b=\\n{0}\\n'.format(b))"
   ]
  },
  {
   "cell_type": "markdown",
   "metadata": {},
   "source": [
    "Through broadcasting, the matrix `b` is automatically extended through copy/paste of its line:\n",
    "![broadcast](./images/broadcast1.png)"
   ]
  },
  {
   "cell_type": "code",
   "execution_count": 49,
   "metadata": {
    "ExecuteTime": {
     "end_time": "2022-02-20T12:08:19.090360Z",
     "start_time": "2022-02-20T12:08:19.077417Z"
    }
   },
   "outputs": [
    {
     "name": "stdout",
     "output_type": "stream",
     "text": [
      "result=\n",
      "[[ 0.  1.  2.]\n",
      " [10. 11. 12.]\n",
      " [20. 21. 22.]\n",
      " [30. 31. 32.]]\n",
      "\n"
     ]
    }
   ],
   "source": [
    "# broadcasting\n",
    "result = a + b\n",
    "print('result=\\n{0}\\n'.format(result))"
   ]
  },
  {
   "cell_type": "markdown",
   "metadata": {},
   "source": [
    "Broadcasting is done if some conditions are fulfilled. When one operates on two matrices, NumPy compares the sizes on each dimension, starting with the last dimension. Two dimensions are compatible when: \n",
    "\n",
    "1. they are equal, or\n",
    "1. one of them is 1\n",
    "\n",
    "The rules above are not fulfilled, for example, by:\n",
    "\n",
    "![Broadcat imposibil](./images/broadcast2.png)\n",
    "or for the case below:"
   ]
  },
  {
   "cell_type": "code",
   "execution_count": 50,
   "metadata": {
    "ExecuteTime": {
     "end_time": "2022-02-20T12:08:19.105399Z",
     "start_time": "2022-02-20T12:08:19.094364Z"
    }
   },
   "outputs": [
    {
     "name": "stdout",
     "output_type": "stream",
     "text": [
      "(4,) (5,)\n"
     ]
    }
   ],
   "source": [
    "x = np.arange(4)\n",
    "y = np.ones(5)\n",
    "print(x.shape, y.shape)\n",
    "\n",
    "#print(x+y) # ValueError: operands could not be broadcast together with shapes (4,) (5,) "
   ]
  },
  {
   "cell_type": "code",
   "execution_count": 51,
   "metadata": {
    "ExecuteTime": {
     "end_time": "2022-02-20T12:08:19.120386Z",
     "start_time": "2022-02-20T12:08:19.107362Z"
    }
   },
   "outputs": [
    {
     "name": "stdout",
     "output_type": "stream",
     "text": [
      "x shape:  (4, 1)\n",
      "x:\n",
      " [[0]\n",
      " [1]\n",
      " [2]\n",
      " [3]]\n"
     ]
    }
   ],
   "source": [
    "x = np.arange(4).reshape(4, 1)\n",
    "print('x shape: ', x.shape)\n",
    "print('x:\\n', x)"
   ]
  },
  {
   "cell_type": "code",
   "execution_count": 52,
   "metadata": {
    "ExecuteTime": {
     "end_time": "2022-02-20T12:08:19.136357Z",
     "start_time": "2022-02-20T12:08:19.124391Z"
    }
   },
   "outputs": [
    {
     "name": "stdout",
     "output_type": "stream",
     "text": [
      "y shape:  (1, 5)\n",
      "y:\n",
      " [[0 1 2 3 4]]\n"
     ]
    }
   ],
   "source": [
    "y = np.arange(5).reshape(1, 5)\n",
    "print('y shape: ', y.shape)\n",
    "print('y:\\n', y)"
   ]
  },
  {
   "cell_type": "code",
   "execution_count": 53,
   "metadata": {
    "ExecuteTime": {
     "end_time": "2022-02-20T12:08:19.151392Z",
     "start_time": "2022-02-20T12:08:19.139356Z"
    }
   },
   "outputs": [
    {
     "name": "stdout",
     "output_type": "stream",
     "text": [
      "z shape: (4, 5)\n",
      "z\n",
      " [[0 1 2 3 4]\n",
      " [1 2 3 4 5]\n",
      " [2 3 4 5 6]\n",
      " [3 4 5 6 7]]\n"
     ]
    }
   ],
   "source": [
    "z = x + y\n",
    "print('z shape:', z.shape)\n",
    "print('z\\n', z)"
   ]
  },
  {
   "cell_type": "markdown",
   "metadata": {},
   "source": [
    "The broadcast internally produced the following two matrices right before doing the addition:"
   ]
  },
  {
   "cell_type": "code",
   "execution_count": 54,
   "metadata": {
    "ExecuteTime": {
     "end_time": "2022-02-20T12:08:19.166392Z",
     "start_time": "2022-02-20T12:08:19.153396Z"
    }
   },
   "outputs": [
    {
     "data": {
      "text/plain": [
       "array([[0, 0, 0, 0, 0],\n",
       "       [1, 1, 1, 1, 1],\n",
       "       [2, 2, 2, 2, 2],\n",
       "       [3, 3, 3, 3, 3]])"
      ]
     },
     "execution_count": 54,
     "metadata": {},
     "output_type": "execute_result"
    }
   ],
   "source": [
    "# clone x and create multiple identical columns:\n",
    "x_broadcast = np.tile(x, (1, 5))\n",
    "x_broadcast"
   ]
  },
  {
   "cell_type": "code",
   "execution_count": 55,
   "metadata": {
    "ExecuteTime": {
     "end_time": "2022-02-20T12:08:19.182391Z",
     "start_time": "2022-02-20T12:08:19.168362Z"
    }
   },
   "outputs": [
    {
     "data": {
      "text/plain": [
       "array([[0, 1, 2, 3, 4],\n",
       "       [0, 1, 2, 3, 4],\n",
       "       [0, 1, 2, 3, 4],\n",
       "       [0, 1, 2, 3, 4]])"
      ]
     },
     "execution_count": 55,
     "metadata": {},
     "output_type": "execute_result"
    }
   ],
   "source": [
    "# clone y and create multiple identical rows:\n",
    "y_broadcast = np.tile(y, (4, 1))\n",
    "y_broadcast"
   ]
  },
  {
   "cell_type": "markdown",
   "metadata": {},
   "source": [
    "Now, the two matrices can be added:"
   ]
  },
  {
   "cell_type": "code",
   "execution_count": 56,
   "metadata": {
    "ExecuteTime": {
     "end_time": "2022-02-20T12:08:19.197361Z",
     "start_time": "2022-02-20T12:08:19.186421Z"
    }
   },
   "outputs": [],
   "source": [
    "z_broadcast = x_broadcast + y_broadcast\n",
    "assert np.alltrue(z_broadcast == z)"
   ]
  },
  {
   "cell_type": "markdown",
   "metadata": {},
   "source": [
    "### Broadcast practical example\n",
    "\n",
    "([Source](https://eli.thegreenplace.net/2015/broadcasting-arrays-in-numpy/)) For specific food types, we decompose them in fats, carbs, proteins, all of them weighted in grams. We want to convert each food type components into calories, by using multiplicative constants:\n",
    "1. calories for fats = 9 * fats in grams\n",
    "1. calories for proteins = 4 * protein grams\n",
    "1. calories for carbs = 4 * carbs in grams\n",
    "\n",
    "![tabel portii](./images/broadcast3.png)"
   ]
  },
  {
   "cell_type": "markdown",
   "metadata": {},
   "source": [
    "The multiplication is computed by broadcasting:"
   ]
  },
  {
   "cell_type": "code",
   "execution_count": 57,
   "metadata": {
    "ExecuteTime": {
     "end_time": "2022-02-20T12:08:19.212361Z",
     "start_time": "2022-02-20T12:08:19.199364Z"
    }
   },
   "outputs": [
    {
     "name": "stdout",
     "output_type": "stream",
     "text": [
      "Calories:\n",
      " [[  2.7  10.   14. ]\n",
      " [ 26.1 110.    0. ]\n",
      " [  3.6   5.2  95.6]\n",
      " [129.6  24.    9.2]]\n"
     ]
    }
   ],
   "source": [
    "weights = np.array([\n",
    "  [0.3, 2.5, 3.5],\n",
    "  [2.9, 27.5, 0],\n",
    "  [0.4, 1.3, 23.9],\n",
    "  [14.4, 6, 2.3]]\n",
    ")\n",
    "\n",
    "cal_per_g = np.array([9, 4, 4])\n",
    "\n",
    "# broadcasting\n",
    "calories = weights * cal_per_g\n",
    "\n",
    "print('Calories:\\n', calories)"
   ]
  },
  {
   "cell_type": "markdown",
   "metadata": {},
   "source": [
    "### Supplementary bibliography \n",
    "\n",
    "[Basic broadcasting: https://docs.scipy.org/doc/numpy/user/basics.broadcasting.html](https://docs.scipy.org/doc/numpy/user/basics.broadcasting.html)\n",
    "\n",
    "http://scipy.github.io/old-wiki/pages/EricsBroadcastingDoc\n",
    "\n",
    "http://cs231n.github.io/python-numpy-tutorial/#numpy-broadcasting"
   ]
  },
  {
   "cell_type": "markdown",
   "metadata": {},
   "source": [
    "## Vectorized computation\n",
    "\n",
    "Motivational presentation: https://www.kdnuggets.com/2017/11/forget-for-loop-data-science-code-vectorization.html "
   ]
  },
  {
   "cell_type": "markdown",
   "metadata": {},
   "source": [
    "### Example\n",
    "\n",
    "We have 2 collections of numbers: the first one contains distances, the second one is time requested to cover them. We want to compyte the speed. We will present two approaches: a classical `for` cycle, and vectorized computation."
   ]
  },
  {
   "cell_type": "code",
   "execution_count": 58,
   "metadata": {
    "ExecuteTime": {
     "end_time": "2022-02-20T12:08:19.228393Z",
     "start_time": "2022-02-20T12:08:19.214363Z"
    }
   },
   "outputs": [],
   "source": [
    "distances = [10, 20, 23, 14, 33, 45]\n",
    "durations = [0.3, 0.44, 0.9, 1.2, 0.7, 1.1]"
   ]
  },
  {
   "cell_type": "code",
   "execution_count": 59,
   "metadata": {
    "ExecuteTime": {
     "end_time": "2022-02-20T12:08:19.244393Z",
     "start_time": "2022-02-20T12:08:19.230372Z"
    }
   },
   "outputs": [
    {
     "name": "stdout",
     "output_type": "stream",
     "text": [
      "Speed computed by for loop:  [33.333333333333336, 45.45454545454545, 25.555555555555554, 11.666666666666668, 47.142857142857146, 40.90909090909091]\n"
     ]
    }
   ],
   "source": [
    "# Version 1: traditional cycle\n",
    "speeds = []\n",
    "for i in range(len(distances)):\n",
    "    speeds.append(distances[i] / durations[i])\n",
    "    \n",
    "print('Speed computed by for loop: ', speeds)"
   ]
  },
  {
   "cell_type": "code",
   "execution_count": 60,
   "metadata": {
    "ExecuteTime": {
     "end_time": "2022-02-20T12:08:19.260366Z",
     "start_time": "2022-02-20T12:08:19.247360Z"
    }
   },
   "outputs": [
    {
     "name": "stdout",
     "output_type": "stream",
     "text": [
      "speed computed by vectorization: [33.33333333 45.45454545 25.55555556 11.66666667 47.14285714 40.90909091]\n"
     ]
    }
   ],
   "source": [
    "# Version 2: vectorization\n",
    "# Vectorization works on vector/matrices, the first step is to convert lists to NumPy arrays\n",
    "\n",
    "distances_array = np.array(distances)\n",
    "durations_array = np.array(durations)\n",
    "\n",
    "# We use NumPy operations which work with full matices. The C code  \n",
    "# uses Single Instruction Multiple Data (SIMD) facilities from the CPU. \n",
    "\n",
    "speeds_array = distances_array/durations_array\n",
    "\n",
    "print(f'speed computed by vectorization: {speeds_array}')\n",
    "\n",
    "assert np.alltrue(speeds_array == speeds)"
   ]
  },
  {
   "cell_type": "markdown",
   "metadata": {},
   "source": [
    "### Benefits of vectorization"
   ]
  },
  {
   "cell_type": "markdown",
   "metadata": {},
   "source": [
    "1. Fast(er) execution\n",
    "1. Short and often more readable code"
   ]
  },
  {
   "cell_type": "markdown",
   "metadata": {},
   "source": [
    "Example: let us compute\n",
    "$$\n",
    "\\sum\\limits_{i=0}^{N-1} (i\\%3-1) \\cdot i\n",
    "$$"
   ]
  },
  {
   "cell_type": "code",
   "execution_count": 61,
   "metadata": {
    "ExecuteTime": {
     "end_time": "2022-02-20T12:08:19.290395Z",
     "start_time": "2022-02-20T12:08:19.262394Z"
    }
   },
   "outputs": [
    {
     "name": "stdout",
     "output_type": "stream",
     "text": [
      "-33333.0\n"
     ]
    }
   ],
   "source": [
    "# Python funciton with non-vectorized computation (`for` cycle)\n",
    "\n",
    "N = 100000\n",
    "\n",
    "def func_python(N):\n",
    "    d = 0.0\n",
    "    for i in range(N):\n",
    "        d += (i%3-1) * i\n",
    "    return d\n",
    "\n",
    "print(func_python(N))"
   ]
  },
  {
   "cell_type": "code",
   "execution_count": 62,
   "metadata": {
    "ExecuteTime": {
     "end_time": "2022-02-20T12:08:29.771324Z",
     "start_time": "2022-02-20T12:08:19.294389Z"
    }
   },
   "outputs": [
    {
     "name": "stdout",
     "output_type": "stream",
     "text": [
      "12.7 ms ± 351 µs per loop (mean ± std. dev. of 7 runs, 100 loops each)\n"
     ]
    }
   ],
   "source": [
    "%timeit func_python(N)"
   ]
  },
  {
   "cell_type": "code",
   "execution_count": 63,
   "metadata": {
    "ExecuteTime": {
     "end_time": "2022-02-20T12:08:29.786356Z",
     "start_time": "2022-02-20T12:08:29.774318Z"
    }
   },
   "outputs": [
    {
     "name": "stdout",
     "output_type": "stream",
     "text": [
      "-33333\n"
     ]
    }
   ],
   "source": [
    "# function with vectorized computation\n",
    "\n",
    "def func_numpy(N):\n",
    "    i_array = np.arange(N)\n",
    "    return ((i_array % 3 - 1 ) * i_array).sum()\n",
    "\n",
    "print(func_numpy(N))"
   ]
  },
  {
   "cell_type": "code",
   "execution_count": 64,
   "metadata": {
    "ExecuteTime": {
     "end_time": "2022-02-20T12:08:38.443248Z",
     "start_time": "2022-02-20T12:08:29.788317Z"
    }
   },
   "outputs": [
    {
     "name": "stdout",
     "output_type": "stream",
     "text": [
      "1.06 ms ± 33.6 µs per loop (mean ± std. dev. of 7 runs, 1000 loops each)\n"
     ]
    }
   ],
   "source": [
    "%timeit func_numpy(N)"
   ]
  },
  {
   "cell_type": "markdown",
   "metadata": {},
   "source": [
    "Most operations and NumPy functions work for any number of values, element by element - they are also called universal functions. They are optimized to work with SIMD devices. The following operators and functions are efficiently working with arrays:\n",
    "\n",
    "- arithmetic operators: + - * / // % **\n",
    "- bitwise operators: & | ~ ^ >> <<\n",
    "- comparisons: < <= > >= == !=\n",
    "- math functions: np.sin, np.log, np.exp, ...\n",
    "- special scipy functions: `scipy.special.*`\n",
    "\n",
    "Although some NumPy functions are already provided by Python - e.g. `sum`, `min`, `mean` -ufuncs are much faster:"
   ]
  },
  {
   "cell_type": "code",
   "execution_count": 65,
   "metadata": {
    "ExecuteTime": {
     "end_time": "2022-02-20T12:08:38.473360Z",
     "start_time": "2022-02-20T12:08:38.446221Z"
    }
   },
   "outputs": [],
   "source": [
    "from random import random\n",
    "c = [random() for i in range(N)]"
   ]
  },
  {
   "cell_type": "code",
   "execution_count": 66,
   "metadata": {
    "ExecuteTime": {
     "end_time": "2022-02-20T12:08:42.829140Z",
     "start_time": "2022-02-20T12:08:38.476360Z"
    }
   },
   "outputs": [
    {
     "name": "stdout",
     "output_type": "stream",
     "text": [
      "545 µs ± 93.3 µs per loop (mean ± std. dev. of 7 runs, 1000 loops each)\n"
     ]
    }
   ],
   "source": [
    "# Python builtin function\n",
    "%timeit sum(c)"
   ]
  },
  {
   "cell_type": "code",
   "execution_count": 67,
   "metadata": {
    "ExecuteTime": {
     "end_time": "2022-02-20T12:08:42.845234Z",
     "start_time": "2022-02-20T12:08:42.831144Z"
    }
   },
   "outputs": [],
   "source": [
    "# NumPy vectorized: prepare the NumPy array\n",
    "c_array = np.array(c)"
   ]
  },
  {
   "cell_type": "code",
   "execution_count": 68,
   "metadata": {
    "ExecuteTime": {
     "end_time": "2022-02-20T12:08:48.075480Z",
     "start_time": "2022-02-20T12:08:42.847240Z"
    }
   },
   "outputs": [
    {
     "name": "stdout",
     "output_type": "stream",
     "text": [
      "63.3 µs ± 5.13 µs per loop (mean ± std. dev. of 7 runs, 10000 loops each)\n"
     ]
    }
   ],
   "source": [
    "# NumPy vectorized: use ufunc sum\n",
    "%timeit c_array.sum()"
   ]
  },
  {
   "cell_type": "markdown",
   "metadata": {},
   "source": [
    "### Vectorization exercises"
   ]
  },
  {
   "cell_type": "markdown",
   "metadata": {},
   "source": [
    "#### Adding filtered numbers\n",
    "\n",
    "For a given list of numbers, compute the sum of contained values which are in a specified interval $[a, b]$. "
   ]
  },
  {
   "cell_type": "code",
   "execution_count": 69,
   "metadata": {
    "ExecuteTime": {
     "end_time": "2022-02-20T12:09:11.403181Z",
     "start_time": "2022-02-20T12:08:48.079485Z"
    }
   },
   "outputs": [],
   "source": [
    "n = 100000000\n",
    "numbers = [int(1000 * random()) for _ in range(n)]\n",
    "\n",
    "a, b = 100, 500"
   ]
  },
  {
   "cell_type": "markdown",
   "metadata": {},
   "source": [
    "A direct Python implementatin would be:"
   ]
  },
  {
   "cell_type": "code",
   "execution_count": 70,
   "metadata": {
    "ExecuteTime": {
     "end_time": "2022-02-20T12:10:28.245353Z",
     "start_time": "2022-02-20T12:09:11.406155Z"
    }
   },
   "outputs": [
    {
     "name": "stdout",
     "output_type": "stream",
     "text": [
      "9.67 s ± 1.03 s per loop (mean ± std. dev. of 7 runs, 1 loop each)\n"
     ]
    }
   ],
   "source": [
    "%%timeit\n",
    "s = 0\n",
    "for x in numbers:\n",
    "    if a <= x <= b:\n",
    "        s += x"
   ]
  },
  {
   "cell_type": "markdown",
   "metadata": {},
   "source": [
    "Using comprehension:"
   ]
  },
  {
   "cell_type": "code",
   "execution_count": 71,
   "metadata": {
    "ExecuteTime": {
     "end_time": "2022-02-20T12:11:39.159647Z",
     "start_time": "2022-02-20T12:10:28.247366Z"
    }
   },
   "outputs": [
    {
     "name": "stdout",
     "output_type": "stream",
     "text": [
      "8.9 s ± 633 ms per loop (mean ± std. dev. of 7 runs, 1 loop each)\n"
     ]
    }
   ],
   "source": [
    "%%timeit\n",
    "s = sum(x for x in numbers if a <= x <= b)"
   ]
  },
  {
   "cell_type": "markdown",
   "metadata": {},
   "source": [
    "Python built-in filtering:"
   ]
  },
  {
   "cell_type": "code",
   "execution_count": 72,
   "metadata": {
    "ExecuteTime": {
     "end_time": "2022-02-20T12:13:22.125461Z",
     "start_time": "2022-02-20T12:11:39.162651Z"
    }
   },
   "outputs": [
    {
     "name": "stdout",
     "output_type": "stream",
     "text": [
      "12.8 s ± 366 ms per loop (mean ± std. dev. of 7 runs, 1 loop each)\n"
     ]
    }
   ],
   "source": [
    "%%timeit\n",
    "s = sum(filter(lambda x: a <= x <= b, numbers))"
   ]
  },
  {
   "cell_type": "markdown",
   "metadata": {},
   "source": [
    "Python vectorization - build ndarray vector, then find indices of interest:"
   ]
  },
  {
   "cell_type": "code",
   "execution_count": 73,
   "metadata": {
    "ExecuteTime": {
     "end_time": "2022-02-20T12:13:28.573875Z",
     "start_time": "2022-02-20T12:13:22.128432Z"
    }
   },
   "outputs": [],
   "source": [
    "np_numbers = np.array(numbers)"
   ]
  },
  {
   "cell_type": "code",
   "execution_count": 74,
   "metadata": {
    "ExecuteTime": {
     "end_time": "2022-02-20T12:13:36.199189Z",
     "start_time": "2022-02-20T12:13:28.577832Z"
    }
   },
   "outputs": [
    {
     "name": "stdout",
     "output_type": "stream",
     "text": [
      "942 ms ± 69.6 ms per loop (mean ± std. dev. of 7 runs, 1 loop each)\n"
     ]
    }
   ],
   "source": [
    "%%timeit\n",
    "ind_a = np_numbers >= a\n",
    "ind_b = np_numbers <= b\n",
    "s = np_numbers[np.logical_and(ind_a, ind_b)].sum()"
   ]
  },
  {
   "cell_type": "markdown",
   "metadata": {},
   "source": [
    "#### Counting the number of sign changes"
   ]
  },
  {
   "cell_type": "markdown",
   "metadata": {},
   "source": [
    "For a given vector with positive an negative values, count how many times the values are changing their signs in consecutive positions. It is guaranteed that the vector does not contain 0 values. \n",
    "\n",
    "Example: for input \n",
    "$$\n",
    "v = [-1, 2, 3, -3, 1, -1, 1]\n",
    "$$\n",
    "the 4 sign of the values change at positions (0, 1), (2, 3), (3, 4), (4, 5), (5, 6). The requested answer is 5."
   ]
  },
  {
   "cell_type": "code",
   "execution_count": 75,
   "metadata": {
    "ExecuteTime": {
     "end_time": "2022-02-20T12:13:36.245422Z",
     "start_time": "2022-02-20T12:13:36.203179Z"
    }
   },
   "outputs": [],
   "source": [
    "n = 1000000\n",
    "v = np.random.randint(-10, 10, n)\n",
    "# replace 0 values with random -1 or +1\n",
    "v[v==0] = np.random.randint(0, 2) * 2 - 1 # the initial random values {0, 1} are changed to {0*2-1, 1*2-1} = {-1, 1} \n",
    "assert 0 == (v == 0).sum()"
   ]
  },
  {
   "cell_type": "markdown",
   "metadata": {},
   "source": [
    "The Python-base approach is straightforward:"
   ]
  },
  {
   "cell_type": "code",
   "execution_count": 76,
   "metadata": {
    "ExecuteTime": {
     "end_time": "2022-02-20T12:13:56.319200Z",
     "start_time": "2022-02-20T12:13:36.248392Z"
    }
   },
   "outputs": [
    {
     "name": "stdout",
     "output_type": "stream",
     "text": [
      "2.51 s ± 170 ms per loop (mean ± std. dev. of 7 runs, 1 loop each)\n"
     ]
    }
   ],
   "source": [
    "%%timeit\n",
    "sign_changes = 0\n",
    "for i in range(1, len(v)):\n",
    "    sign_changes += v[i-1] * v[i] < 0"
   ]
  },
  {
   "cell_type": "markdown",
   "metadata": {},
   "source": [
    "The vectorized solution is:"
   ]
  },
  {
   "cell_type": "code",
   "execution_count": 77,
   "metadata": {
    "ExecuteTime": {
     "end_time": "2022-02-20T12:13:58.321233Z",
     "start_time": "2022-02-20T12:13:56.321174Z"
    }
   },
   "outputs": [
    {
     "name": "stdout",
     "output_type": "stream",
     "text": [
      "23.4 ms ± 4.79 ms per loop (mean ± std. dev. of 7 runs, 10 loops each)\n"
     ]
    }
   ],
   "source": [
    "%%timeit\n",
    "# get the signs of the values\n",
    "signs = np.sign(v)\n",
    "# compute the difference between succesive values. Two successive equal signs produce 0, different signs produce -2 or +2\n",
    "first_order_difference = np.diff(signs)\n",
    "# find non zero positions\n",
    "positions_not_0_in_diff = np.where(first_order_difference)[0]\n",
    "# the number of non-zero positions is the requested value\n",
    "sign_changes = len(positions_not_0_in_diff)\n",
    "# sign_changes = len(np.where(np.diff(np.sign(v)))[0])"
   ]
  },
  {
   "cell_type": "markdown",
   "metadata": {},
   "source": [
    "#### Cumulative sum of values in a vector"
   ]
  },
  {
   "cell_type": "markdown",
   "metadata": {},
   "source": [
    "Given a vector v[0..n-1], find the cumulative sum of its values: s=[v[0], v[0]+v[1], v[0]+v[1]+v[2], ..., v[0]+v[1]+...+v[n-1]]"
   ]
  },
  {
   "cell_type": "code",
   "execution_count": 78,
   "metadata": {
    "ExecuteTime": {
     "end_time": "2022-02-20T12:13:58.463254Z",
     "start_time": "2022-02-20T12:13:58.323266Z"
    }
   },
   "outputs": [],
   "source": [
    "n = 10000000\n",
    "v = np.random.rand(n)"
   ]
  },
  {
   "cell_type": "markdown",
   "metadata": {},
   "source": [
    "We will use the obvious relation:\n",
    "$$\n",
    "s[i] = \n",
    "\\begin{cases}\n",
    "v[0] & i =0 \\\\\n",
    "s[i-1] + v[i] & i> 0\n",
    "\\end{cases}\n",
    "$$\n",
    "\n",
    "The unvectorized version is:"
   ]
  },
  {
   "cell_type": "code",
   "execution_count": 79,
   "metadata": {
    "ExecuteTime": {
     "end_time": "2022-02-20T12:14:28.577284Z",
     "start_time": "2022-02-20T12:13:58.465222Z"
    }
   },
   "outputs": [
    {
     "name": "stdout",
     "output_type": "stream",
     "text": [
      "3.69 s ± 54.7 ms per loop (mean ± std. dev. of 7 runs, 1 loop each)\n"
     ]
    }
   ],
   "source": [
    "%%timeit\n",
    "s = np.empty(n)\n",
    "s[0] = v[0]\n",
    "for i in range(1, n):\n",
    "    s[i] = s[i-1] + v[i]"
   ]
  },
  {
   "cell_type": "markdown",
   "metadata": {},
   "source": [
    "For the vectorize version, we mention that NumPy offers a function specifically for this, called `cumsum`. Its documentation is found [here](https://numpy.org/doc/stable/reference/generated/numpy.cumsum.html)."
   ]
  },
  {
   "cell_type": "code",
   "execution_count": 80,
   "metadata": {
    "ExecuteTime": {
     "end_time": "2022-02-20T12:14:32.516843Z",
     "start_time": "2022-02-20T12:14:28.581255Z"
    }
   },
   "outputs": [
    {
     "name": "stdout",
     "output_type": "stream",
     "text": [
      "46.6 ms ± 1.17 ms per loop (mean ± std. dev. of 7 runs, 10 loops each)\n"
     ]
    }
   ],
   "source": [
    "%%timeit\n",
    "s = np.cumsum(v)"
   ]
  },
  {
   "cell_type": "markdown",
   "metadata": {},
   "source": [
    "Another approach is based on the accumulate extension introduced by NumPy for any universal function, as seen [here](https://numpy.org/doc/stable/reference/generated/numpy.ufunc.accumulate.html). The "
   ]
  },
  {
   "cell_type": "code",
   "execution_count": 81,
   "metadata": {
    "ExecuteTime": {
     "end_time": "2022-02-20T12:14:36.551421Z",
     "start_time": "2022-02-20T12:14:32.519833Z"
    }
   },
   "outputs": [
    {
     "name": "stdout",
     "output_type": "stream",
     "text": [
      "47.9 ms ± 2.96 ms per loop (mean ± std. dev. of 7 runs, 10 loops each)\n"
     ]
    }
   ],
   "source": [
    "%%timeit\n",
    "s = np.add.accumulate(v)"
   ]
  },
  {
   "cell_type": "markdown",
   "metadata": {},
   "source": [
    "#### Finding the closest pair of points\n",
    "\n",
    "We have $n$ points in 2D space. Their coordinates are given in vectors **x** and **y**, respectively. Compute the closest pair of points, using Euclidean distance:\n",
    "$$\n",
    "d^2((x_i, y_i), (x_j, y_j)) = (x_i-x_j)^2 + (y_i-y_j)^2\n",
    "$$"
   ]
  },
  {
   "cell_type": "code",
   "execution_count": 82,
   "metadata": {
    "ExecuteTime": {
     "end_time": "2022-02-20T12:14:36.581536Z",
     "start_time": "2022-02-20T12:14:36.565421Z"
    }
   },
   "outputs": [],
   "source": [
    "n = 2000\n",
    "x = np.random.random(size = n)\n",
    "y = np.random.random(size = n)"
   ]
  },
  {
   "cell_type": "code",
   "execution_count": 83,
   "metadata": {
    "ExecuteTime": {
     "end_time": "2022-02-20T12:14:36.597534Z",
     "start_time": "2022-02-20T12:14:36.584535Z"
    }
   },
   "outputs": [],
   "source": [
    "# Version 1: compute the matrix `d` of pairwise distances. d[i, j] will store the square of the distance \n",
    "# between points of coordinates (xi, yi) and (xj, yj), respectively."
   ]
  },
  {
   "cell_type": "code",
   "execution_count": 84,
   "metadata": {
    "ExecuteTime": {
     "end_time": "2022-02-20T12:15:01.990469Z",
     "start_time": "2022-02-20T12:14:36.600539Z"
    }
   },
   "outputs": [
    {
     "name": "stdout",
     "output_type": "stream",
     "text": [
      "3.16 s ± 72.8 ms per loop (mean ± std. dev. of 7 runs, 1 loop each)\n"
     ]
    }
   ],
   "source": [
    "%%timeit\n",
    "\n",
    "d = np.empty((n, n))\n",
    "for i in range(n):\n",
    "    for j in range(i, n):\n",
    "        d[i, j] = d[j, i] = (x[i] - x[j])**2 + (y[i]-y[j])**2"
   ]
  },
  {
   "cell_type": "code",
   "execution_count": 85,
   "metadata": {
    "ExecuteTime": {
     "end_time": "2022-02-20T12:15:02.006440Z",
     "start_time": "2022-02-20T12:15:01.994448Z"
    }
   },
   "outputs": [],
   "source": [
    "# compute the indices i and j, i != j, for which the distance is minimized\n",
    "\n",
    "def closest_pair(mat):\n",
    "    n = mat.shape[0]\n",
    "    # distance between a point and itself is always 0; we will exclude these cases by setting infinity on the main diagonal of distances\n",
    "    i = np.arange(n)\n",
    "    mat[i, i] = np.inf\n",
    "    pos_flatten = np.argmin(mat)\n",
    "    return pos_flatten // n, pos_flatten % n\n",
    "    "
   ]
  },
  {
   "cell_type": "code",
   "execution_count": 86,
   "metadata": {
    "ExecuteTime": {
     "end_time": "2022-02-20T12:15:02.021477Z",
     "start_time": "2022-02-20T12:15:02.009441Z"
    }
   },
   "outputs": [],
   "source": [
    "# Version 2: vectorized computation and broadcasting"
   ]
  },
  {
   "cell_type": "code",
   "execution_count": 87,
   "metadata": {
    "ExecuteTime": {
     "end_time": "2022-02-20T12:15:07.661761Z",
     "start_time": "2022-02-20T12:15:02.023439Z"
    }
   },
   "outputs": [
    {
     "name": "stdout",
     "output_type": "stream",
     "text": [
      "70.1 ms ± 9.52 ms per loop (mean ± std. dev. of 7 runs, 10 loops each)\n"
     ]
    }
   ],
   "source": [
    "%%timeit\n",
    "\n",
    "dx = (x[:, np.newaxis] - x[np.newaxis, :]) ** 2\n",
    "dy = (y[:, np.newaxis] - y[np.newaxis, :]) ** 2\n",
    "\n",
    "d = dx + dy"
   ]
  },
  {
   "cell_type": "markdown",
   "metadata": {},
   "source": [
    "### Supplementary bibliography \n",
    "\n",
    "[https://speakerdeck.com/jakevdp/losing-your-loops-fast-numerical-computing-with-numpy-pycon-2015](https://speakerdeck.com/jakevdp/losing-your-loops-fast-numerical-computing-with-numpy-pycon-2015)\n",
    "\n",
    "[Losing your Loops Fast Numerical Computing with NumPy](https://www.youtube.com/watch?v=EEUXKG97YRw)"
   ]
  }
 ],
 "metadata": {
  "kernelspec": {
   "display_name": "Python 3 (ipykernel)",
   "language": "python",
   "name": "python3"
  },
  "language_info": {
   "codemirror_mode": {
    "name": "ipython",
    "version": 3
   },
   "file_extension": ".py",
   "mimetype": "text/x-python",
   "name": "python",
   "nbconvert_exporter": "python",
   "pygments_lexer": "ipython3",
   "version": "3.9.7"
  },
  "notify_time": "5",
  "toc": {
   "base_numbering": 1,
   "nav_menu": {},
   "number_sections": true,
   "sideBar": true,
   "skip_h1_title": false,
   "title_cell": "Table of Contents",
   "title_sidebar": "Contents",
   "toc_cell": false,
   "toc_position": {
    "height": "calc(100% - 180px)",
    "left": "10px",
    "top": "150px",
    "width": "267.487px"
   },
   "toc_section_display": true,
   "toc_window_display": true
  },
  "varInspector": {
   "cols": {
    "lenName": 16,
    "lenType": 16,
    "lenVar": 40
   },
   "kernels_config": {
    "python": {
     "delete_cmd_postfix": "",
     "delete_cmd_prefix": "del ",
     "library": "var_list.py",
     "varRefreshCmd": "print(var_dic_list())"
    },
    "r": {
     "delete_cmd_postfix": ") ",
     "delete_cmd_prefix": "rm(",
     "library": "var_list.r",
     "varRefreshCmd": "cat(var_dic_list()) "
    }
   },
   "types_to_exclude": [
    "module",
    "function",
    "builtin_function_or_method",
    "instance",
    "_Feature"
   ],
   "window_display": false
  }
 },
 "nbformat": 4,
 "nbformat_minor": 2
}
