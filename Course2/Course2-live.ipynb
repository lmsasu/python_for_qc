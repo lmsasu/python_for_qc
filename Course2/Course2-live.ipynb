{
 "cells": [
  {
   "cell_type": "markdown",
   "metadata": {},
   "source": [
    "# Course 2: Working with collections. User defined functions. Modules, packages. Working with files. Exception handling. The NumPy package (1)"
   ]
  },
  {
   "cell_type": "markdown",
   "metadata": {},
   "source": [
    "## Iterating collections"
   ]
  },
  {
   "cell_type": "markdown",
   "metadata": {},
   "source": [
    "The `for` is a handy method to iterate over a collection - or an *iterable* object. A list, a tuple, a dictionary are are iterable containers. All these objects have an `__iter()__` method defined inside them, which allow you to get an iterator, which in turn is used to sweep the collection element by element:"
   ]
  },
  {
   "cell_type": "code",
   "execution_count": null,
   "metadata": {
    "ExecuteTime": {
     "end_time": "2022-02-17T11:51:53.283169Z",
     "start_time": "2022-02-17T11:51:53.268148Z"
    }
   },
   "outputs": [],
   "source": [
    "my_list = [1, 2, 3]\n",
    "dir(my_list)"
   ]
  },
  {
   "cell_type": "code",
   "execution_count": null,
   "metadata": {
    "ExecuteTime": {
     "end_time": "2022-02-17T11:51:53.299148Z",
     "start_time": "2022-02-17T11:51:53.285147Z"
    }
   },
   "outputs": [],
   "source": [
    "# get an iterator\n",
    "..."
   ]
  },
  {
   "cell_type": "markdown",
   "metadata": {},
   "source": [
    " Stepping to the next element is done by calling function `next()`:"
   ]
  },
  {
   "cell_type": "code",
   "execution_count": null,
   "metadata": {
    "ExecuteTime": {
     "end_time": "2022-02-17T11:51:53.315147Z",
     "start_time": "2022-02-17T11:51:53.301147Z"
    }
   },
   "outputs": [],
   "source": [
    "..."
   ]
  },
  {
   "cell_type": "markdown",
   "metadata": {},
   "source": [
    "Stepping beyond the last element raises a `StopIteration` exception:"
   ]
  },
  {
   "cell_type": "code",
   "execution_count": null,
   "metadata": {
    "ExecuteTime": {
     "end_time": "2022-02-17T11:51:53.330146Z",
     "start_time": "2022-02-17T11:51:53.317179Z"
    }
   },
   "outputs": [],
   "source": [
    "# print(next(my_iterator))\n",
    "\n",
    "# ---------------------------------------------------------------------------\n",
    "# StopIteration                             Traceback (most recent call last)\n",
    "# ~\\AppData\\Local\\Temp/ipykernel_19520/1188975057.py in <module>\n",
    "# ----> 1 print(next(my_iterator))\n",
    "\n",
    "# StopIteration:"
   ]
  },
  {
   "cell_type": "markdown",
   "metadata": {},
   "source": [
    "The correct approach to iterate over a collection is:"
   ]
  },
  {
   "cell_type": "code",
   "execution_count": null,
   "metadata": {
    "ExecuteTime": {
     "end_time": "2022-02-17T11:51:53.345147Z",
     "start_time": "2022-02-17T11:51:53.331186Z"
    }
   },
   "outputs": [],
   "source": [
    "my_iterator = iter(my_list)\n",
    " \n",
    "while True:\n",
    "    try:\n",
    "        # Iterate by calling next\n",
    "        item = next(my_iterator)\n",
    "        print(item)\n",
    "    except StopIteration:\n",
    "        # exception appears when there are no more elements\n",
    "        break"
   ]
  },
  {
   "cell_type": "markdown",
   "metadata": {},
   "source": [
    "What are the benefits of iterators? iterators do not compute the items when they are generated, but just when it reaches the current item (lazy evaluation). As a result of this, you can save a lot of memory and CPU cycles by avoiding precomputing of the whole collection. This trick is used in `range` function, which does not generate the whole collection, unless you force this:"
   ]
  },
  {
   "cell_type": "code",
   "execution_count": null,
   "metadata": {
    "ExecuteTime": {
     "end_time": "2022-02-17T11:51:53.360147Z",
     "start_time": "2022-02-17T11:51:53.346147Z"
    }
   },
   "outputs": [],
   "source": [
    "my_range = range(100)\n",
    "print(my_range)\n",
    "# forcing generation of all the elemnets in the range:\n",
    "print(list(my_range))"
   ]
  },
  {
   "cell_type": "markdown",
   "metadata": {},
   "source": [
    "Internally, a `for` cycle uses an interator over the collection."
   ]
  },
  {
   "cell_type": "markdown",
   "metadata": {},
   "source": [
    "## Collection comprehension"
   ]
  },
  {
   "cell_type": "markdown",
   "metadata": {},
   "source": [
    "Suppose we have a list of numbers and we want to produce another list with squared values. It might be done as:"
   ]
  },
  {
   "cell_type": "code",
   "execution_count": null,
   "metadata": {
    "ExecuteTime": {
     "end_time": "2022-02-17T11:51:53.376147Z",
     "start_time": "2022-02-17T11:51:53.361149Z"
    }
   },
   "outputs": [],
   "source": [
    "numbers = [1, 3, 6,  21, 22, 32, 33]\n",
    "squared_numbers = []\n",
    "...\n",
    "    \n",
    "print(squared_numbers)"
   ]
  },
  {
   "cell_type": "markdown",
   "metadata": {},
   "source": [
    "However, there is a cleaner and mnost often a faster approach. \n",
    "\n",
    "Starting from a collection - most often: a list - one can create another list, using *list comprehension*. This is mainly a cycle over the elements of the initial collection:"
   ]
  },
  {
   "cell_type": "code",
   "execution_count": null,
   "metadata": {
    "ExecuteTime": {
     "end_time": "2022-02-17T11:51:53.391151Z",
     "start_time": "2022-02-17T11:51:53.377147Z"
    }
   },
   "outputs": [],
   "source": [
    "squared_numbers = [...]\n",
    "print(squared_numbers)"
   ]
  },
  {
   "cell_type": "markdown",
   "metadata": {},
   "source": [
    "Optionally, you can add an inline `if` statement:"
   ]
  },
  {
   "cell_type": "code",
   "execution_count": null,
   "metadata": {
    "ExecuteTime": {
     "end_time": "2022-02-17T11:51:53.407147Z",
     "start_time": "2022-02-17T11:51:53.393151Z"
    }
   },
   "outputs": [],
   "source": [
    "squares_of_even_numbers = [...]\n",
    "# note the position of if: for filtering, it is at the end of comprehension expression\n",
    "print(squares_of_even_numbers)"
   ]
  },
  {
   "cell_type": "markdown",
   "metadata": {},
   "source": [
    "... and you can even add an `else` clause:"
   ]
  },
  {
   "cell_type": "code",
   "execution_count": null,
   "metadata": {
    "ExecuteTime": {
     "end_time": "2022-02-17T11:51:53.423149Z",
     "start_time": "2022-02-17T11:51:53.410146Z"
    }
   },
   "outputs": [],
   "source": [
    "squares_or_cubes = [...]\n",
    "# inline if-else, see Course 1\n",
    "print(squares_or_cubes)"
   ]
  },
  {
   "cell_type": "markdown",
   "metadata": {},
   "source": [
    "Exercise: if a list consists of other lists, how can you get the flattened list? For example, starting from a1 = [[1, 2], [3, 4, 5], [10]] we want to get its flattened version a2 = [1, 2, 3, 4, 5, 10]"
   ]
  },
  {
   "cell_type": "code",
   "execution_count": null,
   "metadata": {
    "ExecuteTime": {
     "end_time": "2022-02-17T11:51:53.439149Z",
     "start_time": "2022-02-17T11:51:53.425147Z"
    }
   },
   "outputs": [],
   "source": [
    "a1 = [[1, 2], [3, 4, 5], [10]]\n",
    "a2 = [...]\n",
    "print(a2)"
   ]
  },
  {
   "cell_type": "markdown",
   "metadata": {},
   "source": [
    "Comprehension is available for other types of collections as well: for example, we can start from a list and create a dictionary:"
   ]
  },
  {
   "cell_type": "code",
   "execution_count": null,
   "metadata": {
    "ExecuteTime": {
     "end_time": "2022-02-17T11:51:53.454147Z",
     "start_time": "2022-02-17T11:51:53.440148Z"
    }
   },
   "outputs": [],
   "source": [
    "numbers = [1, 3, 6,  21, 22, 32, 33]\n",
    "dict_numbers_and_squares = {...}\n",
    "print(dict_numbers_and_squares)"
   ]
  },
  {
   "cell_type": "markdown",
   "metadata": {},
   "source": [
    "... or lists of tuples:"
   ]
  },
  {
   "cell_type": "code",
   "execution_count": null,
   "metadata": {
    "ExecuteTime": {
     "end_time": "2022-02-17T11:51:53.469148Z",
     "start_time": "2022-02-17T11:51:53.456151Z"
    }
   },
   "outputs": [],
   "source": [
    "# cartesian product\n",
    "colours = [ \"red\", \"green\", \"yellow\", \"blue\" ]\n",
    "things = [ \"house\", \"car\", \"tree\" ]\n",
    "coloured_things = [...]\n",
    "print(coloured_things)\n",
    "\n",
    "# perform postprocessing checking\n",
    "assert ..."
   ]
  },
  {
   "cell_type": "markdown",
   "metadata": {},
   "source": [
    "Mai jos sunt cateva exemple de utilizare de comprehension peste colectii."
   ]
  },
  {
   "cell_type": "code",
   "execution_count": null,
   "metadata": {
    "ExecuteTime": {
     "end_time": "2022-02-17T11:51:53.484146Z",
     "start_time": "2022-02-17T11:51:53.470153Z"
    }
   },
   "outputs": [],
   "source": [
    "# Conversion from a list of Celsius Temperature to Fahrenheit values: \n",
    "# Fahrenheit = 1.8 * Celsius + 32\n",
    "celsius_degrees = [-20, -10, 0, 5, 23, 35]\n",
    "fahrenheit_degrees = [...]\n",
    "print(fahrenheit_degrees)"
   ]
  },
  {
   "cell_type": "code",
   "execution_count": null,
   "metadata": {
    "ExecuteTime": {
     "end_time": "2022-02-17T11:51:53.500148Z",
     "start_time": "2022-02-17T11:51:53.486147Z"
    }
   },
   "outputs": [],
   "source": [
    "# Sum of squares of number from 1 to 20\n",
    "print(sum([x**2 for x in range(1, 21)]))  # note the range 2nd param"
   ]
  },
  {
   "cell_type": "code",
   "execution_count": null,
   "metadata": {
    "ExecuteTime": {
     "end_time": "2022-02-17T11:51:53.530229Z",
     "start_time": "2022-02-17T11:51:53.502147Z"
    }
   },
   "outputs": [],
   "source": [
    "# We want to filter out stop-words from a list:\n",
    "stop_words = [\"a\", \"about\", \"above\", \"above\", \"across\", \"after\", \"afterwards\", \"again\", \"against\", \"all\", \"almost\", \"alone\", \"along\", \"already\", \"also\",\"although\",\"always\",\"am\",\"among\", \"amongst\", \"amoungst\", \"amount\",  \"an\", \"and\", \"another\", \"any\",\"anyhow\",\"anyone\",\"anything\",\"anyway\", \"anywhere\", \"are\", \"around\", \"as\",  \"at\", \"back\",\"be\",\"became\", \"because\",\"become\",\"becomes\", \"becoming\", \"been\", \"before\", \"beforehand\", \"behind\", \"being\", \"below\", \"beside\", \"besides\", \"between\", \"beyond\", \"bill\", \"both\", \"bottom\",\"but\", \"by\", \"call\", \"can\", \"cannot\", \"cant\", \"co\", \"con\", \"could\", \"couldnt\", \"cry\", \"de\", \"describe\", \"detail\", \"do\", \"done\", \"down\", \"due\", \"during\", \"each\", \"eg\", \"eight\", \"either\", \"eleven\",\"else\", \"elsewhere\", \"empty\", \"enough\", \"etc\", \"even\", \"ever\", \"every\", \"everyone\", \"everything\", \"everywhere\", \"except\", \"few\", \"fifteen\", \"fify\", \"fill\", \"find\", \"fire\", \"first\", \"five\", \"for\", \"former\", \"formerly\", \"forty\", \"found\", \"four\", \"from\", \"front\", \"full\", \"further\", \"get\", \"give\", \"go\", \"had\", \"has\", \"hasnt\", \"have\", \"he\", \"hence\", \"her\", \"here\", \"hereafter\", \"hereby\", \"herein\", \"hereupon\", \"hers\", \"herself\", \"him\", \"himself\", \"his\", \"how\", \"however\", \"hundred\", \"ie\", \"if\", \"in\", \"inc\", \"indeed\", \"interest\", \"into\", \"is\", \"it\", \"its\", \"itself\", \"keep\", \"last\", \"latter\", \"latterly\", \"least\", \"less\", \"ltd\", \"made\", \"many\", \"may\", \"me\", \"meanwhile\", \"might\", \"mill\", \"mine\", \"more\", \"moreover\", \"most\", \"mostly\", \"move\", \"much\", \"must\", \"my\", \"myself\", \"name\", \"namely\", \"neither\", \"never\", \"nevertheless\", \"next\", \"nine\", \"no\", \"nobody\", \"none\", \"noone\", \"nor\", \"not\", \"nothing\", \"now\", \"nowhere\", \"of\", \"off\", \"often\", \"on\", \"once\", \"one\", \"only\", \"onto\", \"or\", \"other\", \"others\", \"otherwise\", \"our\", \"ours\", \"ourselves\", \"out\", \"over\", \"own\",\"part\", \"per\", \"perhaps\", \"please\", \"put\", \"rather\", \"re\", \"same\", \"see\", \"seem\", \"seemed\", \"seeming\", \"seems\", \"serious\", \"several\", \"she\", \"should\", \"show\", \"side\", \"since\", \"sincere\", \"six\", \"sixty\", \"so\", \"some\", \"somehow\", \"someone\", \"something\", \"sometime\", \"sometimes\", \"somewhere\", \"still\", \"such\", \"system\", \"take\", \"ten\", \"than\", \"that\", \"the\", \"their\", \"them\", \"themselves\", \"then\", \"thence\", \"there\", \"thereafter\", \"thereby\", \"therefore\", \"therein\", \"thereupon\", \"these\", \"they\", \"thickv\", \"thin\", \"third\", \"this\", \"those\", \"though\", \"three\", \"through\", \"throughout\", \"thru\", \"thus\", \"to\", \"together\", \"too\", \"top\", \"toward\", \"towards\", \"twelve\", \"twenty\", \"two\", \"un\", \"under\", \"until\", \"up\", \"upon\", \"us\", \"very\", \"via\", \"was\", \"we\", \"well\", \"were\", \"what\", \"whatever\", \"when\", \"whence\", \"whenever\", \"where\", \"whereafter\", \"whereas\", \"whereby\", \"wherein\", \"whereupon\", \"wherever\", \"whether\", \"which\", \"while\", \"whither\", \"who\", \"whoever\", \"whole\", \"whom\", \"whose\", \"why\", \"will\", \"with\", \"within\", \"without\", \"would\", \"yet\", \"you\", \"your\", \"yours\", \"yourself\", \"yourselves\", \"the\"]\n",
    "paragraph_list = ['Stopword','filtering','is','a','common','step','in','preprocessing','text','for','various','purposes','This','is','a','list','of','several','different','stopword','lists','extracted','from','various','search','engines','libraries','and','articles','There', 'is','a','surprising','number','of','different','lists']\n",
    "print('Initial:\\n',paragraph_list)\n",
    "filtered = [...]\n",
    "print('\\nAfter filtering:\\n', filtered)        "
   ]
  },
  {
   "cell_type": "markdown",
   "metadata": {},
   "source": [
    "### Quick test on collection comprehension speedup"
   ]
  },
  {
   "cell_type": "code",
   "execution_count": null,
   "metadata": {
    "ExecuteTime": {
     "end_time": "2022-02-17T11:51:53.546147Z",
     "start_time": "2022-02-17T11:51:53.532147Z"
    }
   },
   "outputs": [],
   "source": [
    "N = 1000000\n",
    "\n",
    "my_list = range(N)\n"
   ]
  },
  {
   "cell_type": "code",
   "execution_count": null,
   "metadata": {
    "ExecuteTime": {
     "end_time": "2022-02-17T11:51:56.533489Z",
     "start_time": "2022-02-17T11:51:53.547148Z"
    }
   },
   "outputs": [],
   "source": [
    "%%timeit\n",
    "\n",
    "power_list = []\n",
    "for item in my_list:\n",
    "    ..."
   ]
  },
  {
   "cell_type": "code",
   "execution_count": null,
   "metadata": {
    "ExecuteTime": {
     "end_time": "2022-02-17T11:51:59.019055Z",
     "start_time": "2022-02-17T11:51:56.535512Z"
    }
   },
   "outputs": [],
   "source": [
    "%%timeit\n",
    "power_list = [...]"
   ]
  },
  {
   "cell_type": "markdown",
   "metadata": {},
   "source": [
    "## Functions"
   ]
  },
  {
   "cell_type": "markdown",
   "metadata": {},
   "source": [
    "There are three types of functions:\n",
    "* Python built-in or library functions, *e.g.* `len()`, `print()`, `sum()`, `np.sum()`\n",
    "* User defined functions\n",
    "* Lambda functions\n",
    "\n",
    "A function is defined by using the keyword `def`. We must indent the block of statements composing the function. A function can return nothing, *i.e.* no `return` is written in its block, and in this case it is considered it returns `None`. Alternatively, it can return any number of values, stored as lists, tuples, dicts, etc. "
   ]
  },
  {
   "cell_type": "markdown",
   "metadata": {},
   "source": [
    "### User defined functions"
   ]
  },
  {
   "cell_type": "markdown",
   "metadata": {},
   "source": [
    "We jump directly to some examples of user defined functions."
   ]
  },
  {
   "cell_type": "code",
   "execution_count": null,
   "metadata": {
    "ExecuteTime": {
     "end_time": "2022-02-17T11:51:59.034956Z",
     "start_time": "2022-02-17T11:51:59.020011Z"
    }
   },
   "outputs": [],
   "source": [
    "def hello():\n",
    "    print('Hi there')\n",
    "    \n",
    "hello()"
   ]
  },
  {
   "cell_type": "code",
   "execution_count": null,
   "metadata": {
    "ExecuteTime": {
     "end_time": "2022-02-17T11:51:59.049955Z",
     "start_time": "2022-02-17T11:51:59.035955Z"
    }
   },
   "outputs": [],
   "source": [
    "def hello_with_name(name):\n",
    "    \"\"\"\n",
    "    The function takes an argument and shows the message: Hello followed by the argument's value.\n",
    "    It returns the given argument, uppercase\n",
    "    :param name: the name to greet\n",
    "    :return: uppercase of :param name:\n",
    "    \"\"\"\n",
    "    ...\n",
    "\n",
    "name = 'David'\n",
    "uppercase_name = hello_with_name(name)\n",
    "print(uppercase_name)"
   ]
  },
  {
   "cell_type": "markdown",
   "metadata": {},
   "source": [
    "The docstring - 'documentation string' allows for documenting the function. The docstring recommendations are in [pep-0257](https://www.python.org/dev/peps/pep-0257/)."
   ]
  },
  {
   "cell_type": "code",
   "execution_count": null,
   "metadata": {
    "ExecuteTime": {
     "end_time": "2022-02-17T12:15:20.092798Z",
     "start_time": "2022-02-17T12:15:19.887811Z"
    }
   },
   "outputs": [],
   "source": [
    "help(hello_with_name)\n",
    "print(hello_with_name.__doc__)"
   ]
  },
  {
   "cell_type": "markdown",
   "metadata": {},
   "source": [
    "Styles for writing docstrings:\n",
    "\n",
    "```\n",
    "\"\"\"\n",
    "This is a reST style.\n",
    "\n",
    ":param param1: this is a first param\n",
    ":param param2: this is a second param\n",
    ":returns: this is a description of what is returned\n",
    ":raises keyError: raises an exception\n",
    "\"\"\"\n",
    "```\n",
    "\n",
    "```\n",
    "\"\"\"\n",
    "This is a javadoc style.\n",
    "\n",
    "@param param1: this is a first param\n",
    "@param param2: this is a second param\n",
    "@return: this is a description of what is returned\n",
    "@raise keyError: raises an exception\n",
    "\"\"\"\n",
    "```\n",
    "\n",
    "```\n",
    "\"\"\"\n",
    "This is an example of Google style.\n",
    "\n",
    "Args:\n",
    "    param1: This is the first param.\n",
    "    param2: This is a second param.\n",
    "\n",
    "Returns:\n",
    "    This is a description of what is returned.\n",
    "\n",
    "Raises:\n",
    "    KeyError: Raises an exception.\n",
    "\"\"\"\n",
    "```\n",
    "\n",
    "```\n",
    "\"\"\"\n",
    "My numpydoc description of a kind\n",
    "of very exhautive numpydoc format docstring.\n",
    "\n",
    "Parameters\n",
    "----------\n",
    "first : array_like\n",
    "    the 1st param name `first`\n",
    "second :\n",
    "    the 2nd param\n",
    "third : {'value', 'other'}, optional\n",
    "    the 3rd param, by default 'value'\n",
    "\n",
    "Returns\n",
    "-------\n",
    "string\n",
    "    a value in a string\n",
    "\n",
    "Raises\n",
    "------\n",
    "KeyError\n",
    "    when a key error\n",
    "OtherError\n",
    "    when an other error\n",
    "\"\"\"\n",
    "```"
   ]
  },
  {
   "cell_type": "code",
   "execution_count": null,
   "metadata": {
    "ExecuteTime": {
     "end_time": "2022-02-17T11:51:59.080955Z",
     "start_time": "2022-02-17T11:51:59.067957Z"
    }
   },
   "outputs": [],
   "source": [
    "# An example of function returning multiple results at once\n",
    "# The result is a tuple with two values\n",
    "\n",
    "def min_max(a, b):\n",
    "    \"\"\"\n",
    "    Computes the min and max of two values\n",
    "    :param a: the former parameter, numerical type\n",
    "    :param b: the latter paramater, numerical type\n",
    "    :return: a tuple with min and max of :param a: and :param b:, in this order\n",
    "    \"\"\"\n",
    "    if a<b:\n",
    "        return a, b\n",
    "    else:\n",
    "        return b, a\n",
    "    \n",
    "x, y = 20, 10\n",
    "min_2, max_2 = min_max(x, y)\n",
    "print('Minimum value:', min_2, '; maximum value:', max_2)"
   ]
  },
  {
   "cell_type": "code",
   "execution_count": null,
   "metadata": {
    "ExecuteTime": {
     "end_time": "2022-02-17T11:51:59.096955Z",
     "start_time": "2022-02-17T11:51:59.082965Z"
    }
   },
   "outputs": [],
   "source": [
    "# you can handle the params by specifying their name and value\n",
    "min_max(a=5, b=14)"
   ]
  },
  {
   "cell_type": "code",
   "execution_count": null,
   "metadata": {
    "ExecuteTime": {
     "end_time": "2022-02-17T11:51:59.111957Z",
     "start_time": "2022-02-17T11:51:59.097957Z"
    }
   },
   "outputs": [],
   "source": [
    "# you may swap the order\n",
    "min_max(b=3, a=20)"
   ]
  },
  {
   "cell_type": "markdown",
   "metadata": {},
   "source": [
    "We can specify params with default values, at the end of list of function's params"
   ]
  },
  {
   "cell_type": "code",
   "execution_count": null,
   "metadata": {
    "ExecuteTime": {
     "end_time": "2022-02-17T11:51:59.126955Z",
     "start_time": "2022-02-17T11:51:59.112956Z"
    }
   },
   "outputs": [],
   "source": [
    "def greet(name, msg = \"Good morning!\"):\n",
    "   \"\"\"\n",
    "   This function greets to the person with the provided message.\n",
    "\n",
    "   If message is not provided, it defaults to \"Good morning!\"\n",
    "   :param name: Name of the guy to be greeted\n",
    "   :param msg: a message shown as greeting. It defaults to \"Good morning\"\n",
    "   \"\"\"\n",
    "\n",
    "   print(\"Hello\",name + ', ' + msg)\n",
    "\n",
    "greet(\"Kate\")\n",
    "greet(\"Bruce\",\"How do you do?\")\n",
    "# equivalent: greet(name=\"Bruce\",msg=\"How do you do?\")"
   ]
  },
  {
   "cell_type": "markdown",
   "metadata": {},
   "source": [
    "We can have a parameter with a variable number of values. This type of arg is written with a leading `*` followed by its name, e.g. `*args`."
   ]
  },
  {
   "cell_type": "code",
   "execution_count": null,
   "metadata": {
    "ExecuteTime": {
     "end_time": "2022-02-17T11:51:59.141956Z",
     "start_time": "2022-02-17T11:51:59.130956Z"
    }
   },
   "outputs": [],
   "source": [
    "# Function with variable number of values\n",
    "def greet(*names, msg = \"Good morning!\"):\n",
    "    ...\n",
    "        \n",
    "greet('Dan', 'John', 'Mary')      \n",
    "greet('Dan', 'John', 'Mary', msg='How do you do?')"
   ]
  },
  {
   "cell_type": "markdown",
   "metadata": {},
   "source": [
    "One can define functions which manipulate a variable number of params passed as param_name=param_value. The traditional name is `kwargs` (keywords arguments), and its name is prepended with `**`:"
   ]
  },
  {
   "cell_type": "code",
   "execution_count": null,
   "metadata": {
    "ExecuteTime": {
     "end_time": "2022-02-17T11:51:59.157956Z",
     "start_time": "2022-02-17T11:51:59.142956Z"
    }
   },
   "outputs": [],
   "source": [
    "...\n",
    "    \n",
    "demo_kwargs(fruits='apples', quantity='3', measurement_unit='kg')"
   ]
  },
  {
   "cell_type": "markdown",
   "metadata": {},
   "source": [
    "By looking at kwargs above, we realize it is a dictionary under the hood:"
   ]
  },
  {
   "cell_type": "code",
   "execution_count": null,
   "metadata": {
    "ExecuteTime": {
     "end_time": "2022-02-17T11:51:59.172959Z",
     "start_time": "2022-02-17T11:51:59.158958Z"
    }
   },
   "outputs": [],
   "source": [
    "def demo_kwargs_iter(**kwargs):\n",
    "    for key, value in kwargs.items():\n",
    "        print(key, value)\n",
    "        \n",
    "demo_kwargs_iter(fruits='apples', quantity='3', measurement_unit='kg')"
   ]
  },
  {
   "cell_type": "markdown",
   "metadata": {},
   "source": [
    "Using `**` one can unpack a dictionary:"
   ]
  },
  {
   "cell_type": "code",
   "execution_count": null,
   "metadata": {
    "ExecuteTime": {
     "end_time": "2022-02-17T11:51:59.187957Z",
     "start_time": "2022-02-17T11:51:59.174961Z"
    }
   },
   "outputs": [],
   "source": [
    "dictionary_arguments = {'fruits':'apples', 'quantity':'3', 'measurement_unit':'kg'}\n",
    "demo_kwargs(**dictionary_arguments)"
   ]
  },
  {
   "cell_type": "markdown",
   "metadata": {},
   "source": [
    "The params are specified with a specific ordering:\n",
    "1. parameters given by their position\n",
    "1. `*args`\n",
    "1. parameters with default values\n",
    "1. `**kwargs`\n",
    "\n",
    "```python\n",
    "def example2(arg_1, arg_2, *args, param_3=\"shark\", param_4=\"blobfish\", **kwargs):\n",
    "```"
   ]
  },
  {
   "cell_type": "markdown",
   "metadata": {},
   "source": [
    "### Lambda functions"
   ]
  },
  {
   "cell_type": "markdown",
   "metadata": {},
   "source": [
    "You may use lambda functions (aka anonymous functions), consisting of a an expression, when a separate function definition would be not reused. A lambda function can take any number of arguments and returns the result based on simple computations. Lambda functions should work only with the passed arguments. The `return` keyword is omitted, the computed expression is the returned result. "
   ]
  },
  {
   "cell_type": "code",
   "execution_count": null,
   "metadata": {
    "ExecuteTime": {
     "end_time": "2022-02-17T11:51:59.203959Z",
     "start_time": "2022-02-17T11:51:59.189958Z"
    }
   },
   "outputs": [],
   "source": [
    "sum_as_lambda = ...\n",
    "print(sum_as_lambda(3, 4))"
   ]
  },
  {
   "cell_type": "code",
   "execution_count": null,
   "metadata": {
    "ExecuteTime": {
     "end_time": "2022-02-17T11:51:59.218955Z",
     "start_time": "2022-02-17T11:51:59.205957Z"
    }
   },
   "outputs": [],
   "source": [
    "# lambda function for value filtering\n",
    "list_30 = list(range(30))\n",
    "filtered = list(filter(lambda x: x%3==0, list_30))\n",
    "print(filtered)"
   ]
  },
  {
   "cell_type": "code",
   "execution_count": null,
   "metadata": {
    "ExecuteTime": {
     "end_time": "2022-02-17T11:51:59.234958Z",
     "start_time": "2022-02-17T11:51:59.219966Z"
    }
   },
   "outputs": [],
   "source": [
    "# lambda function for sorting:\n",
    "sorted([-1, -2, -3, 2, 3, 4, -5, 6, 7, 8, 9], key=...)"
   ]
  },
  {
   "cell_type": "markdown",
   "metadata": {},
   "source": [
    "### Callback functions"
   ]
  },
  {
   "cell_type": "markdown",
   "metadata": {},
   "source": [
    "In Python, a function's name is a pointer to that function:"
   ]
  },
  {
   "cell_type": "code",
   "execution_count": null,
   "metadata": {
    "ExecuteTime": {
     "end_time": "2022-02-17T11:51:59.250973Z",
     "start_time": "2022-02-17T11:51:59.236956Z"
    }
   },
   "outputs": [],
   "source": [
    "def sum_2(x, y):\n",
    "    return x+y\n",
    "\n",
    "def dif_2(x, y):\n",
    "    return x - y\n",
    "\n",
    "# print functions, not results of function calls\n",
    "print(sum_2)\n",
    "print(dif_2)"
   ]
  },
  {
   "cell_type": "markdown",
   "metadata": {},
   "source": [
    "We can pass a function by its name as parameters to another functions:"
   ]
  },
  {
   "cell_type": "code",
   "execution_count": null,
   "metadata": {
    "ExecuteTime": {
     "end_time": "2022-02-17T11:51:59.266993Z",
     "start_time": "2022-02-17T11:51:59.252956Z"
    }
   },
   "outputs": [],
   "source": [
    "def complex_operation(x, y, to_be_called):\n",
    "    ...\n",
    "\n",
    "print(complex_operation(2, 3, sum_2))\n",
    "print(complex_operation(2, 3, dif_2))"
   ]
  },
  {
   "cell_type": "markdown",
   "metadata": {},
   "source": [
    "### Generators"
   ]
  },
  {
   "cell_type": "markdown",
   "metadata": {},
   "source": [
    "Suppose you want to impleemnt a Python function which returns a collection of elements. You may proceeed in two ways:\n",
    "1. Create the collection and return it as such\n",
    "2. Give access to each element of it, one by one\n",
    "\n",
    "The first approach ie \"eager loading\", and may consume a lot of memory. If we stop from iterating its elements after the 10th item, we wasted time and memory to build and store it. \n",
    "\n",
    "The second approach favurs \"lazy loading\": an item of the collection is issued only when it is requested.\n",
    "\n",
    "The second point is implemented by using generator functions, which benefit from `yield` statement: "
   ]
  },
  {
   "cell_type": "code",
   "execution_count": null,
   "metadata": {
    "ExecuteTime": {
     "end_time": "2022-02-17T11:51:59.282955Z",
     "start_time": "2022-02-17T11:51:59.268956Z"
    }
   },
   "outputs": [],
   "source": [
    "def lazy_generator():\n",
    "    ..."
   ]
  },
  {
   "cell_type": "code",
   "execution_count": null,
   "metadata": {
    "ExecuteTime": {
     "end_time": "2022-02-17T11:51:59.298955Z",
     "start_time": "2022-02-17T11:51:59.284959Z"
    }
   },
   "outputs": [],
   "source": [
    "# iterate with for\n",
    "for item in lazy_generator():\n",
    "    print(item)"
   ]
  },
  {
   "cell_type": "code",
   "execution_count": null,
   "metadata": {
    "ExecuteTime": {
     "end_time": "2022-02-17T11:51:59.314954Z",
     "start_time": "2022-02-17T11:51:59.300955Z"
    }
   },
   "outputs": [],
   "source": [
    "# using iterators\n",
    "iterator = iter(lazy_generator())\n",
    "print(next(iterator))\n",
    "print(next(iterator))\n",
    "print(next(iterator))"
   ]
  },
  {
   "cell_type": "markdown",
   "metadata": {},
   "source": [
    "Note that you do not return the values with `return`, but with `yield`. Return would definitely end the function call and all the elements yielded by the generator function will not be available."
   ]
  },
  {
   "cell_type": "markdown",
   "metadata": {},
   "source": [
    "The example above use hardcoded collection, a more realistic value would be:"
   ]
  },
  {
   "cell_type": "code",
   "execution_count": null,
   "metadata": {
    "ExecuteTime": {
     "end_time": "2022-02-17T11:51:59.330958Z",
     "start_time": "2022-02-17T11:51:59.316956Z"
    }
   },
   "outputs": [],
   "source": [
    "def gen_squares(up_to):\n",
    "    ...\n",
    "        \n",
    "for v in gen_squares(10):\n",
    "    print(v)"
   ]
  },
  {
   "cell_type": "markdown",
   "metadata": {},
   "source": [
    "## Type annotations"
   ]
  },
  {
   "cell_type": "markdown",
   "metadata": {},
   "source": [
    "Starting with Python 3.5, one can annotate variables, function's params, and their return types. This operation is optional and improves code readability. The annotations are introduced in Python Enhancement Proposal document [PEP484](https://www.python.org/dev/peps/pep-0484/).\n",
    "\n",
    "Aside from readability, one can use code analysis tools, as found for example in PyCharm or [MyPy](http://mypy-lang.org), or you can benefit from improved code completion support.\n",
    "\n",
    "Type annotations are made after annotated entity's name, using colon and type's name:"
   ]
  },
  {
   "cell_type": "code",
   "execution_count": null,
   "metadata": {
    "ExecuteTime": {
     "end_time": "2022-02-17T11:51:59.346955Z",
     "start_time": "2022-02-17T11:51:59.332956Z"
    }
   },
   "outputs": [],
   "source": [
    "age...\n",
    "name..."
   ]
  },
  {
   "cell_type": "markdown",
   "metadata": {},
   "source": [
    "Annotation does not further restict to changing the type of the variable in subsequent statements:"
   ]
  },
  {
   "cell_type": "code",
   "execution_count": null,
   "metadata": {
    "ExecuteTime": {
     "end_time": "2022-02-17T11:51:59.361956Z",
     "start_time": "2022-02-17T11:51:59.347956Z"
    }
   },
   "outputs": [],
   "source": [
    "age = 21.5"
   ]
  },
  {
   "cell_type": "markdown",
   "metadata": {},
   "source": [
    "A short example on function annotation follows:"
   ]
  },
  {
   "cell_type": "code",
   "execution_count": null,
   "metadata": {
    "ExecuteTime": {
     "end_time": "2022-02-17T11:51:59.376956Z",
     "start_time": "2022-02-17T11:51:59.362955Z"
    }
   },
   "outputs": [],
   "source": [
    "def f(name:str, age:int) -> str:\n",
    "    return 'Hello ' + name + ', you are ' + str(age) + ' years old'\n",
    "\n",
    "f('William',23)"
   ]
  },
  {
   "cell_type": "markdown",
   "metadata": {},
   "source": [
    "For complex types we can use the module `typing`, which provides annotation types like `Dict`, `Tuple`, `List`, `Set`, etc."
   ]
  },
  {
   "cell_type": "code",
   "execution_count": null,
   "metadata": {
    "ExecuteTime": {
     "end_time": "2022-02-17T11:51:59.392957Z",
     "start_time": "2022-02-17T11:51:59.377956Z"
    }
   },
   "outputs": [],
   "source": [
    "from typing import List\n",
    "\n",
    "def mutiple_greetings(names: ..., ages: ...) -> None:\n",
    "    for n, v in zip(names, ages):\n",
    "        print(f'Hello {n}, you are {v} years old')\n",
    "        \n",
    "mutiple_greetings(['Ana', 'Dan', 'George'], [20, 21, 22])"
   ]
  },
  {
   "cell_type": "markdown",
   "metadata": {},
   "source": [
    "You can define you own types for annotation:"
   ]
  },
  {
   "cell_type": "code",
   "execution_count": null,
   "metadata": {
    "ExecuteTime": {
     "end_time": "2022-02-17T11:51:59.408955Z",
     "start_time": "2022-02-17T11:51:59.393959Z"
    }
   },
   "outputs": [],
   "source": [
    "from typing import Tuple\n",
    "\n",
    "Point2D = Tuple[int, int]\n",
    "\n",
    "def plot_point(point: Point2D) -> bool:\n",
    "    ## ...do something\n",
    "    return True\n",
    "\n",
    "def rotate_point(p:Point2D, angle:float) -> Point2D:\n",
    "    ## some statements\n",
    "    ## newPoint = ....\n",
    "    return newPoint"
   ]
  },
  {
   "cell_type": "markdown",
   "metadata": {},
   "source": [
    "If a variable can have more than one possible type, we can do as follows:"
   ]
  },
  {
   "cell_type": "code",
   "execution_count": null,
   "metadata": {
    "ExecuteTime": {
     "end_time": "2022-02-17T11:51:59.424955Z",
     "start_time": "2022-02-17T11:51:59.410959Z"
    }
   },
   "outputs": [],
   "source": [
    "from typing import Union\n",
    "\n",
    "def print_value(value: ...) -> None:\n",
    "    print(value)"
   ]
  },
  {
   "cell_type": "markdown",
   "metadata": {},
   "source": [
    "If a variable can have the value `None`, you can annotate it  as:"
   ]
  },
  {
   "cell_type": "code",
   "execution_count": null,
   "metadata": {
    "ExecuteTime": {
     "end_time": "2022-02-17T11:51:59.440956Z",
     "start_time": "2022-02-17T11:51:59.425979Z"
    }
   },
   "outputs": [],
   "source": [
    "from typing import Optional\n",
    "\n",
    "def f(param: ...) -> str:\n",
    "    if param is not None:\n",
    "        return param.upper()\n",
    "    else:\n",
    "        return \"\""
   ]
  },
  {
   "cell_type": "markdown",
   "metadata": {},
   "source": [
    "For more elaborated annotations: callback functions, collections etc. we suggest the interested reader to dive into the bibliography."
   ]
  },
  {
   "cell_type": "markdown",
   "metadata": {},
   "source": [
    "### Recommended bibliography\n",
    "\n",
    "1. [PEP484](https://www.python.org/dev/peps/pep-0484/) \n",
    "1. [typing — Support for type hints](https://docs.python.org/3/library/typing.html)\n",
    "1. [Type hints cheat sheet (Python 3)](https://mypy.readthedocs.io/en/latest/cheat_sheet_py3.html)"
   ]
  },
  {
   "cell_type": "markdown",
   "metadata": {},
   "source": [
    "## User-defined Python modules"
   ]
  },
  {
   "cell_type": "markdown",
   "metadata": {},
   "source": [
    "A Python module is a file with extenion `py` hosting functions, classes, and variables. Importing of a module is done with the statement `import`. \n",
    "\n",
    "Example: we create a module - file Python mySmartModule.py - containing a function which computes the sum of elements in a list:\n",
    "\n",
    "\n",
    "```python\n",
    "# file mySmartModule.py\n",
    "def my_sum(lst: List[Union[float, int]]) -> Union[float, int]:\n",
    "    sum = 0\n",
    "    for item in lst:\n",
    "        sum += item\n",
    "    return sum\n",
    "```\n",
    "\n",
    "We can use this module as:\n",
    "```python\n",
    "import mySmartModule\n",
    "\n",
    "lst = [1, 2, 3]\n",
    "\n",
    "sum_lst = mySmartModule.my_sum(lst)\n",
    "print(sum_lst)\n",
    "```"
   ]
  },
  {
   "cell_type": "markdown",
   "metadata": {},
   "source": [
    "We can define an alias for the imported module:\n",
    "```python\n",
    "import mySmartModule as msm\n",
    "```\n",
    "and in this case we use it as:\n",
    "```python\n",
    "sum = msm.my_sum(lst)\n",
    "```"
   ]
  },
  {
   "cell_type": "markdown",
   "metadata": {},
   "source": [
    "The content of a module can be found with `dir`:\n",
    "```python\n",
    ">>> dir(msm)\n",
    "['__builtins__', '__cached__', '__doc__', '__file__', '__loader__', '__name__', '__package__', '__spec__', 'my_sum']\n",
    "```\n",
    "\n",
    "The elements with `__` as prefix and suffix are automatically added by Python. "
   ]
  },
  {
   "cell_type": "markdown",
   "metadata": {},
   "source": [
    "If one wants to be able to access all items defined in a module, without using `module_name.item_name`, one can write as follows:\n",
    "```python\n",
    "from mySmartModule import *\n",
    "\n",
    "print(my_sum([1, 2, 3]))\n",
    "```\n",
    "\n",
    "However, it is recommended to import strictly the required items (or to explicitely enumerate all items, if needed), to avoid accidental overwrites of alreay implemented entities with the same name:\n",
    "\n",
    "```python\n",
    "from mySmartModule import my_sum\n",
    "\n",
    "print(my_sum([1, 2, 3]))\n",
    "```"
   ]
  },
  {
   "cell_type": "markdown",
   "metadata": {},
   "source": [
    "When a module is imported, the search order is:\n",
    "1. current directory\n",
    "1. look in the location defined by environment variable `PYTHONPATH`, if defined\n",
    "1. look in the default path\n",
    "\n",
    "The default path is given by the variable `path` from module `sys`:"
   ]
  },
  {
   "cell_type": "code",
   "execution_count": null,
   "metadata": {
    "ExecuteTime": {
     "end_time": "2022-02-17T11:51:59.456979Z",
     "start_time": "2022-02-17T11:51:59.442956Z"
    }
   },
   "outputs": [],
   "source": [
    "import sys\n",
    "print(sys.path)"
   ]
  },
  {
   "cell_type": "markdown",
   "metadata": {},
   "source": [
    "If a user puts a module into a path which is not among the ones above, then she can append it to the `sys.path` variable:"
   ]
  },
  {
   "cell_type": "code",
   "execution_count": null,
   "metadata": {
    "ExecuteTime": {
     "end_time": "2022-02-17T11:51:59.472959Z",
     "start_time": "2022-02-17T11:51:59.457957Z"
    }
   },
   "outputs": [],
   "source": [
    "sys.path.append('./my_modules/')\n",
    "from mySmartModule import my_sum\n",
    "print(my_sum([1, 2, 3]))"
   ]
  },
  {
   "cell_type": "markdown",
   "metadata": {},
   "source": [
    "A module can be used in two ways:\n",
    "1. to expose different function or classes implementations, ot to access predefined varibles (e.g. `math.pi`):\n",
    "```python\n",
    "import math\n",
    "print(math.pi)\n",
    "```\n",
    "2. it can be launched by itself as a script, by writing in command line interface: `python mySmartModule.py`. In this case, the desired code is written inside the Python module `mySmartModule.py` as:\n",
    "```python\n",
    "if __name__ == '__main__':\n",
    "    # code which is executed when one launches this script\n",
    "```\n",
    "\n",
    "The code under the `if __name__ == '__main__'` will not be executed if the module is imported.\n",
    "\n",
    "Example:\n",
    "```python\n",
    "def my_sum(my_list):\n",
    "    sum = 0\n",
    "    for item in my_list:\n",
    "        sum += item\n",
    "    return sum\n",
    "\t\n",
    "if __name__ == '__main__':\n",
    "\tprint('Usage example')\n",
    "\ta_list = list(range(100))\n",
    "\tprint(my_sum(a_list))\n",
    "```"
   ]
  },
  {
   "cell_type": "markdown",
   "metadata": {},
   "source": [
    "## User-defined Python packages"
   ]
  },
  {
   "cell_type": "markdown",
   "metadata": {},
   "source": [
    "A package is a collections of modules. Physically, it is a directory cotaining modules and other packages. It is mandatory to have inside the directory a file named `__init__.py` in any directory which is to be seen as a package. This file might even be empty, at the beginning.\n",
    "\n",
    "We start from the following structure:\n",
    "```\n",
    "---myUtils\\\n",
    " |------ mySmartModule.py\n",
    " |------ __init__.py\n",
    "```"
   ]
  },
  {
   "cell_type": "markdown",
   "metadata": {},
   "source": [
    "To import the function `my_sum` from module `mySmartModule.py` which is situated in directory (package) `myUtils` we could write:\n",
    "```python\n",
    "from myUtils.mySmartModule import my_sum\n",
    "print(my_sum([1, 2, 3]))\n",
    "```\n",
    "but we would like to write it more briefly:\n",
    "```python\n",
    "from myUtils import my_sum\n",
    "print(my_sum([1, 2, 30]))\n",
    "```\n",
    "that is to acoid explicitely mentioning the module `mySmartModule` from within package `myUtils`. To do this, we will add into the file `__init__.py` from within `myUtils` the line:\n",
    "```python\n",
    "from .mySmartModule import my_sum \n",
    "```\n",
    "where the leading `.` refers to current directory (relative path). "
   ]
  },
  {
   "cell_type": "code",
   "execution_count": null,
   "metadata": {
    "ExecuteTime": {
     "end_time": "2022-02-17T11:51:59.488959Z",
     "start_time": "2022-02-17T11:51:59.474958Z"
    }
   },
   "outputs": [],
   "source": [
    "from myUtils.mySmartModule import my_sum\n",
    "print(my_sum([1, 2, 10, 300]))"
   ]
  },
  {
   "cell_type": "code",
   "execution_count": null,
   "metadata": {
    "ExecuteTime": {
     "end_time": "2022-02-17T11:51:59.504956Z",
     "start_time": "2022-02-17T11:51:59.490956Z"
    }
   },
   "outputs": [],
   "source": [
    "from myUtils import my_sum\n",
    "print(my_sum([1, 2, 10, 300]))"
   ]
  },
  {
   "cell_type": "markdown",
   "metadata": {},
   "source": [
    "One puts into `__init__.py` everything which is related to package's intitialization, e.g. loading data from disc or setting some variables to proper values."
   ]
  },
  {
   "cell_type": "markdown",
   "metadata": {},
   "source": [
    "If you want to create packages to be use dby a large comunity, and to publish them on PyPI, please folow [this tutorial](https://python-packaging.readthedocs.io/en/latest/)."
   ]
  },
  {
   "cell_type": "markdown",
   "metadata": {},
   "source": [
    "Other short examples of package usage follow:"
   ]
  },
  {
   "cell_type": "code",
   "execution_count": null,
   "metadata": {
    "ExecuteTime": {
     "end_time": "2022-02-17T11:51:59.520956Z",
     "start_time": "2022-02-17T11:51:59.506971Z"
    }
   },
   "outputs": [],
   "source": [
    "import re # package for regular expressions\n",
    "my_string = 'I bought: apples, pies, bread... and coffee'\n",
    "tokens = re.split(r'\\W+', my_string)\n",
    "print(tokens)"
   ]
  },
  {
   "cell_type": "code",
   "execution_count": null,
   "metadata": {
    "ExecuteTime": {
     "end_time": "2022-02-17T11:51:59.568955Z",
     "start_time": "2022-02-17T11:51:59.521956Z"
    }
   },
   "outputs": [],
   "source": [
    "# Serialize values with pickle\n",
    "import pickle\n",
    "\n",
    "toys = { \"lion\": \"yellow\", \"kitty\": \"red\" }\n",
    "\n",
    "pickle.dump( toys, open( \"toys.pkl\", \"wb\" ) )\n",
    "del toys # no longer needed, will recover it from pickle file\n",
    "\n",
    "# restore it\n",
    "toys_restored = pickle.load( open( \"toys.pkl\", \"rb\" ) )\n",
    "print('After deserialization:', toys_restored)\n",
    "\n",
    "!del toys.pkl # remove the pickle file from the disk"
   ]
  },
  {
   "cell_type": "markdown",
   "metadata": {},
   "source": [
    "## Working with files in Python"
   ]
  },
  {
   "cell_type": "markdown",
   "metadata": {},
   "source": [
    "Opening of a file is done with:"
   ]
  },
  {
   "cell_type": "code",
   "execution_count": null,
   "metadata": {
    "ExecuteTime": {
     "end_time": "2022-02-17T11:52:21.710688Z",
     "start_time": "2022-02-17T11:52:21.705573Z"
    }
   },
   "outputs": [],
   "source": [
    "f = open(\"log_file.txt\")\n",
    "# which is the same as the preferable explicit form:\n",
    "f = ...\n",
    "# rt: read mode, text file\n",
    "# for reading a binary file:\n",
    "# f = open(\"image.zzx\", \"rb\")"
   ]
  },
  {
   "cell_type": "markdown",
   "metadata": {},
   "source": [
    "You must close the file once you've done working with it: "
   ]
  },
  {
   "cell_type": "code",
   "execution_count": null,
   "metadata": {
    "ExecuteTime": {
     "end_time": "2022-02-17T11:52:21.726625Z",
     "start_time": "2022-02-17T11:52:21.712627Z"
    }
   },
   "outputs": [],
   "source": [
    "f.close()"
   ]
  },
  {
   "cell_type": "markdown",
   "metadata": {},
   "source": [
    "To ensure the file is always closed, we suggest to follos the pattern:"
   ]
  },
  {
   "cell_type": "code",
   "execution_count": null,
   "metadata": {
    "ExecuteTime": {
     "end_time": "2022-02-17T11:52:21.742625Z",
     "start_time": "2022-02-17T11:52:21.728628Z"
    }
   },
   "outputs": [],
   "source": [
    "with open(\"log_file.txt\", \"rt\") as f:\n",
    "    # read file's content\n",
    "    pass\n",
    "# no need to explicitely close it, the `with` block autoamtically calls f.close()"
   ]
  },
  {
   "cell_type": "markdown",
   "metadata": {},
   "source": [
    "Getting a single line from `f` is done with method f.readline():"
   ]
  },
  {
   "cell_type": "code",
   "execution_count": null,
   "metadata": {
    "ExecuteTime": {
     "end_time": "2022-02-17T11:52:21.757624Z",
     "start_time": "2022-02-17T11:52:21.744627Z"
    }
   },
   "outputs": [],
   "source": [
    "with open(\"log_file.txt\", \"rt\") as f:\n",
    "    first_line = ...\n",
    "    \n",
    "print(first_line)"
   ]
  },
  {
   "cell_type": "markdown",
   "metadata": {},
   "source": [
    "Getting all the lines is done with `readlines()`:"
   ]
  },
  {
   "cell_type": "code",
   "execution_count": null,
   "metadata": {
    "ExecuteTime": {
     "end_time": "2022-02-17T11:52:21.773624Z",
     "start_time": "2022-02-17T11:52:21.759628Z"
    }
   },
   "outputs": [],
   "source": [
    "with open(\"log_file.txt\", \"rt\") as f:\n",
    "    all_lines = ...\n",
    "    \n",
    "print(all_lines)\n",
    "# strip the newline char"
   ]
  },
  {
   "cell_type": "markdown",
   "metadata": {},
   "source": [
    "Opening a file for writing into it can be done in two ways: append (`a`) or write (`w`) mode. The latter one will overwrite the old content. "
   ]
  },
  {
   "cell_type": "code",
   "execution_count": null,
   "metadata": {
    "ExecuteTime": {
     "end_time": "2022-02-17T11:52:21.788626Z",
     "start_time": "2022-02-17T11:52:21.774624Z"
    }
   },
   "outputs": [],
   "source": [
    "with open(\"log_file.txt\", \"at\") as f:\n",
    "    f.write('Line added from program')"
   ]
  },
  {
   "cell_type": "markdown",
   "metadata": {},
   "source": [
    "If you want to maipulate files and dirs, use package `os` or `shutil`."
   ]
  },
  {
   "cell_type": "markdown",
   "metadata": {},
   "source": [
    "## Exception handling"
   ]
  },
  {
   "cell_type": "markdown",
   "metadata": {},
   "source": [
    "Exceptions are outlier cases encountered while running the code: invalid numerical operations, files bot found, illegal access to data structures, etc. \n",
    "\n",
    "If a block of code/a function call/etc is susceptible to produce an exception, we put it inside a `try...except` block:"
   ]
  },
  {
   "cell_type": "code",
   "execution_count": null,
   "metadata": {
    "ExecuteTime": {
     "end_time": "2022-02-17T11:52:21.804660Z",
     "start_time": "2022-02-17T11:52:21.789625Z"
    }
   },
   "outputs": [],
   "source": [
    "my_values = [1, 2, 0, 3]\n",
    "\n",
    "try:\n",
    "    ...\n",
    "except:\n",
    "    print('Cannot compute it')"
   ]
  },
  {
   "cell_type": "markdown",
   "metadata": {},
   "source": [
    "It is recommended to bind the caught exception to an object which can be further investigated:"
   ]
  },
  {
   "cell_type": "code",
   "execution_count": null,
   "metadata": {
    "ExecuteTime": {
     "end_time": "2022-02-17T11:52:21.820628Z",
     "start_time": "2022-02-17T11:52:21.806627Z"
    }
   },
   "outputs": [],
   "source": [
    "my_values = [1, 2, 0, 3]\n",
    "\n",
    "try:\n",
    "    for v in my_values:\n",
    "        print(1.0 / v)\n",
    "except Exception as ex:\n",
    "    print(f'Cannot compute it: {ex}')"
   ]
  },
  {
   "cell_type": "markdown",
   "metadata": {},
   "source": [
    "Multiple except clauses may be used:"
   ]
  },
  {
   "cell_type": "code",
   "execution_count": null,
   "metadata": {
    "ExecuteTime": {
     "end_time": "2022-02-17T11:52:21.836658Z",
     "start_time": "2022-02-17T11:52:21.822625Z"
    }
   },
   "outputs": [],
   "source": [
    "try:\n",
    "   # compute\n",
    "   pass\n",
    "\n",
    "except ValueError:\n",
    "   # handler for ValueError exception\n",
    "   pass\n",
    "\n",
    "except (IndexError, KeyError):\n",
    "   # handle multiple exceptions\n",
    "   # IndexError and KeyError\n",
    "   pass\n",
    "\n",
    "except:\n",
    "   # catch-all\n",
    "   pass"
   ]
  },
  {
   "cell_type": "markdown",
   "metadata": {},
   "source": [
    "One may raise an exception if wanted:"
   ]
  },
  {
   "cell_type": "code",
   "execution_count": null,
   "metadata": {
    "ExecuteTime": {
     "end_time": "2022-02-17T11:52:21.852664Z",
     "start_time": "2022-02-17T11:52:21.837626Z"
    }
   },
   "outputs": [],
   "source": [
    "# a = -1\n",
    "# # ... code\n",
    "# if a < 0:\n",
    "#     raise ValueError(f'The argument must be >= 0, got {a}')"
   ]
  },
  {
   "cell_type": "markdown",
   "metadata": {},
   "source": [
    "A `try` statement can optionally have a `finally` block. This block is always executed, regardless whether the previous `try` block succeeded or not."
   ]
  },
  {
   "cell_type": "code",
   "execution_count": null,
   "metadata": {
    "ExecuteTime": {
     "end_time": "2022-02-17T11:56:00.105039Z",
     "start_time": "2022-02-17T11:56:00.101041Z"
    }
   },
   "outputs": [],
   "source": [
    "try:\n",
    "    f = open(\"log_file.txt\", \"rt\")\n",
    "    _ = 1/0\n",
    "except ZeroDivisionError:\n",
    "    pass\n",
    "finally:\n",
    "    ...\n",
    "    print('For sure, f is closed now')"
   ]
  },
  {
   "cell_type": "markdown",
   "metadata": {},
   "source": [
    "## The NumPy package"
   ]
  },
  {
   "cell_type": "markdown",
   "metadata": {},
   "source": [
    "NumPy (Numerical Python) is the core package for scientific computations in Python. It supports vectors and multidimensional matrices (tensors), functions for random number generation, linear algebra, signal processing, basic stats, etc. NumPy is a standard used by other packages. The manipulated data must fit RAM memory. NumPy relies on  C compiled code. \n",
    "\n",
    "In many situations data can be converted to numbers:\n",
    "* an image in grey can be seen as a 2d matrix; every number is the intensity of the corresponding pixel  (0 - black, 255 - white)\n",
    "![Imagine minsi scalata 0-1](./images/mnist_image.png)\n",
    "* a colour image can be seen as a 3d matrix, of represented as RGB: the \"parallel\" matrices are representing a colour channel:\n",
    "![Imagine RGB descompusa in 3 canale](./images/channelsrgb.gif)\n",
    "* an audio file can be seen as one or more vectors, where the number of vectors is the number of recoring channels. For a wav file, the values represent membrane's displacement, sampled in time:\n",
    "![sunet](./images/sound.png)\n",
    "* a text can be translated in numerical vectors by using techniques as [Bag of words](https://en.wikipedia.org/wiki/Bag-of-words_model), [Word2vec](https://en.wikipedia.org/wiki/Word2vec), or any other type of embedding.\n",
    "\n",
    "Vector and matrix representation used by NumPy is much more efficient than Python lists. The NumPy code actually uses native libraries, not interpreted code. If you vectorize you code, the efficiency is even greater on actual CPUs. \n",
    "\n",
    "The basci data typoe from NumPy is `ndarray` - n-dimensional array. "
   ]
  },
  {
   "cell_type": "code",
   "execution_count": null,
   "metadata": {
    "ExecuteTime": {
     "end_time": "2022-02-17T11:52:21.964625Z",
     "start_time": "2022-02-17T11:52:21.856625Z"
    }
   },
   "outputs": [],
   "source": [
    "# importing numpy, traditionally aliased as np\n",
    "import numpy as np\n",
    "\n",
    "# create a vector starting from a Python list\n",
    "x = np.array([1, 4, 2, 5, 3], dtype=np.int64)\n",
    "\n",
    "# printing x's type\n",
    "print(...) \n",
    "\n",
    "# all the elements in the array are of the same type\n",
    "print(...) \n",
    "\n",
    "# you can explicitely specify the underlying type in the array\n",
    "y = np.array([1, 2, 3], dtype=...)\n",
    "print(y.dtype)"
   ]
  },
  {
   "cell_type": "code",
   "execution_count": null,
   "metadata": {
    "ExecuteTime": {
     "end_time": "2022-02-17T11:52:21.980624Z",
     "start_time": "2022-02-17T11:52:21.965625Z"
    }
   },
   "outputs": [],
   "source": [
    "# useful functions\n",
    "all_zeros = ...\n",
    "print(all_zeros)\n",
    "# printing number of elements on each dimension (axis)\n",
    "print(all_zeros.shape)"
   ]
  },
  {
   "cell_type": "code",
   "execution_count": null,
   "metadata": {
    "ExecuteTime": {
     "end_time": "2022-02-17T11:52:21.996625Z",
     "start_time": "2022-02-17T11:52:21.981625Z"
    }
   },
   "outputs": [],
   "source": [
    "# 2d matrix\n",
    "mat = ...  # note we start from lists of lists\n",
    "print(mat)\n",
    "print(mat.shape)\n",
    "print(mat[0, 1])"
   ]
  },
  {
   "cell_type": "code",
   "execution_count": null,
   "metadata": {
    "ExecuteTime": {
     "end_time": "2022-02-17T11:52:22.011625Z",
     "start_time": "2022-02-17T11:52:21.997626Z"
    }
   },
   "outputs": [],
   "source": [
    "# matrix with same value:\n",
    "mat_7 = np.ones((4, 10)) * 7\n",
    "print(mat_7)\n",
    "\n",
    "mat_7_2 = np.full(...)\n",
    "\n",
    "print(mat_7 == mat_7_2)"
   ]
  },
  {
   "cell_type": "markdown",
   "metadata": {},
   "source": [
    "The number of dimensions of a matrix is given by:"
   ]
  },
  {
   "cell_type": "code",
   "execution_count": null,
   "metadata": {
    "ExecuteTime": {
     "end_time": "2022-02-17T11:52:22.026625Z",
     "start_time": "2022-02-17T11:52:22.012626Z"
    }
   },
   "outputs": [],
   "source": [
    "print('Number of dimensions of all_zeros:', all_zeros.ndim)\n",
    "print('Number of dimensions of mat:', mat.ndim)"
   ]
  },
  {
   "cell_type": "markdown",
   "metadata": {},
   "source": [
    "The total number of elements, byte size of an element are found as:"
   ]
  },
  {
   "cell_type": "code",
   "execution_count": null,
   "metadata": {
    "ExecuteTime": {
     "end_time": "2022-02-17T11:52:22.041627Z",
     "start_time": "2022-02-17T11:52:22.027626Z"
    }
   },
   "outputs": [],
   "source": [
    "print('mat size: {0}\\nmat element size: {1} bytes\\nmat.dtype:{2}'.format(mat.size, mat.itemsize, mat.dtype))"
   ]
  },
  {
   "cell_type": "code",
   "execution_count": null,
   "metadata": {
    "ExecuteTime": {
     "end_time": "2022-02-17T11:52:22.057625Z",
     "start_time": "2022-02-17T11:52:22.042624Z"
    }
   },
   "outputs": [],
   "source": [
    "# identity matrix\n",
    "print(...)"
   ]
  },
  {
   "cell_type": "code",
   "execution_count": null,
   "metadata": {
    "ExecuteTime": {
     "end_time": "2022-02-17T11:52:22.072624Z",
     "start_time": "2022-02-17T11:52:22.058626Z"
    }
   },
   "outputs": [],
   "source": [
    "# equally spaced values in an interval; the interval bounds are part of the vector\n",
    "print(np.linspace(0, 10, 5))"
   ]
  },
  {
   "cell_type": "code",
   "execution_count": null,
   "metadata": {
    "ExecuteTime": {
     "end_time": "2022-02-17T11:52:22.088625Z",
     "start_time": "2022-02-17T11:52:22.073625Z"
    }
   },
   "outputs": [],
   "source": [
    "# arange works identically with Python's range function, but returns ndarray\n",
    "some_values = np.arange(0, 10, 3)\n",
    "print(some_values)\n",
    "print(type(some_values))"
   ]
  },
  {
   "cell_type": "code",
   "execution_count": null,
   "metadata": {
    "ExecuteTime": {
     "end_time": "2022-02-17T11:52:22.104624Z",
     "start_time": "2022-02-17T11:52:22.089625Z"
    }
   },
   "outputs": [],
   "source": [
    "# random numbers\n",
    "x = np.random.random((2, 3))\n",
    "print(x)"
   ]
  },
  {
   "cell_type": "markdown",
   "metadata": {},
   "source": [
    "Tipurile de date folosibile pentru ndarrays sunt:\n",
    "\n",
    "| Type  | Explanation |\n",
    "| ---- | -----------|\n",
    "| bool_ | \tBoolean (True or False) stored as a byte | \n",
    "| int_ | \tDefault integer type (same as C long; normally either int64 or int32) | \n",
    "| intc | \tIdentical to C int (normally int32 or int64) | \n",
    "| intp | \tInteger used for indexing (same as C ssize_t; normally either int32 or int64) | \n",
    "| int8 | \tByte (-128 to 127) | \n",
    "| int16 | \tInteger (-32768 to 32767) | \n",
    "| int32 | \tInteger (-2147483648 to 2147483647) | \n",
    "| int64 | \tInteger (-9223372036854775808 to 9223372036854775807) | \n",
    "| uint8 | \tUnsigned integer (0 to 255) | \n",
    "| uint16 | \tUnsigned integer (0 to 65535) | \n",
    "| uint32 | \tUnsigned integer (0 to 4294967295) | \n",
    "| uint64 | \tUnsigned integer (0 to 18446744073709551615) | \n",
    "| float_ | \tShorthand for float64. | \n",
    "| float16 | \tHalf precision float: sign bit, 5 bits exponent, 10 bits mantissa | \n",
    "| float32 | \tSingle precision float: sign bit, 8 bits exponent, 23 bits mantissa | \n",
    "| float64 | \tDouble precision float: sign bit, 11 bits exponent, 52 bits mantissa | \n",
    "| complex_ | \tShorthand for complex128. | \n",
    "| complex64 | \tComplex number, represented by two 32-bit floats (real and imaginary components) | \n",
    "| complex128 | \tComplex number, represented by two 64-bit floats (real and imaginary components) |"
   ]
  },
  {
   "cell_type": "markdown",
   "metadata": {},
   "source": [
    "A popular operation is taking an array and changin its shape:"
   ]
  },
  {
   "cell_type": "code",
   "execution_count": null,
   "metadata": {
    "ExecuteTime": {
     "end_time": "2022-02-17T11:52:22.119625Z",
     "start_time": "2022-02-17T11:52:22.105625Z"
    }
   },
   "outputs": [],
   "source": [
    "# from a vector to a matrix\n",
    "vec = np.arange(10)\n",
    "mat = vec.reshape(2, 5)\n",
    "print(vec)\n",
    "print(mat)"
   ]
  },
  {
   "cell_type": "code",
   "execution_count": null,
   "metadata": {
    "ExecuteTime": {
     "end_time": "2022-02-17T11:52:22.135624Z",
     "start_time": "2022-02-17T11:52:22.121626Z"
    }
   },
   "outputs": [],
   "source": [
    "#...and vice versa:\n",
    "vec2 = mat.flatten()\n",
    "print(vec2)"
   ]
  },
  {
   "cell_type": "markdown",
   "metadata": {},
   "source": [
    "Matrices can be concatenated; the concatenation dimension (axis) should be specified:"
   ]
  },
  {
   "cell_type": "code",
   "execution_count": null,
   "metadata": {
    "ExecuteTime": {
     "end_time": "2022-02-17T11:52:22.150626Z",
     "start_time": "2022-02-17T11:52:22.137642Z"
    }
   },
   "outputs": [],
   "source": [
    "a = np.array([[1, 2], [3, 4]], float)\n",
    "b = np.array([[5, 6], [7,8]], float)"
   ]
  },
  {
   "cell_type": "code",
   "execution_count": null,
   "metadata": {
    "ExecuteTime": {
     "end_time": "2022-02-17T11:52:22.165625Z",
     "start_time": "2022-02-17T11:52:22.151627Z"
    }
   },
   "outputs": [],
   "source": [
    "# vertical concatenation (stacking)\n",
    "vertical = np.concatenate((a, b), axis=...)\n",
    "print(vertical)"
   ]
  },
  {
   "cell_type": "markdown",
   "metadata": {},
   "source": [
    "The axis concept is defined for matrices with at least two dimensions. For a 2D matrix, the axis 0 sweeps the matrix vertically, while axis 1 sweeps it horizontally."
   ]
  },
  {
   "cell_type": "code",
   "execution_count": null,
   "metadata": {
    "ExecuteTime": {
     "end_time": "2022-02-17T11:52:22.181624Z",
     "start_time": "2022-02-17T11:52:22.166626Z"
    }
   },
   "outputs": [],
   "source": [
    "# horizontal concatenation\n",
    "horizontal = np.concatenate((a, b), axis=...)\n",
    "print(horizontal)"
   ]
  },
  {
   "cell_type": "code",
   "execution_count": null,
   "metadata": {
    "ExecuteTime": {
     "end_time": "2022-02-17T11:52:22.196624Z",
     "start_time": "2022-02-17T11:52:22.182625Z"
    }
   },
   "outputs": [],
   "source": [
    "# same as:\n",
    "vertical = np.vstack((a, b))\n",
    "horizontal = np.hstack((a, b))\n",
    "print(vertical)\n",
    "print(horizontal)"
   ]
  },
  {
   "cell_type": "code",
   "execution_count": null,
   "metadata": {
    "ExecuteTime": {
     "end_time": "2022-02-17T11:52:22.211625Z",
     "start_time": "2022-02-17T11:52:22.197625Z"
    }
   },
   "outputs": [],
   "source": [
    "matrix = np.arange(15).reshape(3, -1)\n",
    "print(matrix)"
   ]
  },
  {
   "cell_type": "code",
   "execution_count": null,
   "metadata": {
    "ExecuteTime": {
     "end_time": "2022-02-17T11:52:22.226624Z",
     "start_time": "2022-02-17T11:52:22.212625Z"
    }
   },
   "outputs": [],
   "source": [
    "sum_by_columns= np....\n",
    "print(sum_by_columns)"
   ]
  },
  {
   "cell_type": "code",
   "execution_count": null,
   "metadata": {
    "ExecuteTime": {
     "end_time": "2022-02-17T11:52:22.241625Z",
     "start_time": "2022-02-17T11:52:22.230625Z"
    }
   },
   "outputs": [],
   "source": [
    "sum_by_rows= np....\n",
    "print(sum_by_rows)"
   ]
  },
  {
   "cell_type": "markdown",
   "metadata": {},
   "source": [
    "### Operations with `ndarrays`\n",
    "\n",
    "NumPy has implementations for basic algebraic operations with vectors and matrices: addition, substraction, multiplication with scalar, Hadamard product, matrix product, scalar product:"
   ]
  },
  {
   "cell_type": "code",
   "execution_count": null,
   "metadata": {
    "ExecuteTime": {
     "end_time": "2022-02-17T11:52:22.257625Z",
     "start_time": "2022-02-17T11:52:22.242625Z"
    }
   },
   "outputs": [],
   "source": [
    "# multiplying by a scalar\n",
    "a = np.array([[1, 2, 3], [4, 5, 6]])\n",
    "print('a=\\n', a)\n",
    "b = a * 10\n",
    "print('b=\\n', b)"
   ]
  },
  {
   "cell_type": "code",
   "execution_count": null,
   "metadata": {
    "ExecuteTime": {
     "end_time": "2022-02-17T11:52:22.273625Z",
     "start_time": "2022-02-17T11:52:22.258626Z"
    }
   },
   "outputs": [],
   "source": [
    "# add and substract\n",
    "sum_mat = a + b\n",
    "print(sum_mat)\n",
    "diff_mat = a - b\n",
    "print(diff_mat)"
   ]
  },
  {
   "cell_type": "markdown",
   "metadata": {},
   "source": [
    "The multiplication operator \\* is implemented in a different way from linear algebra: For two matrices with \n",
    "same shapes the elements at the same coordinates are multiplied: c[i, j] = a[i, j] * b[i, j]. This is called pointwise multiplication, or Hadamard product, and it is often used in signal processing and machine learning"
   ]
  },
  {
   "cell_type": "code",
   "execution_count": null,
   "metadata": {
    "ExecuteTime": {
     "end_time": "2022-02-17T11:52:22.289626Z",
     "start_time": "2022-02-17T11:52:22.274626Z"
    }
   },
   "outputs": [],
   "source": [
    "# multiplication by * leads to Hadamard product: c[i, j] = a[i, j] * b[i, j]\n",
    "c = a*b\n",
    "print(c)\n",
    "for i in range(c.shape[0]):  # c.shape[0] = number of rows of matrix c\n",
    "    for j in range(c.shape[1]): # c.shape[1] = number of columns of matrix c\n",
    "        print(c[i, j] == a[i, j] * b[i, j])"
   ]
  },
  {
   "cell_type": "markdown",
   "metadata": {},
   "source": [
    "The above operations are using linear algebra libraries, which are optimized for the current microprocessors. It is recommended to use them instead of (nested) for cycles:"
   ]
  },
  {
   "cell_type": "code",
   "execution_count": null,
   "metadata": {
    "ExecuteTime": {
     "end_time": "2022-02-17T11:52:22.305625Z",
     "start_time": "2022-02-17T11:52:22.290626Z"
    }
   },
   "outputs": [],
   "source": [
    "# create matrices\n",
    "matrix_shape = (100, 100)\n",
    "a_big = np.random.random(matrix_shape)\n",
    "b_big = np.random.random(matrix_shape)"
   ]
  },
  {
   "cell_type": "code",
   "execution_count": null,
   "metadata": {
    "ExecuteTime": {
     "end_time": "2022-02-17T11:52:25.754839Z",
     "start_time": "2022-02-17T11:52:22.306625Z"
    }
   },
   "outputs": [],
   "source": [
    "%%timeit\n",
    "c_big = np.empty_like(a_big)\n",
    "for i in range(c_big.shape[0]):\n",
    "    for j in range(c_big.shape[1]):\n",
    "        c_big[i, j] = a_big[i, j] * b_big[i, j]"
   ]
  },
  {
   "cell_type": "code",
   "execution_count": null,
   "metadata": {
    "ExecuteTime": {
     "end_time": "2022-02-17T11:52:29.430149Z",
     "start_time": "2022-02-17T11:52:25.757812Z"
    }
   },
   "outputs": [],
   "source": [
    "%%timeit\n",
    "c_big = a_big * b_big"
   ]
  },
  {
   "cell_type": "code",
   "execution_count": null,
   "metadata": {
    "ExecuteTime": {
     "end_time": "2022-02-17T13:14:58.733277Z",
     "start_time": "2022-02-17T13:14:58.720249Z"
    }
   },
   "outputs": [],
   "source": [
    "# 'raising to power' using ** : each element of the matrix is individually raised to that power.\n",
    "print('initial matrix:\\n', a)\n",
    "a_to_the_power_of_2 = ...\n",
    "print('after squaring each component:\\n', a_to_the_power_of_2)\n",
    "power_3 = np.power(a, 3)\n",
    "print('after raising to the power of 3:\\n', power_3)"
   ]
  },
  {
   "cell_type": "markdown",
   "metadata": {},
   "source": [
    "You can use the / operator to get pointwise division (element by element) of two matrices:"
   ]
  },
  {
   "cell_type": "code",
   "execution_count": null,
   "metadata": {
    "ExecuteTime": {
     "end_time": "2022-02-17T11:52:29.461324Z",
     "start_time": "2022-02-17T11:52:29.446324Z"
    }
   },
   "outputs": [],
   "source": [
    "print('a=', a)\n",
    "print('b=', b)\n",
    "print('a/b=', a/b)"
   ]
  },
  {
   "cell_type": "code",
   "execution_count": null,
   "metadata": {
    "ExecuteTime": {
     "end_time": "2022-02-17T11:52:29.476324Z",
     "start_time": "2022-02-17T11:52:29.463323Z"
    }
   },
   "outputs": [],
   "source": [
    "# raising a square matrix to a power, as defined in linear algebra\n",
    "square_matrix = np.array([[1, 2, 3], [4, 5, 6], [7, 8, 9]])\n",
    "pow_3 = np.linalg.matrix_power(square_matrix, 3)\n",
    "print(pow_3)"
   ]
  },
  {
   "cell_type": "markdown",
   "metadata": {},
   "source": [
    "If you call a Numpy-defined numerical function on an ndarray, the result will be an ndarray of same shape as the original one. Its elements are computed by applying the function on each of the initial matrix componets, one by one:"
   ]
  },
  {
   "cell_type": "code",
   "execution_count": null,
   "metadata": {
    "ExecuteTime": {
     "end_time": "2022-02-17T11:52:29.492323Z",
     "start_time": "2022-02-17T11:52:29.477324Z"
    }
   },
   "outputs": [],
   "source": [
    "x = np.arange(6).reshape(2, 3)\n",
    "print(x)\n",
    "y = np.exp(x)\n",
    "assert x.shape == y.shape\n",
    "for i in range(0, x.shape[0]):\n",
    "    for j in range(0, x.shape[1]):\n",
    "        assert ..."
   ]
  },
  {
   "cell_type": "code",
   "execution_count": null,
   "metadata": {
    "ExecuteTime": {
     "end_time": "2022-02-17T11:52:29.507323Z",
     "start_time": "2022-02-17T11:52:29.494326Z"
    }
   },
   "outputs": [],
   "source": [
    "# linear-algebra style matrix product\n",
    "a = np.random.rand(3, 5)\n",
    "b = np.random.rand(5, 10)\n",
    "assert a.shape[1] == b.shape[0]\n",
    "c = np.dot(a, b)\n",
    "# equivalent form\n",
    "c = a.dot(b)\n",
    "assert a.shape[0] == c.shape[0] and b.shape[1] == c.shape[1]\n",
    "# or even shorter:\n",
    "c = a@b"
   ]
  },
  {
   "cell_type": "markdown",
   "metadata": {},
   "source": [
    "NumPy defines a whole pletora of functions: `all, any, apply_along_axis, argmax, argmin, argsort, average, bincount, ceil, clip, conj, corrcoef, cov, cross, cumprod, cumsum, diff, dot, floor, inner, inv, lexsort, max, maximum, mean, median, min, minimum, nonzero, outer, prod, re, round, sort, std, sum, trace, transpose, var, vdot, vectorize, where` - [docs here](https://docs.scipy.org/doc/numpy-dev/reference/generated/)."
   ]
  }
 ],
 "metadata": {
  "kernelspec": {
   "display_name": "Python 3 (ipykernel)",
   "language": "python",
   "name": "python3"
  },
  "language_info": {
   "codemirror_mode": {
    "name": "ipython",
    "version": 3
   },
   "file_extension": ".py",
   "mimetype": "text/x-python",
   "name": "python",
   "nbconvert_exporter": "python",
   "pygments_lexer": "ipython3",
   "version": "3.9.7"
  },
  "toc": {
   "base_numbering": 1,
   "nav_menu": {},
   "number_sections": true,
   "sideBar": true,
   "skip_h1_title": false,
   "title_cell": "Table of Contents",
   "title_sidebar": "Contents",
   "toc_cell": false,
   "toc_position": {
    "height": "calc(100% - 180px)",
    "left": "10px",
    "top": "150px",
    "width": "267.48px"
   },
   "toc_section_display": true,
   "toc_window_display": true
  },
  "varInspector": {
   "cols": {
    "lenName": 16,
    "lenType": 16,
    "lenVar": 40
   },
   "kernels_config": {
    "python": {
     "delete_cmd_postfix": "",
     "delete_cmd_prefix": "del ",
     "library": "var_list.py",
     "varRefreshCmd": "print(var_dic_list())"
    },
    "r": {
     "delete_cmd_postfix": ") ",
     "delete_cmd_prefix": "rm(",
     "library": "var_list.r",
     "varRefreshCmd": "cat(var_dic_list()) "
    }
   },
   "types_to_exclude": [
    "module",
    "function",
    "builtin_function_or_method",
    "instance",
    "_Feature"
   ],
   "window_display": false
  }
 },
 "nbformat": 4,
 "nbformat_minor": 2
}
