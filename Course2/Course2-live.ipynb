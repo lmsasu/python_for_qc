{
 "cells": [
  {
   "cell_type": "markdown",
   "metadata": {},
   "source": [
    "# Curs 2: Working with collections. User defined functions. Modules, packages. The NumPy package"
   ]
  },
  {
   "cell_type": "markdown",
   "metadata": {},
   "source": [
    "## Collection comprehension"
   ]
  },
  {
   "cell_type": "markdown",
   "metadata": {},
   "source": [
    "Starting from a collection - most often: a list - one can create another list, using *list comprehension*. This is mainly a cycle over the elements of the initial collection:"
   ]
  },
  {
   "cell_type": "code",
   "execution_count": null,
   "metadata": {
    "ExecuteTime": {
     "end_time": "2022-02-14T13:22:52.284313Z",
     "start_time": "2022-02-14T13:22:52.274220Z"
    }
   },
   "outputs": [],
   "source": [
    "numbers = [1, 3, 6,  21, 22, 32, 33]\n",
    "squared_numbers = [...]\n",
    "print(squared_numbers)"
   ]
  },
  {
   "cell_type": "markdown",
   "metadata": {},
   "source": [
    "Optionally, you can add an inline `if` statement:"
   ]
  },
  {
   "cell_type": "code",
   "execution_count": null,
   "metadata": {
    "ExecuteTime": {
     "end_time": "2022-02-14T13:22:52.300265Z",
     "start_time": "2022-02-14T13:22:52.287264Z"
    }
   },
   "outputs": [],
   "source": [
    "squares_of_even_numbers = [...]\n",
    "print(squares_of_even_numbers)"
   ]
  },
  {
   "cell_type": "markdown",
   "metadata": {},
   "source": [
    "... and you can even add an `else` clause:"
   ]
  },
  {
   "cell_type": "code",
   "execution_count": null,
   "metadata": {
    "ExecuteTime": {
     "end_time": "2022-02-14T13:22:52.316263Z",
     "start_time": "2022-02-14T13:22:52.301266Z"
    }
   },
   "outputs": [],
   "source": [
    "squares_or_cubes = [...]\n",
    "print(squares_or_cubes)"
   ]
  },
  {
   "cell_type": "markdown",
   "metadata": {},
   "source": [
    "Exercise: if a list consists of other lists, how can you get the flattened list? For example, starting from a1 = [[1, 2], [3, 4, 5], [10]] we want to get its flattened version a2 = [1, 2, 3, 4, 5, 10]"
   ]
  },
  {
   "cell_type": "code",
   "execution_count": null,
   "metadata": {
    "ExecuteTime": {
     "end_time": "2022-02-14T13:22:52.332263Z",
     "start_time": "2022-02-14T13:22:52.318264Z"
    }
   },
   "outputs": [],
   "source": [
    "a1 = [[1, 2], [3, 4, 5], [10]]\n",
    "a2 = [...]\n",
    "print(a2)"
   ]
  },
  {
   "cell_type": "markdown",
   "metadata": {},
   "source": [
    "Comprehension is available for other types of collections as well: for example, we can start from a list and create a dictionary:"
   ]
  },
  {
   "cell_type": "code",
   "execution_count": null,
   "metadata": {
    "ExecuteTime": {
     "end_time": "2022-02-14T13:22:52.348264Z",
     "start_time": "2022-02-14T13:22:52.333264Z"
    }
   },
   "outputs": [],
   "source": [
    "numbers = [1, 3, 6,  21, 22, 32, 33]\n",
    "dict_numbers_and_squares = {...}\n",
    "print(dict_numbers_and_squares)"
   ]
  },
  {
   "cell_type": "markdown",
   "metadata": {},
   "source": [
    "... or lists of tuples:"
   ]
  },
  {
   "cell_type": "code",
   "execution_count": null,
   "metadata": {
    "ExecuteTime": {
     "end_time": "2022-02-14T13:22:52.364263Z",
     "start_time": "2022-02-14T13:22:52.350265Z"
    }
   },
   "outputs": [],
   "source": [
    "# cartesian product\n",
    "colours = [ \"red\", \"green\", \"yellow\", \"blue\" ]\n",
    "things = [ \"house\", \"car\", \"tree\" ]\n",
    "coloured_things = [...]\n",
    "print(coloured_things)\n",
    "\n",
    "assert len(coloured_things) == len(colours) * len(things)"
   ]
  },
  {
   "cell_type": "markdown",
   "metadata": {},
   "source": [
    "Mai jos sunt cateva exemple de utilizare de comprehension peste colectii."
   ]
  },
  {
   "cell_type": "code",
   "execution_count": null,
   "metadata": {
    "ExecuteTime": {
     "end_time": "2022-02-14T13:22:52.380298Z",
     "start_time": "2022-02-14T13:22:52.365264Z"
    }
   },
   "outputs": [],
   "source": [
    "# Conversuion from a list of Celsius Temperature to Fahrenheit values: Fahrenheit = 1.8 * Celsius + 32\n",
    "celsius_degrees = [-20, -10, 0, 5, 23, 35]\n",
    "fahrenheit_degrees = [...]\n",
    "print(fahrenheit_degrees)"
   ]
  },
  {
   "cell_type": "code",
   "execution_count": null,
   "metadata": {
    "ExecuteTime": {
     "end_time": "2022-02-14T13:22:52.396265Z",
     "start_time": "2022-02-14T13:22:52.381265Z"
    }
   },
   "outputs": [],
   "source": [
    "# Sum of squares of number from 1 to 20\n",
    "print(sum([...]))  # note the range 2nd param"
   ]
  },
  {
   "cell_type": "code",
   "execution_count": null,
   "metadata": {
    "ExecuteTime": {
     "end_time": "2022-02-14T13:22:52.412264Z",
     "start_time": "2022-02-14T13:22:52.397265Z"
    }
   },
   "outputs": [],
   "source": [
    "# We want to filter out stop-words from a list:\n",
    "stop_words = [\"a\", \"about\", \"above\", \"above\", \"across\", \"after\", \"afterwards\", \"again\", \"against\", \"all\", \"almost\", \"alone\", \"along\", \"already\", \"also\",\"although\",\"always\",\"am\",\"among\", \"amongst\", \"amoungst\", \"amount\",  \"an\", \"and\", \"another\", \"any\",\"anyhow\",\"anyone\",\"anything\",\"anyway\", \"anywhere\", \"are\", \"around\", \"as\",  \"at\", \"back\",\"be\",\"became\", \"because\",\"become\",\"becomes\", \"becoming\", \"been\", \"before\", \"beforehand\", \"behind\", \"being\", \"below\", \"beside\", \"besides\", \"between\", \"beyond\", \"bill\", \"both\", \"bottom\",\"but\", \"by\", \"call\", \"can\", \"cannot\", \"cant\", \"co\", \"con\", \"could\", \"couldnt\", \"cry\", \"de\", \"describe\", \"detail\", \"do\", \"done\", \"down\", \"due\", \"during\", \"each\", \"eg\", \"eight\", \"either\", \"eleven\",\"else\", \"elsewhere\", \"empty\", \"enough\", \"etc\", \"even\", \"ever\", \"every\", \"everyone\", \"everything\", \"everywhere\", \"except\", \"few\", \"fifteen\", \"fify\", \"fill\", \"find\", \"fire\", \"first\", \"five\", \"for\", \"former\", \"formerly\", \"forty\", \"found\", \"four\", \"from\", \"front\", \"full\", \"further\", \"get\", \"give\", \"go\", \"had\", \"has\", \"hasnt\", \"have\", \"he\", \"hence\", \"her\", \"here\", \"hereafter\", \"hereby\", \"herein\", \"hereupon\", \"hers\", \"herself\", \"him\", \"himself\", \"his\", \"how\", \"however\", \"hundred\", \"ie\", \"if\", \"in\", \"inc\", \"indeed\", \"interest\", \"into\", \"is\", \"it\", \"its\", \"itself\", \"keep\", \"last\", \"latter\", \"latterly\", \"least\", \"less\", \"ltd\", \"made\", \"many\", \"may\", \"me\", \"meanwhile\", \"might\", \"mill\", \"mine\", \"more\", \"moreover\", \"most\", \"mostly\", \"move\", \"much\", \"must\", \"my\", \"myself\", \"name\", \"namely\", \"neither\", \"never\", \"nevertheless\", \"next\", \"nine\", \"no\", \"nobody\", \"none\", \"noone\", \"nor\", \"not\", \"nothing\", \"now\", \"nowhere\", \"of\", \"off\", \"often\", \"on\", \"once\", \"one\", \"only\", \"onto\", \"or\", \"other\", \"others\", \"otherwise\", \"our\", \"ours\", \"ourselves\", \"out\", \"over\", \"own\",\"part\", \"per\", \"perhaps\", \"please\", \"put\", \"rather\", \"re\", \"same\", \"see\", \"seem\", \"seemed\", \"seeming\", \"seems\", \"serious\", \"several\", \"she\", \"should\", \"show\", \"side\", \"since\", \"sincere\", \"six\", \"sixty\", \"so\", \"some\", \"somehow\", \"someone\", \"something\", \"sometime\", \"sometimes\", \"somewhere\", \"still\", \"such\", \"system\", \"take\", \"ten\", \"than\", \"that\", \"the\", \"their\", \"them\", \"themselves\", \"then\", \"thence\", \"there\", \"thereafter\", \"thereby\", \"therefore\", \"therein\", \"thereupon\", \"these\", \"they\", \"thickv\", \"thin\", \"third\", \"this\", \"those\", \"though\", \"three\", \"through\", \"throughout\", \"thru\", \"thus\", \"to\", \"together\", \"too\", \"top\", \"toward\", \"towards\", \"twelve\", \"twenty\", \"two\", \"un\", \"under\", \"until\", \"up\", \"upon\", \"us\", \"very\", \"via\", \"was\", \"we\", \"well\", \"were\", \"what\", \"whatever\", \"when\", \"whence\", \"whenever\", \"where\", \"whereafter\", \"whereas\", \"whereby\", \"wherein\", \"whereupon\", \"wherever\", \"whether\", \"which\", \"while\", \"whither\", \"who\", \"whoever\", \"whole\", \"whom\", \"whose\", \"why\", \"will\", \"with\", \"within\", \"without\", \"would\", \"yet\", \"you\", \"your\", \"yours\", \"yourself\", \"yourselves\", \"the\"]\n",
    "paragraph_list = ['Stopword','filtering','is','a','common','step','in','preprocessing','text','for','various','purposes','This','is','a','list','of','several','different','stopword','lists','extracted','from','various','search','engines','libraries','and','articles','There', 'is','a','surprising','number','of','different','lists']\n",
    "print('Initial:\\n',paragraph_list)\n",
    "filtered = [...]\n",
    "print('\\nAfter filtering:\\n', filtered)        "
   ]
  },
  {
   "cell_type": "markdown",
   "metadata": {},
   "source": [
    "## Functions"
   ]
  },
  {
   "cell_type": "markdown",
   "metadata": {},
   "source": [
    "There are three types of functions:\n",
    "* Python built-in functions, *e.g.* `len()`, `print()`\n",
    "* User defined functions\n",
    "* Lambda functions\n",
    "\n",
    "A function is defined by using the keyword `def`. We must indent the block of statements composing the function. A function can return nothing, *i.e.* no `return` is written in its block, and in this case it is considered it returns `None`. Alternatively, it can return any number of values, stored as lists, tuples, dicts, etc. "
   ]
  },
  {
   "cell_type": "markdown",
   "metadata": {},
   "source": [
    "### User defined functions"
   ]
  },
  {
   "cell_type": "markdown",
   "metadata": {},
   "source": [
    "We jump directly to some examples of user defined functions."
   ]
  },
  {
   "cell_type": "code",
   "execution_count": null,
   "metadata": {
    "ExecuteTime": {
     "end_time": "2022-02-14T13:22:52.444298Z",
     "start_time": "2022-02-14T13:22:52.431314Z"
    }
   },
   "outputs": [],
   "source": [
    "def hello():\n",
    "    print('Hi there')\n",
    "    \n",
    "hello()"
   ]
  },
  {
   "cell_type": "code",
   "execution_count": null,
   "metadata": {
    "ExecuteTime": {
     "end_time": "2022-02-14T13:22:52.460264Z",
     "start_time": "2022-02-14T13:22:52.446264Z"
    }
   },
   "outputs": [],
   "source": [
    "def hello_with_name(name):\n",
    "    \"\"\"\n",
    "    The function takes an argument and shows the message: Hello followed by the argument's value.\n",
    "    It returns the given argument, uppercase\n",
    "    :param name: the name to greet\n",
    "    :return: uppercase :param name:\n",
    "    \"\"\"\n",
    "    ...\n",
    "\n",
    "name = 'David'\n",
    "uppercase_name = hello_with_name(name)\n",
    "print(uppercase_name)\n",
    "help(hello_with_name)\n",
    "print(hello_with_name.__doc__)"
   ]
  },
  {
   "cell_type": "code",
   "execution_count": null,
   "metadata": {
    "ExecuteTime": {
     "end_time": "2022-02-14T13:22:52.476264Z",
     "start_time": "2022-02-14T13:22:52.462283Z"
    }
   },
   "outputs": [],
   "source": [
    "# An example of function returning multiple results at once\n",
    "# The results is a tuple with two values\n",
    "def min_max(a, b):\n",
    "    ...\n",
    "    \n",
    "x, y = 20, 10\n",
    "min_2, max_2 = min_max(x, y)\n",
    "print('Minimum value:', min_2, '; maximum value:', max_2)"
   ]
  },
  {
   "cell_type": "code",
   "execution_count": null,
   "metadata": {
    "ExecuteTime": {
     "end_time": "2022-02-14T13:22:52.492286Z",
     "start_time": "2022-02-14T13:22:52.479265Z"
    }
   },
   "outputs": [],
   "source": [
    "# you can handle the params by specifying their name and value\n",
    "min_max(a=5, b=14)"
   ]
  },
  {
   "cell_type": "code",
   "execution_count": null,
   "metadata": {
    "ExecuteTime": {
     "end_time": "2022-02-14T13:22:52.508264Z",
     "start_time": "2022-02-14T13:22:52.493263Z"
    }
   },
   "outputs": [],
   "source": [
    "# you may swap the order\n",
    "min_max(b=3, a=20)"
   ]
  },
  {
   "cell_type": "markdown",
   "metadata": {},
   "source": [
    "We can specify params with default values, at the end of list of function's params"
   ]
  },
  {
   "cell_type": "code",
   "execution_count": null,
   "metadata": {
    "ExecuteTime": {
     "end_time": "2022-02-14T13:22:52.524291Z",
     "start_time": "2022-02-14T13:22:52.510285Z"
    }
   },
   "outputs": [],
   "source": [
    "def greet(name, msg = \"Good morning!\"):\n",
    "   \"\"\"\n",
    "   This function greets to the person with the provided message.\n",
    "\n",
    "   If message is not provided, it defaults to \"Good morning!\"\n",
    "   :param name: Name of the guy to be greeted\n",
    "   :param msg: a message shown as greeting. It defaults to \"Good morning\"\n",
    "   \"\"\"\n",
    "   print(\"Hello\",name + ', ' + msg)\n",
    "\n",
    "greet(\"Kate\")\n",
    "greet(\"Bruce\",\"How do you do?\")\n",
    "# equivalent: greet(name=\"Bruce\",msg=\"How do you do?\")"
   ]
  },
  {
   "cell_type": "markdown",
   "metadata": {},
   "source": [
    "We can have a parameter with a variable number of values. This type of arg is written with a leading `*` followed by its name, e.g. `*args`."
   ]
  },
  {
   "cell_type": "code",
   "execution_count": null,
   "metadata": {
    "ExecuteTime": {
     "end_time": "2022-02-14T13:22:52.540263Z",
     "start_time": "2022-02-14T13:22:52.525264Z"
    }
   },
   "outputs": [],
   "source": [
    "# Function with variable number of values\n",
    "def greet(*names, msg = \"Good morning!\"):\n",
    "    for name in names:\n",
    "        print('Hello', name + ', ' + msg)\n",
    "        \n",
    "greet('Dan', 'John', 'Mary')      \n",
    "greet('Dan', 'John', 'Mary', msg='How do you do?')"
   ]
  },
  {
   "cell_type": "markdown",
   "metadata": {},
   "source": [
    "One can define functions which manipulate a variable number of params passed as param_name=param_value. The traditional name is `kwargs` (keywords arguments), and its name is prepended with `**`:"
   ]
  },
  {
   "cell_type": "code",
   "execution_count": null,
   "metadata": {
    "ExecuteTime": {
     "end_time": "2022-02-14T13:22:52.556289Z",
     "start_time": "2022-02-14T13:22:52.542265Z"
    }
   },
   "outputs": [],
   "source": [
    "...\n",
    "    \n",
    "demo_kwargs(fruits='apples', quantity='3', measurement_unit='kg')"
   ]
  },
  {
   "cell_type": "markdown",
   "metadata": {},
   "source": [
    "By looking at kwargs above, we realize it is a dictionary under the hood:"
   ]
  },
  {
   "cell_type": "code",
   "execution_count": null,
   "metadata": {
    "ExecuteTime": {
     "end_time": "2022-02-14T13:22:52.571263Z",
     "start_time": "2022-02-14T13:22:52.559264Z"
    }
   },
   "outputs": [],
   "source": [
    "def demo_kwargs_iter(**kwargs):\n",
    "    for key, value in kwargs.items():\n",
    "        print(key, value)\n",
    "        \n",
    "demo_kwargs_iter(fruits='apples', quantity='3', measurement_unit='kg')"
   ]
  },
  {
   "cell_type": "markdown",
   "metadata": {},
   "source": [
    "Using `**` one can unpack a dictionary:"
   ]
  },
  {
   "cell_type": "code",
   "execution_count": null,
   "metadata": {
    "ExecuteTime": {
     "end_time": "2022-02-14T13:22:52.618264Z",
     "start_time": "2022-02-14T13:22:52.611292Z"
    }
   },
   "outputs": [],
   "source": [
    "dictionary_arguments = {'fruits':'apples', 'quantity':'3', 'measurement_unit':'kg'}\n",
    "demo_kwargs(**dictionary_arguments)"
   ]
  },
  {
   "cell_type": "markdown",
   "metadata": {},
   "source": [
    "The params are specified with a specific ordering:\n",
    "1. parameters given by their position\n",
    "1. `*args`\n",
    "1. parametri with default values\n",
    "1. `**kwargs`\n",
    "\n",
    "```python\n",
    "def example2(arg_1, arg_2, *args, param_3=\"shark\", param_4=\"blobfish\", **kwargs):\n",
    "```"
   ]
  },
  {
   "cell_type": "markdown",
   "metadata": {},
   "source": [
    "### Lambda functions"
   ]
  },
  {
   "cell_type": "markdown",
   "metadata": {},
   "source": [
    "You may use lambda funcitons (aka anonymous functions), consisting of a an expression, when a separate function definition is not needed/not reused. A lambda function can take any number of arguments and returns the result based on simple computations. Lambda functions should work only with the passed arguments. The `return` keyword is omitted, the computed expression is the returned result. "
   ]
  },
  {
   "cell_type": "code",
   "execution_count": null,
   "metadata": {
    "ExecuteTime": {
     "end_time": "2022-02-14T13:22:52.665263Z",
     "start_time": "2022-02-14T13:22:52.652264Z"
    }
   },
   "outputs": [],
   "source": [
    "sum_as_lambda = ...\n",
    "print(sum_as_lambda(3, 4))"
   ]
  },
  {
   "cell_type": "code",
   "execution_count": null,
   "metadata": {
    "ExecuteTime": {
     "end_time": "2022-02-14T13:22:52.681263Z",
     "start_time": "2022-02-14T13:22:52.667265Z"
    }
   },
   "outputs": [],
   "source": [
    "# lambda function for value filtering\n",
    "list_30 = list(range(30))\n",
    "filtered = ...\n",
    "print(filtered)"
   ]
  },
  {
   "cell_type": "code",
   "execution_count": null,
   "metadata": {
    "ExecuteTime": {
     "end_time": "2022-02-14T13:22:52.697300Z",
     "start_time": "2022-02-14T13:22:52.682263Z"
    }
   },
   "outputs": [],
   "source": [
    "# lambda function for sorting:\n",
    "sorted(...)"
   ]
  },
  {
   "cell_type": "markdown",
   "metadata": {},
   "source": [
    "### Callback functions"
   ]
  },
  {
   "cell_type": "markdown",
   "metadata": {},
   "source": [
    "In Python, a function's name is a pointer to that function:"
   ]
  },
  {
   "cell_type": "code",
   "execution_count": null,
   "metadata": {
    "ExecuteTime": {
     "end_time": "2022-02-14T13:22:52.713264Z",
     "start_time": "2022-02-14T13:22:52.699265Z"
    }
   },
   "outputs": [],
   "source": [
    "def sum_2(x, y):\n",
    "    return x+y\n",
    "\n",
    "def dif_2(x, y):\n",
    "    return x - y\n",
    "\n",
    "print(sum_2)\n",
    "print(dif_2)"
   ]
  },
  {
   "cell_type": "markdown",
   "metadata": {},
   "source": [
    "We can pass a function by its name as parameters to another functions:"
   ]
  },
  {
   "cell_type": "code",
   "execution_count": null,
   "metadata": {
    "ExecuteTime": {
     "end_time": "2022-02-14T13:22:52.729264Z",
     "start_time": "2022-02-14T13:22:52.714264Z"
    }
   },
   "outputs": [],
   "source": [
    "def complex_operation...\n",
    "\n",
    "print(complex_operation(2, 3, sum_2))\n",
    "print(complex_operation(2, 3, dif_2))"
   ]
  },
  {
   "cell_type": "markdown",
   "metadata": {},
   "source": [
    "## Type annotations"
   ]
  },
  {
   "cell_type": "markdown",
   "metadata": {},
   "source": [
    "Starting with Python 3.5, one cand annotate variables, function's parameters, and their return types. This operation is optional and improves code readability. The annotations are introduced in Python Enhancement Proposal document [PEP484](https://www.python.org/dev/peps/pep-0484/).\n",
    "\n",
    "Aside from readability, one can use code analysis tools, as found for example in PyCharm or [MyPy](http://mypy-lang.org), or you can benefit from improved code completion support.\n",
    "\n",
    "Type annotations are made after annotated entity's name, using colon and type's name:"
   ]
  },
  {
   "cell_type": "code",
   "execution_count": null,
   "metadata": {
    "ExecuteTime": {
     "end_time": "2022-02-14T13:22:52.761282Z",
     "start_time": "2022-02-14T13:22:52.746268Z"
    }
   },
   "outputs": [],
   "source": [
    "age...\n",
    "name..."
   ]
  },
  {
   "cell_type": "markdown",
   "metadata": {},
   "source": [
    "Annotation does not further restict to changing the type of the variable in subsequent statements:"
   ]
  },
  {
   "cell_type": "code",
   "execution_count": null,
   "metadata": {
    "ExecuteTime": {
     "end_time": "2022-02-14T13:22:52.793302Z",
     "start_time": "2022-02-14T13:22:52.786300Z"
    }
   },
   "outputs": [],
   "source": [
    "age = 21.5"
   ]
  },
  {
   "cell_type": "markdown",
   "metadata": {},
   "source": [
    "A short example on function annotation follows:"
   ]
  },
  {
   "cell_type": "code",
   "execution_count": null,
   "metadata": {
    "ExecuteTime": {
     "end_time": "2022-02-14T13:22:52.841304Z",
     "start_time": "2022-02-14T13:22:52.824299Z"
    }
   },
   "outputs": [],
   "source": [
    "def f...\n",
    "\n",
    "f('William',23)"
   ]
  },
  {
   "cell_type": "markdown",
   "metadata": {},
   "source": [
    "For complex types we can use the module `typing`, which provides annotation types like `Dict`, `Tuple`, `List`, `Set`, etc."
   ]
  },
  {
   "cell_type": "code",
   "execution_count": null,
   "metadata": {
    "ExecuteTime": {
     "end_time": "2022-02-14T13:22:52.857300Z",
     "start_time": "2022-02-14T13:22:52.842267Z"
    }
   },
   "outputs": [],
   "source": [
    "from typing import List\n",
    "\n",
    "def mutiple_greetings(names..., ages...) -> None:\n",
    "    for n, v in zip(names, ages):\n",
    "        print(f'Hello {n}, you are {v} years old')\n",
    "        \n",
    "mutiple_greetings(['Ana', 'Dan', 'George'], [20, 21, 22])"
   ]
  },
  {
   "cell_type": "markdown",
   "metadata": {},
   "source": [
    "Se pot defini tipuri utilizator, folosindu-ne de cele disponibile:"
   ]
  },
  {
   "cell_type": "code",
   "execution_count": null,
   "metadata": {
    "ExecuteTime": {
     "end_time": "2022-02-14T13:22:52.873300Z",
     "start_time": "2022-02-14T13:22:52.858266Z"
    }
   },
   "outputs": [],
   "source": [
    "from typing import Tuple\n",
    "\n",
    "Point2D = Tuple[int, int]\n",
    "\n",
    "def plot_point(point: Point2D) -> bool:\n",
    "    ## ...do something\n",
    "    return True\n",
    "\n",
    "def rotate_point(p:Point2D, angle:float) -> Point2D:\n",
    "    ## some statements\n",
    "    ## newPoint = ....\n",
    "    return newPoint"
   ]
  },
  {
   "cell_type": "markdown",
   "metadata": {},
   "source": [
    "If a variable can have more than one possible type, we can do as follows:"
   ]
  },
  {
   "cell_type": "code",
   "execution_count": null,
   "metadata": {
    "ExecuteTime": {
     "end_time": "2022-02-14T13:22:52.889299Z",
     "start_time": "2022-02-14T13:22:52.875268Z"
    }
   },
   "outputs": [],
   "source": [
    "from typing import Union\n",
    "\n",
    "def print_value(value: Union[str, int, float]) -> None:\n",
    "    print(value)"
   ]
  },
  {
   "cell_type": "markdown",
   "metadata": {},
   "source": [
    "If a variable can become `None`, you can annotate it  as:"
   ]
  },
  {
   "cell_type": "code",
   "execution_count": null,
   "metadata": {
    "ExecuteTime": {
     "end_time": "2022-02-14T13:22:52.905304Z",
     "start_time": "2022-02-14T13:22:52.890299Z"
    }
   },
   "outputs": [],
   "source": [
    "from typing import Optional\n",
    "\n",
    "def f(param: ...) -> str:\n",
    "    if param is not None:\n",
    "        return param.upper()\n",
    "    else:\n",
    "        return \"\""
   ]
  },
  {
   "cell_type": "markdown",
   "metadata": {},
   "source": [
    "For more elaborated annotations: callback functions, collections etc. we suggest the interested reader to dive into the bibliography."
   ]
  },
  {
   "cell_type": "markdown",
   "metadata": {},
   "source": [
    "### Recommended bibliography\n",
    "\n",
    "1. [PEP484](https://www.python.org/dev/peps/pep-0484/) \n",
    "1. [typing — Support for type hints](https://docs.python.org/3/library/typing.html)\n",
    "1. [Type hints cheat sheet (Python 3)](https://mypy.readthedocs.io/en/latest/cheat_sheet_py3.html)"
   ]
  },
  {
   "cell_type": "markdown",
   "metadata": {},
   "source": [
    "## Modules"
   ]
  },
  {
   "cell_type": "markdown",
   "metadata": {},
   "source": [
    "A Python module is a file with extenion `py` hosting functions, classes, and variables. Importing of a module is done with the statement `import`. \n",
    "\n",
    "Example: we create a module - file Python mySmartModule.py - containing a function which computes the sum of elements in a list:\n",
    "\n",
    "\n",
    "```python\n",
    "# file mySmartModule.py\n",
    "def my_sum(lst: List[Union[float, int]]) -> Union[float, int]:\n",
    "    sum = 0\n",
    "    for item in lst:\n",
    "        sum += item\n",
    "    return sum\n",
    "```\n",
    "\n",
    "We can use this module as:\n",
    "```python\n",
    "import mySmartModule\n",
    "\n",
    "lst = [1, 2, 3]\n",
    "\n",
    "sum_lst = mySmartModule.my_sum(lst)\n",
    "print(sum_lst)\n",
    "```"
   ]
  },
  {
   "cell_type": "markdown",
   "metadata": {},
   "source": [
    "We can define an alias for the imported module:\n",
    "```python\n",
    "import mySmartModule as msm\n",
    "```\n",
    "and in this case we use it as:\n",
    "```python\n",
    "suma = msm.my_sum(lst)\n",
    "```"
   ]
  },
  {
   "cell_type": "markdown",
   "metadata": {},
   "source": [
    "The content of a module can be found with `dir`:\n",
    "```python\n",
    ">>> dir(msm)\n",
    "['__builtins__', '__cached__', '__doc__', '__file__', '__loader__', '__name__', '__package__', '__spec__', 'my_sum']\n",
    "```\n",
    "\n",
    "The elements with `__` as prefix and suffix are automatically added by Python. "
   ]
  },
  {
   "cell_type": "markdown",
   "metadata": {},
   "source": [
    "If one wants to be able to access all items defined in a module, without using `module_name.item_name`, one can write as follows:\n",
    "```python\n",
    "from mySmartModule import *\n",
    "\n",
    "print(my_sum([1, 2, 3]))\n",
    "```\n",
    "\n",
    "However, it is recommended to import strictly the required items (or to explicitely enumerate all items, if needed), to avoid accidental overwrites of alreay implemented entities with the same name:\n",
    "\n",
    "```python\n",
    "from mySmartModule import my_sum\n",
    "\n",
    "print(my_sum([1, 2, 3]))\n",
    "```"
   ]
  },
  {
   "cell_type": "markdown",
   "metadata": {},
   "source": [
    "When a module is imported, the search order is:\n",
    "1. cuurent directory\n",
    "1. look in the location defined by environment variable `PYTHONPATH`, if defined\n",
    "1. look in the default path\n",
    "\n",
    "The default path is given by the variable `path` from module `sys`:"
   ]
  },
  {
   "cell_type": "code",
   "execution_count": null,
   "metadata": {
    "ExecuteTime": {
     "end_time": "2022-02-14T13:22:52.921300Z",
     "start_time": "2022-02-14T13:22:52.906265Z"
    }
   },
   "outputs": [],
   "source": [
    "import sys\n",
    "print(sys.path)"
   ]
  },
  {
   "cell_type": "markdown",
   "metadata": {},
   "source": [
    "If a user puts a module into a path which is not among the ones above, then she can append it to the `sys.path` variable:"
   ]
  },
  {
   "cell_type": "code",
   "execution_count": null,
   "metadata": {
    "ExecuteTime": {
     "end_time": "2022-02-14T13:22:52.937264Z",
     "start_time": "2022-02-14T13:22:52.925298Z"
    }
   },
   "outputs": [],
   "source": [
    "sys.path.append('./my_modules/')\n",
    "from mySmartModule import my_sum\n",
    "print(my_sum([1, 2, 3]))"
   ]
  },
  {
   "cell_type": "markdown",
   "metadata": {},
   "source": [
    "A module can be used in two ways:\n",
    "1. to expose different function or classes implementations, ot to access predefined varibles (e.g. `math.pi`):\n",
    "```python\n",
    "import math\n",
    "print(math.pi)\n",
    "```\n",
    "2. it can be launched by itself as a script, by writing in command line interface: `python mySmartModule.py`. In this case, the desired code is written inside the Python module `mySmartModule.py` as:\n",
    "```python\n",
    "if __name__ == '__main__':\n",
    "    # code which is executed when one launches thos script\n",
    "```\n",
    "\n",
    "The code under the `if __name__ == '__main__'` will not be executed if the module is imported.\n",
    "\n",
    "Example:\n",
    "```python\n",
    "def my_sum(lista):\n",
    "    sum = 0\n",
    "    for item in lista:\n",
    "        sum += item\n",
    "    return sum\n",
    "\t\n",
    "if __name__ == '__main__':\n",
    "\tprint('Usage example')\n",
    "\ta_list = list(range(100))\n",
    "\tprint(my_sum(a_list))\n",
    "```"
   ]
  },
  {
   "cell_type": "markdown",
   "metadata": {},
   "source": [
    "## Python packages"
   ]
  },
  {
   "cell_type": "markdown",
   "metadata": {},
   "source": [
    "A package is a collections of modules. Phisically, it is a directory cotaining modules and other packages. It is mandatory to have a file named `__init__.py` in any directory which is to be seen as a package. This file might even be empty, at the beginning.\n",
    "\n",
    "We start from the following structure:\n",
    "```\n",
    "---myUtils\\\n",
    " |------ mySmartModule.py\n",
    " |------ __init__.py\n",
    "```"
   ]
  },
  {
   "cell_type": "markdown",
   "metadata": {},
   "source": [
    "To import the function `my_sum` from module `mySmartModule.py` which is situated in directory (package) `myUtils` we could write:\n",
    "```python\n",
    "from myUtils.mySmartModule import my_sum\n",
    "print(my_sum([1, 2, 3]))\n",
    "```\n",
    "but we would like to write it more briefly:\n",
    "```python\n",
    "from myUtils import my_sum\n",
    "print(my_sum([1, 2, 30]))\n",
    "```\n",
    "that is to acoid explicitely mentioning the module `mySmartModule` from within package `myUtils`. To do this, we will add into the file `__init__.py` from within `myUtils` the line:\n",
    "```python\n",
    "from .mySmartModule import my_sum \n",
    "```\n",
    "where the leading `.` refers to relative path. "
   ]
  },
  {
   "cell_type": "code",
   "execution_count": null,
   "metadata": {
    "ExecuteTime": {
     "end_time": "2022-02-14T13:22:52.953263Z",
     "start_time": "2022-02-14T13:22:52.938265Z"
    }
   },
   "outputs": [],
   "source": [
    "from myUtils.mySmartModule import my_sum\n",
    "print(my_sum([1, 2, 10, 300]))"
   ]
  },
  {
   "cell_type": "code",
   "execution_count": null,
   "metadata": {
    "ExecuteTime": {
     "end_time": "2022-02-14T13:22:52.969263Z",
     "start_time": "2022-02-14T13:22:52.954264Z"
    }
   },
   "outputs": [],
   "source": [
    "from myUtils import my_sum\n",
    "print(my_sum([1, 2, 10, 300]))"
   ]
  },
  {
   "cell_type": "markdown",
   "metadata": {},
   "source": [
    "One puts into `__init__.py` everything which is related to package's intitialization, e.g. loading data from disc or setting some variables to proper values."
   ]
  },
  {
   "cell_type": "markdown",
   "metadata": {},
   "source": [
    "If you want to create packages to be use dby a large comunity, and to publish them on PyPI, please folow [this tutorial](https://python-packaging.readthedocs.io/en/latest/)."
   ]
  },
  {
   "cell_type": "markdown",
   "metadata": {},
   "source": [
    "Other shotr examples of package usage follow:"
   ]
  },
  {
   "cell_type": "code",
   "execution_count": null,
   "metadata": {
    "ExecuteTime": {
     "end_time": "2022-02-14T13:22:52.985265Z",
     "start_time": "2022-02-14T13:22:52.981298Z"
    }
   },
   "outputs": [],
   "source": [
    "import re # package for regular expressions\n",
    "my_string = 'I bought: apples, pies, bread... and coffee'\n",
    "tokens = re.split(r'\\W+', my_string)\n",
    "print(tokens)"
   ]
  },
  {
   "cell_type": "code",
   "execution_count": null,
   "metadata": {
    "ExecuteTime": {
     "end_time": "2022-02-14T13:22:53.031300Z",
     "start_time": "2022-02-14T13:22:52.987265Z"
    }
   },
   "outputs": [],
   "source": [
    "# Serialize values with pickle\n",
    "import pickle\n",
    "\n",
    "toys = { \"lion\": \"yellow\", \"kitty\": \"red\" }\n",
    "\n",
    "pickle.dump( toys, open( \"toys.pkl\", \"wb\" ) )\n",
    "del toys # no longer needed, will recover it from pickle file\n",
    "\n",
    "# restore it\n",
    "toys_restored = pickle.load( open( \"toys.pkl\", \"rb\" ) )\n",
    "print('After deserialization:', toys_restored)\n",
    "\n",
    "!del toys.pkl # remove the pickle file from the disk"
   ]
  },
  {
   "cell_type": "markdown",
   "metadata": {},
   "source": [
    "## The NumPy package"
   ]
  },
  {
   "cell_type": "markdown",
   "metadata": {},
   "source": [
    "NumPy (Numerical Python) is the core package for scientific computations in Python. It supports vectors and multidimensional matrices (tensors), functions for random number generation, linear algebra, signal processing, basic stats, etc. NumPy is a standard used by other packages. The manipulated data must fit RAM memory. NumPy relies on  C compiled code. \n",
    "\n",
    "In many situations data can be converted to numbers:\n",
    "* an image in grey can be seen as a 2d matrix; every number is the intensity of the corresponding pixel  (0 - black, 255 - white)\n",
    "![Imagine minsi scalata 0-1](./images/mnist_image.png)\n",
    "* a colour image can be seen as a 3d matrix, of represented as RGB: the \"parallel\" matrices are representing a colour channel:\n",
    "![Imagine RGB descompusa in 3 canale](./images/channelsrgb.gif)\n",
    "* an audio file can be seen as one or more vectors, where the number of vectors is the number of recoring channels. For a wav file, the values represent membrane's displacement, sampled in time:\n",
    "![sunet](./images/sound.png)\n",
    "* a text can be translated in numerical vectors by using techniques as [Bag of words](https://en.wikipedia.org/wiki/Bag-of-words_model), [Word2vec](https://en.wikipedia.org/wiki/Word2vec), or any other type of embedding.\n",
    "\n",
    "Vector and matrix representation used by NumPy is much more efficient than Python lists. The NumPy code actually uses native libraries, not interpreted code. If you vectorize you code, the efficiency is even greater on actual CPUs. \n",
    "\n",
    "The basci data typoe from NumPy is `ndarray` - n-dimensional array. "
   ]
  },
  {
   "cell_type": "code",
   "execution_count": null,
   "metadata": {
    "ExecuteTime": {
     "end_time": "2022-02-14T13:22:53.427264Z",
     "start_time": "2022-02-14T13:22:53.033301Z"
    }
   },
   "outputs": [],
   "source": [
    "# importing numpy, traditionally aliased as np\n",
    "import numpy as np\n",
    "\n",
    "# create a vector starting from a Python list\n",
    "x = np.array([1, 4, 2, 5, 3])\n",
    "\n",
    "# printing x's type\n",
    "print(...) \n",
    "\n",
    "# all the elements in the array are of the same type\n",
    "print(...) \n",
    "\n",
    "# you can explicitely specify the underlying type in the array\n",
    "y = np.array([1, 2, 3], dtype=np.float16)\n",
    "print(y.dtype)"
   ]
  },
  {
   "cell_type": "code",
   "execution_count": null,
   "metadata": {
    "ExecuteTime": {
     "end_time": "2022-02-14T13:22:53.443264Z",
     "start_time": "2022-02-14T13:22:53.428265Z"
    }
   },
   "outputs": [],
   "source": [
    "# useful functions\n",
    "all_zeros = ...\n",
    "print(all_zeros)\n",
    "# printing number of elements on each dimension (axis)\n",
    "print(...)"
   ]
  },
  {
   "cell_type": "code",
   "execution_count": null,
   "metadata": {
    "ExecuteTime": {
     "end_time": "2022-02-14T13:22:53.458264Z",
     "start_time": "2022-02-14T13:22:53.445264Z"
    }
   },
   "outputs": [],
   "source": [
    "# 2d matrix\n",
    "mat = ...   # note we start from lists of lists\n",
    "print(mat)\n",
    "print(mat.shape)\n",
    "print(mat[0, 1])"
   ]
  },
  {
   "cell_type": "code",
   "execution_count": null,
   "metadata": {
    "ExecuteTime": {
     "end_time": "2022-02-14T13:22:53.474301Z",
     "start_time": "2022-02-14T13:22:53.459264Z"
    }
   },
   "outputs": [],
   "source": [
    "# matrix with the same value:\n",
    "mat_7 = np.ones((4, 10)) * 7\n",
    "print(mat_7)"
   ]
  },
  {
   "cell_type": "markdown",
   "metadata": {},
   "source": [
    "The number of dimensions of a matrix is given by:"
   ]
  },
  {
   "cell_type": "code",
   "execution_count": null,
   "metadata": {
    "ExecuteTime": {
     "end_time": "2022-02-14T13:22:53.490264Z",
     "start_time": "2022-02-14T13:22:53.476266Z"
    }
   },
   "outputs": [],
   "source": [
    "print('Number of dimensions of all_zeros:', all_zeros.ndim)\n",
    "print('Number of dimensions of mat:', mat.ndim)"
   ]
  },
  {
   "cell_type": "markdown",
   "metadata": {},
   "source": [
    "The total number of elements, byte size of an element are found as:"
   ]
  },
  {
   "cell_type": "code",
   "execution_count": null,
   "metadata": {
    "ExecuteTime": {
     "end_time": "2022-02-14T13:22:53.506300Z",
     "start_time": "2022-02-14T13:22:53.491299Z"
    }
   },
   "outputs": [],
   "source": [
    "print('mat size: {0}\\nmat element size: {1} bytes\\nmat.dtype:{2}'.format(mat.size, mat.itemsize, mat.dtype))"
   ]
  },
  {
   "cell_type": "code",
   "execution_count": null,
   "metadata": {
    "ExecuteTime": {
     "end_time": "2022-02-14T13:22:53.522301Z",
     "start_time": "2022-02-14T13:22:53.507263Z"
    }
   },
   "outputs": [],
   "source": [
    "# usefull cases\n",
    "all_pi = np.full((3, 2), np.pi)\n",
    "\n",
    "print(all_pi)\n",
    "print(np.eye(3))"
   ]
  },
  {
   "cell_type": "code",
   "execution_count": null,
   "metadata": {
    "ExecuteTime": {
     "end_time": "2022-02-14T13:22:53.538267Z",
     "start_time": "2022-02-14T13:22:53.523266Z"
    }
   },
   "outputs": [],
   "source": [
    "# equally spaced values in an interval; the interval bounds are part of the vector\n",
    "print(np.linspace(0, 10, 5))"
   ]
  },
  {
   "cell_type": "code",
   "execution_count": null,
   "metadata": {
    "ExecuteTime": {
     "end_time": "2022-02-14T13:22:53.554264Z",
     "start_time": "2022-02-14T13:22:53.540265Z"
    }
   },
   "outputs": [],
   "source": [
    "# `arange` works identically with Python's range function\n",
    "some_values = ...\n",
    "print(some_values)\n",
    "print(type(some_values))"
   ]
  },
  {
   "cell_type": "code",
   "execution_count": null,
   "metadata": {
    "ExecuteTime": {
     "end_time": "2022-02-14T13:22:53.570263Z",
     "start_time": "2022-02-14T13:22:53.555264Z"
    }
   },
   "outputs": [],
   "source": [
    "# random numbers\n",
    "x = ...\n",
    "print(x)"
   ]
  },
  {
   "cell_type": "markdown",
   "metadata": {},
   "source": [
    "Tipurile de date folosibile pentru ndarrays sunt:\n",
    "\n",
    "| Type  | Explanation |\n",
    "| ---- | -----------|\n",
    "| bool_ | \tBoolean (True or False) stored as a byte | \n",
    "| int_ | \tDefault integer type (same as C long; normally either int64 or int32) | \n",
    "| intc | \tIdentical to C int (normally int32 or int64) | \n",
    "| intp | \tInteger used for indexing (same as C ssize_t; normally either int32 or int64) | \n",
    "| int8 | \tByte (-128 to 127) | \n",
    "| int16 | \tInteger (-32768 to 32767) | \n",
    "| int32 | \tInteger (-2147483648 to 2147483647) | \n",
    "| int64 | \tInteger (-9223372036854775808 to 9223372036854775807) | \n",
    "| uint8 | \tUnsigned integer (0 to 255) | \n",
    "| uint16 | \tUnsigned integer (0 to 65535) | \n",
    "| uint32 | \tUnsigned integer (0 to 4294967295) | \n",
    "| uint64 | \tUnsigned integer (0 to 18446744073709551615) | \n",
    "| float_ | \tShorthand for float64. | \n",
    "| float16 | \tHalf precision float: sign bit, 5 bits exponent, 10 bits mantissa | \n",
    "| float32 | \tSingle precision float: sign bit, 8 bits exponent, 23 bits mantissa | \n",
    "| float64 | \tDouble precision float: sign bit, 11 bits exponent, 52 bits mantissa | \n",
    "| complex_ | \tShorthand for complex128. | \n",
    "| complex64 | \tComplex number, represented by two 32-bit floats (real and imaginary components) | \n",
    "| complex128 | \tComplex number, represented by two 64-bit floats (real and imaginary components) |"
   ]
  },
  {
   "cell_type": "markdown",
   "metadata": {},
   "source": [
    "A popular operation is taking an array and changin its shape:"
   ]
  },
  {
   "cell_type": "code",
   "execution_count": null,
   "metadata": {
    "ExecuteTime": {
     "end_time": "2022-02-14T13:22:53.586263Z",
     "start_time": "2022-02-14T13:22:53.571265Z"
    }
   },
   "outputs": [],
   "source": [
    "# from a vector to a matrix\n",
    "vec = np.arange(10)\n",
    "mat = vec.reshape(2, 5)\n",
    "print(vec)\n",
    "print(mat)"
   ]
  },
  {
   "cell_type": "code",
   "execution_count": null,
   "metadata": {
    "ExecuteTime": {
     "end_time": "2022-02-14T13:22:53.601264Z",
     "start_time": "2022-02-14T13:22:53.587264Z"
    }
   },
   "outputs": [],
   "source": [
    "#...and vice versa:\n",
    "vec2 = mat.flatten()\n",
    "print(vec2)"
   ]
  },
  {
   "cell_type": "markdown",
   "metadata": {},
   "source": [
    "Matrices can be concatenated; the concatenation dimension (axis) should be specified:"
   ]
  },
  {
   "cell_type": "code",
   "execution_count": null,
   "metadata": {
    "ExecuteTime": {
     "end_time": "2022-02-14T13:22:53.617263Z",
     "start_time": "2022-02-14T13:22:53.603268Z"
    }
   },
   "outputs": [],
   "source": [
    "a = np.array([[1, 2], [3, 4]], float)\n",
    "b = np.array([[5, 6], [7,8]], float)"
   ]
  },
  {
   "cell_type": "code",
   "execution_count": null,
   "metadata": {
    "ExecuteTime": {
     "end_time": "2022-02-14T13:22:53.633264Z",
     "start_time": "2022-02-14T13:22:53.618264Z"
    }
   },
   "outputs": [],
   "source": [
    "# vertical concatenation (stacking)\n",
    "vertical = np....\n",
    "print(vertical)"
   ]
  },
  {
   "cell_type": "markdown",
   "metadata": {},
   "source": [
    "The axis concept is defined for matrices with at least two dimensions. For a 2D matrix, the axis 0 sweeps the matrix vertically, while axis 1 sweeps it horizontally."
   ]
  },
  {
   "cell_type": "code",
   "execution_count": null,
   "metadata": {
    "ExecuteTime": {
     "end_time": "2022-02-14T13:22:53.649298Z",
     "start_time": "2022-02-14T13:22:53.634283Z"
    }
   },
   "outputs": [],
   "source": [
    "# horizontal concatenation\n",
    "horizontal = np...\n",
    "print(horizontal)"
   ]
  },
  {
   "cell_type": "code",
   "execution_count": null,
   "metadata": {
    "ExecuteTime": {
     "end_time": "2022-02-14T13:22:53.664264Z",
     "start_time": "2022-02-14T13:22:53.651284Z"
    }
   },
   "outputs": [],
   "source": [
    "# same as:\n",
    "vertical = np.vstack((a, b))\n",
    "horizontal = np.hstack((a, b))\n",
    "print(vertical)\n",
    "print(horizontal)"
   ]
  },
  {
   "cell_type": "code",
   "execution_count": null,
   "metadata": {
    "ExecuteTime": {
     "end_time": "2022-02-14T13:22:53.680265Z",
     "start_time": "2022-02-14T13:22:53.665265Z"
    }
   },
   "outputs": [],
   "source": [
    "matrix = np.arange(15).reshape(3, 5)\n",
    "print(matrix)"
   ]
  },
  {
   "cell_type": "code",
   "execution_count": null,
   "metadata": {
    "ExecuteTime": {
     "end_time": "2022-02-14T13:22:53.696301Z",
     "start_time": "2022-02-14T13:22:53.682274Z"
    }
   },
   "outputs": [],
   "source": [
    "sum_by_columns= ...\n",
    "print(sum_by_columns)"
   ]
  },
  {
   "cell_type": "code",
   "execution_count": null,
   "metadata": {
    "ExecuteTime": {
     "end_time": "2022-02-14T13:22:53.712264Z",
     "start_time": "2022-02-14T13:22:53.697264Z"
    }
   },
   "outputs": [],
   "source": [
    "sum_by_rows= ...\n",
    "print(sum_by_rows)"
   ]
  },
  {
   "cell_type": "markdown",
   "metadata": {},
   "source": [
    "### Operations with `ndarrays`\n",
    "\n",
    "Sunt implementate operatiile matematice uzuale din algebra liniara: inmultire cu scalari, adunare, scadere, inmultire de matrice.\n",
    "\n",
    "Exemple:\n",
    "* adunare\n",
    "* produs Hadamard, produs matricial, produs scalar:"
   ]
  },
  {
   "cell_type": "code",
   "execution_count": null,
   "metadata": {
    "ExecuteTime": {
     "end_time": "2022-02-14T13:22:53.728265Z",
     "start_time": "2022-02-14T13:22:53.713264Z"
    }
   },
   "outputs": [],
   "source": [
    "# multiplying by a scalar\n",
    "a = np.array([[1, 2, 3], [4, 5, 6]])\n",
    "print('a=\\n', a)\n",
    "b = ...\n",
    "print('b=\\n', b)"
   ]
  },
  {
   "cell_type": "code",
   "execution_count": null,
   "metadata": {
    "ExecuteTime": {
     "end_time": "2022-02-14T13:22:53.744266Z",
     "start_time": "2022-02-14T13:22:53.729265Z"
    }
   },
   "outputs": [],
   "source": [
    "# add and substract\n",
    "sum_mat = a + b\n",
    "print(sum_mat)\n",
    "diff_mat = a - b\n",
    "print(diff_mat)"
   ]
  },
  {
   "cell_type": "markdown",
   "metadata": {},
   "source": [
    "The multiplication operator \\* is implemented in a different way from linear algebra: For two matrices with \n",
    "same shapes the elements at the same coordinates are multiplied: c[i, j] = a[i, j] * b[i, j]. This is called pointwise multiplication, or Hadamard product, and it is often used in signal processing and machine learning"
   ]
  },
  {
   "cell_type": "code",
   "execution_count": null,
   "metadata": {
    "ExecuteTime": {
     "end_time": "2022-02-14T13:22:53.760264Z",
     "start_time": "2022-02-14T13:22:53.745266Z"
    }
   },
   "outputs": [],
   "source": [
    "# multiplication by * leads to Hadamard product: c[i, j] = a[i, j] * b[i, j]\n",
    "c = a*b\n",
    "print(c)\n",
    "for i in range(c.shape[0]):  # c.shape[0] = number of rows of matrix c\n",
    "    for j in range(c.shape[1]): # c.shape[1] = number of columns of matrix c\n",
    "        print(c[i, j] == a[i, j] * b[i, j])"
   ]
  },
  {
   "cell_type": "markdown",
   "metadata": {},
   "source": [
    "The above operations are using linear algebra libraries, which are optimized for the current microprocessors. It is recommended to use them instead of (nested) for cycles:"
   ]
  },
  {
   "cell_type": "code",
   "execution_count": null,
   "metadata": {
    "ExecuteTime": {
     "end_time": "2022-02-14T13:22:53.776301Z",
     "start_time": "2022-02-14T13:22:53.761265Z"
    }
   },
   "outputs": [],
   "source": [
    "# create matrices\n",
    "matrix_shape = (100, 100)\n",
    "a_big = np.random.random(matrix_shape)\n",
    "b_big = np.random.random(matrix_shape)"
   ]
  },
  {
   "cell_type": "code",
   "execution_count": null,
   "metadata": {
    "ExecuteTime": {
     "end_time": "2022-02-14T13:22:57.163662Z",
     "start_time": "2022-02-14T13:22:53.778283Z"
    }
   },
   "outputs": [],
   "source": [
    "%%timeit\n",
    "c_big = np.empty_like(a_big)\n",
    "for i in range(c_big.shape[0]):\n",
    "    for j in range(c_big.shape[1]):\n",
    "        c_big[i, j] = a_big[i, j] * b_big[i, j]"
   ]
  },
  {
   "cell_type": "code",
   "execution_count": null,
   "metadata": {
    "ExecuteTime": {
     "end_time": "2022-02-14T13:23:00.868653Z",
     "start_time": "2022-02-14T13:22:57.165629Z"
    }
   },
   "outputs": [],
   "source": [
    "%%timeit\n",
    "c_big = a_big * b_big"
   ]
  },
  {
   "cell_type": "code",
   "execution_count": null,
   "metadata": {
    "ExecuteTime": {
     "end_time": "2022-02-14T13:23:00.884653Z",
     "start_time": "2022-02-14T13:23:00.869653Z"
    }
   },
   "outputs": [],
   "source": [
    "# 'raising to power' using ** : each element of the matrix is individually raised to that power.\n",
    "print('initial matrix:\\n', a)\n",
    "a_to_the_power_of_2 = a ** 2\n",
    "print('after squaring each component:\\n', a_to_the_power_of_2)\n",
    "power_3 = np.power(a, 3)\n",
    "print('after raising to the power of 3:\\n', power_3)"
   ]
  },
  {
   "cell_type": "markdown",
   "metadata": {},
   "source": [
    "You can use the / operator to get pointwise division (element by element) of two matrices:"
   ]
  },
  {
   "cell_type": "code",
   "execution_count": null,
   "metadata": {
    "ExecuteTime": {
     "end_time": "2022-02-14T13:23:00.900654Z",
     "start_time": "2022-02-14T13:23:00.889655Z"
    }
   },
   "outputs": [],
   "source": [
    "print('a=', a)\n",
    "print('b=', b)\n",
    "print('a/b=', a/b)"
   ]
  },
  {
   "cell_type": "code",
   "execution_count": null,
   "metadata": {
    "ExecuteTime": {
     "end_time": "2022-02-14T13:23:00.916687Z",
     "start_time": "2022-02-14T13:23:00.902655Z"
    }
   },
   "outputs": [],
   "source": [
    "# raising a square matrix to a power, as defined in linear algebra\n",
    "square_matrix = np.array([[1, 2, 3], [4, 5, 6], [7, 8, 9]])\n",
    "pow_3 = np.linalg.\n",
    "print(pow_3)"
   ]
  },
  {
   "cell_type": "markdown",
   "metadata": {},
   "source": [
    "If you call a Numpy-defined numerical function on an ndarray, the result will be an ndarray of same shape as the original one. Its elements are computed by applying the function on each of the initial matrix componets, one by one:"
   ]
  },
  {
   "cell_type": "code",
   "execution_count": null,
   "metadata": {
    "ExecuteTime": {
     "end_time": "2022-02-14T13:23:00.932653Z",
     "start_time": "2022-02-14T13:23:00.918655Z"
    }
   },
   "outputs": [],
   "source": [
    "x = np.arange(6).reshape(2, 3)\n",
    "print(x)\n",
    "y = np.exp(x)\n",
    "assert x.shape == y.shape\n",
    "for i in range(0, x.shape[0]):\n",
    "    for j in range(0, x.shape[1]):\n",
    "        assert ..."
   ]
  },
  {
   "cell_type": "code",
   "execution_count": null,
   "metadata": {
    "ExecuteTime": {
     "end_time": "2022-02-14T13:23:00.964671Z",
     "start_time": "2022-02-14T13:23:00.934659Z"
    }
   },
   "outputs": [],
   "source": [
    "# linear-algebra style matrix product\n",
    "a = np.random.rand(3, 5)\n",
    "b = np.random.rand(5, 10)\n",
    "assert a.shape[1] == b.shape[0]\n",
    "c = np....\n",
    "# equivalent form\n",
    "c = a....\n",
    "assert a.shape[0] == c.shape[0] and b.shape[1] == c.shape[1]\n",
    "# or even shorter:\n",
    "c = a@b"
   ]
  },
  {
   "cell_type": "markdown",
   "metadata": {},
   "source": [
    "NumPy defines a whole pletora of functions: `all, any, apply_along_axis, argmax, argmin, argsort, average, bincount, ceil, clip, conj, corrcoef, cov, cross, cumprod, cumsum, diff, dot, floor, inner, inv, lexsort, max, maximum, mean, median, min, minimum, nonzero, outer, prod, re, round, sort, std, sum, trace, transpose, var, vdot, vectorize, where` - [docs here](https://docs.scipy.org/doc/numpy-dev/reference/generated/)."
   ]
  },
  {
   "cell_type": "markdown",
   "metadata": {},
   "source": [
    "## Indexing \n",
    "\n",
    "So far, we used individual indices to refer to particular elements in a NumPy array:\n",
    "```python\n",
    "vector[index]\n",
    "# or\n",
    "matrix[i, j]\n",
    "```"
   ]
  },
  {
   "cell_type": "code",
   "execution_count": null,
   "metadata": {
    "ExecuteTime": {
     "end_time": "2022-02-14T13:23:00.980656Z",
     "start_time": "2022-02-14T13:23:00.965657Z"
    }
   },
   "outputs": [],
   "source": [
    "vector = np.arange(10)\n",
    "print(vector)\n",
    "print('vector[4]={0}'.format(vector[4]))"
   ]
  },
  {
   "cell_type": "code",
   "execution_count": null,
   "metadata": {
    "ExecuteTime": {
     "end_time": "2022-02-14T13:23:00.996654Z",
     "start_time": "2022-02-14T13:23:00.981655Z"
    }
   },
   "outputs": [],
   "source": [
    "matrix = np.arange(12).reshape(3, 4)\n",
    "print(matrix)\n",
    "print(matrix[2, 1])"
   ]
  },
  {
   "cell_type": "markdown",
   "metadata": {},
   "source": [
    "For a matrix one can use indices as:\n",
    "```python\n",
    "m[i][j] \n",
    "```\n",
    "but this is innefficient compared to `m[i,j]`, as in the former case a temporary copy ofrow `i` is done, and from this one the element at index `j` is picked."
   ]
  },
  {
   "cell_type": "markdown",
   "metadata": {},
   "source": [
    "By using `slicing`, one can refer to a whole subset of elements. For example, for vectors one gets:"
   ]
  },
  {
   "cell_type": "code",
   "execution_count": null,
   "metadata": {
    "ExecuteTime": {
     "end_time": "2022-02-14T13:23:01.012687Z",
     "start_time": "2022-02-14T13:23:00.997654Z"
    }
   },
   "outputs": [],
   "source": [
    "vector = 10 * np.arange(10)\n",
    "print(vector)\n",
    "print(...) # note that the rightmost boundary is not used for selection; the elements are retrieved up to index 6-1"
   ]
  },
  {
   "cell_type": "code",
   "execution_count": null,
   "metadata": {
    "ExecuteTime": {
     "end_time": "2022-02-14T13:23:01.028694Z",
     "start_time": "2022-02-14T13:23:01.013653Z"
    }
   },
   "outputs": [],
   "source": [
    "indices = [1, 3, 2, 7]\n",
    "print(vector)\n",
    "print(...)"
   ]
  },
  {
   "cell_type": "code",
   "execution_count": null,
   "metadata": {
    "ExecuteTime": {
     "end_time": "2022-02-14T13:23:01.044657Z",
     "start_time": "2022-02-14T13:23:01.029695Z"
    }
   },
   "outputs": [],
   "source": [
    "# or we can use a sequence of indices, with initial/step/final value given\n",
    "vector[...]"
   ]
  },
  {
   "cell_type": "markdown",
   "metadata": {},
   "source": [
    "For a matrix you can use:"
   ]
  },
  {
   "cell_type": "code",
   "execution_count": null,
   "metadata": {
    "ExecuteTime": {
     "end_time": "2022-02-14T13:23:01.060658Z",
     "start_time": "2022-02-14T13:23:01.046654Z"
    }
   },
   "outputs": [],
   "source": [
    "matrix = 10 * np.arange(20).reshape(4, 5)\n",
    "print(matrix)"
   ]
  },
  {
   "cell_type": "code",
   "execution_count": null,
   "metadata": {
    "ExecuteTime": {
     "end_time": "2022-02-14T13:23:01.076654Z",
     "start_time": "2022-02-14T13:23:01.061658Z"
    }
   },
   "outputs": [],
   "source": [
    "print(matrix[1,])\n",
    "# which is the same with the more explicit form:\n",
    "print(matrix[...])"
   ]
  },
  {
   "cell_type": "code",
   "execution_count": null,
   "metadata": {
    "ExecuteTime": {
     "end_time": "2022-02-14T13:23:01.092695Z",
     "start_time": "2022-02-14T13:23:01.077655Z"
    }
   },
   "outputs": [],
   "source": [
    "# you can slice indices, on any axis\n",
    "matrix[1:3, :]"
   ]
  },
  {
   "cell_type": "code",
   "execution_count": null,
   "metadata": {
    "ExecuteTime": {
     "end_time": "2022-02-14T13:23:01.108694Z",
     "start_time": "2022-02-14T13:23:01.094654Z"
    }
   },
   "outputs": [],
   "source": [
    "# slicing on avery axis\n",
    "matrix[1:3, 2:4]"
   ]
  },
  {
   "cell_type": "markdown",
   "metadata": {},
   "source": [
    "### Logical indexing\n",
    "\n",
    "You can execute logical operations against the elements of a NumPy array. As a result of this, you will obtain an ndarray of the same shape as the initial array, filled in with `True` and `False`. The exact boolean value is the result of the logical operation on each value:"
   ]
  },
  {
   "cell_type": "code",
   "execution_count": null,
   "metadata": {
    "ExecuteTime": {
     "end_time": "2022-02-14T13:23:01.124694Z",
     "start_time": "2022-02-14T13:23:01.109694Z"
    }
   },
   "outputs": [],
   "source": [
    "a = np.array([[1,2], [3, 4], [5, 6]])\n",
    "print(a)\n",
    "print(a > 2)"
   ]
  },
  {
   "cell_type": "markdown",
   "metadata": {},
   "source": [
    "Furthermore, the resulted nparray can be used for indexing. You will get only those elements for which the boolean operation yielded `True`:"
   ]
  },
  {
   "cell_type": "code",
   "execution_count": null,
   "metadata": {
    "ExecuteTime": {
     "end_time": "2022-02-14T13:23:01.140687Z",
     "start_time": "2022-02-14T13:23:01.125695Z"
    }
   },
   "outputs": [],
   "source": [
    "larger_than_2 = a > 2\n",
    "print(a[larger_than_2])\n",
    "# direct approach\n",
    "print(a[a>2])\n",
    "\n",
    "# Note that the initial shape of a is lost. Can you explain why?"
   ]
  },
  {
   "cell_type": "markdown",
   "metadata": {},
   "source": [
    "For joint conditions one can use boolean operators. For example, to select elements which are larger than 2, but smaller than 6, one writes:"
   ]
  },
  {
   "cell_type": "code",
   "execution_count": null,
   "metadata": {
    "ExecuteTime": {
     "end_time": "2022-02-14T13:23:01.156654Z",
     "start_time": "2022-02-14T13:23:01.142656Z"
    }
   },
   "outputs": [],
   "source": [
    "a[np.logical_and(a > 2, a < 6)]"
   ]
  },
  {
   "cell_type": "markdown",
   "metadata": {},
   "source": [
    "Similar operators are: `np.logical_or`, `np.logical_not`, `np.logical_xor`."
   ]
  },
  {
   "cell_type": "markdown",
   "metadata": {},
   "source": [
    "A popular request for ndarrays is getting those FP elements which are defined - i.e. those which are not NaNs (NaN = not a number, values resulted due to invalid operations like: 0/0, np.sqrt(-1), np.log(-1), etc.):"
   ]
  },
  {
   "cell_type": "code",
   "execution_count": null,
   "metadata": {
    "ExecuteTime": {
     "end_time": "2022-02-14T13:23:01.172653Z",
     "start_time": "2022-02-14T13:23:01.157690Z"
    }
   },
   "outputs": [],
   "source": [
    "tab = np.array([[1.0, 2.3, np.nan, 4], [10, np.nan, np.nan, 0]])\n",
    "print(tab[~np.isnan(tab)])"
   ]
  },
  {
   "cell_type": "markdown",
   "metadata": {},
   "source": [
    "In all cases, indexing returns a view of the initial array. Modifications done on this view will actually update the underlying initial array:"
   ]
  },
  {
   "cell_type": "code",
   "execution_count": null,
   "metadata": {
    "ExecuteTime": {
     "end_time": "2022-02-14T13:23:01.187653Z",
     "start_time": "2022-02-14T13:23:01.173654Z"
    },
    "scrolled": true
   },
   "outputs": [],
   "source": [
    "print('Before:\\n', tab)\n",
    "tab[...] = 0.0\n",
    "print('After:\\n', tab)"
   ]
  },
  {
   "cell_type": "markdown",
   "metadata": {},
   "source": [
    "Logical indexing allows selection of the elements in an array whose contents is to be changed:"
   ]
  },
  {
   "cell_type": "code",
   "execution_count": null,
   "metadata": {
    "ExecuteTime": {
     "end_time": "2022-02-14T13:23:01.202654Z",
     "start_time": "2022-02-14T13:23:01.188655Z"
    }
   },
   "outputs": [],
   "source": [
    "# even numbers are multiplied by 10, the other ones remain unchanged \n",
    "matrix = np.array([[1, 2, 3, 4], [5, 6, 7, 8]])\n",
    "print('Before update:\\n', matrix)\n",
    "matrix[...] *= 10\n",
    "print('After update:\\n', matrix)"
   ]
  },
  {
   "cell_type": "markdown",
   "metadata": {},
   "source": [
    "You may perform update on a specific axis:"
   ]
  },
  {
   "cell_type": "code",
   "execution_count": null,
   "metadata": {
    "ExecuteTime": {
     "end_time": "2022-02-14T13:23:01.218654Z",
     "start_time": "2022-02-14T13:23:01.203655Z"
    }
   },
   "outputs": [],
   "source": [
    "matrix = np.array([[1, 2, 3, 4], [5, 6, 7, 8]], dtype=np.float32)\n",
    "print('Before update:\\n', matrix)\n",
    "# columns 0, 2, 3 will be updated\n",
    "bool_columns = [...]\n",
    "matrix[:, bool_columns] = (matrix[:, bool_columns] +3 )/10\n",
    "print('After update\\n', matrix)"
   ]
  },
  {
   "cell_type": "markdown",
   "metadata": {},
   "source": [
    "### Recommended bibliography \n",
    "1. https://docs.scipy.org/doc/numpy-1.13.0/glossary.html\n",
    "1. https://engineering.ucsb.edu/~shell/che210d/numpy.pdf\n",
    "1. http://www.scipy-lectures.org/intro/numpy/numpy.html#indexing-and-slicing"
   ]
  },
  {
   "cell_type": "markdown",
   "metadata": {},
   "source": [
    "## Broadcasting"
   ]
  },
  {
   "cell_type": "markdown",
   "metadata": {},
   "source": [
    "Broadcasting allows operations with matrices of incompatible dimensions, under specific circumstances. For example, following the mathematical definition of matrix addiction, the matrices `a` and `b`b below cannt be added:"
   ]
  },
  {
   "cell_type": "code",
   "execution_count": null,
   "metadata": {
    "ExecuteTime": {
     "end_time": "2022-02-14T13:23:01.233654Z",
     "start_time": "2022-02-14T13:23:01.219655Z"
    },
    "scrolled": true
   },
   "outputs": [],
   "source": [
    "a = np.array([[0.0,0.0,0.0],[10.0,10.0,10.0],[20.0,20.0,20.0],[30.0,30.0,30.0]]) \n",
    "b = np.array([0.0,1.0,2.0])  \n",
    "\n",
    "print('a=\\n{0}\\n'.format(a))\n",
    "print('b=\\n{0}\\n'.format(b))"
   ]
  },
  {
   "cell_type": "markdown",
   "metadata": {},
   "source": [
    "Through broadcasting, the matrix `b` is automatically extended through copy/paste of its line:\n",
    "![broadcast](./images/broadcast1.png)"
   ]
  },
  {
   "cell_type": "code",
   "execution_count": null,
   "metadata": {
    "ExecuteTime": {
     "end_time": "2022-02-14T13:23:01.249656Z",
     "start_time": "2022-02-14T13:23:01.234654Z"
    }
   },
   "outputs": [],
   "source": [
    "# broadcasting\n",
    "result = a + b\n",
    "print('result=\\n{0}\\n'.format(result))"
   ]
  },
  {
   "cell_type": "markdown",
   "metadata": {},
   "source": [
    "Broadcasting is done if some conditions are fulfilled. When one operates on two matrices, NumPy compares the sizes on each dimension, starting with the last dimension. Two dimensions are compatible when: \n",
    "\n",
    "1. they are equal, or\n",
    "1. one of them is 1\n",
    "\n",
    "The rules above are not fulfilled, for example, by:\n",
    "\n",
    "![Broadcat imposibil](./images/broadcast2.png)\n",
    "or for the case below:"
   ]
  },
  {
   "cell_type": "code",
   "execution_count": null,
   "metadata": {
    "ExecuteTime": {
     "end_time": "2022-02-14T13:23:01.265656Z",
     "start_time": "2022-02-14T13:23:01.250656Z"
    }
   },
   "outputs": [],
   "source": [
    "x = np.arange(4)\n",
    "y = np.ones(5)\n",
    "print(x.shape, y.shape)\n",
    "\n",
    "#print(x+y) # ValueError: operands could not be broadcast together with shapes (4,) (5,) "
   ]
  },
  {
   "cell_type": "markdown",
   "metadata": {},
   "source": [
    "If NumPy can solve the lack of data through content replication, it will do this automatically:"
   ]
  },
  {
   "cell_type": "code",
   "execution_count": null,
   "metadata": {
    "ExecuteTime": {
     "end_time": "2022-02-14T13:23:01.281655Z",
     "start_time": "2022-02-14T13:23:01.267655Z"
    }
   },
   "outputs": [],
   "source": [
    "x = np.arange(4).reshape(4, 1)\n",
    "print('x shape: ', x.shape)\n",
    "print('x:\\n', x)"
   ]
  },
  {
   "cell_type": "code",
   "execution_count": null,
   "metadata": {
    "ExecuteTime": {
     "end_time": "2022-02-14T13:23:01.297653Z",
     "start_time": "2022-02-14T13:23:01.283654Z"
    }
   },
   "outputs": [],
   "source": [
    "y = np.arange(5).reshape(1, 5)\n",
    "print('y shape: ', y.shape)\n",
    "print('y:\\n', y)"
   ]
  },
  {
   "cell_type": "code",
   "execution_count": null,
   "metadata": {
    "ExecuteTime": {
     "end_time": "2022-02-14T13:23:01.312654Z",
     "start_time": "2022-02-14T13:23:01.299655Z"
    }
   },
   "outputs": [],
   "source": [
    "z = x + y\n",
    "print('z shape:', z.shape)\n",
    "print('z\\n', z)"
   ]
  },
  {
   "cell_type": "markdown",
   "metadata": {},
   "source": [
    "### Broadcast example\n",
    "\n",
    "([Source](https://eli.thegreenplace.net/2015/broadcasting-arrays-in-numpy/)) For specific variants of food, we decompose them in fats, carbs, proteins, in grams. We want to convert them into calories, by using multiplicative constants:\n",
    "1. calories for fats = 9 * fats in grams\n",
    "1. calories for proteins = 4 * protein grams\n",
    "1. calories for carbs = 4 * carbs in grams\n",
    "\n",
    "![tabel portii](./images/broadcast3.png)"
   ]
  },
  {
   "cell_type": "markdown",
   "metadata": {},
   "source": [
    "The multiplication is leveraged by broadcasting:"
   ]
  },
  {
   "cell_type": "code",
   "execution_count": null,
   "metadata": {
    "ExecuteTime": {
     "end_time": "2022-02-14T13:23:01.328655Z",
     "start_time": "2022-02-14T13:23:01.314654Z"
    }
   },
   "outputs": [],
   "source": [
    "weights = np.array([\n",
    "  [0.3, 2.5, 3.5],\n",
    "  [2.9, 27.5, 0],\n",
    "  [0.4, 1.3, 23.9],\n",
    "  [14.4, 6, 2.3]])\n",
    "\n",
    "cal_per_g = np.array([9, 4, 4])\n",
    "\n",
    "# broadcasting\n",
    "calories = weights * cal_per_g\n",
    "\n",
    "print('Calories:\\n', calories)"
   ]
  },
  {
   "cell_type": "markdown",
   "metadata": {},
   "source": [
    "### Bibliography\n",
    "\n",
    "[Basic broadcasting: https://docs.scipy.org/doc/numpy/user/basics.broadcasting.html](https://docs.scipy.org/doc/numpy/user/basics.broadcasting.html)\n",
    "\n",
    "http://scipy.github.io/old-wiki/pages/EricsBroadcastingDoc\n",
    "\n",
    "http://cs231n.github.io/python-numpy-tutorial/#numpy-broadcasting"
   ]
  },
  {
   "cell_type": "markdown",
   "metadata": {},
   "source": [
    "## Vectorized computation\n",
    "\n",
    "Motivational presentation: https://www.kdnuggets.com/2017/11/forget-for-loop-data-science-code-vectorization.html "
   ]
  },
  {
   "cell_type": "markdown",
   "metadata": {},
   "source": [
    "### Exemplu\n",
    "\n",
    "We have 2 collections of numbers: the first one contains distances, the second one is time requested to cover them. We want to compyte the speed. We will present two approaches: a classical `for` cycle, and vectorized computation."
   ]
  },
  {
   "cell_type": "code",
   "execution_count": null,
   "metadata": {
    "ExecuteTime": {
     "end_time": "2022-02-14T13:23:01.344655Z",
     "start_time": "2022-02-14T13:23:01.330657Z"
    }
   },
   "outputs": [],
   "source": [
    "distances = [10, 20, 23, 14, 33, 45]\n",
    "durations = [0.3, 0.44, 0.9, 1.2, 0.7, 1.1]"
   ]
  },
  {
   "cell_type": "code",
   "execution_count": null,
   "metadata": {
    "ExecuteTime": {
     "end_time": "2022-02-14T13:23:01.360658Z",
     "start_time": "2022-02-14T13:23:01.345655Z"
    }
   },
   "outputs": [],
   "source": [
    "# Version 1: traditional cycle\n",
    "speeds = []\n",
    "for i in range(len(distances)):\n",
    "    ...\n",
    "    \n",
    "print('Speeds: ', speeds)"
   ]
  },
  {
   "cell_type": "code",
   "execution_count": null,
   "metadata": {
    "ExecuteTime": {
     "end_time": "2022-02-14T13:23:01.376688Z",
     "start_time": "2022-02-14T13:23:01.362657Z"
    }
   },
   "outputs": [],
   "source": [
    "# Version 2: vectorization\n",
    "# Vectorization works on vector/matrices, the first step is to convert lists to NumPy arrays\n",
    "\n",
    "distances_array = ...\n",
    "durations_array = ...\n",
    "\n",
    "# We use NumPy operations which work with full matices. The C code  \n",
    "# uses Single Instruction Multiple Data (SIMD) facilities from the CPU. \n",
    "\n",
    "speeds_array = ...\n",
    "\n",
    "print(speeds_array)\n"
   ]
  },
  {
   "cell_type": "markdown",
   "metadata": {},
   "source": [
    "### Benefits of vectorization"
   ]
  },
  {
   "cell_type": "markdown",
   "metadata": {},
   "source": [
    "1. Fast execution\n",
    "1. Short and often more readable code"
   ]
  },
  {
   "cell_type": "markdown",
   "metadata": {},
   "source": [
    "Example: let us compute\n",
    "$$\n",
    "\\sum\\limits_{i=0}^{N-1} (i\\%3-1) \\cdot i\n",
    "$$"
   ]
  },
  {
   "cell_type": "code",
   "execution_count": null,
   "metadata": {
    "ExecuteTime": {
     "end_time": "2022-02-14T13:23:01.392687Z",
     "start_time": "2022-02-14T13:23:01.378655Z"
    }
   },
   "outputs": [],
   "source": [
    "# Python funciton with non-vectorized computation (`for` cycle)\n",
    "\n",
    "N = 100000\n",
    "\n",
    "def func_python(N):\n",
    "    ...\n",
    "\n",
    "print(func_python(N))"
   ]
  },
  {
   "cell_type": "code",
   "execution_count": null,
   "metadata": {
    "ExecuteTime": {
     "end_time": "2022-02-14T13:23:09.242037Z",
     "start_time": "2022-02-14T13:23:01.394655Z"
    }
   },
   "outputs": [],
   "source": [
    "%timeit func_python(N)"
   ]
  },
  {
   "cell_type": "code",
   "execution_count": null,
   "metadata": {
    "ExecuteTime": {
     "end_time": "2022-02-14T13:23:09.258005Z",
     "start_time": "2022-02-14T13:23:09.244006Z"
    }
   },
   "outputs": [],
   "source": [
    "# function with vectorized computation\n",
    "\n",
    "def func_numpy(N):\n",
    "    i_array = np.arange(N)\n",
    "    return ...\n",
    "\n",
    "print(func_numpy(N))"
   ]
  },
  {
   "cell_type": "code",
   "execution_count": null,
   "metadata": {
    "ExecuteTime": {
     "end_time": "2022-02-14T13:23:15.858835Z",
     "start_time": "2022-02-14T13:23:09.259004Z"
    }
   },
   "outputs": [],
   "source": [
    "%timeit func_numpy(N)"
   ]
  },
  {
   "cell_type": "markdown",
   "metadata": {},
   "source": [
    "Most operations and NumPy functions work for any number of values, element by element - they are also called universal functions. They are optimized to work with SIMD devices. The following operators and functions are efficiently working with arrays:\n",
    "\n",
    "- arithmetic operators: + - * / // % **\n",
    "- bitwise operators: & | ~ ^ >> <<\n",
    "- comparisons: < <= > >= == !=\n",
    "- math functions: np.sin, np.log, np.exp, ...\n",
    "- special scipy functions: `scipy.special.*`\n",
    "\n",
    "Although some NumPy functions are already provided by Python - e.g. `sum`, `min`, `mean` -ufuncs are much faster:"
   ]
  },
  {
   "cell_type": "code",
   "execution_count": null,
   "metadata": {
    "ExecuteTime": {
     "end_time": "2022-02-14T13:23:15.874870Z",
     "start_time": "2022-02-14T13:23:15.859835Z"
    }
   },
   "outputs": [],
   "source": [
    "from random import random\n",
    "c = [random() for i in range(N)]"
   ]
  },
  {
   "cell_type": "code",
   "execution_count": null,
   "metadata": {
    "ExecuteTime": {
     "end_time": "2022-02-14T13:23:18.409110Z",
     "start_time": "2022-02-14T13:23:15.876835Z"
    }
   },
   "outputs": [],
   "source": [
    "# Python builtin function\n",
    "%timeit sum(c)"
   ]
  },
  {
   "cell_type": "code",
   "execution_count": null,
   "metadata": {
    "ExecuteTime": {
     "end_time": "2022-02-14T13:23:18.425110Z",
     "start_time": "2022-02-14T13:23:18.411112Z"
    }
   },
   "outputs": [],
   "source": [
    "# NumPy vectorized: prepare the NumPy array\n",
    "c_array = np.array(c)"
   ]
  },
  {
   "cell_type": "code",
   "execution_count": null,
   "metadata": {
    "ExecuteTime": {
     "end_time": "2022-02-14T13:23:21.350119Z",
     "start_time": "2022-02-14T13:23:18.426111Z"
    }
   },
   "outputs": [],
   "source": [
    "# NumPy vectorized: use ufunc sum\n",
    "%timeit c_array.sum()"
   ]
  },
  {
   "cell_type": "markdown",
   "metadata": {},
   "source": [
    "### Solved exercise\n",
    "\n",
    "We have $n$ points in 2D space. Their coordinates are given in vectors **x** and **y**, respectively. Compute the closest pair of points, using Euclidean distance:\n",
    "$$\n",
    "d^2((x_i, y_i), (x_j, y_j)) = (x_i-x_j)^2 + (y_i-y_j)^2\n",
    "$$"
   ]
  },
  {
   "cell_type": "code",
   "execution_count": null,
   "metadata": {
    "ExecuteTime": {
     "end_time": "2022-02-14T13:23:21.365605Z",
     "start_time": "2022-02-14T13:23:21.351080Z"
    }
   },
   "outputs": [],
   "source": [
    "n = 1000\n",
    "x = np.random.random(size = n)\n",
    "y = np.random.random(size = n)"
   ]
  },
  {
   "cell_type": "code",
   "execution_count": null,
   "metadata": {
    "ExecuteTime": {
     "end_time": "2022-02-14T13:23:21.381606Z",
     "start_time": "2022-02-14T13:23:21.366606Z"
    }
   },
   "outputs": [],
   "source": [
    "# Version 1: compute the matrix `d` of pairwise distances. d[i, j] will store the square of the distance \n",
    "# between points of coordinates (xi, yi) and (xj, yj), respectively."
   ]
  },
  {
   "cell_type": "code",
   "execution_count": null,
   "metadata": {
    "ExecuteTime": {
     "end_time": "2022-02-14T13:23:30.255868Z",
     "start_time": "2022-02-14T13:23:21.383605Z"
    }
   },
   "outputs": [],
   "source": [
    "%%timeit\n",
    "\n",
    "d = np.empty((n, n))\n",
    "for i in range(n):\n",
    "    for j in range(n):\n",
    "        d[i, j] = (x[i] - x[j])**2 + (y[i]-y[j])**2"
   ]
  },
  {
   "cell_type": "code",
   "execution_count": null,
   "metadata": {
    "ExecuteTime": {
     "end_time": "2022-02-14T13:23:30.271714Z",
     "start_time": "2022-02-14T13:23:30.257868Z"
    }
   },
   "outputs": [],
   "source": [
    "# compute the indices i and j, i != j, for which the distance is minimized\n",
    "\n",
    "def closest_pair(mat):\n",
    "    n = mat.shape[0]\n",
    "    # distance between a point and itself is always 0; we will exclude these cases by setting infinity on the main diagonal of distances\n",
    "    i = np.arange(n)\n",
    "    mat[i, i] = np.inf\n",
    "    pos_flatten = np.argmin(mat)\n",
    "    return pos_flatten // n, pos_flatten % n\n",
    "    "
   ]
  },
  {
   "cell_type": "code",
   "execution_count": null,
   "metadata": {
    "ExecuteTime": {
     "end_time": "2022-02-14T13:23:30.286716Z",
     "start_time": "2022-02-14T13:23:30.272714Z"
    }
   },
   "outputs": [],
   "source": [
    "# Version 2: vectorized computation and broadcasting"
   ]
  },
  {
   "cell_type": "code",
   "execution_count": null,
   "metadata": {
    "ExecuteTime": {
     "end_time": "2022-02-14T13:23:40.430885Z",
     "start_time": "2022-02-14T13:23:30.287717Z"
    }
   },
   "outputs": [],
   "source": [
    "%%timeit\n",
    "\n",
    "dx = (x[:, np.newaxis] - x[np.newaxis, :]) ** 2\n",
    "dy = (y[:, np.newaxis] - y[np.newaxis, :]) ** 2\n",
    "\n",
    "d = dx + dy"
   ]
  },
  {
   "cell_type": "markdown",
   "metadata": {},
   "source": [
    "### Bibliography\n",
    "[https://speakerdeck.com/jakevdp/losing-your-loops-fast-numerical-computing-with-numpy-pycon-2015](https://speakerdeck.com/jakevdp/losing-your-loops-fast-numerical-computing-with-numpy-pycon-2015)\n",
    "\n",
    "[Losing your Loops Fast Numerical Computing with NumPy](https://www.youtube.com/watch?v=EEUXKG97YRw)"
   ]
  }
 ],
 "metadata": {
  "kernelspec": {
   "display_name": "Python 3 (ipykernel)",
   "language": "python",
   "name": "python3"
  },
  "language_info": {
   "codemirror_mode": {
    "name": "ipython",
    "version": 3
   },
   "file_extension": ".py",
   "mimetype": "text/x-python",
   "name": "python",
   "nbconvert_exporter": "python",
   "pygments_lexer": "ipython3",
   "version": "3.9.7"
  },
  "toc": {
   "base_numbering": 1,
   "nav_menu": {},
   "number_sections": true,
   "sideBar": true,
   "skip_h1_title": false,
   "title_cell": "Table of Contents",
   "title_sidebar": "Contents",
   "toc_cell": false,
   "toc_position": {
    "height": "calc(100% - 180px)",
    "left": "10px",
    "top": "150px",
    "width": "267.489px"
   },
   "toc_section_display": true,
   "toc_window_display": false
  },
  "varInspector": {
   "cols": {
    "lenName": 16,
    "lenType": 16,
    "lenVar": 40
   },
   "kernels_config": {
    "python": {
     "delete_cmd_postfix": "",
     "delete_cmd_prefix": "del ",
     "library": "var_list.py",
     "varRefreshCmd": "print(var_dic_list())"
    },
    "r": {
     "delete_cmd_postfix": ") ",
     "delete_cmd_prefix": "rm(",
     "library": "var_list.r",
     "varRefreshCmd": "cat(var_dic_list()) "
    }
   },
   "types_to_exclude": [
    "module",
    "function",
    "builtin_function_or_method",
    "instance",
    "_Feature"
   ],
   "window_display": false
  }
 },
 "nbformat": 4,
 "nbformat_minor": 2
}
