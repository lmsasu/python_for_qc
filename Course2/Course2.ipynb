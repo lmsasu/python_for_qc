{
 "cells": [
  {
   "cell_type": "markdown",
   "metadata": {},
   "source": [
    "# Course 2: Working with collections. User defined functions. Modules, packages. Working with files. Exception handling"
   ]
  },
  {
   "cell_type": "markdown",
   "metadata": {},
   "source": [
    "## Iterating collections"
   ]
  },
  {
   "cell_type": "markdown",
   "metadata": {},
   "source": [
    "The `for` is a handy method to iterate over a collection - or an *iterable* object. A list, a tuple, a dictionary are are iterable containers. All these objects have an `__iter()__` method defined inside them, which allow you to get an iterator, which in turn is used to sweep the collection element by element:"
   ]
  },
  {
   "cell_type": "code",
   "execution_count": 1,
   "metadata": {
    "ExecuteTime": {
     "end_time": "2022-02-17T14:45:55.599777Z",
     "start_time": "2022-02-17T14:45:55.533735Z"
    }
   },
   "outputs": [
    {
     "data": {
      "text/plain": [
       "['__add__',\n",
       " '__class__',\n",
       " '__class_getitem__',\n",
       " '__contains__',\n",
       " '__delattr__',\n",
       " '__delitem__',\n",
       " '__dir__',\n",
       " '__doc__',\n",
       " '__eq__',\n",
       " '__format__',\n",
       " '__ge__',\n",
       " '__getattribute__',\n",
       " '__getitem__',\n",
       " '__gt__',\n",
       " '__hash__',\n",
       " '__iadd__',\n",
       " '__imul__',\n",
       " '__init__',\n",
       " '__init_subclass__',\n",
       " '__iter__',\n",
       " '__le__',\n",
       " '__len__',\n",
       " '__lt__',\n",
       " '__mul__',\n",
       " '__ne__',\n",
       " '__new__',\n",
       " '__reduce__',\n",
       " '__reduce_ex__',\n",
       " '__repr__',\n",
       " '__reversed__',\n",
       " '__rmul__',\n",
       " '__setattr__',\n",
       " '__setitem__',\n",
       " '__sizeof__',\n",
       " '__str__',\n",
       " '__subclasshook__',\n",
       " 'append',\n",
       " 'clear',\n",
       " 'copy',\n",
       " 'count',\n",
       " 'extend',\n",
       " 'index',\n",
       " 'insert',\n",
       " 'pop',\n",
       " 'remove',\n",
       " 'reverse',\n",
       " 'sort']"
      ]
     },
     "execution_count": 1,
     "metadata": {},
     "output_type": "execute_result"
    }
   ],
   "source": [
    "my_list = [1, 2, 3]\n",
    "dir(my_list)"
   ]
  },
  {
   "cell_type": "code",
   "execution_count": 2,
   "metadata": {
    "ExecuteTime": {
     "end_time": "2022-02-17T11:51:53.299148Z",
     "start_time": "2022-02-17T11:51:53.285147Z"
    }
   },
   "outputs": [
    {
     "name": "stdout",
     "output_type": "stream",
     "text": [
      "<list_iterator object at 0x0000019DF1051850>\n"
     ]
    }
   ],
   "source": [
    "# get an iterator\n",
    "my_iterator = iter(my_list)\n",
    "print(my_iterator)"
   ]
  },
  {
   "cell_type": "markdown",
   "metadata": {},
   "source": [
    " Stepping to the next element is done by calling function `next()`:"
   ]
  },
  {
   "cell_type": "code",
   "execution_count": 3,
   "metadata": {
    "ExecuteTime": {
     "end_time": "2022-02-17T11:51:53.315147Z",
     "start_time": "2022-02-17T11:51:53.301147Z"
    }
   },
   "outputs": [
    {
     "name": "stdout",
     "output_type": "stream",
     "text": [
      "1\n",
      "2\n",
      "3\n"
     ]
    }
   ],
   "source": [
    "print(next(my_iterator))\n",
    "print(next(my_iterator))\n",
    "print(next(my_iterator))"
   ]
  },
  {
   "cell_type": "markdown",
   "metadata": {},
   "source": [
    "Stepping beyond the last element raises a `StopIteration` exception:"
   ]
  },
  {
   "cell_type": "code",
   "execution_count": 4,
   "metadata": {
    "ExecuteTime": {
     "end_time": "2022-02-17T11:51:53.330146Z",
     "start_time": "2022-02-17T11:51:53.317179Z"
    }
   },
   "outputs": [],
   "source": [
    "# print(next(my_iterator))\n",
    "\n",
    "# ---------------------------------------------------------------------------\n",
    "# StopIteration                             Traceback (most recent call last)\n",
    "# ~\\AppData\\Local\\Temp/ipykernel_19520/1188975057.py in <module>\n",
    "# ----> 1 print(next(my_iterator))\n",
    "\n",
    "# StopIteration:"
   ]
  },
  {
   "cell_type": "markdown",
   "metadata": {},
   "source": [
    "The correct approach to iterate over a collection is:"
   ]
  },
  {
   "cell_type": "code",
   "execution_count": 5,
   "metadata": {
    "ExecuteTime": {
     "end_time": "2022-02-17T11:51:53.345147Z",
     "start_time": "2022-02-17T11:51:53.331186Z"
    }
   },
   "outputs": [
    {
     "name": "stdout",
     "output_type": "stream",
     "text": [
      "1\n",
      "2\n",
      "3\n"
     ]
    }
   ],
   "source": [
    "my_iterator = iter(my_list)\n",
    " \n",
    "while True:\n",
    "    try:\n",
    "        # Iterate by calling next\n",
    "        item = next(my_iterator)\n",
    "        print(item)\n",
    "    except StopIteration:\n",
    "        # exception appears when there are no more elements\n",
    "        break"
   ]
  },
  {
   "cell_type": "markdown",
   "metadata": {},
   "source": [
    "What are the benefits of iterators? iterators do not compute the items when they are generated, but just when it reaches the current item (lazy evaluation). As a result of this, you can save a lot of memory and CPU cycles by avoiding precomputing of the whole collection. This trick is used in `range` function, which does not generate the whole collection, unless you force this:"
   ]
  },
  {
   "cell_type": "code",
   "execution_count": 6,
   "metadata": {
    "ExecuteTime": {
     "end_time": "2022-02-17T11:51:53.360147Z",
     "start_time": "2022-02-17T11:51:53.346147Z"
    }
   },
   "outputs": [
    {
     "name": "stdout",
     "output_type": "stream",
     "text": [
      "range(0, 100)\n",
      "[0, 1, 2, 3, 4, 5, 6, 7, 8, 9, 10, 11, 12, 13, 14, 15, 16, 17, 18, 19, 20, 21, 22, 23, 24, 25, 26, 27, 28, 29, 30, 31, 32, 33, 34, 35, 36, 37, 38, 39, 40, 41, 42, 43, 44, 45, 46, 47, 48, 49, 50, 51, 52, 53, 54, 55, 56, 57, 58, 59, 60, 61, 62, 63, 64, 65, 66, 67, 68, 69, 70, 71, 72, 73, 74, 75, 76, 77, 78, 79, 80, 81, 82, 83, 84, 85, 86, 87, 88, 89, 90, 91, 92, 93, 94, 95, 96, 97, 98, 99]\n"
     ]
    }
   ],
   "source": [
    "my_range = range(100)\n",
    "print(my_range)\n",
    "# forcing generation of all the elemnets in the range:\n",
    "print(list(my_range))"
   ]
  },
  {
   "cell_type": "markdown",
   "metadata": {},
   "source": [
    "Internally, a `for` cycle uses an interator over the collection."
   ]
  },
  {
   "cell_type": "markdown",
   "metadata": {},
   "source": [
    "## Collection comprehension"
   ]
  },
  {
   "cell_type": "markdown",
   "metadata": {},
   "source": [
    "Suppose we have a list of numbers and we want to produce another list with squared values. It might be done as:"
   ]
  },
  {
   "cell_type": "code",
   "execution_count": 7,
   "metadata": {
    "ExecuteTime": {
     "end_time": "2022-02-17T11:51:53.376147Z",
     "start_time": "2022-02-17T11:51:53.361149Z"
    }
   },
   "outputs": [
    {
     "name": "stdout",
     "output_type": "stream",
     "text": [
      "[1, 9, 36, 441, 484, 1024, 1089]\n"
     ]
    }
   ],
   "source": [
    "numbers = [1, 3, 6,  21, 22, 32, 33]\n",
    "squared_numbers = []\n",
    "for number in numbers:\n",
    "    squared_numbers.append(number**2)\n",
    "    \n",
    "# or:\n",
    "# preallocate squared_numbers, we know its number of elements\n",
    "squared_numbers = [None] * len(numbers)\n",
    "for i, number in enumerate(numbers):\n",
    "    squared_numbers[i] = number ** 2\n",
    "    \n",
    "print(squared_numbers)"
   ]
  },
  {
   "cell_type": "markdown",
   "metadata": {},
   "source": [
    "However, there is a cleaner and mnost often a faster approach. \n",
    "\n",
    "Starting from a collection - most often: a list - one can create another list, using *list comprehension*. This is mainly a cycle over the elements of the initial collection:"
   ]
  },
  {
   "cell_type": "code",
   "execution_count": 8,
   "metadata": {
    "ExecuteTime": {
     "end_time": "2022-02-17T11:51:53.391151Z",
     "start_time": "2022-02-17T11:51:53.377147Z"
    }
   },
   "outputs": [
    {
     "name": "stdout",
     "output_type": "stream",
     "text": [
      "[1, 9, 36, 441, 484, 1024, 1089]\n"
     ]
    }
   ],
   "source": [
    "squared_numbers = [i*i for i in numbers]\n",
    "print(squared_numbers)"
   ]
  },
  {
   "cell_type": "markdown",
   "metadata": {},
   "source": [
    "Optionally, you can add an inline `if` statement:"
   ]
  },
  {
   "cell_type": "code",
   "execution_count": 9,
   "metadata": {
    "ExecuteTime": {
     "end_time": "2022-02-17T11:51:53.407147Z",
     "start_time": "2022-02-17T11:51:53.393151Z"
    }
   },
   "outputs": [
    {
     "name": "stdout",
     "output_type": "stream",
     "text": [
      "[36, 484, 1024]\n"
     ]
    }
   ],
   "source": [
    "squares_of_even_numbers = [i*i for i in numbers if i % 2 == 0]\n",
    "# note the position of if: for filtering, it is at the end of comprehension expression\n",
    "print(squares_of_even_numbers)"
   ]
  },
  {
   "cell_type": "markdown",
   "metadata": {},
   "source": [
    "... and you can even add an `else` clause:"
   ]
  },
  {
   "cell_type": "code",
   "execution_count": 10,
   "metadata": {
    "ExecuteTime": {
     "end_time": "2022-02-17T11:51:53.423149Z",
     "start_time": "2022-02-17T11:51:53.410146Z"
    }
   },
   "outputs": [
    {
     "name": "stdout",
     "output_type": "stream",
     "text": [
      "[1, 27, 36, 9261, 484, 1024, 35937]\n"
     ]
    }
   ],
   "source": [
    "squares_or_cubes = [i**2 if i % 2 == 0 else i ** 3 for i in numbers]\n",
    "# inline if-else, see Course 1\n",
    "print(squares_or_cubes)"
   ]
  },
  {
   "cell_type": "markdown",
   "metadata": {},
   "source": [
    "Exercise: if a list consists of other lists, how can you get the flattened list? For example, starting from a1 = [[1, 2], [3, 4, 5], [10]] we want to get its flattened version a2 = [1, 2, 3, 4, 5, 10]"
   ]
  },
  {
   "cell_type": "code",
   "execution_count": 11,
   "metadata": {
    "ExecuteTime": {
     "end_time": "2022-02-17T11:51:53.439149Z",
     "start_time": "2022-02-17T11:51:53.425147Z"
    }
   },
   "outputs": [
    {
     "name": "stdout",
     "output_type": "stream",
     "text": [
      "[1, 2, 3, 4, 5, 10]\n"
     ]
    }
   ],
   "source": [
    "a1 = [[1, 2], [3, 4, 5], [10]]\n",
    "a2 = [item for sublist in a1 for item in sublist]\n",
    "print(a2)"
   ]
  },
  {
   "cell_type": "markdown",
   "metadata": {},
   "source": [
    "Comprehension is available for other types of collections as well: for example, we can start from a list and create a dictionary:"
   ]
  },
  {
   "cell_type": "code",
   "execution_count": 12,
   "metadata": {
    "ExecuteTime": {
     "end_time": "2022-02-17T11:51:53.454147Z",
     "start_time": "2022-02-17T11:51:53.440148Z"
    }
   },
   "outputs": [
    {
     "name": "stdout",
     "output_type": "stream",
     "text": [
      "{1: 1, 3: 9, 6: 36, 21: 441, 22: 484, 32: 1024, 33: 1089}\n"
     ]
    }
   ],
   "source": [
    "numbers = [1, 3, 6,  21, 22, 32, 33]\n",
    "dict_numbers_and_squares = {i:i**2 for i in numbers}\n",
    "print(dict_numbers_and_squares)"
   ]
  },
  {
   "cell_type": "markdown",
   "metadata": {},
   "source": [
    "... or lists of tuples:"
   ]
  },
  {
   "cell_type": "code",
   "execution_count": 13,
   "metadata": {
    "ExecuteTime": {
     "end_time": "2022-02-17T11:51:53.469148Z",
     "start_time": "2022-02-17T11:51:53.456151Z"
    }
   },
   "outputs": [
    {
     "name": "stdout",
     "output_type": "stream",
     "text": [
      "[('red', 'house'), ('red', 'car'), ('red', 'tree'), ('green', 'house'), ('green', 'car'), ('green', 'tree'), ('yellow', 'house'), ('yellow', 'car'), ('yellow', 'tree'), ('blue', 'house'), ('blue', 'car'), ('blue', 'tree')]\n"
     ]
    }
   ],
   "source": [
    "# cartesian product\n",
    "colours = [ \"red\", \"green\", \"yellow\", \"blue\" ]\n",
    "things = [ \"house\", \"car\", \"tree\" ]\n",
    "coloured_things = [(colour, thing) for colour in colours for thing in things]\n",
    "print(coloured_things)\n",
    "\n",
    "# perform postprocessing checking\n",
    "assert len(coloured_things) == len(colours) * len(things) == len(set(coloured_things))"
   ]
  },
  {
   "cell_type": "markdown",
   "metadata": {},
   "source": [
    "Mai jos sunt cateva exemple de utilizare de comprehension peste colectii."
   ]
  },
  {
   "cell_type": "code",
   "execution_count": 14,
   "metadata": {
    "ExecuteTime": {
     "end_time": "2022-02-17T11:51:53.484146Z",
     "start_time": "2022-02-17T11:51:53.470153Z"
    }
   },
   "outputs": [
    {
     "name": "stdout",
     "output_type": "stream",
     "text": [
      "[-4.0, 14.0, 32.0, 41.0, 73.4, 95.0]\n"
     ]
    }
   ],
   "source": [
    "# Conversion from a list of Celsius Temperature to Fahrenheit values: \n",
    "# Fahrenheit = 1.8 * Celsius + 32\n",
    "celsius_degrees = [-20, -10, 0, 5, 23, 35]\n",
    "fahrenheit_degrees = [1.8*gc + 32 for gc in celsius_degrees]\n",
    "print(fahrenheit_degrees)"
   ]
  },
  {
   "cell_type": "code",
   "execution_count": 15,
   "metadata": {
    "ExecuteTime": {
     "end_time": "2022-02-17T11:51:53.500148Z",
     "start_time": "2022-02-17T11:51:53.486147Z"
    }
   },
   "outputs": [
    {
     "name": "stdout",
     "output_type": "stream",
     "text": [
      "2870\n"
     ]
    }
   ],
   "source": [
    "# Sum of squares of number from 1 to 20\n",
    "print(sum([x**2 for x in range(1, 21)]))  # note the range 2nd param"
   ]
  },
  {
   "cell_type": "code",
   "execution_count": 16,
   "metadata": {
    "ExecuteTime": {
     "end_time": "2022-02-17T11:51:53.530229Z",
     "start_time": "2022-02-17T11:51:53.502147Z"
    }
   },
   "outputs": [
    {
     "name": "stdout",
     "output_type": "stream",
     "text": [
      "Initial:\n",
      " ['Stopword', 'filtering', 'is', 'a', 'common', 'step', 'in', 'preprocessing', 'text', 'for', 'various', 'purposes', 'This', 'is', 'a', 'list', 'of', 'several', 'different', 'stopword', 'lists', 'extracted', 'from', 'various', 'search', 'engines', 'libraries', 'and', 'articles', 'There', 'is', 'a', 'surprising', 'number', 'of', 'different', 'lists']\n",
      "\n",
      "After filtering:\n",
      " ['Stopword', 'filtering', 'common', 'step', 'preprocessing', 'text', 'various', 'purposes', 'This', 'list', 'different', 'stopword', 'lists', 'extracted', 'various', 'search', 'engines', 'libraries', 'articles', 'There', 'surprising', 'number', 'different', 'lists']\n"
     ]
    }
   ],
   "source": [
    "# We want to filter out stop-words from a list:\n",
    "stop_words = [\"a\", \"about\", \"above\", \"above\", \"across\", \"after\", \"afterwards\", \"again\", \"against\", \"all\", \"almost\", \"alone\", \"along\", \"already\", \"also\",\"although\",\"always\",\"am\",\"among\", \"amongst\", \"amoungst\", \"amount\",  \"an\", \"and\", \"another\", \"any\",\"anyhow\",\"anyone\",\"anything\",\"anyway\", \"anywhere\", \"are\", \"around\", \"as\",  \"at\", \"back\",\"be\",\"became\", \"because\",\"become\",\"becomes\", \"becoming\", \"been\", \"before\", \"beforehand\", \"behind\", \"being\", \"below\", \"beside\", \"besides\", \"between\", \"beyond\", \"bill\", \"both\", \"bottom\",\"but\", \"by\", \"call\", \"can\", \"cannot\", \"cant\", \"co\", \"con\", \"could\", \"couldnt\", \"cry\", \"de\", \"describe\", \"detail\", \"do\", \"done\", \"down\", \"due\", \"during\", \"each\", \"eg\", \"eight\", \"either\", \"eleven\",\"else\", \"elsewhere\", \"empty\", \"enough\", \"etc\", \"even\", \"ever\", \"every\", \"everyone\", \"everything\", \"everywhere\", \"except\", \"few\", \"fifteen\", \"fify\", \"fill\", \"find\", \"fire\", \"first\", \"five\", \"for\", \"former\", \"formerly\", \"forty\", \"found\", \"four\", \"from\", \"front\", \"full\", \"further\", \"get\", \"give\", \"go\", \"had\", \"has\", \"hasnt\", \"have\", \"he\", \"hence\", \"her\", \"here\", \"hereafter\", \"hereby\", \"herein\", \"hereupon\", \"hers\", \"herself\", \"him\", \"himself\", \"his\", \"how\", \"however\", \"hundred\", \"ie\", \"if\", \"in\", \"inc\", \"indeed\", \"interest\", \"into\", \"is\", \"it\", \"its\", \"itself\", \"keep\", \"last\", \"latter\", \"latterly\", \"least\", \"less\", \"ltd\", \"made\", \"many\", \"may\", \"me\", \"meanwhile\", \"might\", \"mill\", \"mine\", \"more\", \"moreover\", \"most\", \"mostly\", \"move\", \"much\", \"must\", \"my\", \"myself\", \"name\", \"namely\", \"neither\", \"never\", \"nevertheless\", \"next\", \"nine\", \"no\", \"nobody\", \"none\", \"noone\", \"nor\", \"not\", \"nothing\", \"now\", \"nowhere\", \"of\", \"off\", \"often\", \"on\", \"once\", \"one\", \"only\", \"onto\", \"or\", \"other\", \"others\", \"otherwise\", \"our\", \"ours\", \"ourselves\", \"out\", \"over\", \"own\",\"part\", \"per\", \"perhaps\", \"please\", \"put\", \"rather\", \"re\", \"same\", \"see\", \"seem\", \"seemed\", \"seeming\", \"seems\", \"serious\", \"several\", \"she\", \"should\", \"show\", \"side\", \"since\", \"sincere\", \"six\", \"sixty\", \"so\", \"some\", \"somehow\", \"someone\", \"something\", \"sometime\", \"sometimes\", \"somewhere\", \"still\", \"such\", \"system\", \"take\", \"ten\", \"than\", \"that\", \"the\", \"their\", \"them\", \"themselves\", \"then\", \"thence\", \"there\", \"thereafter\", \"thereby\", \"therefore\", \"therein\", \"thereupon\", \"these\", \"they\", \"thickv\", \"thin\", \"third\", \"this\", \"those\", \"though\", \"three\", \"through\", \"throughout\", \"thru\", \"thus\", \"to\", \"together\", \"too\", \"top\", \"toward\", \"towards\", \"twelve\", \"twenty\", \"two\", \"un\", \"under\", \"until\", \"up\", \"upon\", \"us\", \"very\", \"via\", \"was\", \"we\", \"well\", \"were\", \"what\", \"whatever\", \"when\", \"whence\", \"whenever\", \"where\", \"whereafter\", \"whereas\", \"whereby\", \"wherein\", \"whereupon\", \"wherever\", \"whether\", \"which\", \"while\", \"whither\", \"who\", \"whoever\", \"whole\", \"whom\", \"whose\", \"why\", \"will\", \"with\", \"within\", \"without\", \"would\", \"yet\", \"you\", \"your\", \"yours\", \"yourself\", \"yourselves\", \"the\"]\n",
    "paragraph_list = ['Stopword','filtering','is','a','common','step','in','preprocessing','text','for','various','purposes','This','is','a','list','of','several','different','stopword','lists','extracted','from','various','search','engines','libraries','and','articles','There', 'is','a','surprising','number','of','different','lists']\n",
    "print('Initial:\\n',paragraph_list)\n",
    "filtered = [word for word in paragraph_list if word not in stop_words]\n",
    "print('\\nAfter filtering:\\n', filtered)        "
   ]
  },
  {
   "cell_type": "markdown",
   "metadata": {},
   "source": [
    "### Quick test on collection comprehension speedup"
   ]
  },
  {
   "cell_type": "code",
   "execution_count": 17,
   "metadata": {
    "ExecuteTime": {
     "end_time": "2022-02-17T11:51:53.546147Z",
     "start_time": "2022-02-17T11:51:53.532147Z"
    }
   },
   "outputs": [],
   "source": [
    "N = 1000000\n",
    "\n",
    "my_list = range(N)"
   ]
  },
  {
   "cell_type": "code",
   "execution_count": 18,
   "metadata": {
    "ExecuteTime": {
     "end_time": "2022-02-17T11:51:56.533489Z",
     "start_time": "2022-02-17T11:51:53.547148Z"
    }
   },
   "outputs": [
    {
     "name": "stdout",
     "output_type": "stream",
     "text": [
      "358 ms ± 10.4 ms per loop (mean ± std. dev. of 7 runs, 1 loop each)\n"
     ]
    }
   ],
   "source": [
    "%%timeit\n",
    "\n",
    "power_list = []\n",
    "for item in my_list:\n",
    "    if item % 2 == 0:\n",
    "        power_list.append(item**2)\n",
    "    else:\n",
    "        power_list.append(item**3)"
   ]
  },
  {
   "cell_type": "code",
   "execution_count": 19,
   "metadata": {
    "ExecuteTime": {
     "end_time": "2022-02-17T11:51:59.019055Z",
     "start_time": "2022-02-17T11:51:56.535512Z"
    }
   },
   "outputs": [
    {
     "name": "stdout",
     "output_type": "stream",
     "text": [
      "297 ms ± 5.61 ms per loop (mean ± std. dev. of 7 runs, 1 loop each)\n"
     ]
    }
   ],
   "source": [
    "%%timeit\n",
    "power_list = [item**2 if item%2==0 else item**3 for item in my_list]"
   ]
  },
  {
   "cell_type": "markdown",
   "metadata": {},
   "source": [
    "## Functions"
   ]
  },
  {
   "cell_type": "markdown",
   "metadata": {},
   "source": [
    "There are three types of functions:\n",
    "* Python built-in or library functions, *e.g.* `len()`, `print()`, `sum()`, `np.sum()`\n",
    "* User defined functions\n",
    "* Lambda functions\n",
    "\n",
    "A function is defined by using the keyword `def`. We must indent the block of statements composing the function. A function can return nothing, *i.e.* no `return` is written in its block, and in this case it is considered it returns `None`. Alternatively, it can return any number of values, stored as lists, tuples, dicts, etc. "
   ]
  },
  {
   "cell_type": "markdown",
   "metadata": {},
   "source": [
    "### User defined functions"
   ]
  },
  {
   "cell_type": "markdown",
   "metadata": {},
   "source": [
    "We jump directly to some examples of user defined functions."
   ]
  },
  {
   "cell_type": "code",
   "execution_count": 20,
   "metadata": {
    "ExecuteTime": {
     "end_time": "2022-02-17T11:51:59.034956Z",
     "start_time": "2022-02-17T11:51:59.020011Z"
    }
   },
   "outputs": [
    {
     "name": "stdout",
     "output_type": "stream",
     "text": [
      "Hi there\n"
     ]
    }
   ],
   "source": [
    "def hello():\n",
    "    print('Hi there')\n",
    "    \n",
    "hello()"
   ]
  },
  {
   "cell_type": "code",
   "execution_count": 21,
   "metadata": {
    "ExecuteTime": {
     "end_time": "2022-02-17T11:51:59.049955Z",
     "start_time": "2022-02-17T11:51:59.035955Z"
    }
   },
   "outputs": [
    {
     "name": "stdout",
     "output_type": "stream",
     "text": [
      "Hello David\n",
      "DAVID\n"
     ]
    }
   ],
   "source": [
    "def hello_with_name(name):\n",
    "    \"\"\"\n",
    "    The function takes an argument and shows the message: Hello followed by the argument's value.\n",
    "    It returns the given argument, uppercase\n",
    "    :param name: the name to greet\n",
    "    :return: uppercase of :param name:\n",
    "    \"\"\"\n",
    "    print('Hello ' + name)\n",
    "    return name.upper()\n",
    "\n",
    "name = 'David'\n",
    "uppercase_name = hello_with_name(name)\n",
    "print(uppercase_name)"
   ]
  },
  {
   "cell_type": "markdown",
   "metadata": {},
   "source": [
    "The docstring - 'documentation string' allows for documenting the function. The docstring recommendations are in [pep-0257](https://www.python.org/dev/peps/pep-0257/)."
   ]
  },
  {
   "cell_type": "code",
   "execution_count": 22,
   "metadata": {
    "ExecuteTime": {
     "end_time": "2022-02-17T11:51:59.065957Z",
     "start_time": "2022-02-17T11:51:59.051956Z"
    }
   },
   "outputs": [
    {
     "name": "stdout",
     "output_type": "stream",
     "text": [
      "Help on function hello_with_name in module __main__:\n",
      "\n",
      "hello_with_name(name)\n",
      "    The function takes an argument and shows the message: Hello followed by the argument's value.\n",
      "    It returns the given argument, uppercase\n",
      "    :param name: the name to greet\n",
      "    :return: uppercase of :param name:\n",
      "\n",
      "\n",
      "    The function takes an argument and shows the message: Hello followed by the argument's value.\n",
      "    It returns the given argument, uppercase\n",
      "    :param name: the name to greet\n",
      "    :return: uppercase of :param name:\n",
      "    \n"
     ]
    }
   ],
   "source": [
    "help(hello_with_name)\n",
    "print(hello_with_name.__doc__)"
   ]
  },
  {
   "cell_type": "markdown",
   "metadata": {},
   "source": [
    "Styles for writing docstrings:\n",
    "\n",
    "```\n",
    "\"\"\"\n",
    "This is a reST style.\n",
    "\n",
    ":param param1: this is a first param\n",
    ":param param2: this is a second param\n",
    ":returns: this is a description of what is returned\n",
    ":raises keyError: raises an exception\n",
    "\"\"\"\n",
    "```\n",
    "\n",
    "```\n",
    "\"\"\"\n",
    "This is a javadoc style.\n",
    "\n",
    "@param param1: this is a first param\n",
    "@param param2: this is a second param\n",
    "@return: this is a description of what is returned\n",
    "@raise keyError: raises an exception\n",
    "\"\"\"\n",
    "```\n",
    "\n",
    "```\n",
    "\"\"\"\n",
    "This is an example of Google style.\n",
    "\n",
    "Args:\n",
    "    param1: This is the first param.\n",
    "    param2: This is a second param.\n",
    "\n",
    "Returns:\n",
    "    This is a description of what is returned.\n",
    "\n",
    "Raises:\n",
    "    KeyError: Raises an exception.\n",
    "\"\"\"\n",
    "```\n",
    "\n",
    "```\n",
    "\"\"\"\n",
    "My numpydoc description of a kind\n",
    "of very exhautive numpydoc format docstring.\n",
    "\n",
    "Parameters\n",
    "----------\n",
    "first : array_like\n",
    "    the 1st param name `first`\n",
    "second :\n",
    "    the 2nd param\n",
    "third : {'value', 'other'}, optional\n",
    "    the 3rd param, by default 'value'\n",
    "\n",
    "Returns\n",
    "-------\n",
    "string\n",
    "    a value in a string\n",
    "\n",
    "Raises\n",
    "------\n",
    "KeyError\n",
    "    when a key error\n",
    "OtherError\n",
    "    when an other error\n",
    "\"\"\"\n",
    "```"
   ]
  },
  {
   "cell_type": "code",
   "execution_count": 23,
   "metadata": {
    "ExecuteTime": {
     "end_time": "2022-02-17T11:51:59.080955Z",
     "start_time": "2022-02-17T11:51:59.067957Z"
    }
   },
   "outputs": [
    {
     "name": "stdout",
     "output_type": "stream",
     "text": [
      "Minimum value: 10 ; maximum value: 20\n"
     ]
    }
   ],
   "source": [
    "# An example of function returning multiple results at once\n",
    "# The result is a tuple with two values\n",
    "\n",
    "def min_max(a, b):\n",
    "    \"\"\"\n",
    "    Computes the min and max of two values\n",
    "    :param a: the former parameter, numerical type\n",
    "    :param b: the latter paramater, numerical type\n",
    "    :return: a tuple with min and max of :param a: and :param b:, in this order\n",
    "    \"\"\"\n",
    "    if a<b:\n",
    "        return a, b\n",
    "    else:\n",
    "        return b, a\n",
    "    \n",
    "x, y = 20, 10\n",
    "min_2, max_2 = min_max(x, y)\n",
    "print('Minimum value:', min_2, '; maximum value:', max_2)"
   ]
  },
  {
   "cell_type": "code",
   "execution_count": 24,
   "metadata": {
    "ExecuteTime": {
     "end_time": "2022-02-17T11:51:59.096955Z",
     "start_time": "2022-02-17T11:51:59.082965Z"
    }
   },
   "outputs": [
    {
     "data": {
      "text/plain": [
       "(5, 14)"
      ]
     },
     "execution_count": 24,
     "metadata": {},
     "output_type": "execute_result"
    }
   ],
   "source": [
    "# you can handle the params by specifying their name and value\n",
    "min_max(a=5, b=14)"
   ]
  },
  {
   "cell_type": "code",
   "execution_count": 25,
   "metadata": {
    "ExecuteTime": {
     "end_time": "2022-02-17T11:51:59.111957Z",
     "start_time": "2022-02-17T11:51:59.097957Z"
    }
   },
   "outputs": [
    {
     "data": {
      "text/plain": [
       "(3, 20)"
      ]
     },
     "execution_count": 25,
     "metadata": {},
     "output_type": "execute_result"
    }
   ],
   "source": [
    "# you may swap the order\n",
    "min_max(b=3, a=20)"
   ]
  },
  {
   "cell_type": "markdown",
   "metadata": {},
   "source": [
    "We can specify params with default values, at the end of list of function's params"
   ]
  },
  {
   "cell_type": "code",
   "execution_count": 26,
   "metadata": {
    "ExecuteTime": {
     "end_time": "2022-02-17T11:51:59.126955Z",
     "start_time": "2022-02-17T11:51:59.112956Z"
    }
   },
   "outputs": [
    {
     "name": "stdout",
     "output_type": "stream",
     "text": [
      "Hello Kate, Good morning!\n",
      "Hello Bruce, How do you do?\n"
     ]
    }
   ],
   "source": [
    "def greet(name, msg = \"Good morning!\"):\n",
    "   \"\"\"\n",
    "   This function greets to the person with the provided message.\n",
    "\n",
    "   If message is not provided, it defaults to \"Good morning!\"\n",
    "   :param name: Name of the guy to be greeted\n",
    "   :param msg: a message shown as greeting. It defaults to \"Good morning\"\n",
    "   \"\"\"\n",
    "\n",
    "   print(\"Hello\",name + ', ' + msg)\n",
    "\n",
    "greet(\"Kate\")\n",
    "greet(\"Bruce\",\"How do you do?\")\n",
    "# equivalent: greet(name=\"Bruce\",msg=\"How do you do?\")"
   ]
  },
  {
   "cell_type": "markdown",
   "metadata": {},
   "source": [
    "We can have a parameter with a variable number of values. This type of arg is written with a leading `*` followed by its name, e.g. `*args`."
   ]
  },
  {
   "cell_type": "code",
   "execution_count": 27,
   "metadata": {
    "ExecuteTime": {
     "end_time": "2022-02-17T11:51:59.141956Z",
     "start_time": "2022-02-17T11:51:59.130956Z"
    }
   },
   "outputs": [
    {
     "name": "stdout",
     "output_type": "stream",
     "text": [
      "Hello Dan, Good morning!\n",
      "Hello John, Good morning!\n",
      "Hello Mary, Good morning!\n",
      "Hello Dan, How do you do?\n",
      "Hello John, How do you do?\n",
      "Hello Mary, How do you do?\n"
     ]
    }
   ],
   "source": [
    "# Function with variable number of values\n",
    "def greet(*names, msg = \"Good morning!\"):\n",
    "    for name in names:\n",
    "        print('Hello', name + ', ' + msg)\n",
    "        \n",
    "greet('Dan', 'John', 'Mary')      \n",
    "greet('Dan', 'John', 'Mary', msg='How do you do?')"
   ]
  },
  {
   "cell_type": "markdown",
   "metadata": {},
   "source": [
    "One can define functions which manipulate a variable number of params passed as param_name=param_value. The traditional name is `kwargs` (keywords arguments), and its name is prepended with `**`:"
   ]
  },
  {
   "cell_type": "code",
   "execution_count": 28,
   "metadata": {
    "ExecuteTime": {
     "end_time": "2022-02-17T11:51:59.157956Z",
     "start_time": "2022-02-17T11:51:59.142956Z"
    }
   },
   "outputs": [
    {
     "name": "stdout",
     "output_type": "stream",
     "text": [
      "{'fruits': 'apples', 'quantity': '3', 'measurement_unit': 'kg'}\n"
     ]
    }
   ],
   "source": [
    "def demo_kwargs(**kwargs):\n",
    "    print(kwargs)\n",
    "    \n",
    "demo_kwargs(fruits='apples', quantity='3', measurement_unit='kg')"
   ]
  },
  {
   "cell_type": "markdown",
   "metadata": {},
   "source": [
    "By looking at kwargs above, we realize it is a dictionary under the hood:"
   ]
  },
  {
   "cell_type": "code",
   "execution_count": 29,
   "metadata": {
    "ExecuteTime": {
     "end_time": "2022-02-17T11:51:59.172959Z",
     "start_time": "2022-02-17T11:51:59.158958Z"
    }
   },
   "outputs": [
    {
     "name": "stdout",
     "output_type": "stream",
     "text": [
      "fruits apples\n",
      "quantity 3\n",
      "measurement_unit kg\n"
     ]
    }
   ],
   "source": [
    "def demo_kwargs_iter(**kwargs):\n",
    "    for key, value in kwargs.items():\n",
    "        print(key, value)\n",
    "        \n",
    "demo_kwargs_iter(fruits='apples', quantity='3', measurement_unit='kg')"
   ]
  },
  {
   "cell_type": "markdown",
   "metadata": {},
   "source": [
    "Using `**` one can unpack a dictionary:"
   ]
  },
  {
   "cell_type": "code",
   "execution_count": 30,
   "metadata": {
    "ExecuteTime": {
     "end_time": "2022-02-17T11:51:59.187957Z",
     "start_time": "2022-02-17T11:51:59.174961Z"
    }
   },
   "outputs": [
    {
     "name": "stdout",
     "output_type": "stream",
     "text": [
      "{'fruits': 'apples', 'quantity': '3', 'measurement_unit': 'kg'}\n"
     ]
    }
   ],
   "source": [
    "dictionary_arguments = {'fruits':'apples', 'quantity':'3', 'measurement_unit':'kg'}\n",
    "demo_kwargs(**dictionary_arguments)"
   ]
  },
  {
   "cell_type": "markdown",
   "metadata": {},
   "source": [
    "The params are specified with a specific ordering:\n",
    "1. parameters given by their position\n",
    "1. `*args`\n",
    "1. parameters with default values\n",
    "1. `**kwargs`\n",
    "\n",
    "```python\n",
    "def example2(arg_1, arg_2, *args, param_3=\"shark\", param_4=\"blobfish\", **kwargs):\n",
    "```"
   ]
  },
  {
   "cell_type": "markdown",
   "metadata": {},
   "source": [
    "### Lambda functions"
   ]
  },
  {
   "cell_type": "markdown",
   "metadata": {},
   "source": [
    "You may use lambda functions (aka anonymous functions), consisting of a an expression, when a separate function definition would be not reused. A lambda function can take any number of arguments and returns the result based on simple computations. Lambda functions should work only with the passed arguments. The `return` keyword is omitted, the computed expression is the returned result. "
   ]
  },
  {
   "cell_type": "code",
   "execution_count": 31,
   "metadata": {
    "ExecuteTime": {
     "end_time": "2022-02-17T11:51:59.203959Z",
     "start_time": "2022-02-17T11:51:59.189958Z"
    }
   },
   "outputs": [
    {
     "name": "stdout",
     "output_type": "stream",
     "text": [
      "7\n"
     ]
    }
   ],
   "source": [
    "sum_as_lambda = lambda x, y: x+y\n",
    "print(sum_as_lambda(3, 4))"
   ]
  },
  {
   "cell_type": "code",
   "execution_count": 32,
   "metadata": {
    "ExecuteTime": {
     "end_time": "2022-02-17T11:51:59.218955Z",
     "start_time": "2022-02-17T11:51:59.205957Z"
    }
   },
   "outputs": [
    {
     "name": "stdout",
     "output_type": "stream",
     "text": [
      "[0, 3, 6, 9, 12, 15, 18, 21, 24, 27]\n"
     ]
    }
   ],
   "source": [
    "# lambda function for value filtering\n",
    "list_30 = list(range(30))\n",
    "filtered = list(filter(lambda x: x%3==0, list_30))\n",
    "print(filtered)"
   ]
  },
  {
   "cell_type": "code",
   "execution_count": 33,
   "metadata": {
    "ExecuteTime": {
     "end_time": "2022-02-17T11:51:59.234958Z",
     "start_time": "2022-02-17T11:51:59.219966Z"
    }
   },
   "outputs": [
    {
     "data": {
      "text/plain": [
       "[-1, -2, 2, -3, 3, 4, -5, 6, 7, 8, 9]"
      ]
     },
     "execution_count": 33,
     "metadata": {},
     "output_type": "execute_result"
    }
   ],
   "source": [
    "# lambda function for sorting:\n",
    "sorted([-1, -2, -3, 2, 3, 4, -5, 6, 7, 8, 9], key=lambda x: x**2)"
   ]
  },
  {
   "cell_type": "markdown",
   "metadata": {},
   "source": [
    "### Callback functions"
   ]
  },
  {
   "cell_type": "markdown",
   "metadata": {},
   "source": [
    "In Python, a function's name is a pointer to that function:"
   ]
  },
  {
   "cell_type": "code",
   "execution_count": 34,
   "metadata": {
    "ExecuteTime": {
     "end_time": "2022-02-17T11:51:59.250973Z",
     "start_time": "2022-02-17T11:51:59.236956Z"
    }
   },
   "outputs": [
    {
     "name": "stdout",
     "output_type": "stream",
     "text": [
      "<function sum_2 at 0x0000019DF10E4820>\n",
      "<function dif_2 at 0x0000019DF10E48B0>\n"
     ]
    }
   ],
   "source": [
    "def sum_2(x, y):\n",
    "    return x+y\n",
    "\n",
    "def dif_2(x, y):\n",
    "    return x - y\n",
    "\n",
    "# print functions, not results of function calls\n",
    "print(sum_2)\n",
    "print(dif_2)"
   ]
  },
  {
   "cell_type": "markdown",
   "metadata": {},
   "source": [
    "We can pass a function by its name as parameters to another functions:"
   ]
  },
  {
   "cell_type": "code",
   "execution_count": 35,
   "metadata": {
    "ExecuteTime": {
     "end_time": "2022-02-17T11:51:59.266993Z",
     "start_time": "2022-02-17T11:51:59.252956Z"
    }
   },
   "outputs": [
    {
     "name": "stdout",
     "output_type": "stream",
     "text": [
      "5\n",
      "-1\n"
     ]
    }
   ],
   "source": [
    "def complex_operation(x, y, to_be_called):\n",
    "    return to_be_called(x, y)\n",
    "\n",
    "print(complex_operation(2, 3, sum_2))\n",
    "print(complex_operation(2, 3, dif_2))"
   ]
  },
  {
   "cell_type": "markdown",
   "metadata": {},
   "source": [
    "### Generators"
   ]
  },
  {
   "cell_type": "markdown",
   "metadata": {},
   "source": [
    "Suppose you want to impleemnt a Python function which returns a collection of elements. You may proceeed in two ways:\n",
    "1. Create the collection and return it as such\n",
    "2. Give access to each element of it, one by one\n",
    "\n",
    "The first approach ie \"eager loading\", and may consume a lot of memory. If we stop from iterating its elements after the 10th item, we wasted time and memory to build and store it. \n",
    "\n",
    "The second approach favurs \"lazy loading\": an item of the collection is issued only when it is requested.\n",
    "\n",
    "The second point is implemented by using generator functions, which benefit from `yield` statement: "
   ]
  },
  {
   "cell_type": "code",
   "execution_count": 36,
   "metadata": {
    "ExecuteTime": {
     "end_time": "2022-02-17T11:51:59.282955Z",
     "start_time": "2022-02-17T11:51:59.268956Z"
    }
   },
   "outputs": [],
   "source": [
    "def lazy_generator():\n",
    "    print('First item of the collection')\n",
    "    yield 10\n",
    "\n",
    "    print('Second item of the collection')\n",
    "    yield 20\n",
    "\n",
    "    print('Last item of the collection')\n",
    "    yield 30"
   ]
  },
  {
   "cell_type": "code",
   "execution_count": 37,
   "metadata": {
    "ExecuteTime": {
     "end_time": "2022-02-17T11:51:59.298955Z",
     "start_time": "2022-02-17T11:51:59.284959Z"
    }
   },
   "outputs": [
    {
     "name": "stdout",
     "output_type": "stream",
     "text": [
      "First item of the collection\n",
      "10\n",
      "Second item of the collection\n",
      "20\n",
      "Last item of the collection\n",
      "30\n"
     ]
    }
   ],
   "source": [
    "# iterate with for\n",
    "for item in lazy_generator():\n",
    "    print(item)"
   ]
  },
  {
   "cell_type": "code",
   "execution_count": 38,
   "metadata": {
    "ExecuteTime": {
     "end_time": "2022-02-17T11:51:59.314954Z",
     "start_time": "2022-02-17T11:51:59.300955Z"
    }
   },
   "outputs": [
    {
     "name": "stdout",
     "output_type": "stream",
     "text": [
      "First item of the collection\n",
      "10\n",
      "Second item of the collection\n",
      "20\n",
      "Last item of the collection\n",
      "30\n"
     ]
    }
   ],
   "source": [
    "# using iterators\n",
    "iterator = iter(lazy_generator())\n",
    "print(next(iterator))\n",
    "print(next(iterator))\n",
    "print(next(iterator))"
   ]
  },
  {
   "cell_type": "markdown",
   "metadata": {},
   "source": [
    "Note that you do not return the values with `return`, but with `yield`. Return would definitely end the function call and all the elements yielded by the generator function will not be available."
   ]
  },
  {
   "cell_type": "markdown",
   "metadata": {},
   "source": [
    "The example above use hardcoded collection, a more realistic value would be:"
   ]
  },
  {
   "cell_type": "code",
   "execution_count": 39,
   "metadata": {
    "ExecuteTime": {
     "end_time": "2022-02-17T11:51:59.330958Z",
     "start_time": "2022-02-17T11:51:59.316956Z"
    }
   },
   "outputs": [
    {
     "name": "stdout",
     "output_type": "stream",
     "text": [
      "0\n",
      "1\n",
      "4\n",
      "9\n",
      "16\n",
      "25\n",
      "36\n",
      "49\n",
      "64\n",
      "81\n"
     ]
    }
   ],
   "source": [
    "def gen_squares(up_to):\n",
    "    for i in range(up_to):\n",
    "        yield i**2\n",
    "        \n",
    "for v in gen_squares(10):\n",
    "    print(v)"
   ]
  },
  {
   "cell_type": "markdown",
   "metadata": {},
   "source": [
    "## Type annotations"
   ]
  },
  {
   "cell_type": "markdown",
   "metadata": {},
   "source": [
    "Starting with Python 3.5, one can annotate variables, function's params, and their return types. This operation is optional and improves code readability. The annotations are introduced in Python Enhancement Proposal document [PEP484](https://www.python.org/dev/peps/pep-0484/).\n",
    "\n",
    "Aside from readability, one can use code analysis tools, as found for example in PyCharm or [MyPy](http://mypy-lang.org), or you can benefit from improved code completion support.\n",
    "\n",
    "Type annotations are made after annotated entity's name, using colon and type's name:"
   ]
  },
  {
   "cell_type": "code",
   "execution_count": 40,
   "metadata": {
    "ExecuteTime": {
     "end_time": "2022-02-17T11:51:59.346955Z",
     "start_time": "2022-02-17T11:51:59.332956Z"
    }
   },
   "outputs": [],
   "source": [
    "age:int = 21\n",
    "name:str = \"Guido van Rossum\""
   ]
  },
  {
   "cell_type": "markdown",
   "metadata": {},
   "source": [
    "Annotation does not further restict to changing the type of the variable in subsequent statements:"
   ]
  },
  {
   "cell_type": "code",
   "execution_count": 41,
   "metadata": {
    "ExecuteTime": {
     "end_time": "2022-02-17T11:51:59.361956Z",
     "start_time": "2022-02-17T11:51:59.347956Z"
    }
   },
   "outputs": [],
   "source": [
    "age = 21.5"
   ]
  },
  {
   "cell_type": "markdown",
   "metadata": {},
   "source": [
    "A short example on function annotation follows:"
   ]
  },
  {
   "cell_type": "code",
   "execution_count": 42,
   "metadata": {
    "ExecuteTime": {
     "end_time": "2022-02-17T11:51:59.376956Z",
     "start_time": "2022-02-17T11:51:59.362955Z"
    }
   },
   "outputs": [
    {
     "data": {
      "text/plain": [
       "'Hello William, you are 23 years old'"
      ]
     },
     "execution_count": 42,
     "metadata": {},
     "output_type": "execute_result"
    }
   ],
   "source": [
    "def f(name:str, age:int) -> str:\n",
    "    return 'Hello ' + name + ', you are ' + str(age) + ' years old'\n",
    "\n",
    "f('William',23)"
   ]
  },
  {
   "cell_type": "markdown",
   "metadata": {},
   "source": [
    "For complex types we can use the module `typing`, which provides annotation types like `Dict`, `Tuple`, `List`, `Set`, etc."
   ]
  },
  {
   "cell_type": "code",
   "execution_count": 43,
   "metadata": {
    "ExecuteTime": {
     "end_time": "2022-02-17T11:51:59.392957Z",
     "start_time": "2022-02-17T11:51:59.377956Z"
    }
   },
   "outputs": [
    {
     "name": "stdout",
     "output_type": "stream",
     "text": [
      "Hello Ana, you are 20 years old\n",
      "Hello Dan, you are 21 years old\n",
      "Hello George, you are 22 years old\n"
     ]
    }
   ],
   "source": [
    "from typing import List\n",
    "\n",
    "def mutiple_greetings(names: List[str], ages: List[int]) -> None:\n",
    "    for n, v in zip(names, ages):\n",
    "        print(f'Hello {n}, you are {v} years old')\n",
    "        \n",
    "mutiple_greetings(['Ana', 'Dan', 'George'], [20, 21, 22])"
   ]
  },
  {
   "cell_type": "markdown",
   "metadata": {},
   "source": [
    "You can define you own types for annotation:"
   ]
  },
  {
   "cell_type": "code",
   "execution_count": 44,
   "metadata": {
    "ExecuteTime": {
     "end_time": "2022-02-17T11:51:59.408955Z",
     "start_time": "2022-02-17T11:51:59.393959Z"
    }
   },
   "outputs": [],
   "source": [
    "from typing import Tuple\n",
    "\n",
    "Point2D = Tuple[int, int]\n",
    "\n",
    "def plot_point(point: Point2D) -> bool:\n",
    "    ## ...do something\n",
    "    return True\n",
    "\n",
    "def rotate_point(p:Point2D, angle:float) -> Point2D:\n",
    "    ## some statements\n",
    "    ## newPoint = ....\n",
    "    return newPoint"
   ]
  },
  {
   "cell_type": "markdown",
   "metadata": {},
   "source": [
    "If a variable can have more than one possible type, we can do as follows:"
   ]
  },
  {
   "cell_type": "code",
   "execution_count": 45,
   "metadata": {
    "ExecuteTime": {
     "end_time": "2022-02-17T11:51:59.424955Z",
     "start_time": "2022-02-17T11:51:59.410959Z"
    }
   },
   "outputs": [],
   "source": [
    "from typing import Union\n",
    "\n",
    "def print_value(value: Union[str, int, float]) -> None:\n",
    "    print(value)"
   ]
  },
  {
   "cell_type": "markdown",
   "metadata": {},
   "source": [
    "If a variable can have the value `None`, you can annotate it  as:"
   ]
  },
  {
   "cell_type": "code",
   "execution_count": 46,
   "metadata": {
    "ExecuteTime": {
     "end_time": "2022-02-17T11:51:59.440956Z",
     "start_time": "2022-02-17T11:51:59.425979Z"
    }
   },
   "outputs": [],
   "source": [
    "from typing import Optional\n",
    "\n",
    "def f(param: Optional[str]) -> str:\n",
    "    if param is not None:\n",
    "        return param.upper()\n",
    "    else:\n",
    "        return \"\""
   ]
  },
  {
   "cell_type": "markdown",
   "metadata": {},
   "source": [
    "For more elaborated annotations: callback functions, collections etc. we suggest the interested reader to dive into the bibliography."
   ]
  },
  {
   "cell_type": "markdown",
   "metadata": {},
   "source": [
    "### Recommended bibliography\n",
    "\n",
    "1. [PEP484](https://www.python.org/dev/peps/pep-0484/) \n",
    "1. [typing — Support for type hints](https://docs.python.org/3/library/typing.html)\n",
    "1. [Type hints cheat sheet (Python 3)](https://mypy.readthedocs.io/en/latest/cheat_sheet_py3.html)"
   ]
  },
  {
   "cell_type": "markdown",
   "metadata": {},
   "source": [
    "## User-defined Python modules"
   ]
  },
  {
   "cell_type": "markdown",
   "metadata": {},
   "source": [
    "A Python module is a file with extenion `py` hosting functions, classes, and variables. Importing of a module is done with the statement `import`. \n",
    "\n",
    "Example: we create a module - file Python mySmartModule.py - containing a function which computes the sum of elements in a list:\n",
    "\n",
    "\n",
    "```python\n",
    "# file mySmartModule.py\n",
    "def my_sum(lst: List[Union[float, int]]) -> Union[float, int]:\n",
    "    sum = 0\n",
    "    for item in lst:\n",
    "        sum += item\n",
    "    return sum\n",
    "```\n",
    "\n",
    "We can use this module as:\n",
    "```python\n",
    "import mySmartModule\n",
    "\n",
    "lst = [1, 2, 3]\n",
    "\n",
    "sum_lst = mySmartModule.my_sum(lst)\n",
    "print(sum_lst)\n",
    "```"
   ]
  },
  {
   "cell_type": "markdown",
   "metadata": {},
   "source": [
    "We can define an alias for the imported module:\n",
    "```python\n",
    "import mySmartModule as msm\n",
    "```\n",
    "and in this case we use it as:\n",
    "```python\n",
    "sum = msm.my_sum(lst)\n",
    "```"
   ]
  },
  {
   "cell_type": "markdown",
   "metadata": {},
   "source": [
    "The content of a module can be found with `dir`:\n",
    "```python\n",
    ">>> dir(msm)\n",
    "['__builtins__', '__cached__', '__doc__', '__file__', '__loader__', '__name__', '__package__', '__spec__', 'my_sum']\n",
    "```\n",
    "\n",
    "The elements with `__` as prefix and suffix are automatically added by Python. "
   ]
  },
  {
   "cell_type": "markdown",
   "metadata": {},
   "source": [
    "If one wants to be able to access all items defined in a module, without using `module_name.item_name`, one can write as follows:\n",
    "```python\n",
    "from mySmartModule import *\n",
    "\n",
    "print(my_sum([1, 2, 3]))\n",
    "```\n",
    "\n",
    "However, it is recommended to import strictly the required items (or to explicitely enumerate all items, if needed), to avoid accidental overwrites of alreay implemented entities with the same name:\n",
    "\n",
    "```python\n",
    "from mySmartModule import my_sum\n",
    "\n",
    "print(my_sum([1, 2, 3]))\n",
    "```"
   ]
  },
  {
   "cell_type": "markdown",
   "metadata": {},
   "source": [
    "When a module is imported, the search order is:\n",
    "1. current directory\n",
    "1. look in the location defined by environment variable `PYTHONPATH`, if defined\n",
    "1. look in the default path\n",
    "\n",
    "The default path is given by the variable `path` from module `sys`:"
   ]
  },
  {
   "cell_type": "code",
   "execution_count": 47,
   "metadata": {
    "ExecuteTime": {
     "end_time": "2022-02-17T11:51:59.456979Z",
     "start_time": "2022-02-17T11:51:59.442956Z"
    }
   },
   "outputs": [
    {
     "name": "stdout",
     "output_type": "stream",
     "text": [
      "['d:\\\\work\\\\school\\\\cursuri\\\\intro_in_python_quantum\\\\git\\\\python_insubria_2022\\\\Course2', 'C:\\\\Users\\\\Lucian\\\\anaconda3\\\\python39.zip', 'C:\\\\Users\\\\Lucian\\\\anaconda3\\\\DLLs', 'C:\\\\Users\\\\Lucian\\\\anaconda3\\\\lib', 'C:\\\\Users\\\\Lucian\\\\anaconda3', '', 'C:\\\\Users\\\\Lucian\\\\anaconda3\\\\lib\\\\site-packages', 'C:\\\\Users\\\\Lucian\\\\anaconda3\\\\lib\\\\site-packages\\\\locket-0.2.1-py3.9.egg', 'C:\\\\Users\\\\Lucian\\\\anaconda3\\\\lib\\\\site-packages\\\\win32', 'C:\\\\Users\\\\Lucian\\\\anaconda3\\\\lib\\\\site-packages\\\\win32\\\\lib', 'C:\\\\Users\\\\Lucian\\\\anaconda3\\\\lib\\\\site-packages\\\\Pythonwin', 'C:\\\\Users\\\\Lucian\\\\anaconda3\\\\lib\\\\site-packages\\\\IPython\\\\extensions', 'C:\\\\Users\\\\Lucian\\\\.ipython']\n"
     ]
    }
   ],
   "source": [
    "import sys\n",
    "print(sys.path)"
   ]
  },
  {
   "cell_type": "markdown",
   "metadata": {},
   "source": [
    "If a user puts a module into a path which is not among the ones above, then she can append it to the `sys.path` variable:"
   ]
  },
  {
   "cell_type": "code",
   "execution_count": 48,
   "metadata": {
    "ExecuteTime": {
     "end_time": "2022-02-17T11:51:59.472959Z",
     "start_time": "2022-02-17T11:51:59.457957Z"
    }
   },
   "outputs": [
    {
     "name": "stdout",
     "output_type": "stream",
     "text": [
      "6\n"
     ]
    }
   ],
   "source": [
    "sys.path.append('./my_modules/')\n",
    "from mySmartModule import my_sum\n",
    "print(my_sum([1, 2, 3]))"
   ]
  },
  {
   "cell_type": "markdown",
   "metadata": {},
   "source": [
    "A module can be used in two ways:\n",
    "1. to expose different function or classes implementations, ot to access predefined varibles (e.g. `math.pi`):\n",
    "```python\n",
    "import math\n",
    "print(math.pi)\n",
    "```\n",
    "2. it can be launched by itself as a script, by writing in command line interface: `python mySmartModule.py`. In this case, the desired code is written inside the Python module `mySmartModule.py` as:\n",
    "```python\n",
    "if __name__ == '__main__':\n",
    "    # code which is executed when one launches this script\n",
    "```\n",
    "\n",
    "The code under the `if __name__ == '__main__'` will not be executed if the module is imported.\n",
    "\n",
    "Example:\n",
    "```python\n",
    "def my_sum(my_list):\n",
    "    sum = 0\n",
    "    for item in my_list:\n",
    "        sum += item\n",
    "    return sum\n",
    "\t\n",
    "if __name__ == '__main__':\n",
    "\tprint('Usage example')\n",
    "\ta_list = list(range(100))\n",
    "\tprint(my_sum(a_list))\n",
    "```"
   ]
  },
  {
   "cell_type": "markdown",
   "metadata": {},
   "source": [
    "## User-defined Python packages"
   ]
  },
  {
   "cell_type": "markdown",
   "metadata": {},
   "source": [
    "A package is a collections of modules. Physically, it is a directory cotaining modules and other packages. It is mandatory to have inside the directory a file named `__init__.py` in any directory which is to be seen as a package. This file might even be empty, at the beginning.\n",
    "\n",
    "We start from the following structure:\n",
    "```\n",
    "---myUtils\\\n",
    " |------ mySmartModule.py\n",
    " |------ __init__.py\n",
    "```"
   ]
  },
  {
   "cell_type": "markdown",
   "metadata": {},
   "source": [
    "To import the function `my_sum` from module `mySmartModule.py` which is situated in directory (package) `myUtils` we could write:\n",
    "```python\n",
    "from myUtils.mySmartModule import my_sum\n",
    "print(my_sum([1, 2, 3]))\n",
    "```\n",
    "but we would like to write it more briefly:\n",
    "```python\n",
    "from myUtils import my_sum\n",
    "print(my_sum([1, 2, 30]))\n",
    "```\n",
    "that is to acoid explicitely mentioning the module `mySmartModule` from within package `myUtils`. To do this, we will add into the file `__init__.py` from within `myUtils` the line:\n",
    "```python\n",
    "from .mySmartModule import my_sum \n",
    "```\n",
    "where the leading `.` refers to current directory (relative path). "
   ]
  },
  {
   "cell_type": "code",
   "execution_count": 49,
   "metadata": {
    "ExecuteTime": {
     "end_time": "2022-02-17T11:51:59.488959Z",
     "start_time": "2022-02-17T11:51:59.474958Z"
    }
   },
   "outputs": [
    {
     "name": "stdout",
     "output_type": "stream",
     "text": [
      "313\n"
     ]
    }
   ],
   "source": [
    "from myUtils.mySmartModule import my_sum\n",
    "print(my_sum([1, 2, 10, 300]))"
   ]
  },
  {
   "cell_type": "code",
   "execution_count": 50,
   "metadata": {
    "ExecuteTime": {
     "end_time": "2022-02-17T11:51:59.504956Z",
     "start_time": "2022-02-17T11:51:59.490956Z"
    }
   },
   "outputs": [
    {
     "name": "stdout",
     "output_type": "stream",
     "text": [
      "313\n"
     ]
    }
   ],
   "source": [
    "from myUtils import my_sum\n",
    "print(my_sum([1, 2, 10, 300]))"
   ]
  },
  {
   "cell_type": "markdown",
   "metadata": {},
   "source": [
    "One puts into `__init__.py` everything which is related to package's intitialization, e.g. loading data from disc or setting some variables to proper values."
   ]
  },
  {
   "cell_type": "markdown",
   "metadata": {},
   "source": [
    "If you want to create packages to be use dby a large comunity, and to publish them on PyPI, please folow [this tutorial](https://python-packaging.readthedocs.io/en/latest/)."
   ]
  },
  {
   "cell_type": "markdown",
   "metadata": {},
   "source": [
    "Other short examples of package usage follow:"
   ]
  },
  {
   "cell_type": "code",
   "execution_count": 51,
   "metadata": {
    "ExecuteTime": {
     "end_time": "2022-02-17T11:51:59.520956Z",
     "start_time": "2022-02-17T11:51:59.506971Z"
    }
   },
   "outputs": [
    {
     "name": "stdout",
     "output_type": "stream",
     "text": [
      "['I', 'bought', 'apples', 'pies', 'bread', 'and', 'coffee']\n"
     ]
    }
   ],
   "source": [
    "import re # package for regular expressions\n",
    "my_string = 'I bought: apples, pies, bread... and coffee'\n",
    "tokens = re.split(r'\\W+', my_string)\n",
    "print(tokens)"
   ]
  },
  {
   "cell_type": "code",
   "execution_count": 52,
   "metadata": {
    "ExecuteTime": {
     "end_time": "2022-02-17T11:51:59.568955Z",
     "start_time": "2022-02-17T11:51:59.521956Z"
    }
   },
   "outputs": [
    {
     "name": "stdout",
     "output_type": "stream",
     "text": [
      "After deserialization: {'lion': 'yellow', 'kitty': 'red'}\n"
     ]
    }
   ],
   "source": [
    "# Serialize values with pickle\n",
    "import pickle\n",
    "\n",
    "toys = { \"lion\": \"yellow\", \"kitty\": \"red\" }\n",
    "\n",
    "pickle.dump( toys, open( \"toys.pkl\", \"wb\" ) )\n",
    "del toys # no longer needed, will recover it from pickle file\n",
    "\n",
    "# restore it\n",
    "toys_restored = pickle.load( open( \"toys.pkl\", \"rb\" ) )\n",
    "print('After deserialization:', toys_restored)\n",
    "\n",
    "!del toys.pkl # remove the pickle file from the disk"
   ]
  },
  {
   "cell_type": "markdown",
   "metadata": {},
   "source": [
    "## Working with files in Python"
   ]
  },
  {
   "cell_type": "markdown",
   "metadata": {},
   "source": [
    "Opening of a file is done with:"
   ]
  },
  {
   "cell_type": "code",
   "execution_count": 54,
   "metadata": {
    "ExecuteTime": {
     "end_time": "2022-02-17T11:52:21.710688Z",
     "start_time": "2022-02-17T11:52:21.705573Z"
    }
   },
   "outputs": [],
   "source": [
    "f = open(\"log_file.txt\")\n",
    "# which is the same as the preferable explicit form:\n",
    "f = open(\"log_file.txt\", \"rt\")\n",
    "# rt: read mode, text file\n",
    "# for reading a binary file:\n",
    "# f = open(\"image.zzx\", \"rb\")"
   ]
  },
  {
   "cell_type": "markdown",
   "metadata": {},
   "source": [
    "You must close the file once you've done working with it: "
   ]
  },
  {
   "cell_type": "code",
   "execution_count": 55,
   "metadata": {
    "ExecuteTime": {
     "end_time": "2022-02-17T11:52:21.726625Z",
     "start_time": "2022-02-17T11:52:21.712627Z"
    }
   },
   "outputs": [],
   "source": [
    "f.close()"
   ]
  },
  {
   "cell_type": "markdown",
   "metadata": {},
   "source": [
    "To ensure the file is always closed, we suggest to follos the pattern:"
   ]
  },
  {
   "cell_type": "code",
   "execution_count": 56,
   "metadata": {
    "ExecuteTime": {
     "end_time": "2022-02-17T11:52:21.742625Z",
     "start_time": "2022-02-17T11:52:21.728628Z"
    }
   },
   "outputs": [],
   "source": [
    "with open(\"log_file.txt\", \"rt\") as f:\n",
    "    # read file's content\n",
    "    pass\n",
    "# no need to explicitely close it, the `with` block autoamtically calls f.close()"
   ]
  },
  {
   "cell_type": "markdown",
   "metadata": {},
   "source": [
    "Getting a single line from `f` is done with method f.readline():"
   ]
  },
  {
   "cell_type": "code",
   "execution_count": 57,
   "metadata": {
    "ExecuteTime": {
     "end_time": "2022-02-17T11:52:21.757624Z",
     "start_time": "2022-02-17T11:52:21.744627Z"
    }
   },
   "outputs": [
    {
     "name": "stdout",
     "output_type": "stream",
     "text": [
      "line 1\n",
      "\n"
     ]
    }
   ],
   "source": [
    "with open(\"log_file.txt\", \"rt\") as f:\n",
    "    first_line = f.readline()\n",
    "    \n",
    "print(first_line)"
   ]
  },
  {
   "cell_type": "markdown",
   "metadata": {},
   "source": [
    "Getting all the lines is done with `readlines()`:"
   ]
  },
  {
   "cell_type": "code",
   "execution_count": 58,
   "metadata": {
    "ExecuteTime": {
     "end_time": "2022-02-17T11:52:21.773624Z",
     "start_time": "2022-02-17T11:52:21.759628Z"
    }
   },
   "outputs": [
    {
     "name": "stdout",
     "output_type": "stream",
     "text": [
      "['line 1', 'line 2', 'line 3', 'line 4']\n"
     ]
    }
   ],
   "source": [
    "with open(\"log_file.txt\", \"rt\") as f:\n",
    "    all_lines = [line.strip('\\n') for line in f.readlines()]\n",
    "    \n",
    "print(all_lines)\n",
    "# strip the newline char"
   ]
  },
  {
   "cell_type": "markdown",
   "metadata": {},
   "source": [
    "Opening a file for writing into it can be done in two ways: append (`a`) or write (`w`) mode. The latter one will overwrite the old content. "
   ]
  },
  {
   "cell_type": "code",
   "execution_count": 59,
   "metadata": {
    "ExecuteTime": {
     "end_time": "2022-02-17T11:52:21.788626Z",
     "start_time": "2022-02-17T11:52:21.774624Z"
    }
   },
   "outputs": [],
   "source": [
    "with open(\"log_file.txt\", \"at\") as f:\n",
    "    f.write('Line added from program')"
   ]
  },
  {
   "cell_type": "markdown",
   "metadata": {},
   "source": [
    "If you want to maipulate files and dirs, use package `os` or `shutil`."
   ]
  },
  {
   "cell_type": "markdown",
   "metadata": {},
   "source": [
    "## Exception handling"
   ]
  },
  {
   "cell_type": "markdown",
   "metadata": {},
   "source": [
    "Exceptions are outlier cases encountered while running the code: invalid numerical operations, files bot found, illegal access to data structures, etc. \n",
    "\n",
    "If a block of code/a function call/etc is susceptible to produce an exception, we put it inside a `try...except` block:"
   ]
  },
  {
   "cell_type": "code",
   "execution_count": 60,
   "metadata": {
    "ExecuteTime": {
     "end_time": "2022-02-17T11:52:21.804660Z",
     "start_time": "2022-02-17T11:52:21.789625Z"
    }
   },
   "outputs": [
    {
     "name": "stdout",
     "output_type": "stream",
     "text": [
      "1.0\n",
      "0.5\n",
      "Cannot compute it\n"
     ]
    }
   ],
   "source": [
    "my_values = [1, 2, 0, 3]\n",
    "\n",
    "try:\n",
    "    for v in my_values:\n",
    "        print(1.0 / v)\n",
    "except:\n",
    "    print('Cannot compute it')"
   ]
  },
  {
   "cell_type": "markdown",
   "metadata": {},
   "source": [
    "It is recommended to bind the caught exception to an object which can be further investigated:"
   ]
  },
  {
   "cell_type": "code",
   "execution_count": 61,
   "metadata": {
    "ExecuteTime": {
     "end_time": "2022-02-17T11:52:21.820628Z",
     "start_time": "2022-02-17T11:52:21.806627Z"
    }
   },
   "outputs": [
    {
     "name": "stdout",
     "output_type": "stream",
     "text": [
      "1.0\n",
      "0.5\n",
      "Cannot compute it: float division by zero\n"
     ]
    }
   ],
   "source": [
    "my_values = [1, 2, 0, 3]\n",
    "\n",
    "try:\n",
    "    for v in my_values:\n",
    "        print(1.0 / v)\n",
    "except Exception as ex:\n",
    "    print(f'Cannot compute it: {ex}')"
   ]
  },
  {
   "cell_type": "markdown",
   "metadata": {},
   "source": [
    "Multiple except clauses may be used:"
   ]
  },
  {
   "cell_type": "code",
   "execution_count": 62,
   "metadata": {
    "ExecuteTime": {
     "end_time": "2022-02-17T11:52:21.836658Z",
     "start_time": "2022-02-17T11:52:21.822625Z"
    }
   },
   "outputs": [],
   "source": [
    "try:\n",
    "   # compute\n",
    "   pass\n",
    "\n",
    "except ValueError:\n",
    "   # handler for ValueError exception\n",
    "   pass\n",
    "\n",
    "except (IndexError, KeyError):\n",
    "   # handle multiple exceptions\n",
    "   # IndexError and KeyError\n",
    "   pass\n",
    "\n",
    "except:\n",
    "   # catch-all\n",
    "   pass"
   ]
  },
  {
   "cell_type": "markdown",
   "metadata": {},
   "source": [
    "One may raise an exception if wanted:"
   ]
  },
  {
   "cell_type": "code",
   "execution_count": 63,
   "metadata": {
    "ExecuteTime": {
     "end_time": "2022-02-17T11:52:21.852664Z",
     "start_time": "2022-02-17T11:52:21.837626Z"
    }
   },
   "outputs": [],
   "source": [
    "# a = -1\n",
    "# # ... code\n",
    "# if a < 0:\n",
    "#     raise ValueError(f'The argument must be >= 0, got {a}')"
   ]
  },
  {
   "cell_type": "markdown",
   "metadata": {},
   "source": [
    "A `try` statement can optionally have a `finally` block. This block is always executed, regardless whether the previous `try` block succeeded or not."
   ]
  },
  {
   "cell_type": "code",
   "execution_count": 139,
   "metadata": {
    "ExecuteTime": {
     "end_time": "2022-02-17T11:56:00.105039Z",
     "start_time": "2022-02-17T11:56:00.101041Z"
    }
   },
   "outputs": [
    {
     "name": "stdout",
     "output_type": "stream",
     "text": [
      "For sure, f is closed now\n"
     ]
    }
   ],
   "source": [
    "try:\n",
    "    f = open(\"log_file.txt\", \"rt\")\n",
    "    _ = 1/0\n",
    "except ZeroDivisionError:\n",
    "    pass\n",
    "finally:\n",
    "    f.close()\n",
    "    print('For sure, f is closed now')"
   ]
  }
 ],
 "metadata": {
  "kernelspec": {
   "display_name": "Python 3 (ipykernel)",
   "language": "python",
   "name": "python3"
  },
  "language_info": {
   "codemirror_mode": {
    "name": "ipython",
    "version": 3
   },
   "file_extension": ".py",
   "mimetype": "text/x-python",
   "name": "python",
   "nbconvert_exporter": "python",
   "pygments_lexer": "ipython3",
   "version": "3.9.7"
  },
  "toc": {
   "base_numbering": 1,
   "nav_menu": {},
   "number_sections": true,
   "sideBar": true,
   "skip_h1_title": false,
   "title_cell": "Table of Contents",
   "title_sidebar": "Contents",
   "toc_cell": false,
   "toc_position": {
    "height": "calc(100% - 180px)",
    "left": "10px",
    "top": "150px",
    "width": "267.48px"
   },
   "toc_section_display": true,
   "toc_window_display": true
  },
  "varInspector": {
   "cols": {
    "lenName": 16,
    "lenType": 16,
    "lenVar": 40
   },
   "kernels_config": {
    "python": {
     "delete_cmd_postfix": "",
     "delete_cmd_prefix": "del ",
     "library": "var_list.py",
     "varRefreshCmd": "print(var_dic_list())"
    },
    "r": {
     "delete_cmd_postfix": ") ",
     "delete_cmd_prefix": "rm(",
     "library": "var_list.r",
     "varRefreshCmd": "cat(var_dic_list()) "
    }
   },
   "types_to_exclude": [
    "module",
    "function",
    "builtin_function_or_method",
    "instance",
    "_Feature"
   ],
   "window_display": false
  }
 },
 "nbformat": 4,
 "nbformat_minor": 2
}
