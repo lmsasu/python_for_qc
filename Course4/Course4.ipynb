{
 "cells": [
  {
   "cell_type": "markdown",
   "id": "5b0c9121",
   "metadata": {},
   "source": [
    "# Course 4. Object Oriented Programming in Python. Decorators"
   ]
  },
  {
   "cell_type": "markdown",
   "id": "bfa7a4b7",
   "metadata": {},
   "source": [
    "## Object oriented programming"
   ]
  },
  {
   "cell_type": "markdown",
   "id": "f7a4ef6f",
   "metadata": {},
   "source": [
    "### Quick OOP refresh"
   ]
  },
  {
   "cell_type": "markdown",
   "id": "acb759f3",
   "metadata": {},
   "source": [
    "Classes are user-defined types with state and behaviour embedded into it. An example of Python predefined class is `list`. A simple list contains a bunch of values (this is the state) and allows for various methods to be called: `append`, `sort`, `copy`, `clear`, etc. In this example, a particular list is an instance of the `list` class, i.e. a list object. \n",
    "\n",
    "An object's state is represented by its attributes (also known as fields, or properties), and behaviour is given by specific functions which are written inside the class.\n",
    "\n",
    "One may define multiple classes, and some of them may inherit from the another ones. Multiple inheritance is allowed in Python, although not widely used. In other cases, we can consider that an object includes references to other objects. \n",
    "\n",
    "Note that if only the state of an object is required - i.e. the objects are just data transfer objects - then it would be enough to use type `Namedtuple` from module `collections`:"
   ]
  },
  {
   "cell_type": "code",
   "execution_count": 1,
   "id": "cf6ea898",
   "metadata": {
    "ExecuteTime": {
     "end_time": "2022-02-23T14:42:26.193814Z",
     "start_time": "2022-02-23T14:42:26.161694Z"
    }
   },
   "outputs": [
    {
     "name": "stdout",
     "output_type": "stream",
     "text": [
      "Please meet John Smith of 19 years old; his average grade is 9.7.\n"
     ]
    }
   ],
   "source": [
    "from collections import namedtuple\n",
    " \n",
    "Student = namedtuple('Student', ['name', 'age', 'average_grade'])\n",
    " \n",
    "# Adding values\n",
    "s = Student('John Smith', 19, 9.7)\n",
    " \n",
    "# Access using name\n",
    "print(f'Please meet {s.name} of {s.age} years old; his average grade is {s.average_grade}.')"
   ]
  },
  {
   "cell_type": "markdown",
   "id": "f6bf9649",
   "metadata": {},
   "source": [
    "The case above is simplistic and does not allow for behaviour definition. Hence, we consider classes."
   ]
  },
  {
   "cell_type": "markdown",
   "id": "2d805436",
   "metadata": {},
   "source": [
    "### Simple classes"
   ]
  },
  {
   "cell_type": "markdown",
   "id": "0458097f",
   "metadata": {},
   "source": [
    "We consider a class modelling the concept of Student. We start with an empty class, `pass` means no implementation (so far)."
   ]
  },
  {
   "cell_type": "code",
   "execution_count": 2,
   "id": "38780cd5",
   "metadata": {
    "ExecuteTime": {
     "end_time": "2022-02-23T14:42:26.209781Z",
     "start_time": "2022-02-23T14:42:26.199789Z"
    }
   },
   "outputs": [],
   "source": [
    "class Student:\n",
    "    \"\"\"\n",
    "    Models the concept of Student.\n",
    "    \"\"\"\n",
    "    pass\n"
   ]
  },
  {
   "cell_type": "markdown",
   "id": "81235ad9",
   "metadata": {},
   "source": [
    "We create two instances of this class as follows:"
   ]
  },
  {
   "cell_type": "code",
   "execution_count": 3,
   "id": "59c359e3",
   "metadata": {
    "ExecuteTime": {
     "end_time": "2022-02-23T14:42:26.225784Z",
     "start_time": "2022-02-23T14:42:26.212749Z"
    }
   },
   "outputs": [],
   "source": [
    "student_1 = Student()\n",
    "student_2 = Student()"
   ]
  },
  {
   "cell_type": "markdown",
   "id": "a67dfa1c",
   "metadata": {},
   "source": [
    "If we print the two objects directly, we remark that they are stored to different locations in memory (your memory address might differ form the values below):"
   ]
  },
  {
   "cell_type": "code",
   "execution_count": 4,
   "id": "6e7784d1",
   "metadata": {
    "ExecuteTime": {
     "end_time": "2022-02-23T14:42:26.241776Z",
     "start_time": "2022-02-23T14:42:26.228745Z"
    }
   },
   "outputs": [
    {
     "name": "stdout",
     "output_type": "stream",
     "text": [
      "student_1: <__main__.Student object at 0x000001DBB77A2F10>\n",
      "student_2: <__main__.Student object at 0x000001DBB77A2BB0>\n"
     ]
    }
   ],
   "source": [
    "print(f'student_1: {student_1}')\n",
    "print(f'student_2: {student_2}')"
   ]
  },
  {
   "cell_type": "markdown",
   "id": "1c5483aa",
   "metadata": {
    "ExecuteTime": {
     "end_time": "2022-02-21T12:56:37.814280Z",
     "start_time": "2022-02-21T12:56:37.806175Z"
    }
   },
   "source": [
    "This explains why the two objects are seen as different: by default, the `==` operator compares their memory address:"
   ]
  },
  {
   "cell_type": "code",
   "execution_count": 5,
   "id": "cf2e79b5",
   "metadata": {
    "ExecuteTime": {
     "end_time": "2022-02-23T14:42:26.257779Z",
     "start_time": "2022-02-23T14:42:26.245743Z"
    }
   },
   "outputs": [
    {
     "name": "stdout",
     "output_type": "stream",
     "text": [
      "False\n"
     ]
    }
   ],
   "source": [
    "print(student_1 == student_2)"
   ]
  },
  {
   "cell_type": "markdown",
   "id": "f7c0122d",
   "metadata": {},
   "source": [
    "... even if they are of the same type:"
   ]
  },
  {
   "cell_type": "code",
   "execution_count": 6,
   "id": "7864e6d0",
   "metadata": {
    "ExecuteTime": {
     "end_time": "2022-02-23T14:42:26.273745Z",
     "start_time": "2022-02-23T14:42:26.260744Z"
    }
   },
   "outputs": [
    {
     "name": "stdout",
     "output_type": "stream",
     "text": [
      "True\n"
     ]
    }
   ],
   "source": [
    "print(type(student_1) == type(student_2))"
   ]
  },
  {
   "cell_type": "markdown",
   "id": "ab3bfb7a",
   "metadata": {},
   "source": [
    "Checking if an object is of specific type is done with Python built-in function `isinstance`:"
   ]
  },
  {
   "cell_type": "code",
   "execution_count": 7,
   "id": "f55e02be",
   "metadata": {
    "ExecuteTime": {
     "end_time": "2022-02-23T14:42:26.289779Z",
     "start_time": "2022-02-23T14:42:26.275741Z"
    }
   },
   "outputs": [
    {
     "name": "stdout",
     "output_type": "stream",
     "text": [
      "We have an object of type Student\n"
     ]
    }
   ],
   "source": [
    "if isinstance(student_1, Student):\n",
    "    print('We have an object of type Student')\n",
    "elif isinstance(student_1, namedtuple):\n",
    "    print('It is a namedtuple')\n",
    "else:\n",
    "    print('A different type')"
   ]
  },
  {
   "cell_type": "markdown",
   "id": "36fc452d",
   "metadata": {},
   "source": [
    "Let us see what such a simple type offers:"
   ]
  },
  {
   "cell_type": "code",
   "execution_count": 8,
   "id": "dc4e3a3c",
   "metadata": {
    "ExecuteTime": {
     "end_time": "2022-02-23T14:42:26.305746Z",
     "start_time": "2022-02-23T14:42:26.291741Z"
    }
   },
   "outputs": [
    {
     "data": {
      "text/plain": [
       "['__class__',\n",
       " '__delattr__',\n",
       " '__dict__',\n",
       " '__dir__',\n",
       " '__doc__',\n",
       " '__eq__',\n",
       " '__format__',\n",
       " '__ge__',\n",
       " '__getattribute__',\n",
       " '__gt__',\n",
       " '__hash__',\n",
       " '__init__',\n",
       " '__init_subclass__',\n",
       " '__le__',\n",
       " '__lt__',\n",
       " '__module__',\n",
       " '__ne__',\n",
       " '__new__',\n",
       " '__reduce__',\n",
       " '__reduce_ex__',\n",
       " '__repr__',\n",
       " '__setattr__',\n",
       " '__sizeof__',\n",
       " '__str__',\n",
       " '__subclasshook__',\n",
       " '__weakref__']"
      ]
     },
     "execution_count": 8,
     "metadata": {},
     "output_type": "execute_result"
    }
   ],
   "source": [
    "dir(student_1)"
   ]
  },
  {
   "cell_type": "markdown",
   "id": "726bebed",
   "metadata": {},
   "source": [
    "For now, there are only a list of built-in methods. The *dunder* notation -- double underscores before and after the entities' names -- show they should not be called directly; they are \"magic methods\" automatically available for each class, and they are called by other Python functions. \n",
    "\n",
    "We will overwrite some of them shortly. \n",
    "\n",
    "Nevertheless, if we insist, we can see what they are producing:"
   ]
  },
  {
   "cell_type": "code",
   "execution_count": 9,
   "id": "b8c56ee9",
   "metadata": {
    "ExecuteTime": {
     "end_time": "2022-02-23T14:42:26.321787Z",
     "start_time": "2022-02-23T14:42:26.307748Z"
    }
   },
   "outputs": [
    {
     "name": "stdout",
     "output_type": "stream",
     "text": [
      "<class '__main__.Student'>\n"
     ]
    }
   ],
   "source": [
    "print(student_1.__class__)"
   ]
  },
  {
   "cell_type": "code",
   "execution_count": 10,
   "id": "0e8dc97b",
   "metadata": {
    "ExecuteTime": {
     "end_time": "2022-02-23T14:42:26.337780Z",
     "start_time": "2022-02-23T14:42:26.326749Z"
    }
   },
   "outputs": [
    {
     "name": "stdout",
     "output_type": "stream",
     "text": [
      "\n",
      "    Models the concept of Student.\n",
      "    \n"
     ]
    }
   ],
   "source": [
    "print(student_1.__doc__)"
   ]
  },
  {
   "cell_type": "markdown",
   "id": "86c66b5c",
   "metadata": {},
   "source": [
    "... etc. \n",
    "\n",
    "We want to define the student type to have a few attributes: first name, last name, date of birth, specialty. Once we instantiate the Student, we provide specific values of these attributes for each instance.\n",
    "\n",
    "Once an object is created, it will be passed to each instance method as the first parameter. Traditionally, this parameter is called `self` and it is similar to `this` found in other languages. \n",
    "\n",
    "Initialization of an object is done by using the dunder method `__init__` (you saw it in the `dir` list above). We emphasize this method is not a constructor, but an object initializer. For type annotation on `__init__` we are using the following from [PEP 484](https://www.python.org/dev/peps/pep-0484/)."
   ]
  },
  {
   "cell_type": "code",
   "execution_count": 11,
   "id": "00e8cdcc",
   "metadata": {
    "ExecuteTime": {
     "end_time": "2022-02-23T14:42:26.353780Z",
     "start_time": "2022-02-23T14:42:26.339748Z"
    }
   },
   "outputs": [],
   "source": [
    "from datetime import datetime"
   ]
  },
  {
   "cell_type": "code",
   "execution_count": 12,
   "id": "c14a09d3",
   "metadata": {
    "ExecuteTime": {
     "end_time": "2022-02-23T14:42:26.369781Z",
     "start_time": "2022-02-23T14:42:26.356745Z"
    }
   },
   "outputs": [],
   "source": [
    "class Student:\n",
    "    \"\"\"\n",
    "    Models the concept of Student.\n",
    "    \"\"\"\n",
    "    def __init__(self, first_name: str, last_name: str, dob: datetime, specialty: str) -> None:\n",
    "        self.first_name : str = first_name\n",
    "        self.last_name : str = last_name\n",
    "        self.date_of_birth : datetime = dob\n",
    "        self.specialty : str = specialty"
   ]
  },
  {
   "cell_type": "markdown",
   "id": "9ee2a191",
   "metadata": {},
   "source": [
    "Creating a new instance with this definition should specify all the requested params - note that none of them is set to a default value:"
   ]
  },
  {
   "cell_type": "code",
   "execution_count": 13,
   "id": "bb49cd37",
   "metadata": {
    "ExecuteTime": {
     "end_time": "2022-02-23T14:42:26.385779Z",
     "start_time": "2022-02-23T14:42:26.372748Z"
    }
   },
   "outputs": [],
   "source": [
    "# error\n",
    "# student: Student = Student()\n",
    "# ---------------------------------------------------------------------------\n",
    "# TypeError                                 Traceback (most recent call last)\n",
    "# ~\\AppData\\Local\\Temp/ipykernel_23784/2308230544.py in <module>\n",
    "# ----> 1 student: Student = Student()\n",
    "\n",
    "# TypeError: __init__() missing 4 required positional arguments: 'first_name', 'last_name', 'dob', and 'specialty'"
   ]
  },
  {
   "cell_type": "code",
   "execution_count": 14,
   "id": "08c7fc92",
   "metadata": {
    "ExecuteTime": {
     "end_time": "2022-02-23T14:42:26.401780Z",
     "start_time": "2022-02-23T14:42:26.387747Z"
    }
   },
   "outputs": [],
   "source": [
    "student: Student = Student('Mary', 'Smith', datetime.strptime('18/09/00', '%d/%m/%y'), 'Computer Science')\n",
    "# a more readable form w/ param names\n",
    "student: Student = Student(first_name='Mary', \n",
    "                           last_name='Smith', \n",
    "                           dob=datetime.strptime('18/09/00', '%d/%m/%y'),\n",
    "                           specialty='Computer Science')"
   ]
  },
  {
   "cell_type": "markdown",
   "id": "593bed1d",
   "metadata": {},
   "source": [
    "Now any attribute can be read or modified:"
   ]
  },
  {
   "cell_type": "code",
   "execution_count": 15,
   "id": "dbfbf778",
   "metadata": {
    "ExecuteTime": {
     "end_time": "2022-02-23T14:42:26.417780Z",
     "start_time": "2022-02-23T14:42:26.403775Z"
    }
   },
   "outputs": [
    {
     "name": "stdout",
     "output_type": "stream",
     "text": [
      "Name of student: Mary Smith\n",
      "Corrected name: Mary Esposito\n"
     ]
    }
   ],
   "source": [
    "print(f'Name of student: {student.first_name} {student.last_name}')\n",
    "student.last_name = 'Esposito'\n",
    "print(f'Corrected name: {student.first_name} {student.last_name}')"
   ]
  },
  {
   "cell_type": "markdown",
   "id": "669f2d24",
   "metadata": {},
   "source": [
    "If we invoke `dir` on the `student` instance, we can see that the new attributes are now part of object's contents:"
   ]
  },
  {
   "cell_type": "code",
   "execution_count": 16,
   "id": "ce44a9dc",
   "metadata": {
    "ExecuteTime": {
     "end_time": "2022-02-23T14:42:26.433776Z",
     "start_time": "2022-02-23T14:42:26.419742Z"
    }
   },
   "outputs": [
    {
     "data": {
      "text/plain": [
       "['__class__',\n",
       " '__delattr__',\n",
       " '__dict__',\n",
       " '__dir__',\n",
       " '__doc__',\n",
       " '__eq__',\n",
       " '__format__',\n",
       " '__ge__',\n",
       " '__getattribute__',\n",
       " '__gt__',\n",
       " '__hash__',\n",
       " '__init__',\n",
       " '__init_subclass__',\n",
       " '__le__',\n",
       " '__lt__',\n",
       " '__module__',\n",
       " '__ne__',\n",
       " '__new__',\n",
       " '__reduce__',\n",
       " '__reduce_ex__',\n",
       " '__repr__',\n",
       " '__setattr__',\n",
       " '__sizeof__',\n",
       " '__str__',\n",
       " '__subclasshook__',\n",
       " '__weakref__',\n",
       " 'date_of_birth',\n",
       " 'first_name',\n",
       " 'last_name',\n",
       " 'specialty']"
      ]
     },
     "execution_count": 16,
     "metadata": {},
     "output_type": "execute_result"
    }
   ],
   "source": [
    "dir(student)"
   ]
  },
  {
   "cell_type": "markdown",
   "id": "699cfcfa",
   "metadata": {},
   "source": [
    "The dictionary consisting of attributes is reported with `__dict__` predefined member:"
   ]
  },
  {
   "cell_type": "code",
   "execution_count": 17,
   "id": "53510a51",
   "metadata": {
    "ExecuteTime": {
     "end_time": "2022-02-23T14:42:26.448777Z",
     "start_time": "2022-02-23T14:42:26.436784Z"
    }
   },
   "outputs": [
    {
     "data": {
      "text/plain": [
       "{'first_name': 'Mary',\n",
       " 'last_name': 'Esposito',\n",
       " 'date_of_birth': datetime.datetime(2000, 9, 18, 0, 0),\n",
       " 'specialty': 'Computer Science'}"
      ]
     },
     "execution_count": 17,
     "metadata": {},
     "output_type": "execute_result"
    }
   ],
   "source": [
    "student.__dict__"
   ]
  },
  {
   "cell_type": "markdown",
   "id": "d43ecc1a",
   "metadata": {},
   "source": [
    "Note that each student comes with her own set of (instance) attributes. We might want to add an attribute which is available for the whole class. For the sake of discussion, we will include a class attribute refering to student's species. By default, this will be `Homo sapiens` for all students:"
   ]
  },
  {
   "cell_type": "code",
   "execution_count": 18,
   "id": "9eb42a2c",
   "metadata": {
    "ExecuteTime": {
     "end_time": "2022-02-23T14:42:26.464778Z",
     "start_time": "2022-02-23T14:42:26.451755Z"
    }
   },
   "outputs": [],
   "source": [
    "class Student:\n",
    "    \"\"\"\n",
    "    Models the concept of Student.\n",
    "    \"\"\"\n",
    "    \n",
    "    species: str = 'Homo sapiens'\n",
    "    \n",
    "    def __init__(self, first_name: str, last_name: str, dob: datetime, specialty: str) -> None:\n",
    "        self.first_name : str = first_name\n",
    "        self.last_name : str = last_name\n",
    "        self.date_of_birth : datetime = dob\n",
    "        self.specialty : str = specialty"
   ]
  },
  {
   "cell_type": "code",
   "execution_count": 19,
   "id": "9bf39d09",
   "metadata": {
    "ExecuteTime": {
     "end_time": "2022-02-23T14:42:26.480776Z",
     "start_time": "2022-02-23T14:42:26.466779Z"
    }
   },
   "outputs": [
    {
     "name": "stdout",
     "output_type": "stream",
     "text": [
      "Homo sapiens\n"
     ]
    }
   ],
   "source": [
    "def create_student() -> Student:\n",
    "    student: Student = Student(first_name='Maria', \n",
    "                           last_name='Esposito', \n",
    "                           dob=datetime.strptime('18/09/00', '%d/%m/%y'),\n",
    "                           specialty='Computer Science')\n",
    "    return student\n",
    "    \n",
    "student = create_student()\n",
    "# although species is not an instance but a class attribute, we can access it via the instance:\n",
    "print(student.species)"
   ]
  },
  {
   "cell_type": "markdown",
   "id": "eef71d81",
   "metadata": {
    "ExecuteTime": {
     "end_time": "2022-02-21T13:47:06.032603Z",
     "start_time": "2022-02-21T13:47:06.020161Z"
    }
   },
   "source": [
    "If we change the value of this attribute via class, it will be reflected on each object -- new or already created:"
   ]
  },
  {
   "cell_type": "code",
   "execution_count": 20,
   "id": "c2cd477d",
   "metadata": {
    "ExecuteTime": {
     "end_time": "2022-02-23T14:42:26.496777Z",
     "start_time": "2022-02-23T14:42:26.483756Z"
    }
   },
   "outputs": [
    {
     "name": "stdout",
     "output_type": "stream",
     "text": [
      "Another one. Another one.\n"
     ]
    }
   ],
   "source": [
    "Student.species = 'Another one.'\n",
    "\n",
    "student_2: Student = Student(first_name='Will', \n",
    "                           last_name='Smith', \n",
    "                           dob=datetime.strptime('18/09/99', '%d/%m/%y'),\n",
    "                           specialty='Computer Science')\n",
    "    \n",
    "print(student.species, student_2.species)"
   ]
  },
  {
   "cell_type": "code",
   "execution_count": 21,
   "id": "a19ad2d7",
   "metadata": {
    "ExecuteTime": {
     "end_time": "2022-02-23T14:42:26.512777Z",
     "start_time": "2022-02-23T14:42:26.499761Z"
    }
   },
   "outputs": [],
   "source": [
    "Student.species = 'Homo sapiens'"
   ]
  },
  {
   "cell_type": "markdown",
   "id": "5c29f1b8",
   "metadata": {},
   "source": [
    "### Instance methods"
   ]
  },
  {
   "cell_type": "markdown",
   "id": "b87bda69",
   "metadata": {},
   "source": [
    "We can define our own methods for the `Student` class, to be called on each particular object. For example, we can define method `describe` which returns some details on the current student. The only thing we have to recall is that the first argument of a method must be teh reference to the current object, `self`. A helper method is full_name, which simply concatenates first name and last name. "
   ]
  },
  {
   "cell_type": "code",
   "execution_count": 22,
   "id": "a8546dfe",
   "metadata": {
    "ExecuteTime": {
     "end_time": "2022-02-23T14:42:26.528775Z",
     "start_time": "2022-02-23T14:42:26.515767Z"
    }
   },
   "outputs": [],
   "source": [
    "class Student:\n",
    "    \"\"\"\n",
    "    Models the concept of Student.\n",
    "    \"\"\"\n",
    "    \n",
    "    species: str = 'Homo sapiens'\n",
    "    \n",
    "    def __init__(self, first_name: str, last_name: str, dob: datetime, specialty: str) -> None:\n",
    "        self.first_name : str = first_name\n",
    "        self.last_name : str = last_name\n",
    "        self.date_of_birth : datetime = dob\n",
    "        self.specialty : str = specialty\n",
    "            \n",
    "    def full_name(self) -> str:\n",
    "        \"\"\"\n",
    "        Return the full name of the student.\n",
    "        \"\"\"\n",
    "        return f'{self.first_name} {self.last_name}'\n",
    "            \n",
    "    def describe(self) -> str:\n",
    "        \"\"\"\n",
    "        Returns a description of the student\n",
    "        \"\"\"\n",
    "        return f'Student {self.full_name()}, born on {self.date_of_birth.strftime(\"%Y-%m-%d\")}, enrolled at {self.specialty}'"
   ]
  },
  {
   "cell_type": "code",
   "execution_count": 23,
   "id": "87be7637",
   "metadata": {
    "ExecuteTime": {
     "end_time": "2022-02-23T14:42:26.544774Z",
     "start_time": "2022-02-23T14:42:26.531740Z"
    }
   },
   "outputs": [
    {
     "name": "stdout",
     "output_type": "stream",
     "text": [
      "Student Maria Esposito, born on 2000-09-18, enrolled at Computer Science\n"
     ]
    }
   ],
   "source": [
    "student = create_student()\n",
    "    \n",
    "print(student.describe())"
   ]
  },
  {
   "cell_type": "markdown",
   "id": "c03fb0cc",
   "metadata": {},
   "source": [
    "For now, if we print a student object, a cryptic memory address is still printed: "
   ]
  },
  {
   "cell_type": "code",
   "execution_count": 24,
   "id": "a32ca7ee",
   "metadata": {
    "ExecuteTime": {
     "end_time": "2022-02-23T14:42:26.560777Z",
     "start_time": "2022-02-23T14:42:26.547742Z"
    }
   },
   "outputs": [
    {
     "name": "stdout",
     "output_type": "stream",
     "text": [
      "<__main__.Student object at 0x000001DBB7806340>\n"
     ]
    }
   ],
   "source": [
    "print(student)"
   ]
  },
  {
   "cell_type": "markdown",
   "id": "52892fc3",
   "metadata": {},
   "source": [
    "We would to have a more useful print, which uses the string produced by `describe`. To do this, we re-define the function `__str__` -- previously seen in one `dir` list -- as follows:"
   ]
  },
  {
   "cell_type": "code",
   "execution_count": 25,
   "id": "c6992ede",
   "metadata": {
    "ExecuteTime": {
     "end_time": "2022-02-23T14:42:26.576777Z",
     "start_time": "2022-02-23T14:42:26.562747Z"
    }
   },
   "outputs": [],
   "source": [
    "class Student:\n",
    "    \"\"\"\n",
    "    Models the concept of Student.\n",
    "    \"\"\"\n",
    "    \n",
    "    species: str = 'Homo sapiens'\n",
    "    \n",
    "    def __init__(self, first_name: str, last_name: str, dob: datetime, specialty: str) -> None:\n",
    "        self.first_name : str = first_name\n",
    "        self.last_name : str = last_name\n",
    "        self.date_of_birth : datetime = dob\n",
    "        self.specialty : str = specialty\n",
    "            \n",
    "    def full_name(self) -> str:\n",
    "        \"\"\"\n",
    "        Return the full name of the student.\n",
    "        \"\"\"\n",
    "        return f'{self.first_name} {self.last_name}'\n",
    "            \n",
    "    def describe(self) -> str:\n",
    "        \"\"\"\n",
    "        Returns a description of the student\n",
    "        \"\"\"\n",
    "        return f'Student {self.full_name()}, born on {self.date_of_birth.strftime(\"%Y-%m-%d\")}, enrolled at {self.specialty}'\n",
    "    \n",
    "    def __str__(self):\n",
    "        \"\"\"Convenient overwrite of __str__ predefined method. \n",
    "        \"\"\"\n",
    "        return self.describe()"
   ]
  },
  {
   "cell_type": "code",
   "execution_count": 26,
   "id": "f4e25b5e",
   "metadata": {
    "ExecuteTime": {
     "end_time": "2022-02-23T14:42:26.592777Z",
     "start_time": "2022-02-23T14:42:26.580775Z"
    }
   },
   "outputs": [
    {
     "name": "stdout",
     "output_type": "stream",
     "text": [
      "Student Maria Esposito, born on 2000-09-18, enrolled at Computer Science\n"
     ]
    }
   ],
   "source": [
    "student = create_student()\n",
    "    \n",
    "print(student)"
   ]
  },
  {
   "cell_type": "markdown",
   "id": "c4081c09",
   "metadata": {},
   "source": [
    "We urge the interested reader (yes, you!) to read on the difference between the close dunders `__repr__` and `__str__`. "
   ]
  },
  {
   "cell_type": "markdown",
   "id": "a7bfdffa",
   "metadata": {},
   "source": [
    "We can add other methods to modify the state of an object. For example, we can create a method to add hobbies to a student."
   ]
  },
  {
   "cell_type": "code",
   "execution_count": 27,
   "id": "3bb6acbd",
   "metadata": {
    "ExecuteTime": {
     "end_time": "2022-02-23T14:42:26.608743Z",
     "start_time": "2022-02-23T14:42:26.598774Z"
    }
   },
   "outputs": [],
   "source": [
    "from typing import Set\n",
    "\n",
    "class Student:\n",
    "    \"\"\"\n",
    "    Models the concept of Student.\n",
    "    \"\"\"\n",
    "    \n",
    "    species: str = 'Homo sapiens'\n",
    "    \n",
    "    def __init__(self, first_name: str, last_name: str, dob: datetime, specialty: str) -> None:\n",
    "        self.first_name : str = first_name\n",
    "        self.last_name : str = last_name\n",
    "        self.date_of_birth : datetime = dob\n",
    "        self.specialty : str = specialty\n",
    "        self.hobbies : Set(str) = set()\n",
    "            \n",
    "    def full_name(self) -> str:\n",
    "        \"\"\"\n",
    "        Return the full name of the student.\n",
    "        \"\"\"\n",
    "        return f'{self.first_name} {self.last_name}'\n",
    "    \n",
    "    def get_hobbies(self) -> str:\n",
    "        if len(self.hobbies) == 0:\n",
    "            return 'No hobby.'\n",
    "        else:\n",
    "            return 'Hobbies: ' + \",\".join(self.hobbies)\n",
    "            \n",
    "    def describe(self) -> str:\n",
    "        \"\"\"\n",
    "        Returns a description of the student\n",
    "        \"\"\"\n",
    "        return f'Student {self.full_name()}, born on {self.date_of_birth.strftime(\"%Y-%m-%d\")}, enrolled at {self.specialty}. {self.get_hobbies()}'\n",
    "    \n",
    "    def add_hobby(self, hobby_name: str) -> None:\n",
    "        if hobby_name in self.hobbies:\n",
    "            print(f'The hobby {hobby_name} is already added.')\n",
    "        else:\n",
    "            self.hobbies.add(hobby_name)\n",
    "    \n",
    "    def __str__(self):\n",
    "        \"\"\"Convenient overwrite of __str__ predefined method. \n",
    "        \"\"\"\n",
    "        return self.describe()"
   ]
  },
  {
   "cell_type": "code",
   "execution_count": 28,
   "id": "c4740f35",
   "metadata": {
    "ExecuteTime": {
     "end_time": "2022-02-23T14:42:26.624744Z",
     "start_time": "2022-02-23T14:42:26.611746Z"
    }
   },
   "outputs": [
    {
     "name": "stdout",
     "output_type": "stream",
     "text": [
      "Before adding hobbies: Student Maria Esposito, born on 2000-09-18, enrolled at Computer Science. No hobby.\n",
      "After adding hobbies: Student Maria Esposito, born on 2000-09-18, enrolled at Computer Science. Hobbies: dancing,singing\n"
     ]
    }
   ],
   "source": [
    "student = create_student()\n",
    "print(f'Before adding hobbies: {student}')\n",
    "student.add_hobby('singing')\n",
    "student.add_hobby('dancing')\n",
    "print(f'After adding hobbies: {student}')"
   ]
  },
  {
   "cell_type": "markdown",
   "id": "9b7b693f",
   "metadata": {},
   "source": [
    "### <a name=\"properties\"></a>Object properties"
   ]
  },
  {
   "cell_type": "markdown",
   "id": "47ff873c",
   "metadata": {},
   "source": [
    "As shown before on the last_name field, we can directly manipulate each field. If we want to add some logic behind the fields, we can access them via properties. For the Student class, we want to ensure that the first name and last name are not passed None or empty string. \n",
    "\n",
    "We could define getter/setters as follows:"
   ]
  },
  {
   "cell_type": "code",
   "execution_count": 29,
   "id": "7496d47f",
   "metadata": {
    "ExecuteTime": {
     "end_time": "2022-02-23T14:42:26.640778Z",
     "start_time": "2022-02-23T14:42:26.626753Z"
    }
   },
   "outputs": [],
   "source": [
    "# inside class Student\n",
    "def set_first_name(self, first_name) -> None:\n",
    "    if first_name is None or len(first_name) == 0:\n",
    "        raise ValueError(f\"The name cannot be None or empty, got {first_name}\")\n",
    "    self.first_name = first_name\n",
    "    \n",
    "def get_first_name(self) -> str:\n",
    "    return self.first_name"
   ]
  },
  {
   "cell_type": "markdown",
   "id": "57790453",
   "metadata": {},
   "source": [
    ".. but the Pythonic approach is to use two dedicated decorators. We will do the next:\n",
    "1. change the name of the initial fields `first_name` and `last_name` to `_first_name` and `_last_name`, respectively. This is because we want to use the former names as properties now. \n",
    "1. implement the 2 properties with annotations. The mandatory order of definition is: getter first, setter after.\n",
    "\n",
    "\n",
    "The updated version of `Student` class follows:"
   ]
  },
  {
   "cell_type": "code",
   "execution_count": 30,
   "id": "5c4870cf",
   "metadata": {
    "ExecuteTime": {
     "end_time": "2022-02-23T14:42:26.656774Z",
     "start_time": "2022-02-23T14:42:26.642752Z"
    }
   },
   "outputs": [],
   "source": [
    "class Student:\n",
    "    \"\"\"\n",
    "    Models the concept of Student.\n",
    "    \"\"\"\n",
    "    \n",
    "    species: str = 'Homo sapiens'\n",
    "    \n",
    "    def __init__(self, first_name: str, last_name: str, dob: datetime, specialty: str) -> None:\n",
    "        self.first_name : str = first_name\n",
    "        self.last_name : str = last_name\n",
    "        self.date_of_birth : datetime = dob\n",
    "        self.specialty : str = specialty\n",
    "        self.hobbies : Set(str) = set()\n",
    "            \n",
    "    @property\n",
    "    def first_name(self) -> str:\n",
    "        return self._first_name\n",
    "            \n",
    "    @first_name.setter\n",
    "    def first_name(self, fn) -> None:\n",
    "#         print('setter for first name called')\n",
    "        if fn is None or len(fn) == 0:\n",
    "            raise ValueError('First name cannot be none or empty')\n",
    "        self._first_name = fn.strip()\n",
    "        \n",
    "        \n",
    "    @property\n",
    "    def last_name(self) -> str:\n",
    "        return self._last_name.strip()\n",
    "\n",
    "    @last_name.setter\n",
    "    def last_name(self, ln) -> None:\n",
    "#         print('setter for last name called')\n",
    "        if ln is None or len(ln) == 0:\n",
    "            raise ValueError('Last name cannot be none or empty')\n",
    "        self._last_name = ln\n",
    "            \n",
    "    def full_name(self) -> str:\n",
    "        \"\"\"\n",
    "        Return the full name of the student.\n",
    "        \"\"\"\n",
    "        return f'{self.first_name} {self.last_name}'\n",
    "    \n",
    "    def get_hobbies(self) -> str:\n",
    "        if len(self.hobbies) == 0:\n",
    "            return 'No hobby.'\n",
    "        else:\n",
    "            return 'Hobbies: ' + \",\".join(self.hobbies) + '.'\n",
    "            \n",
    "    def describe(self) -> str:\n",
    "        \"\"\"\n",
    "        Returns a description of the student\n",
    "        \"\"\"\n",
    "        return f'Student {self.full_name()}, born on {self.date_of_birth.strftime(\"%Y-%m-%d\")}, enrolled at {self.specialty}. {self.get_hobbies()}'\n",
    "    \n",
    "    def add_hobby(self, hobby_name: str) -> None:\n",
    "        if hobby_name in self.hobbies:\n",
    "            print(f'The hobby {hobby_name} is already added, cannot make it a super-hobby')\n",
    "        else:\n",
    "            self.hobbies.add(hobby_name)\n",
    "    \n",
    "    def __str__(self):\n",
    "        \"\"\"Convenient overwrite of __str__ predefined method. \n",
    "        \"\"\"\n",
    "        return self.describe()"
   ]
  },
  {
   "cell_type": "code",
   "execution_count": 31,
   "id": "32437fd7",
   "metadata": {
    "ExecuteTime": {
     "end_time": "2022-02-23T14:42:26.672770Z",
     "start_time": "2022-02-23T14:42:26.659740Z"
    }
   },
   "outputs": [
    {
     "name": "stdout",
     "output_type": "stream",
     "text": [
      "Student Maria Esposito, born on 2000-09-18, enrolled at Computer Science. No hobby.\n"
     ]
    }
   ],
   "source": [
    "# watch for call of property setter\n",
    "student = create_student()\n",
    "print(student)"
   ]
  },
  {
   "cell_type": "code",
   "execution_count": 32,
   "id": "651d8b56",
   "metadata": {
    "ExecuteTime": {
     "end_time": "2022-02-23T14:42:26.687778Z",
     "start_time": "2022-02-23T14:42:26.675774Z"
    }
   },
   "outputs": [],
   "source": [
    "# watch for call of property setter\n",
    "student.first_name = 'Maria Bella'"
   ]
  },
  {
   "cell_type": "markdown",
   "id": "a9820a36",
   "metadata": {},
   "source": [
    "### Class inheritance\n",
    "\n",
    "We can add new types. For example, we thing of class `Person` which has first/last names, date of birth, but neither a defined study speciality nor hobbies (only students have hobbies! :). In this case, we can consider the class `Person` as a base class for `Student`, and `Student` adds to an ordinary person hobbies and specialty. "
   ]
  },
  {
   "cell_type": "markdown",
   "id": "3edfa812",
   "metadata": {},
   "source": [
    "In the code below, remark:\n",
    "1. How we declare the child-parent relationship.\n",
    "1. How the Student's `init` passes values to Person's `init`. The Student class makes use of the initialization logic from the parent class.\n",
    "1. The usage of `super()`, to get access from child class to the content defined in its parent\n",
    "1. How we overwrite the method `describe()`. It also shows polymorphism: the base method `__str__` is using the right implementation of `describe()`. "
   ]
  },
  {
   "cell_type": "code",
   "execution_count": 33,
   "id": "6e7d8c18",
   "metadata": {
    "ExecuteTime": {
     "end_time": "2022-02-23T14:42:26.702778Z",
     "start_time": "2022-02-23T14:42:26.689763Z"
    }
   },
   "outputs": [],
   "source": [
    "class Person:\n",
    "    \"\"\"\n",
    "    Models the concept of Person.\n",
    "    \"\"\"\n",
    "    \n",
    "    species: str = 'Homo sapiens'\n",
    "    \n",
    "    def __init__(self, first_name: str, last_name: str, dob: datetime) -> None:\n",
    "        self.first_name : str = first_name\n",
    "        self.last_name : str = last_name\n",
    "        self.date_of_birth : datetime = dob\n",
    "            \n",
    "    @property\n",
    "    def first_name(self) -> str:\n",
    "        return self._first_name\n",
    "            \n",
    "    @first_name.setter\n",
    "    def first_name(self, fn) -> None:\n",
    "        if fn is None or len(fn) == 0:\n",
    "            raise ValueError('First name cannot be none or empty')\n",
    "        self._first_name = fn.strip()\n",
    "        \n",
    "    @property\n",
    "    def last_name(self) -> str:\n",
    "        return self._last_name.strip()\n",
    "\n",
    "    @last_name.setter\n",
    "    def last_name(self, ln) -> None:\n",
    "        if ln is None or len(ln) == 0:\n",
    "            raise ValueError('Last name cannot be none or empty')\n",
    "        self._last_name = ln\n",
    "            \n",
    "    def full_name(self) -> str:\n",
    "        \"\"\"\n",
    "        Return the full name of the student.\n",
    "        \"\"\"\n",
    "        return f'{self.first_name} {self.last_name}'\n",
    "    \n",
    "    def describe(self) -> str:\n",
    "        \"\"\"\n",
    "        Returns a description of the student\n",
    "        \"\"\"\n",
    "        return f'Student {self.full_name()}, born on {self.date_of_birth.strftime(\"%Y-%m-%d\")}'\n",
    "    \n",
    "    def __str__(self):\n",
    "        \"\"\"Convenient overwrite of __str__ predefined method. \n",
    "        \"\"\"\n",
    "        return self.describe()"
   ]
  },
  {
   "cell_type": "code",
   "execution_count": 34,
   "id": "3e44c293",
   "metadata": {
    "ExecuteTime": {
     "end_time": "2022-02-23T14:42:26.718769Z",
     "start_time": "2022-02-23T14:42:26.704742Z"
    }
   },
   "outputs": [],
   "source": [
    "class Student(Person):\n",
    "    \"\"\"\n",
    "    Models the concept of Student.\n",
    "    \"\"\"\n",
    "    \n",
    "    def __init__(self, first_name: str, last_name: str, dob: datetime, specialty: str) -> None:\n",
    "        super().__init__(first_name, last_name, dob)\n",
    "        self.specialty : str = specialty\n",
    "        self.hobbies : Set(str) = set()\n",
    "            \n",
    "    def get_hobbies(self) -> str:\n",
    "        if len(self.hobbies) == 0:\n",
    "            return 'No hobby yet.'\n",
    "        else:\n",
    "            return 'Hobbies: ' + \",\".join(self.hobbies) + '.'\n",
    "            \n",
    "    # this is a polymorphic overwrite of parent's `describe` method\n",
    "    def describe(self) -> str:\n",
    "        \"\"\"\n",
    "        Returns a description of the student\n",
    "        \"\"\"\n",
    "        return f'{super().describe()}, enrolled at {self.specialty}. {self.get_hobbies()}'\n",
    "    \n",
    "    def add_hobby(self, hobby_name: str) -> None:\n",
    "        if hobby_name in self.hobbies:\n",
    "            print(f'The hobby {hobby_name} is already added, cannot make it a super--hobby')\n",
    "        else:\n",
    "            self.hobbies.add(hobby_name)\n",
    "    \n",
    "    # no need to overwrite it: the parent's __str__ will call describe() from Student\n",
    "#     def __str__(self):\n",
    "#         \"\"\"Convenient overwrite of __str__ predefined method. \n",
    "#         \"\"\"\n",
    "#         return self.describe()"
   ]
  },
  {
   "cell_type": "code",
   "execution_count": 35,
   "id": "5477dd2c",
   "metadata": {
    "ExecuteTime": {
     "end_time": "2022-02-23T14:42:26.734779Z",
     "start_time": "2022-02-23T14:42:26.722744Z"
    }
   },
   "outputs": [
    {
     "name": "stdout",
     "output_type": "stream",
     "text": [
      "Student Maria Esposito, born on 2000-09-18, enrolled at Computer Science. No hobby yet.\n"
     ]
    }
   ],
   "source": [
    "student = create_student()\n",
    "print(student)"
   ]
  },
  {
   "cell_type": "markdown",
   "id": "525456a4",
   "metadata": {},
   "source": [
    "### Static methods"
   ]
  },
  {
   "cell_type": "markdown",
   "id": "1a92ec14",
   "metadata": {},
   "source": [
    "All the methods defined in classes so far needed access to `self`, which is a bridge to object's state. Sometimes one can define methods in class which do not rely on object's state. Most often, these are helper methods. \n",
    "\n",
    "The most popular approach to declare a static method inside a class is to decorate it with `@staticmethod`. It will not receive `self` as first argument. "
   ]
  },
  {
   "cell_type": "code",
   "execution_count": 36,
   "id": "c13c9dd8",
   "metadata": {
    "ExecuteTime": {
     "end_time": "2022-02-23T14:42:26.750743Z",
     "start_time": "2022-02-23T14:42:26.736743Z"
    }
   },
   "outputs": [],
   "source": [
    "class Transformer:\n",
    "    @staticmethod\n",
    "    def convert_to_fahrenheit(celsius_temp: float) -> float:\n",
    "        return 1.8 * celsius_temp + 32"
   ]
  },
  {
   "cell_type": "markdown",
   "id": "a0bd2a69",
   "metadata": {},
   "source": [
    "Such a method can be called dirrectly using the class name, as in:"
   ]
  },
  {
   "cell_type": "code",
   "execution_count": 37,
   "id": "a7876d8a",
   "metadata": {
    "ExecuteTime": {
     "end_time": "2022-02-23T14:42:26.766739Z",
     "start_time": "2022-02-23T14:42:26.753761Z"
    }
   },
   "outputs": [
    {
     "data": {
      "text/plain": [
       "50.0"
      ]
     },
     "execution_count": 37,
     "metadata": {},
     "output_type": "execute_result"
    }
   ],
   "source": [
    "Transformer.convert_to_fahrenheit(10)"
   ]
  },
  {
   "cell_type": "markdown",
   "id": "92a53a89",
   "metadata": {},
   "source": [
    "... *i.e.* there is no need to get an instance of `Transformer` to call it, unlike for instance methods."
   ]
  },
  {
   "cell_type": "markdown",
   "id": "411b44cf",
   "metadata": {},
   "source": [
    "Obviously, it can be also called from a class instance, using `self`."
   ]
  },
  {
   "cell_type": "markdown",
   "id": "d03f92ab",
   "metadata": {},
   "source": [
    "Note that a static method as above:\n",
    "* cannot modify an instance - it would need an access to `self` to do this\n",
    "* cannot modify class (static) attributes"
   ]
  },
  {
   "cell_type": "markdown",
   "id": "c6c158a5",
   "metadata": {
    "ExecuteTime": {
     "start_time": "2022-02-21T16:39:35.168Z"
    }
   },
   "source": [
    "For a method which is intended update class attributes, we should:\n",
    "1. use @classmethod instead of @staticmethod\n",
    "1. pass as a first parameter - traditionally named cls - a reference to the class whose attribute has to be changed"
   ]
  },
  {
   "cell_type": "code",
   "execution_count": 38,
   "id": "7c504717",
   "metadata": {
    "ExecuteTime": {
     "end_time": "2022-02-23T14:42:26.782743Z",
     "start_time": "2022-02-23T14:42:26.770759Z"
    }
   },
   "outputs": [
    {
     "name": "stdout",
     "output_type": "stream",
     "text": [
      "Original threshold: 10\n",
      "Updated threshold: 20\n"
     ]
    }
   ],
   "source": [
    "class Transformer:\n",
    "    _threshold = 10\n",
    "    \n",
    "    @staticmethod\n",
    "    def threshold():\n",
    "        print(Transformer._threshold)\n",
    "        \n",
    "    @classmethod\n",
    "    def update_threshold(cls, new_threshold):\n",
    "        cls._threshold = new_threshold\n",
    "        \n",
    "print('Original threshold: ', end='')\n",
    "Transformer.threshold()\n",
    "Transformer.update_threshold(20)\n",
    "print('Updated threshold: ', end='')\n",
    "Transformer.threshold()\n",
    "    "
   ]
  },
  {
   "cell_type": "markdown",
   "id": "2253338e",
   "metadata": {},
   "source": [
    "## Decorators"
   ]
  },
  {
   "cell_type": "markdown",
   "id": "37238bc6",
   "metadata": {},
   "source": [
    "A decorator takes a function as an argument (please review callback functions in Course 2), runs something before/after the call to that functions and returns the function given as argument.  "
   ]
  },
  {
   "cell_type": "markdown",
   "id": "98f32e99",
   "metadata": {},
   "source": [
    "### Prerequisites"
   ]
  },
  {
   "cell_type": "markdown",
   "id": "08787c36",
   "metadata": {},
   "source": [
    "Here is a quick refresh of what Python functions can do, in particular:"
   ]
  },
  {
   "cell_type": "markdown",
   "id": "46d4e072",
   "metadata": {},
   "source": [
    "1. The name of a Python function is a reference to it. You can pass this reference and call the function through the reference."
   ]
  },
  {
   "cell_type": "code",
   "execution_count": 39,
   "id": "b74003fe",
   "metadata": {
    "ExecuteTime": {
     "end_time": "2022-02-23T14:42:26.798776Z",
     "start_time": "2022-02-23T14:42:26.785754Z"
    }
   },
   "outputs": [
    {
     "name": "stdout",
     "output_type": "stream",
     "text": [
      "I should compute something with 5\n"
     ]
    }
   ],
   "source": [
    "def my_function(x: int) -> None:\n",
    "    print(f'I should compute something with {x}')\n",
    "    \n",
    "f = my_function\n",
    "f(5)"
   ]
  },
  {
   "cell_type": "markdown",
   "id": "1edcb037",
   "metadata": {},
   "source": [
    "2. We can define functions inside other functions"
   ]
  },
  {
   "cell_type": "code",
   "execution_count": 40,
   "id": "79e78d14",
   "metadata": {
    "ExecuteTime": {
     "end_time": "2022-02-23T14:42:26.814778Z",
     "start_time": "2022-02-23T14:42:26.801774Z"
    }
   },
   "outputs": [
    {
     "data": {
      "text/plain": [
       "1.7142857142857142"
      ]
     },
     "execution_count": 40,
     "metadata": {},
     "output_type": "execute_result"
    }
   ],
   "source": [
    "def host_function(a, b):\n",
    "    def helper():\n",
    "        return (a*b) / (a + b)\n",
    "        # note that the inner function has unrestricted access to host's params\n",
    "    return helper()\n",
    "\n",
    "host_function(3, 4)"
   ]
  },
  {
   "cell_type": "markdown",
   "id": "4a6ef2ea",
   "metadata": {},
   "source": [
    "3. A function can return anything, in particular another function. Later one, the returned function can be called:"
   ]
  },
  {
   "cell_type": "code",
   "execution_count": 41,
   "id": "4ea505e2",
   "metadata": {
    "ExecuteTime": {
     "end_time": "2022-02-23T14:42:26.829776Z",
     "start_time": "2022-02-23T14:42:26.818744Z"
    }
   },
   "outputs": [
    {
     "name": "stdout",
     "output_type": "stream",
     "text": [
      "This message is from the inner function\n"
     ]
    }
   ],
   "source": [
    "def outer():\n",
    "    def inner():\n",
    "        print(\"This message is from the inner function\")\n",
    "    return inner\n",
    "\n",
    "i_am_ref_to_a_function = outer()\n",
    "\n",
    "i_am_ref_to_a_function()"
   ]
  },
  {
   "cell_type": "markdown",
   "id": "dc4ecc5a",
   "metadata": {},
   "source": [
    "### Writing decorators"
   ]
  },
  {
   "cell_type": "markdown",
   "id": "84b2430a",
   "metadata": {},
   "source": [
    "A decorator has the form:"
   ]
  },
  {
   "cell_type": "code",
   "execution_count": 42,
   "id": "79e7495f",
   "metadata": {
    "ExecuteTime": {
     "end_time": "2022-02-23T14:42:26.845777Z",
     "start_time": "2022-02-23T14:42:26.831774Z"
    }
   },
   "outputs": [],
   "source": [
    "def name_of_decorator(function_to_decorate: callable) -> callable:\n",
    "    def inner_func():\n",
    "        # preprocessing: what is done before calling function_to_decorate\n",
    "        result = function_to_decorate()\n",
    "        # postprocessing: what is done after calling function_to_decorate\n",
    "        return result\n",
    "    \n",
    "    return inner_func  # the result is a function"
   ]
  },
  {
   "cell_type": "markdown",
   "id": "9460ca07",
   "metadata": {},
   "source": [
    "The names of the entities above is self-explanatory and to be customized."
   ]
  },
  {
   "cell_type": "markdown",
   "id": "67d39144",
   "metadata": {},
   "source": [
    "Example: we will write a simple decorator which takes a function and add some text elements before and after the function on which the decorator is applied:"
   ]
  },
  {
   "cell_type": "code",
   "execution_count": 43,
   "id": "c657bec7",
   "metadata": {
    "ExecuteTime": {
     "end_time": "2022-02-23T14:42:26.861778Z",
     "start_time": "2022-02-23T14:42:26.847742Z"
    }
   },
   "outputs": [],
   "source": [
    "def my_decorator(func):\n",
    "    def inner():\n",
    "        print('#' * 50) # preprocessing\n",
    "        result = func()\n",
    "        print('#' * 50) # postpocessing\n",
    "        return result\n",
    "    \n",
    "    return inner \n",
    "\n",
    "\n",
    "# the function to be decorated\n",
    "def function_wo_arg() -> None:\n",
    "    print('I compute something very sofisticate')\n",
    "    "
   ]
  },
  {
   "cell_type": "markdown",
   "id": "c4458477",
   "metadata": {},
   "source": [
    "We can apply the decoration by blindly chaining function calls:"
   ]
  },
  {
   "cell_type": "code",
   "execution_count": 44,
   "id": "4da9d348",
   "metadata": {
    "ExecuteTime": {
     "end_time": "2022-02-23T14:42:26.877779Z",
     "start_time": "2022-02-23T14:42:26.863779Z"
    }
   },
   "outputs": [
    {
     "name": "stdout",
     "output_type": "stream",
     "text": [
      "##################################################\n",
      "I compute something very sofisticate\n",
      "##################################################\n"
     ]
    }
   ],
   "source": [
    "decorated = my_decorator(function_wo_arg)\n",
    "decorated()"
   ]
  },
  {
   "cell_type": "markdown",
   "id": "9867e6ff",
   "metadata": {},
   "source": [
    "Usually, if the above flow is used, then the function to be decorated is usually overwriten with its decorated version:"
   ]
  },
  {
   "cell_type": "code",
   "execution_count": 45,
   "id": "2481db9e",
   "metadata": {
    "ExecuteTime": {
     "end_time": "2022-02-23T14:42:26.893777Z",
     "start_time": "2022-02-23T14:42:26.879779Z"
    }
   },
   "outputs": [
    {
     "name": "stdout",
     "output_type": "stream",
     "text": [
      "##################################################\n",
      "I compute something very sofisticate\n",
      "##################################################\n"
     ]
    }
   ],
   "source": [
    "function_wo_arg = my_decorator(function_wo_arg)\n",
    "function_wo_arg()"
   ]
  },
  {
   "cell_type": "markdown",
   "id": "408ecd53",
   "metadata": {},
   "source": [
    "The Python shortcut to apply a decoration on a function is:"
   ]
  },
  {
   "cell_type": "code",
   "execution_count": 46,
   "id": "46e4a878",
   "metadata": {
    "ExecuteTime": {
     "end_time": "2022-02-23T14:42:26.909776Z",
     "start_time": "2022-02-23T14:42:26.900773Z"
    }
   },
   "outputs": [],
   "source": [
    "@my_decorator\n",
    "def function_wo_arg_2() -> None:\n",
    "    print('I compute something very sofisticate')"
   ]
  },
  {
   "cell_type": "markdown",
   "id": "0cf70d27",
   "metadata": {},
   "source": [
    "... and we can call the decorated version as a regular function:"
   ]
  },
  {
   "cell_type": "code",
   "execution_count": 47,
   "id": "f887ff6d",
   "metadata": {
    "ExecuteTime": {
     "end_time": "2022-02-23T14:42:26.925775Z",
     "start_time": "2022-02-23T14:42:26.911740Z"
    }
   },
   "outputs": [
    {
     "name": "stdout",
     "output_type": "stream",
     "text": [
      "##################################################\n",
      "I compute something very sofisticate\n",
      "##################################################\n"
     ]
    }
   ],
   "source": [
    "function_wo_arg_2()"
   ]
  },
  {
   "cell_type": "markdown",
   "id": "87f04e78",
   "metadata": {},
   "source": [
    "### Decorating functions with arguments"
   ]
  },
  {
   "cell_type": "markdown",
   "id": "8c9cd0d2",
   "metadata": {},
   "source": [
    "Most likely, we want to be able to decorate functions which work on some given arguments. Let us consider:"
   ]
  },
  {
   "cell_type": "code",
   "execution_count": 48,
   "id": "65e1020d",
   "metadata": {
    "ExecuteTime": {
     "end_time": "2022-02-23T14:42:26.941776Z",
     "start_time": "2022-02-23T14:42:26.928773Z"
    }
   },
   "outputs": [],
   "source": [
    "from typing import Union, List, Tuple"
   ]
  },
  {
   "cell_type": "code",
   "execution_count": 49,
   "id": "ac1984e0",
   "metadata": {
    "ExecuteTime": {
     "end_time": "2022-02-23T14:42:26.957776Z",
     "start_time": "2022-02-23T14:42:26.944773Z"
    }
   },
   "outputs": [],
   "source": [
    "def complex_operation(a: Union[float, int], b: Union[float, int]) -> float:\n",
    "    return a/b"
   ]
  },
  {
   "cell_type": "code",
   "execution_count": 50,
   "id": "e98f15ca",
   "metadata": {
    "ExecuteTime": {
     "end_time": "2022-02-23T14:42:26.973777Z",
     "start_time": "2022-02-23T14:42:26.960773Z"
    }
   },
   "outputs": [
    {
     "data": {
      "text/plain": [
       "2.0"
      ]
     },
     "execution_count": 50,
     "metadata": {},
     "output_type": "execute_result"
    }
   ],
   "source": [
    "# calls\n",
    "complex_operation(10, 5)"
   ]
  },
  {
   "cell_type": "code",
   "execution_count": 51,
   "id": "25db3f2f",
   "metadata": {
    "ExecuteTime": {
     "end_time": "2022-02-23T14:42:26.989775Z",
     "start_time": "2022-02-23T14:42:26.977742Z"
    }
   },
   "outputs": [],
   "source": [
    "# complex_operation(10, 0)\n",
    "# ---------------------------------------------------------------------------\n",
    "# ZeroDivisionError                         Traceback (most recent call last)\n",
    "# ~\\AppData\\Local\\Temp/ipykernel_4824/2806629349.py in <module>\n",
    "#       2 complex_operation(10, 5)\n",
    "#       3 \n",
    "# ----> 4 complex_operation(10, 0)\n",
    "\n",
    "# ~\\AppData\\Local\\Temp/ipykernel_4824/675894700.py in complex_operation(a, b)\n",
    "#       1 def complex_operation(a: Union[float, int], b: Union[float, int]) -> float:\n",
    "# ----> 2     return a/b\n",
    "\n",
    "# ZeroDivisionError: division by zero"
   ]
  },
  {
   "cell_type": "markdown",
   "id": "1682cd92",
   "metadata": {},
   "source": [
    "We declare a `safe_operation` decorator which catches exceptions:"
   ]
  },
  {
   "cell_type": "code",
   "execution_count": 52,
   "id": "7d376ba0",
   "metadata": {
    "ExecuteTime": {
     "end_time": "2022-02-23T14:42:27.004818Z",
     "start_time": "2022-02-23T14:42:26.992740Z"
    }
   },
   "outputs": [],
   "source": [
    "def safe_operation(function: callable) -> callable:\n",
    "    def helper_decoration(a: Union[float, int], b: Union[float, int]) -> float:\n",
    "        try:\n",
    "            return function(a, b)\n",
    "        except Exception as ex:\n",
    "            # should log error somewhere\n",
    "            return -1\n",
    "    return helper_decoration"
   ]
  },
  {
   "cell_type": "code",
   "execution_count": 53,
   "id": "153e16a8",
   "metadata": {
    "ExecuteTime": {
     "end_time": "2022-02-23T14:42:27.020774Z",
     "start_time": "2022-02-23T14:42:27.007745Z"
    }
   },
   "outputs": [],
   "source": [
    "@safe_operation\n",
    "def complex_operation(a: Union[float, int], b: Union[float, int]) -> float:\n",
    "    return a/b"
   ]
  },
  {
   "cell_type": "code",
   "execution_count": 54,
   "id": "ac107948",
   "metadata": {
    "ExecuteTime": {
     "end_time": "2022-02-23T14:42:27.036741Z",
     "start_time": "2022-02-23T14:42:27.024763Z"
    }
   },
   "outputs": [
    {
     "data": {
      "text/plain": [
       "2.0"
      ]
     },
     "execution_count": 54,
     "metadata": {},
     "output_type": "execute_result"
    }
   ],
   "source": [
    "complex_operation(10, 5)"
   ]
  },
  {
   "cell_type": "code",
   "execution_count": 55,
   "id": "52e6af41",
   "metadata": {
    "ExecuteTime": {
     "end_time": "2022-02-23T14:42:27.052779Z",
     "start_time": "2022-02-23T14:42:27.040744Z"
    }
   },
   "outputs": [
    {
     "data": {
      "text/plain": [
       "-1"
      ]
     },
     "execution_count": 55,
     "metadata": {},
     "output_type": "execute_result"
    }
   ],
   "source": [
    "complex_operation(10, 0)"
   ]
  },
  {
   "cell_type": "markdown",
   "id": "6d09fae4",
   "metadata": {},
   "source": [
    "Note that the helper function defined inside the decorator can be called with 2 parameters, just like the function on which the decorator is to be called.\n",
    "\n",
    "This is too particular, and we can write decorators which can be applied to functions with arbitrary argeuments, by using `*args` and `**kwargs`:"
   ]
  },
  {
   "cell_type": "code",
   "execution_count": 56,
   "id": "ee834d94",
   "metadata": {
    "ExecuteTime": {
     "end_time": "2022-02-23T14:42:27.068775Z",
     "start_time": "2022-02-23T14:42:27.054746Z"
    }
   },
   "outputs": [],
   "source": [
    "def decorator_with_multiple_params(function):\n",
    "    def helper_decoration(*args, **kwargs):\n",
    "        # all types of params can be passed to decorated function\n",
    "        return function(*args, **kwargs)\n",
    "    return helper_decoration"
   ]
  },
  {
   "cell_type": "code",
   "execution_count": 57,
   "id": "9d8e07a0",
   "metadata": {
    "ExecuteTime": {
     "end_time": "2022-02-23T14:42:27.083777Z",
     "start_time": "2022-02-23T14:42:27.070781Z"
    }
   },
   "outputs": [
    {
     "name": "stdout",
     "output_type": "stream",
     "text": [
      "message from f\n"
     ]
    },
    {
     "data": {
      "text/plain": [
       "'1,2,3'"
      ]
     },
     "execution_count": 57,
     "metadata": {},
     "output_type": "execute_result"
    }
   ],
   "source": [
    "@decorator_with_multiple_params\n",
    "def f(x:int, y:float, z:str) -> str:\n",
    "    print('message from f')\n",
    "    return \",\".join([str(x), str(y), z])\n",
    "\n",
    "f(1, 2, z=\"3\")"
   ]
  },
  {
   "cell_type": "markdown",
   "id": "0667d6ea",
   "metadata": {},
   "source": [
    "The decorator below will count the time spent by a function execution:"
   ]
  },
  {
   "cell_type": "code",
   "execution_count": 58,
   "id": "062e09e7",
   "metadata": {
    "ExecuteTime": {
     "end_time": "2022-02-23T14:42:27.099772Z",
     "start_time": "2022-02-23T14:42:27.086745Z"
    }
   },
   "outputs": [],
   "source": [
    "from datetime import datetime\n",
    "def timing(f: callable) -> callable:\n",
    "    def inner(*args, **kwargs):\n",
    "        t_start = datetime.now()\n",
    "        result = f(*args, **kwargs)\n",
    "        t_stop = datetime.now()\n",
    "        print(f'Elapsed time: {t_stop - t_start}')\n",
    "        return result\n",
    "    return inner"
   ]
  },
  {
   "cell_type": "code",
   "execution_count": 59,
   "id": "616ad937",
   "metadata": {
    "ExecuteTime": {
     "end_time": "2022-02-23T14:42:27.117068Z",
     "start_time": "2022-02-23T14:42:27.103777Z"
    }
   },
   "outputs": [],
   "source": [
    "@timing\n",
    "def slow_function(a, b, c):\n",
    "    for _ in range(1000000000):\n",
    "        pass"
   ]
  },
  {
   "cell_type": "code",
   "execution_count": 60,
   "id": "1c66d01d",
   "metadata": {
    "ExecuteTime": {
     "end_time": "2022-02-23T14:42:44.280352Z",
     "start_time": "2022-02-23T14:42:27.118780Z"
    }
   },
   "outputs": [
    {
     "name": "stdout",
     "output_type": "stream",
     "text": [
      "Elapsed time: 0:00:17.144610\n"
     ]
    }
   ],
   "source": [
    "slow_function(1, 2, 3)"
   ]
  },
  {
   "cell_type": "markdown",
   "id": "07388fb7",
   "metadata": {},
   "source": [
    "### Stacking multiple decorators"
   ]
  },
  {
   "cell_type": "markdown",
   "id": "622c496b",
   "metadata": {},
   "source": [
    "Multiple decorators can be stacked. The decoration order is important:"
   ]
  },
  {
   "cell_type": "code",
   "execution_count": 61,
   "id": "2a4b5eef",
   "metadata": {
    "ExecuteTime": {
     "end_time": "2022-02-23T14:42:44.296471Z",
     "start_time": "2022-02-23T14:42:44.284322Z"
    }
   },
   "outputs": [],
   "source": [
    "def decorator_1(f):\n",
    "    def inner(*args, **kwargs):\n",
    "        print('Decorator 1')\n",
    "        return f(*args, **kwargs)\n",
    "    return inner\n",
    "\n",
    "\n",
    "def decorator_2(f):\n",
    "    def inner(*args, **kwargs):\n",
    "        print('Decorator 2')\n",
    "        return f(*args, **kwargs)\n",
    "    return inner"
   ]
  },
  {
   "cell_type": "code",
   "execution_count": 62,
   "id": "76d885cc",
   "metadata": {
    "ExecuteTime": {
     "end_time": "2022-02-23T14:42:44.312435Z",
     "start_time": "2022-02-23T14:42:44.299467Z"
    }
   },
   "outputs": [
    {
     "name": "stdout",
     "output_type": "stream",
     "text": [
      "Decorator 1\n",
      "Decorator 2\n",
      "Hello world\n"
     ]
    }
   ],
   "source": [
    "@decorator_1\n",
    "@decorator_2\n",
    "def hello():\n",
    "    print('Hello world')\n",
    "    \n",
    "hello()"
   ]
  },
  {
   "cell_type": "code",
   "execution_count": 63,
   "id": "92ad31d5",
   "metadata": {
    "ExecuteTime": {
     "end_time": "2022-02-23T14:42:44.327436Z",
     "start_time": "2022-02-23T14:42:44.315434Z"
    }
   },
   "outputs": [
    {
     "name": "stdout",
     "output_type": "stream",
     "text": [
      "Decorator 2\n",
      "Decorator 1\n",
      "Hello world\n"
     ]
    }
   ],
   "source": [
    "@decorator_2\n",
    "@decorator_1\n",
    "def hello():\n",
    "    print('Hello world')\n",
    "    \n",
    "hello()"
   ]
  },
  {
   "cell_type": "markdown",
   "id": "aed676e2",
   "metadata": {},
   "source": [
    "### Class decorators"
   ]
  },
  {
   "cell_type": "markdown",
   "id": "1d764d0f",
   "metadata": {},
   "source": [
    "Although the decorators were explained as working on functions, we can define class decorators as well.\n",
    "\n",
    "In the example below we create a singleton decorator, which can be used to ensure that at most one instance of a class is produced. "
   ]
  },
  {
   "cell_type": "code",
   "execution_count": 64,
   "id": "aed2eecb",
   "metadata": {
    "ExecuteTime": {
     "end_time": "2022-02-23T14:42:44.343472Z",
     "start_time": "2022-02-23T14:42:44.330469Z"
    }
   },
   "outputs": [],
   "source": [
    "def singleton(cls):\n",
    "    # class member to retain all instantiated types (key) and their living instances\n",
    "    instances = {}\n",
    "    \n",
    "    def wrapper(*args, **kwargs):\n",
    "        # args and kwargs are used for object instantiation\n",
    "        if cls not in instances:\n",
    "            instances[cls] = cls(*args, **kwargs)\n",
    "        else:\n",
    "            print('This class is already instantiated, the singleton is returned')\n",
    "        return instances[cls]\n",
    "    return wrapper\n",
    "\n",
    "@singleton\n",
    "class MyClass:\n",
    "    def func(self):\n",
    "        pass"
   ]
  },
  {
   "cell_type": "code",
   "execution_count": 65,
   "id": "2d3bb410",
   "metadata": {
    "ExecuteTime": {
     "end_time": "2022-02-23T14:42:44.359429Z",
     "start_time": "2022-02-23T14:42:44.346466Z"
    }
   },
   "outputs": [],
   "source": [
    "a = MyClass()"
   ]
  },
  {
   "cell_type": "code",
   "execution_count": 66,
   "id": "09beb6b5",
   "metadata": {
    "ExecuteTime": {
     "end_time": "2022-02-23T14:42:44.375465Z",
     "start_time": "2022-02-23T14:42:44.363429Z"
    }
   },
   "outputs": [
    {
     "name": "stdout",
     "output_type": "stream",
     "text": [
      "This class is already instantiated, the singleton is returned\n"
     ]
    }
   ],
   "source": [
    "_ = MyClass()"
   ]
  },
  {
   "cell_type": "markdown",
   "id": "343a81bc",
   "metadata": {},
   "source": [
    "### Predefined decorators"
   ]
  },
  {
   "cell_type": "markdown",
   "id": "49d210ac",
   "metadata": {
    "ExecuteTime": {
     "end_time": "2022-02-22T10:53:34.233705Z",
     "start_time": "2022-02-22T10:53:34.221709Z"
    }
   },
   "source": [
    "There are some useful predefined decorators. "
   ]
  },
  {
   "cell_type": "markdown",
   "id": "d3d73b8e",
   "metadata": {},
   "source": [
    "#### @property, @classmethod, @staticmethod decorator\n",
    "\n",
    "They were shown in OOP section."
   ]
  },
  {
   "cell_type": "markdown",
   "id": "615b4fce",
   "metadata": {},
   "source": [
    "#### @lru_cache"
   ]
  },
  {
   "cell_type": "markdown",
   "id": "1f58311e",
   "metadata": {},
   "source": [
    "When a function is repeatedly called with the same arguments, it makes sense to store the computed values and avoid redundant computations. It is assumed that repeated calls of a function with the same args would return the same result."
   ]
  },
  {
   "cell_type": "markdown",
   "id": "fcdf33c7",
   "metadata": {},
   "source": [
    "The `@lru_cache` decorator, which is found in module `functools`, is used to automatically store the previosly returned values. We will show this on computing Fibonacci terms with a recursive implementation. \n",
    "\n",
    "The Fibonacci series is defined as:\n",
    "$$\n",
    "fibonacci(n) = \\begin{cases}\n",
    "0 & \\textrm{if } n = 0\n",
    "\\\\\n",
    "1 & \\textrm{if } n = 0\n",
    "\\\\\n",
    "fibonacci(n-1) + fibonacci(n-2) & \\textrm{if } n \\ge 2\n",
    "\\end{cases}\n",
    "$$"
   ]
  },
  {
   "cell_type": "code",
   "execution_count": 67,
   "id": "5fdfb7cd",
   "metadata": {
    "ExecuteTime": {
     "end_time": "2022-02-23T14:42:44.391431Z",
     "start_time": "2022-02-23T14:42:44.380445Z"
    }
   },
   "outputs": [],
   "source": [
    "def fibonacci(n):\n",
    "    if 0<=n<=1:\n",
    "        return n\n",
    "    else:\n",
    "        return fibonacci(n-1) + fibonacci(n-2)"
   ]
  },
  {
   "cell_type": "code",
   "execution_count": 68,
   "id": "83b44434",
   "metadata": {
    "ExecuteTime": {
     "end_time": "2022-02-23T14:43:15.567620Z",
     "start_time": "2022-02-23T14:42:44.393430Z"
    }
   },
   "outputs": [
    {
     "name": "stdout",
     "output_type": "stream",
     "text": [
      "3.79 s ± 92.9 ms per loop (mean ± std. dev. of 7 runs, 1 loop each)\n"
     ]
    }
   ],
   "source": [
    "%%timeit\n",
    "fibonacci(35)"
   ]
  },
  {
   "cell_type": "markdown",
   "id": "29319c4d",
   "metadata": {},
   "source": [
    "By using the caching decoration, the execution time is reduced:"
   ]
  },
  {
   "cell_type": "code",
   "execution_count": 69,
   "id": "f2db8487",
   "metadata": {
    "ExecuteTime": {
     "end_time": "2022-02-23T14:43:15.583667Z",
     "start_time": "2022-02-23T14:43:15.570597Z"
    }
   },
   "outputs": [],
   "source": [
    "from functools import lru_cache\n",
    "\n",
    "@lru_cache\n",
    "def fibonacci(n):\n",
    "    if 0<=n<=1:\n",
    "        return n\n",
    "    else:\n",
    "        return fibonacci(n-1) + fibonacci(n-2)"
   ]
  },
  {
   "cell_type": "code",
   "execution_count": 70,
   "id": "892542b1",
   "metadata": {
    "ExecuteTime": {
     "end_time": "2022-02-23T14:43:21.780058Z",
     "start_time": "2022-02-23T14:43:15.586674Z"
    }
   },
   "outputs": [
    {
     "name": "stdout",
     "output_type": "stream",
     "text": [
      "75.6 ns ± 8.62 ns per loop (mean ± std. dev. of 7 runs, 10000000 loops each)\n"
     ]
    }
   ],
   "source": [
    "%%timeit\n",
    "fibonacci(35)"
   ]
  },
  {
   "cell_type": "markdown",
   "id": "0696f76b",
   "metadata": {},
   "source": [
    "Some statistics on cache usage can be shown:"
   ]
  },
  {
   "cell_type": "code",
   "execution_count": 71,
   "id": "cb29c340",
   "metadata": {
    "ExecuteTime": {
     "end_time": "2022-02-23T14:43:21.795184Z",
     "start_time": "2022-02-23T14:43:21.784028Z"
    }
   },
   "outputs": [
    {
     "name": "stdout",
     "output_type": "stream",
     "text": [
      "CacheInfo(hits=81111143, misses=36, maxsize=128, currsize=36)\n"
     ]
    }
   ],
   "source": [
    "print(fibonacci.cache_info())"
   ]
  },
  {
   "cell_type": "markdown",
   "id": "ce06b8a0",
   "metadata": {},
   "source": [
    "Tricks like limiting the number of most recently cached values, or clearning the cache, one can consult the [official documentation](https://docs.python.org/3/library/functools.html)."
   ]
  },
  {
   "cell_type": "markdown",
   "id": "c00f064d",
   "metadata": {},
   "source": [
    "#### @deprecated"
   ]
  },
  {
   "cell_type": "markdown",
   "id": "953a5625",
   "metadata": {},
   "source": [
    "In time, some of the functions and methods might become deprecated: we write other more robust/efficient/etc. implementations which shoudl be used instead. This can be done in two ways: including warning calls and decorating these functions with @deprecated."
   ]
  },
  {
   "cell_type": "markdown",
   "id": "fbf339f0",
   "metadata": {},
   "source": [
    "For the first approach, we should add something like:"
   ]
  },
  {
   "cell_type": "code",
   "execution_count": 72,
   "id": "6a7b5c23",
   "metadata": {
    "ExecuteTime": {
     "end_time": "2022-02-23T14:43:21.811184Z",
     "start_time": "2022-02-23T14:43:21.798146Z"
    }
   },
   "outputs": [
    {
     "name": "stderr",
     "output_type": "stream",
     "text": [
      "C:\\Users\\Lucian\\AppData\\Local\\Temp/ipykernel_28776/1482912128.py:5: DeprecationWarning: This function is deprecated... please use methodX instead.\n",
      "  warnings.warn(\n"
     ]
    }
   ],
   "source": [
    "import warnings\n",
    "\n",
    "\n",
    "# add this statement inside the deprecated method\n",
    "warnings.warn(\n",
    "            \"This function is deprecated... please use methodX instead.\",\n",
    "            DeprecationWarning\n",
    "        )"
   ]
  },
  {
   "cell_type": "markdown",
   "id": "ab913743",
   "metadata": {},
   "source": [
    "For the second approach, we must install the `deprecated` package first:"
   ]
  },
  {
   "cell_type": "code",
   "execution_count": 73,
   "id": "ae3dd1fc",
   "metadata": {
    "ExecuteTime": {
     "end_time": "2022-02-23T14:43:24.158239Z",
     "start_time": "2022-02-23T14:43:21.814146Z"
    }
   },
   "outputs": [
    {
     "name": "stdout",
     "output_type": "stream",
     "text": [
      "Requirement already satisfied: deprecated in c:\\users\\lucian\\anaconda3\\lib\\site-packages (1.2.13)\n",
      "Requirement already satisfied: wrapt<2,>=1.10 in c:\\users\\lucian\\anaconda3\\lib\\site-packages (from deprecated) (1.12.1)\n"
     ]
    }
   ],
   "source": [
    "!pip install deprecated"
   ]
  },
  {
   "cell_type": "markdown",
   "id": "93c7a0ef",
   "metadata": {},
   "source": [
    "Then we use `@deprecated` annotation on the obsolete function:"
   ]
  },
  {
   "cell_type": "code",
   "execution_count": 74,
   "id": "93726e54",
   "metadata": {
    "ExecuteTime": {
     "end_time": "2022-02-23T14:43:24.190241Z",
     "start_time": "2022-02-23T14:43:24.161237Z"
    }
   },
   "outputs": [],
   "source": [
    "from deprecated import deprecated\n",
    "\n",
    "@deprecated(\"This function is deprecated, please use `add_numbers` instead\")\n",
    "def add_3_numbers(a, b, c):\n",
    "    return a + b + c"
   ]
  },
  {
   "cell_type": "code",
   "execution_count": 75,
   "id": "2d0950b8",
   "metadata": {
    "ExecuteTime": {
     "end_time": "2022-02-23T14:43:24.206275Z",
     "start_time": "2022-02-23T14:43:24.194236Z"
    }
   },
   "outputs": [
    {
     "name": "stderr",
     "output_type": "stream",
     "text": [
      "C:\\Users\\Lucian\\AppData\\Local\\Temp/ipykernel_28776/2029006561.py:1: DeprecationWarning: Call to deprecated function (or staticmethod) add_3_numbers. (This function is deprecated, please use `add_numbers` instead)\n",
      "  add_3_numbers(1, 1, 1)\n"
     ]
    },
    {
     "data": {
      "text/plain": [
       "3"
      ]
     },
     "execution_count": 75,
     "metadata": {},
     "output_type": "execute_result"
    }
   ],
   "source": [
    "add_3_numbers(1, 1, 1)"
   ]
  },
  {
   "cell_type": "markdown",
   "id": "cd915560",
   "metadata": {},
   "source": [
    "The decorator works for classes as well:"
   ]
  },
  {
   "cell_type": "code",
   "execution_count": 76,
   "id": "4caf4ea1",
   "metadata": {
    "ExecuteTime": {
     "end_time": "2022-02-23T14:43:24.222273Z",
     "start_time": "2022-02-23T14:43:24.209284Z"
    }
   },
   "outputs": [
    {
     "name": "stderr",
     "output_type": "stream",
     "text": [
      "C:\\Users\\Lucian\\AppData\\Local\\Temp/ipykernel_28776/2926604287.py:5: DeprecationWarning: Call to deprecated class X.\n",
      "  X()\n"
     ]
    },
    {
     "data": {
      "text/plain": [
       "<__main__.X at 0x1dbb3391a30>"
      ]
     },
     "execution_count": 76,
     "metadata": {},
     "output_type": "execute_result"
    }
   ],
   "source": [
    "@deprecated\n",
    "class X:\n",
    "    pass\n",
    "\n",
    "X()"
   ]
  },
  {
   "cell_type": "markdown",
   "id": "a69a8d0f",
   "metadata": {},
   "source": [
    "#### @dataclass"
   ]
  },
  {
   "cell_type": "markdown",
   "id": "eb8b1944",
   "metadata": {},
   "source": [
    "The `@dataclass` decorator is used to reduce the code quantity written for class definition. Suppose we want to create a class to model the concept of `House`. A House instance should contain address (string), price (float) and rating (int). We should write a quite verbose code as: "
   ]
  },
  {
   "cell_type": "code",
   "execution_count": 77,
   "id": "e66ac8a9",
   "metadata": {
    "ExecuteTime": {
     "end_time": "2022-02-23T14:43:24.237275Z",
     "start_time": "2022-02-23T14:43:24.225237Z"
    }
   },
   "outputs": [],
   "source": [
    "class House:\n",
    "    def __init__(self, address: str, price: float, rating: int) -> None:\n",
    "        self.address : str = address\n",
    "        self.price : float = price\n",
    "        self.rating : int = rating\n",
    "        \n",
    "    def __str__(self) -> str:\n",
    "        return f'Address: {self.address}, price: {self.price}, rating: {self.rating} stars'"
   ]
  },
  {
   "cell_type": "code",
   "execution_count": 78,
   "id": "825c025d",
   "metadata": {
    "ExecuteTime": {
     "end_time": "2022-02-23T14:43:24.253276Z",
     "start_time": "2022-02-23T14:43:24.240238Z"
    }
   },
   "outputs": [
    {
     "name": "stdout",
     "output_type": "stream",
     "text": [
      "Address: Torino,  Piazza Palazzo di Città, 1, price: 1000000.0, rating: 5 stars\n"
     ]
    }
   ],
   "source": [
    "house = House('Torino,  Piazza Palazzo di Città, 1', 1000000.0, 5)\n",
    "print(house)"
   ]
  },
  {
   "cell_type": "markdown",
   "id": "c26c4d06",
   "metadata": {},
   "source": [
    "Note that in example above, the `__init__` method just takes the args and assign their values to instance fields. The `@dataclass` decorator automatically generates such a predictible initialization implementation. The only thing we need to do is to declare the intance attributes, together with annotations:"
   ]
  },
  {
   "cell_type": "code",
   "execution_count": 79,
   "id": "4e8fc8c2",
   "metadata": {
    "ExecuteTime": {
     "end_time": "2022-02-23T14:43:24.269238Z",
     "start_time": "2022-02-23T14:43:24.256273Z"
    }
   },
   "outputs": [],
   "source": [
    "from dataclasses import dataclass\n",
    "\n",
    "@dataclass\n",
    "class House:\n",
    "    address: str\n",
    "    price: float\n",
    "    rating: int\n",
    "        \n",
    "    def __str__(self) -> str:\n",
    "        return f'Address: {self.address}, price: {self.price}, rating: {self.rating} stars'"
   ]
  },
  {
   "cell_type": "code",
   "execution_count": 80,
   "id": "1b46bbb8",
   "metadata": {
    "ExecuteTime": {
     "end_time": "2022-02-23T14:43:24.285238Z",
     "start_time": "2022-02-23T14:43:24.272234Z"
    }
   },
   "outputs": [
    {
     "name": "stdout",
     "output_type": "stream",
     "text": [
      "Address: Torino,  Piazza Palazzo di Città, 2, price: 2000000.0, rating: 4 stars\n"
     ]
    }
   ],
   "source": [
    "house = House('Torino,  Piazza Palazzo di Città, 2', 2000000.0, 4)\n",
    "print(house)"
   ]
  }
 ],
 "metadata": {
  "kernelspec": {
   "display_name": "Python 3 (ipykernel)",
   "language": "python",
   "name": "python3"
  },
  "language_info": {
   "codemirror_mode": {
    "name": "ipython",
    "version": 3
   },
   "file_extension": ".py",
   "mimetype": "text/x-python",
   "name": "python",
   "nbconvert_exporter": "python",
   "pygments_lexer": "ipython3",
   "version": "3.9.7"
  },
  "notify_time": "5",
  "toc": {
   "base_numbering": 1,
   "nav_menu": {},
   "number_sections": true,
   "sideBar": true,
   "skip_h1_title": false,
   "title_cell": "Table of Contents",
   "title_sidebar": "Contents",
   "toc_cell": false,
   "toc_position": {
    "height": "calc(100% - 180px)",
    "left": "10px",
    "top": "150px",
    "width": "287.513px"
   },
   "toc_section_display": true,
   "toc_window_display": true
  }
 },
 "nbformat": 4,
 "nbformat_minor": 5
}
