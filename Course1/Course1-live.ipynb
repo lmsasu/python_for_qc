{
 "cells": [
  {
   "cell_type": "markdown",
   "metadata": {},
   "source": [
    "# Course 1: Scope, installing and configuring the environment, introduction to Python"
   ]
  },
  {
   "cell_type": "markdown",
   "metadata": {},
   "source": [
    "# Bibliography\n",
    "1. Allen B. Downey, [*Think Python: How to Think Like a Computer Scientist*](http://greenteapress.com/wp/think-python-2e/), second edition, Green Tea Press\n",
    "1. [Learn to think computationally and write programs to tackle useful problems](https://www.edx.org/xseries/mitx-computational-thinking-using-python)\n",
    "1. Zed A. Shaw, [Learn Python the Hard Way](https://www.oreilly.com/library/view/head-first-python/9781491919521/), Addison-Wesley Professional, 2017\n",
    "1. Paul Barry, [Head First Python, 2nd Edition](https://jakevdp.github.io/PythonDataScienceHandbook/), O'Reilly Media Inc., 2016\n",
    "1. Luciano Ramalho, [Fluent Python: Clear, Concise, and Effective Programming](https://www.amazon.com/Fluent-Python-Concise-Effective-Programming/dp/1491946008), O'Reilly Media; 1st edition, 2015\n",
    "1. Claus Fuhrer, Jan Erik Solem, Olivier Verdier, [Scientific Computing with Python 3](https://www.amazon.com/dp/1786463512?tag=uuid10-20), Packt Publishing; 2nd Revised edition, 2016\n",
    "1. Sergio J. Rojas G., Erik A Christensen, Francisco J. Blanco-Silva, [Learning SciPy for Numerical and Scientific Computing - Second Edition](https://www.amazon.co.uk/dp/1783987707?linkCode=gs2&tag=uuid07-21), Packt Publishing; 2nd edition, 2015"
   ]
  },
  {
   "cell_type": "markdown",
   "metadata": {},
   "source": [
    "# On Python"
   ]
  },
  {
   "cell_type": "markdown",
   "metadata": {},
   "source": [
    "* Open source and free language\n",
    "* In February 2022: the most popular language in [TIOBE Index](https://www.tiobe.com/tiobe-index/), the next ones being C, Java, C++\n",
    "* In the same month, the [PYPL](http://pypl.github.io/PYPL.html) index also reports Python as first rank language, followed by Java, Javascript, C/C++\n",
    "* The current Python version is 3.10.2, see [https://www.python.org/](https://www.python.org/) for roadmap; Python 2.x is considered deprecated and no longer under active maintenance \n",
    "* You can install it manually, from [Python official download site](https://www.python.org/downloads/) or one can use a distribution like [Anaconda](https://conda.io/docs/user-guide/install/download.html)\n",
    "    * HW: Read about [Anaconda Individual Edition](https://www.anaconda.com/products/individual), [Miniconda](https://docs.conda.io/en/latest/miniconda.html), [Anaconda Enterprise](https://www.anaconda.com/products/enterprise)\n",
    "    * One can find [a list of alternative Python distribution](https://wiki.python.org/moin/PythonDistributions)\n",
    "* Python is an interpreted high-level general-purpose programming language \n",
    "* It allows for imperative programming, object oriented programming, functional programming\n",
    "* A strong feature: there are plenty of libraries already implemented for Python, heavily leveraging development of prototypes or commercial applications.\n",
    "![Python flying](https://imgs.xkcd.com/comics/python.png) (Source: https://xkcd.com/353/)\n",
    "* [More than 300K available packages](https://pypi.python.org/pypi)\n",
    "* There is a increasing adoption of Python for commercial projects:\n",
    "    * [Can Your Enterprise choose Python for Software Development?](https://www.sayonetech.com/blog/can-your-enterprise-choose-python-software-development/)\n",
    "    * [Full Stack Python](https://www.fullstackpython.com/enterprise-python.html)\n",
    "    * [Which Internet companies use Python](https://www.quora.com/Which-Internet-companies-use-Python)\n",
    "    * [Who uses Python](https://www.quora.com/Who-uses-Python)\n",
    "    * [Is Python a Good Choice for Entreprise Projects?](https://julien.danjou.info/is-python-a-good-choice-for-entreprise-projects/)"
   ]
  },
  {
   "cell_type": "markdown",
   "metadata": {},
   "source": [
    "# Why Python?\n",
    "\n",
    "Here one some reasons to adopt Python, according to [The unexpected effectiveness of Python in science](https://lwn.net/Articles/724255/)\n",
    "1. The language comes with \"all-batteries included\": its consistent and large sets of libraries make it perfect for a large plethora of projects. It is used and astronomy, physics, bioinformatics, chemsitry, machine learning, data science, quantum computing, etc. For all these areas there are libraries which considerably support prototype development. Traditional languages like C/C++/Java come with less support, and sometimes adopting a custom library is time consuming. \n",
    "1. Python is able to interoperate with other programming languages, through bridges which allow for call of Python code from other languages or the other way around.\n",
    "1. The dynamic feature of the language cand be easily exploited: for example, a function can get as parameter a list, or a tuple, or a dictionary (an iterable collection) and the same bunch of lines of code can work with  all those types.\n",
    "1. Most important, Python encourages you experimenting via Read–eval–print loop ([REPL](https://en.wikipedia.org/wiki/Read%E2%80%93eval%E2%80%93print_loop)): you might need a few trials to reach the proper statemensts for a specific functionality. If you want to make a small change, you do not need to recompile and re-run a whole program, but just add new instructions and build upon the existing variables. You keep incrementing this until you reach the target. "
   ]
  },
  {
   "cell_type": "markdown",
   "metadata": {},
   "source": [
    "## How to run Python code\n",
    "\n",
    "1. One can write the code in a text file with extension `py`. Yo umay run it with by issuing in command prompt: ```python script_name.py```\n",
    "1. One can use one of Python or IPython interpretors, in REPL style. REPL allows for a quick prototyping and incremental coding. The  IPython interpreter is an enhanced version of the Python interpreter. \n",
    "![ipython screenshot](./images/ipython_screenshot.png)\n",
    "Please consult bibliography [1], chapter 1 on IPython: debug, magic commands, tricks with command interpreter, etc. \n",
    "1. Jupyter notebook - the code is written in a browser; it is easier to see the whole code so far, it has support for tab completion and quick help on functions/modules. The resulted files have extension `ipynb`.\n",
    "A list of notebooks can be found [here](http://nbviewer.jupyter.org/). [Here](https://towardsdatascience.com/jupyter-best-practices-that-will-save-you-a-lot-of-headaches-67e1df45e24d ) you will find resources on working with Jupyter notebooks.\n",
    "1. By using specific fraeworks (*e.g.* Flask), you can write Python code to create dynamic web pages, REST endpoints; you can even expose your own Python functions as REST web services."
   ]
  },
  {
   "cell_type": "markdown",
   "metadata": {},
   "source": [
    "## Variables and data types\n",
    "\n",
    "Showing a message is done by using *the function* `print()`: "
   ]
  },
  {
   "cell_type": "code",
   "execution_count": 1,
   "metadata": {
    "ExecuteTime": {
     "end_time": "2022-02-16T14:33:03.782081Z",
     "start_time": "2022-02-16T14:33:03.763070Z"
    }
   },
   "outputs": [
    {
     "name": "stdout",
     "output_type": "stream",
     "text": [
      "Hello quantum world!\n"
     ]
    }
   ],
   "source": [
    "print(\"Hello quantum world!\")\n",
    "# or: print('Hello quantum world!')"
   ]
  },
  {
   "cell_type": "markdown",
   "metadata": {},
   "source": [
    "In Python version 2, the same is accomplished by using *the statement* `print`: \n",
    "```python\n",
    "print \"Hello quantum world!\"\n",
    "```\n",
    "- as you can see, the paranthesis are ommitted. In both cases, the strings are bounded by apostrophes or quotation marks.\n",
    "\n",
    "Unlike compiled languages, you do not have to declare the variables and their types before using them - Python is a weakly typed language. The true nature of a variable is given by its associated value."
   ]
  },
  {
   "cell_type": "code",
   "execution_count": null,
   "metadata": {
    "ExecuteTime": {
     "end_time": "2022-02-12T06:26:35.285773Z",
     "start_time": "2022-02-12T06:26:35.276277Z"
    }
   },
   "outputs": [],
   "source": [
    "x = 3 # x is a variable of type int\n",
    "y = \"abcd\" # y is a string variable\n",
    "# Python style: write composed variable names with underline:\n",
    "full_name = \"John Smith\""
   ]
  },
  {
   "cell_type": "markdown",
   "metadata": {},
   "source": [
    "Python is case sensitive: full_name and Full_name are different variables. The variable names must start with a letter or \\_, and they can contain digits. "
   ]
  },
  {
   "cell_type": "markdown",
   "metadata": {},
   "source": [
    "The following Python key words cannot be used as variable names:\n",
    "\n",
    "![Reserved keywords](./images/reserved.png)"
   ]
  },
  {
   "cell_type": "markdown",
   "metadata": {},
   "source": [
    "The actual type of a variable can be found at runtime:"
   ]
  },
  {
   "cell_type": "code",
   "execution_count": null,
   "metadata": {
    "ExecuteTime": {
     "end_time": "2022-02-12T06:28:38.174359Z",
     "start_time": "2022-02-12T06:28:38.160398Z"
    }
   },
   "outputs": [],
   "source": [
    "# function type shows what is type is used to store that value\n",
    "print(...)\n",
    "print(...)"
   ]
  },
  {
   "cell_type": "markdown",
   "metadata": {},
   "source": [
    "### Numeric types in Python"
   ]
  },
  {
   "cell_type": "code",
   "execution_count": null,
   "metadata": {
    "ExecuteTime": {
     "end_time": "2022-02-12T06:34:29.623449Z",
     "start_time": "2022-02-12T06:34:29.609438Z"
    }
   },
   "outputs": [],
   "source": [
    "height = 1.79\n",
    "weight = 78\n",
    "body_mass_index = ...\n",
    "print(\"The body mass index is: \", body_mass_index)"
   ]
  },
  {
   "cell_type": "markdown",
   "metadata": {},
   "source": [
    "For integer values, the usable operators are: \n",
    "* +\n",
    "* - \n",
    "* *\n",
    "* / (exact division, with floating point result)\n",
    "* // (integral division)\n",
    "* % (modulo)\n",
    "* ** (rise to power)"
   ]
  },
  {
   "cell_type": "code",
   "execution_count": null,
   "metadata": {
    "ExecuteTime": {
     "end_time": "2022-02-12T06:36:03.852296Z",
     "start_time": "2022-02-12T06:36:03.839297Z"
    }
   },
   "outputs": [],
   "source": [
    "print(7/3)\n",
    "print(7//3)\n",
    "print(7%3)\n",
    "print(7**3)"
   ]
  },
  {
   "cell_type": "markdown",
   "metadata": {},
   "source": [
    "Python natively supports long integers, their precision being limited by the memory allocated to the process:"
   ]
  },
  {
   "cell_type": "code",
   "execution_count": null,
   "metadata": {
    "ExecuteTime": {
     "end_time": "2022-02-12T06:36:56.914265Z",
     "start_time": "2022-02-12T06:36:56.897132Z"
    }
   },
   "outputs": [],
   "source": [
    "big_number = 1*2*3*4*5*6*7*8*9*10*11*12*13*14*15*16*17*18*19*20*21*22*23*24*25*26*27*28*29*30*31*32*33*34*35*36*37*38*39*40*41*42*43*44*45*46*47*48*49*50*51*52*53*54*55*56*57*58*59*60*61*62*63*64*65*66*67*68*69*70*71*72*73*74*75*76*77*78*79*80*81*82*83*84*85*86*87*88*89*90*91*92*93*94*95*96*97*98*99*100\n",
    "print('100!=', big_number)"
   ]
  },
  {
   "cell_type": "markdown",
   "metadata": {},
   "source": [
    "For floating point (FP) values the operators are the ones above, excepting integral division. If one of the operands is FP, the whole operation will return a FP."
   ]
  },
  {
   "cell_type": "code",
   "execution_count": null,
   "metadata": {
    "ExecuteTime": {
     "end_time": "2022-02-12T06:38:12.852288Z",
     "start_time": "2022-02-12T06:38:12.849305Z"
    }
   },
   "outputs": [],
   "source": [
    "print(...)"
   ]
  },
  {
   "cell_type": "markdown",
   "metadata": {},
   "source": [
    "The comparisons operators are::\n",
    "* <, >, <=, >=\n",
    "* == (equal), != (not equal)"
   ]
  },
  {
   "cell_type": "markdown",
   "metadata": {},
   "source": [
    "Complex numbers are natively supported:"
   ]
  },
  {
   "cell_type": "code",
   "execution_count": null,
   "metadata": {
    "ExecuteTime": {
     "end_time": "2022-02-12T06:39:24.862891Z",
     "start_time": "2022-02-12T06:39:24.847839Z"
    }
   },
   "outputs": [],
   "source": [
    "z = ...\n",
    "print(z)\n",
    "print(type(z))\n",
    "print(z.conjugate())\n",
    "z2 = z * z.conjugate()\n",
    "print(z2)"
   ]
  },
  {
   "cell_type": "markdown",
   "metadata": {},
   "source": [
    "You can swith between numerical representations (aka conversions):"
   ]
  },
  {
   "cell_type": "code",
   "execution_count": null,
   "metadata": {
    "ExecuteTime": {
     "end_time": "2020-02-19T17:38:39.094035Z",
     "start_time": "2020-02-19T17:38:39.088052Z"
    }
   },
   "outputs": [],
   "source": [
    "a = 3.997\n",
    "b = int(a)\n",
    "print(b)\n",
    "print(float(b))"
   ]
  },
  {
   "cell_type": "code",
   "execution_count": null,
   "metadata": {
    "ExecuteTime": {
     "end_time": "2020-02-19T17:38:39.108995Z",
     "start_time": "2020-02-19T17:38:39.105006Z"
    }
   },
   "outputs": [],
   "source": [
    "# Other examples: https://www.tutorialspoint.com/python/python_numbers.htm"
   ]
  },
  {
   "cell_type": "markdown",
   "metadata": {},
   "source": [
    "### Strings"
   ]
  },
  {
   "cell_type": "markdown",
   "metadata": {
    "collapsed": true
   },
   "source": [
    "Strings are bounded by apostrophes or quotations marks. For string literals, one can use escape sequences:"
   ]
  },
  {
   "cell_type": "code",
   "execution_count": null,
   "metadata": {
    "ExecuteTime": {
     "end_time": "2022-02-12T06:45:10.317687Z",
     "start_time": "2022-02-12T06:45:10.312688Z"
    }
   },
   "outputs": [],
   "source": [
    "a = r'the full address is \\\\michel\\protect\\a.txt' # the prefix r allows for easy inclusion of \\ chars\n",
    "print(a)\n",
    "\n",
    "# the hard way\n",
    "a = ... \n",
    "print(a)\n",
    "\n",
    "# Unicode chars\n",
    "a = u\"ōéα\" # the prefix u allows for direct Unicode chars inclusion\n",
    "print(a)"
   ]
  },
  {
   "cell_type": "markdown",
   "metadata": {},
   "source": [
    "... or multiline strings, using as delimiters three apostrophes or three quotation marks:"
   ]
  },
  {
   "cell_type": "code",
   "execution_count": null,
   "metadata": {
    "ExecuteTime": {
     "end_time": "2020-02-19T17:38:39.325416Z",
     "start_time": "2020-02-19T17:38:39.316441Z"
    }
   },
   "outputs": [],
   "source": [
    "lyrics = '''If you can keep your head when all about you   \n",
    "    Are losing theirs and blaming it on you,   \n",
    "If you can trust yourself when all men doubt you,\n",
    "    But make allowance for their doubting too;   '''\n",
    "print(lyrics)"
   ]
  },
  {
   "cell_type": "markdown",
   "metadata": {
    "collapsed": true
   },
   "source": [
    "The strings can be concatenated via + and further allows for operations and functions:"
   ]
  },
  {
   "cell_type": "code",
   "execution_count": null,
   "metadata": {
    "ExecuteTime": {
     "end_time": "2022-02-12T06:55:14.891868Z",
     "start_time": "2022-02-12T06:55:14.878839Z"
    }
   },
   "outputs": [],
   "source": [
    "proposition = ...\n",
    "print(proposition)"
   ]
  },
  {
   "cell_type": "code",
   "execution_count": null,
   "metadata": {
    "ExecuteTime": {
     "end_time": "2022-02-12T06:55:16.437808Z",
     "start_time": "2022-02-12T06:55:16.431454Z"
    }
   },
   "outputs": [],
   "source": [
    "print('String\\'s length: ', ...)\n",
    "print('The first character of the string: ', ...)\n",
    "print('Its last character: ', ...)\n",
    "print('The last character, Pythonic style: ', ...)\n",
    "print(\"The last but one element of the statement, Pythonic: \", ...)"
   ]
  },
  {
   "cell_type": "code",
   "execution_count": null,
   "metadata": {
    "ExecuteTime": {
     "end_time": "2022-02-12T06:55:22.146561Z",
     "start_time": "2022-02-12T06:55:22.141561Z"
    }
   },
   "outputs": [],
   "source": [
    "# Casting from a non-string to a string\n",
    "x = 3\n",
    "message = \"The number is \" + str(x)\n",
    "print(message)"
   ]
  },
  {
   "cell_type": "code",
   "execution_count": null,
   "metadata": {
    "ExecuteTime": {
     "end_time": "2022-02-12T06:55:44.053348Z",
     "start_time": "2022-02-12T06:55:44.047314Z"
    }
   },
   "outputs": [],
   "source": [
    "# methods and operations on strings:\n",
    "print(proposition.lower())\n",
    "print('slicing:', ...)\n",
    "# look for substring\n",
    "print(proposition....)\n",
    "# replace substring\n",
    "print(proposition....)"
   ]
  },
  {
   "cell_type": "code",
   "execution_count": null,
   "metadata": {
    "ExecuteTime": {
     "end_time": "2022-02-12T06:56:20.575416Z",
     "start_time": "2022-02-12T06:56:20.557416Z"
    }
   },
   "outputs": [],
   "source": [
    "repeated_name = 'James' * 10\n",
    "print(repeated_name)"
   ]
  },
  {
   "cell_type": "code",
   "execution_count": null,
   "metadata": {
    "ExecuteTime": {
     "end_time": "2022-02-12T06:57:13.511993Z",
     "start_time": "2022-02-12T06:57:13.494868Z"
    }
   },
   "outputs": [],
   "source": [
    "the_word_Java_is_in_proposition = ...\n",
    "print(the_word_Java_is_in_proposition)\n",
    "the_word_Java_is_not_in_proposition = ...\n",
    "print(the_word_Java_is_not_in_proposition)"
   ]
  },
  {
   "cell_type": "code",
   "execution_count": null,
   "metadata": {
    "ExecuteTime": {
     "end_time": "2022-02-12T06:57:53.874219Z",
     "start_time": "2022-02-12T06:57:53.870212Z"
    }
   },
   "outputs": [],
   "source": [
    "tokens = ...\n",
    "print(type(tokens))\n",
    "print(tokens)\n",
    "print(\",\".join(['James', 'Anna', 'Mary', 'Dan']))"
   ]
  },
  {
   "cell_type": "markdown",
   "metadata": {},
   "source": [
    "It is worth mentioning the `eval` function, which receives a string and returns an object, resulted by interpreting that string:"
   ]
  },
  {
   "cell_type": "code",
   "execution_count": null,
   "metadata": {
    "ExecuteTime": {
     "end_time": "2022-02-12T06:59:08.754355Z",
     "start_time": "2022-02-12T06:59:08.747358Z"
    }
   },
   "outputs": [],
   "source": [
    "a = 3\n",
    "b = 4\n",
    "expression = '(a+b)/(a**2 + b**2 + 1)'\n",
    "print(...)"
   ]
  },
  {
   "cell_type": "markdown",
   "metadata": {},
   "source": [
    "We warmly recommend you to further dig into the [official documentation](https://docs.python.org/3/library/string.html) on string."
   ]
  },
  {
   "cell_type": "markdown",
   "metadata": {},
   "source": [
    "### Boolean variables"
   ]
  },
  {
   "cell_type": "markdown",
   "metadata": {},
   "source": [
    "Python cotains the predefined type `bool`, which is further used to represent the truth value `True` and `False`:"
   ]
  },
  {
   "cell_type": "code",
   "execution_count": null,
   "metadata": {
    "ExecuteTime": {
     "end_time": "2022-02-12T07:01:41.435903Z",
     "start_time": "2022-02-12T07:01:41.417904Z"
    }
   },
   "outputs": [],
   "source": [
    "x = True\n",
    "print(type(x))"
   ]
  },
  {
   "cell_type": "markdown",
   "metadata": {},
   "source": [
    "You can cast from numerical values to bools and the other way around: 0 is associated to `False`, any non-zero is seen as `True`. Conversely, `True` is casted to 1 and `False` to 0:"
   ]
  },
  {
   "cell_type": "code",
   "execution_count": null,
   "metadata": {
    "ExecuteTime": {
     "end_time": "2022-02-12T07:03:06.540108Z",
     "start_time": "2022-02-12T07:03:06.520029Z"
    }
   },
   "outputs": [],
   "source": [
    "x = bool(-1)\n",
    "print('-1 as bool: ', x)\n",
    "x = bool(0.0)\n",
    "print('0.0 as bool: ', x)\n",
    "b = True\n",
    "print('True as int:', int(b))\n",
    "b = False\n",
    "print('False as int:', int(b))"
   ]
  },
  {
   "cell_type": "markdown",
   "metadata": {},
   "source": [
    "The bool variables can be used along with the following operators:"
   ]
  },
  {
   "cell_type": "code",
   "execution_count": null,
   "metadata": {
    "ExecuteTime": {
     "end_time": "2022-02-12T07:03:56.589448Z",
     "start_time": "2022-02-12T07:03:56.580450Z"
    }
   },
   "outputs": [],
   "source": [
    "print(True and False)\n",
    "print(True or False)\n",
    "print(not False)\n",
    "# there is no xor builtin operator, but...\n",
    "a, b = True, False\n",
    "print(a != b)"
   ]
  },
  {
   "cell_type": "markdown",
   "metadata": {},
   "source": [
    "### Lists"
   ]
  },
  {
   "cell_type": "markdown",
   "metadata": {},
   "source": [
    "A list can host any number of elements, of any types. One can mix the types stored in the same list. The elements are separated by comma. You can easily recognize a list by its bounding square brackets:"
   ]
  },
  {
   "cell_type": "code",
   "execution_count": null,
   "metadata": {
    "ExecuteTime": {
     "end_time": "2022-02-12T07:07:23.749619Z",
     "start_time": "2022-02-12T07:07:23.742620Z"
    }
   },
   "outputs": [],
   "source": [
    "my_list = [10, 20, 30, 40]\n",
    "print('The length of the list is: ', ...)\n",
    "print('The type of the whole list is: ', ...)\n",
    "# mixed types in a list: string and int\n",
    "my_list_2 = [...]"
   ]
  },
  {
   "cell_type": "markdown",
   "metadata": {},
   "source": [
    "The list's elements can be refered by indices, starting with 0 and up to (including) `len(my_list)-1`. As for strings, the last element of a list can be accessed in a Pythonic way with index '-1':"
   ]
  },
  {
   "cell_type": "code",
   "execution_count": null,
   "metadata": {
    "ExecuteTime": {
     "end_time": "2022-02-12T07:10:21.415312Z",
     "start_time": "2022-02-12T07:10:21.398302Z"
    }
   },
   "outputs": [],
   "source": [
    "my_list = [10, 20, 30]\n",
    "print('The last element is: ', ...)\n",
    "print('The last but one element is:', ...)"
   ]
  },
  {
   "cell_type": "markdown",
   "metadata": {},
   "source": [
    "You can clone a list as many times you want:"
   ]
  },
  {
   "cell_type": "code",
   "execution_count": null,
   "metadata": {
    "ExecuteTime": {
     "end_time": "2022-02-12T07:11:06.716453Z",
     "start_time": "2022-02-12T07:11:06.706457Z"
    }
   },
   "outputs": [],
   "source": [
    "my_list = ... # something similar was done for strings\n",
    "print(my_list)"
   ]
  },
  {
   "cell_type": "markdown",
   "metadata": {},
   "source": [
    "We can refer to whole slices in a list, not just individual positions, by using slicing, as in: `my_list[k:l]` which produces a list consisting of elemments `my_list[k]`, `my_list[k+1]`, ..., `my_list[l-1]`. As you can see, the last slice does not cotain the element at index `l`. You may revers the order of the elements in the slice with `my_list[l:k:-1]`. In this latter case, the element at index `l` will be included in the results, but not the one at index `k`:"
   ]
  },
  {
   "cell_type": "code",
   "execution_count": null,
   "metadata": {
    "ExecuteTime": {
     "end_time": "2022-02-12T07:14:51.830561Z",
     "start_time": "2022-02-12T07:14:51.819545Z"
    }
   },
   "outputs": [],
   "source": [
    "my_list = [1, 2, 3, 4, 5, 6, 7, 8, 9, 10]\n",
    "print(my_list)\n",
    "sliced = my_list[...]\n",
    "print(sliced)\n",
    "sliced_reversed = my_list[...]\n",
    "print(sliced_reversed)"
   ]
  },
  {
   "cell_type": "code",
   "execution_count": null,
   "metadata": {
    "ExecuteTime": {
     "end_time": "2022-02-12T07:14:55.369530Z",
     "start_time": "2022-02-12T07:14:55.354518Z"
    }
   },
   "outputs": [],
   "source": [
    "my_list = [10, 20, 30, 40]"
   ]
  },
  {
   "cell_type": "markdown",
   "metadata": {},
   "source": [
    "The following forms are accepted for slicing:"
   ]
  },
  {
   "cell_type": "markdown",
   "metadata": {
    "collapsed": true
   },
   "source": [
    "- a[start:end] # items start through end-1\n",
    "- a[start:]    # items start through the rest of the array\n",
    "- a[:end]      # items from the beginning through end-1\n",
    "- a[:]         # a copy of the whole array"
   ]
  },
  {
   "cell_type": "markdown",
   "metadata": {},
   "source": [
    "The last form is powerful, as it returns a clone of the original list. If you do not use cloning, then two variables pointing to the same list can modify its contents simultaneously, which may lead to confusions:"
   ]
  },
  {
   "cell_type": "code",
   "execution_count": null,
   "metadata": {
    "ExecuteTime": {
     "end_time": "2022-02-12T07:17:41.574423Z",
     "start_time": "2022-02-12T07:17:41.564093Z"
    }
   },
   "outputs": [],
   "source": [
    "# aliasing\n",
    "a = [1, 2, 3]\n",
    "b = a\n",
    "print('a=', a)\n",
    "print('b=', b)\n",
    "a[0] *= -1\n",
    "print('After update of the list via variable a: b=', b)\n",
    "# a and b refer to the same list"
   ]
  },
  {
   "cell_type": "code",
   "execution_count": null,
   "metadata": {
    "ExecuteTime": {
     "end_time": "2022-02-12T07:18:14.836893Z",
     "start_time": "2022-02-12T07:18:14.816451Z"
    }
   },
   "outputs": [],
   "source": [
    "# list cloning\n",
    "a = [1, 2, 3]\n",
    "b = a[:]\n",
    "print('a=', a)\n",
    "print('b=', b)\n",
    "a[0] *= -1\n",
    "print('After update: a=', a)\n",
    "print('After update: b=', b)\n",
    "# a and b point to different lists"
   ]
  },
  {
   "cell_type": "markdown",
   "metadata": {},
   "source": [
    "You can also copy a list by using the method `copy`:"
   ]
  },
  {
   "cell_type": "code",
   "execution_count": null,
   "metadata": {
    "ExecuteTime": {
     "end_time": "2022-02-12T07:19:15.225858Z",
     "start_time": "2022-02-12T07:19:15.218891Z"
    }
   },
   "outputs": [],
   "source": [
    "# clone a list by copy method\n",
    "a = [1, 2, 3]\n",
    "b = a.copy()\n",
    "print('a=', a)\n",
    "print('b=', b)\n",
    "a[0] *= -1\n",
    "print('After update: a=', a)\n",
    "print('After update: b=', b)\n",
    "# a and b point to different lists"
   ]
  },
  {
   "cell_type": "markdown",
   "metadata": {},
   "source": [
    "Two lists can be concatenated:"
   ]
  },
  {
   "cell_type": "code",
   "execution_count": null,
   "metadata": {
    "ExecuteTime": {
     "end_time": "2020-02-19T17:38:39.817103Z",
     "start_time": "2020-02-19T17:38:39.810121Z"
    }
   },
   "outputs": [],
   "source": [
    "a = [1, 2, 3]\n",
    "b = [10, 20, 30]\n",
    "c = ...\n",
    "print(c)"
   ]
  },
  {
   "cell_type": "markdown",
   "metadata": {},
   "source": [
    "You can append elements to a list:"
   ]
  },
  {
   "cell_type": "code",
   "execution_count": null,
   "metadata": {
    "ExecuteTime": {
     "end_time": "2020-02-19T17:38:39.835059Z",
     "start_time": "2020-02-19T17:38:39.827076Z"
    }
   },
   "outputs": [],
   "source": [
    "a = [1, 2, 3]\n",
    "a...\n",
    "print(a)"
   ]
  },
  {
   "cell_type": "markdown",
   "metadata": {},
   "source": [
    "It is recommended to prealocate memory, if its length or maximum length are known:"
   ]
  },
  {
   "cell_type": "code",
   "execution_count": null,
   "metadata": {
    "ExecuteTime": {
     "end_time": "2022-02-12T07:49:53.619184Z",
     "start_time": "2022-02-12T07:49:53.601139Z"
    }
   },
   "outputs": [],
   "source": [
    "a = [None] * 10\n",
    "# do some hard work here\n",
    "a[3] = 'Known value'\n",
    "print(a)"
   ]
  },
  {
   "cell_type": "markdown",
   "metadata": {},
   "source": [
    "Sorting of a list is done by using function `sorted`, which can optionally takes two arguments:\n",
    "* an argument `reverse` of type boolean, which enforces sorting in decreasing order\n",
    "* an argument `key`, which point to a function used to compare items in the collection"
   ]
  },
  {
   "cell_type": "code",
   "execution_count": null,
   "metadata": {
    "ExecuteTime": {
     "end_time": "2020-02-19T17:38:39.860985Z",
     "start_time": "2020-02-19T17:38:39.854002Z"
    }
   },
   "outputs": [],
   "source": [
    "# Ascending ordering\n",
    "a = [5, 1, 4, 3]\n",
    "print(...)"
   ]
  },
  {
   "cell_type": "code",
   "execution_count": null,
   "metadata": {
    "ExecuteTime": {
     "end_time": "2020-02-19T17:38:39.869960Z",
     "start_time": "2020-02-19T17:38:39.863977Z"
    }
   },
   "outputs": [],
   "source": [
    "# Descending\n",
    "print(...)"
   ]
  },
  {
   "cell_type": "code",
   "execution_count": null,
   "metadata": {
    "ExecuteTime": {
     "end_time": "2022-02-12T07:53:05.360419Z",
     "start_time": "2022-02-12T07:53:05.345419Z"
    }
   },
   "outputs": [],
   "source": [
    "# Sorting with custom comparison\n",
    "strings = ['ccc', 'aaaa', 'd', 'bb']\n",
    "print(sorted(strings, key=len))\n",
    "# the strings are sorted by increasing length"
   ]
  },
  {
   "cell_type": "markdown",
   "metadata": {},
   "source": [
    "The aforementioned `sorted` function returns a new list, leaving the original one unchanged. If you want sorting in the same collectiont, use list's method `sort`. The latter one returns `None`."
   ]
  },
  {
   "cell_type": "code",
   "execution_count": null,
   "metadata": {
    "ExecuteTime": {
     "end_time": "2022-02-12T19:07:23.591726Z",
     "start_time": "2022-02-12T19:07:23.580678Z"
    }
   },
   "outputs": [],
   "source": [
    "strings = ['ccc', 'aaaa', 'd', 'bb']\n",
    "strings.sort()\n",
    "print(strings)"
   ]
  },
  {
   "cell_type": "markdown",
   "metadata": {},
   "source": [
    "Removal of the element at index `i` is done with `del`:"
   ]
  },
  {
   "cell_type": "code",
   "execution_count": null,
   "metadata": {
    "ExecuteTime": {
     "end_time": "2022-02-12T19:14:12.076772Z",
     "start_time": "2022-02-12T19:14:12.061695Z"
    }
   },
   "outputs": [],
   "source": [
    "my_list = [10, 20, 30]\n",
    "...\n",
    "print(my_list)"
   ]
  },
  {
   "cell_type": "markdown",
   "metadata": {},
   "source": [
    "Checking that an element is found inside a list is done with operator `in`:"
   ]
  },
  {
   "cell_type": "code",
   "execution_count": null,
   "metadata": {
    "ExecuteTime": {
     "end_time": "2022-02-12T19:15:21.529369Z",
     "start_time": "2022-02-12T19:15:21.512406Z"
    }
   },
   "outputs": [],
   "source": [
    "my_list = ['I', 'like', 'shopping']\n",
    "print(...)"
   ]
  },
  {
   "cell_type": "markdown",
   "metadata": {},
   "source": [
    "Min and max of o a list are obtained with the function `min` and `max`, respectively. "
   ]
  },
  {
   "cell_type": "markdown",
   "metadata": {},
   "source": [
    "Other methods which are defined for the list type are shown below:"
   ]
  },
  {
   "cell_type": "code",
   "execution_count": null,
   "metadata": {
    "ExecuteTime": {
     "end_time": "2022-02-12T19:22:07.715883Z",
     "start_time": "2022-02-12T19:22:07.702808Z"
    }
   },
   "outputs": [],
   "source": [
    "my_list = [10, 20, 30, 10]\n",
    "# How many times do you see the value 10 in the list?\n",
    "print('Number of occurences of 10 in the list', my_list.count(10))\n",
    "# Which is the first index where a given element appears in the list?\n",
    "print('Which is the first index where a given element appears in the list?', my_list.index(20))\n",
    "# if one seearches for a non-exisitng element, an exception is thrown:\n",
    "# print(my_list.index(100000))\n",
    "# ValueError: 100000 is not in list\n",
    "\n",
    "# Inserting element 100 at index 2:\n",
    "my_list.insert(2, 100)\n",
    "print('After inserting element 100 at index 2', my_list)\n",
    "# Reversing a list\n",
    "my_list.reverse()\n",
    "print('Reversing a list', my_list)\n",
    "# Removing the first appearance of an element in a list:\n",
    "my_list.remove(10)\n",
    "print('After removing the first appearance of an element in a list:', my_list)\n",
    "my_list.clear()\n",
    "print('The list is now empty:', my_list)"
   ]
  },
  {
   "cell_type": "markdown",
   "metadata": {},
   "source": [
    "In order to check if all elements (respectively: at least one element) in a list of boolean values are (is) true, you can use `all` (respectively `any`)."
   ]
  },
  {
   "cell_type": "code",
   "execution_count": null,
   "metadata": {
    "ExecuteTime": {
     "end_time": "2022-02-12T19:27:24.655382Z",
     "start_time": "2022-02-12T19:27:24.642382Z"
    }
   },
   "outputs": [],
   "source": [
    "my_list = [True, False, True]\n",
    "print('At least one is True:', ...)\n",
    "print('All elements are True:', ...)"
   ]
  },
  {
   "cell_type": "markdown",
   "metadata": {},
   "source": [
    "For an empty list:\n",
    "* `all` yields `True`\n",
    "* `any` yields `False`"
   ]
  },
  {
   "cell_type": "code",
   "execution_count": null,
   "metadata": {
    "ExecuteTime": {
     "end_time": "2022-02-12T19:28:25.592608Z",
     "start_time": "2022-02-12T19:28:25.581607Z"
    }
   },
   "outputs": [],
   "source": [
    "print('At least one is true:',any([]))\n",
    "print('All elements are true:',all([]))"
   ]
  },
  {
   "cell_type": "markdown",
   "metadata": {},
   "source": [
    "A very ellegant approach to process elements of a list is list comprehension, which will be presented later."
   ]
  },
  {
   "cell_type": "markdown",
   "metadata": {},
   "source": [
    "### Tuples"
   ]
  },
  {
   "cell_type": "markdown",
   "metadata": {},
   "source": [
    "Unlike a list, whose contents can be changed, a tuple is an immutable and ordered collection.The elements are separated by comma. The whole tuple can be surrounded by (round) parantheses."
   ]
  },
  {
   "cell_type": "code",
   "execution_count": null,
   "metadata": {
    "ExecuteTime": {
     "end_time": "2022-02-13T05:46:26.241433Z",
     "start_time": "2022-02-13T05:46:26.224901Z"
    }
   },
   "outputs": [],
   "source": [
    "tuple1 = ('Computer Science', 3, 'morning')\n",
    "tuple2 = 'Chemistry', 2, 'evening'\n",
    "print(tuple1)"
   ]
  },
  {
   "cell_type": "markdown",
   "metadata": {},
   "source": [
    "The first element is at index 0, the last one at index -1 or `len(tuple_name)`:"
   ]
  },
  {
   "cell_type": "code",
   "execution_count": null,
   "metadata": {
    "ExecuteTime": {
     "end_time": "2022-02-13T05:46:32.697671Z",
     "start_time": "2022-02-13T05:46:32.690634Z"
    }
   },
   "outputs": [],
   "source": [
    "print(tuple1[0])"
   ]
  },
  {
   "cell_type": "code",
   "execution_count": null,
   "metadata": {
    "ExecuteTime": {
     "end_time": "2022-02-13T05:47:28.106037Z",
     "start_time": "2022-02-13T05:47:28.095031Z"
    }
   },
   "outputs": [],
   "source": [
    "print(tuple1[-1])"
   ]
  },
  {
   "cell_type": "code",
   "execution_count": null,
   "metadata": {
    "ExecuteTime": {
     "end_time": "2022-02-13T05:47:33.191619Z",
     "start_time": "2022-02-13T05:47:33.176620Z"
    }
   },
   "outputs": [],
   "source": [
    "print(len(tuple1))"
   ]
  },
  {
   "cell_type": "markdown",
   "metadata": {},
   "source": [
    "Let us try to change the tuple's content:"
   ]
  },
  {
   "cell_type": "code",
   "execution_count": null,
   "metadata": {
    "ExecuteTime": {
     "end_time": "2022-02-13T05:50:32.121226Z",
     "start_time": "2022-02-13T05:50:32.117226Z"
    }
   },
   "outputs": [],
   "source": [
    "# tuple1[0] = 'History'\n",
    "# TypeError: 'tuple' object does not support item assignment"
   ]
  },
  {
   "cell_type": "code",
   "execution_count": null,
   "metadata": {
    "ExecuteTime": {
     "end_time": "2022-02-13T05:56:34.975140Z",
     "start_time": "2022-02-13T05:56:34.968100Z"
    }
   },
   "outputs": [],
   "source": [
    "empty_tuple = ()\n",
    "# or: empty_tuple = tuple()\n",
    "print(len(empty_tuple))"
   ]
  },
  {
   "cell_type": "code",
   "execution_count": null,
   "metadata": {
    "ExecuteTime": {
     "end_time": "2022-02-13T05:48:19.041697Z",
     "start_time": "2022-02-13T05:48:19.031620Z"
    }
   },
   "outputs": [],
   "source": [
    "a_tuple_with_a_single_value_has_a_dummy_comma_at_the_end = (42,)\n",
    "print(len(a_tuple_with_a_single_value_has_a_dummy_comma_at_the_end))"
   ]
  },
  {
   "cell_type": "markdown",
   "metadata": {},
   "source": [
    "A tuple's content can be broken into separate items:"
   ]
  },
  {
   "cell_type": "code",
   "execution_count": null,
   "metadata": {
    "ExecuteTime": {
     "end_time": "2022-02-13T05:48:58.275860Z",
     "start_time": "2022-02-13T05:48:58.267853Z"
    }
   },
   "outputs": [],
   "source": [
    "print(tuple1)\n",
    "...\n",
    "print(a)\n",
    "print(b)\n",
    "print(c)"
   ]
  },
  {
   "cell_type": "code",
   "execution_count": null,
   "metadata": {
    "ExecuteTime": {
     "end_time": "2022-02-13T05:51:00.295999Z",
     "start_time": "2022-02-13T05:51:00.273999Z"
    }
   },
   "outputs": [],
   "source": [
    "# One can concatenate two or more tuples\n",
    "..."
   ]
  },
  {
   "cell_type": "code",
   "execution_count": null,
   "metadata": {
    "ExecuteTime": {
     "end_time": "2022-02-13T05:51:35.498479Z",
     "start_time": "2022-02-13T05:51:35.486467Z"
    }
   },
   "outputs": [],
   "source": [
    "# Casting a list to a tuple\n",
    "my_list = [1, 2, 3, 4, 5]\n",
    "my_tuple = tuple(my_list)\n",
    "print(type(my_tuple))\n",
    "print(my_tuple)"
   ]
  },
  {
   "cell_type": "markdown",
   "metadata": {},
   "source": [
    "... or the other way around:"
   ]
  },
  {
   "cell_type": "code",
   "execution_count": null,
   "metadata": {
    "ExecuteTime": {
     "end_time": "2022-02-13T05:52:33.208122Z",
     "start_time": "2022-02-13T05:52:33.191125Z"
    }
   },
   "outputs": [],
   "source": [
    "list_from_tuple = list(my_tuple)\n",
    "print(f'The type of list_from_tuple is {type(list_from_tuple)} and its content is {list_from_tuple}')"
   ]
  },
  {
   "cell_type": "markdown",
   "metadata": {},
   "source": [
    "### Dictionaries"
   ]
  },
  {
   "cell_type": "markdown",
   "metadata": {},
   "source": [
    "Dictionaries (or hash tables) are associations betweek keys and values. A collection is surrounded by brackets. Its elements are retrieved by using square brackets."
   ]
  },
  {
   "cell_type": "code",
   "execution_count": null,
   "metadata": {
    "ExecuteTime": {
     "end_time": "2022-02-13T06:03:10.964731Z",
     "start_time": "2022-02-13T06:03:10.952638Z"
    }
   },
   "outputs": [],
   "source": [
    "... # empty dictionary\n",
    "# or: geography = dictionary()\n",
    "\n",
    "geography = {'Romania': 'Bucharest', 'Serbia': 'Belgrade'}\n",
    "print(\"Dict's length:\", ...)\n",
    "key = 'Romania'\n",
    "print('The value for key', key, ' is ', ...)\n",
    "\n",
    "... # adding a new key-value pair to the dictionary\n",
    "\n",
    "# If one uses an exisitng key, its corresponding value will be overwritten\n",
    "geography['Greece'] = u'Αθήνα'\n",
    "# if you specify a non existing key, you will get a KeyError\n",
    "# geography['France']\n",
    "# to avoid this halting error, you may use the method `get`: if the key does not exist, one gets None\n",
    "print(...)\n",
    "# If you want to get a predefined value for a non-existing key, the method `get` allows a supplementary parameter\n",
    "print(...)"
   ]
  },
  {
   "cell_type": "markdown",
   "metadata": {},
   "source": [
    "The collections of keys and items in a dictionary are obtained ny using methods `keys` and `values`, respectively:"
   ]
  },
  {
   "cell_type": "code",
   "execution_count": null,
   "metadata": {
    "ExecuteTime": {
     "end_time": "2022-02-13T06:04:08.511781Z",
     "start_time": "2022-02-13T06:04:08.501777Z"
    }
   },
   "outputs": [],
   "source": [
    "print('Keys:', ...)\n",
    "print('Values:', ...)"
   ]
  },
  {
   "cell_type": "markdown",
   "metadata": {},
   "source": [
    "Any of the two collections above ca be converted to a list by using the call to constructor `list()`:"
   ]
  },
  {
   "cell_type": "code",
   "execution_count": null,
   "metadata": {
    "ExecuteTime": {
     "end_time": "2022-02-13T06:05:10.393197Z",
     "start_time": "2022-02-13T06:05:10.379194Z"
    }
   },
   "outputs": [],
   "source": [
    "print(...)\n",
    "print(...)"
   ]
  },
  {
   "cell_type": "markdown",
   "metadata": {},
   "source": [
    "Removing a key from a dictionary, along with its associated value can be done by using `del`:"
   ]
  },
  {
   "cell_type": "code",
   "execution_count": null,
   "metadata": {
    "ExecuteTime": {
     "end_time": "2022-02-13T06:05:55.398082Z",
     "start_time": "2022-02-13T06:05:55.380083Z"
    }
   },
   "outputs": [],
   "source": [
    "...\n",
    "print(geography)"
   ]
  },
  {
   "cell_type": "markdown",
   "metadata": {},
   "source": [
    "Checking that a key exists in a dictionary is done by `in`:"
   ]
  },
  {
   "cell_type": "code",
   "execution_count": null,
   "metadata": {
    "ExecuteTime": {
     "end_time": "2022-02-13T06:06:29.421794Z",
     "start_time": "2022-02-13T06:06:29.414796Z"
    }
   },
   "outputs": [],
   "source": [
    "print('Greece' in geography)"
   ]
  },
  {
   "cell_type": "markdown",
   "metadata": {},
   "source": [
    "Emptying of a dictionary is done by calling method `clear()`:"
   ]
  },
  {
   "cell_type": "code",
   "execution_count": null,
   "metadata": {
    "ExecuteTime": {
     "end_time": "2020-02-19T17:38:40.337709Z",
     "start_time": "2020-02-19T17:38:40.329731Z"
    }
   },
   "outputs": [],
   "source": [
    "# geography.clear()"
   ]
  },
  {
   "cell_type": "markdown",
   "metadata": {},
   "source": [
    "The collection of pairs (key, value) of a dictionary is given by method `items()`:"
   ]
  },
  {
   "cell_type": "code",
   "execution_count": null,
   "metadata": {
    "ExecuteTime": {
     "end_time": "2022-02-13T06:08:06.495954Z",
     "start_time": "2022-02-13T06:08:06.479954Z"
    }
   },
   "outputs": [],
   "source": [
    "print(...)\n",
    "print(...)"
   ]
  },
  {
   "cell_type": "markdown",
   "metadata": {},
   "source": [
    "If you want to add to an existing dictionary the pairs (key-value) of another dictionary, use method `update()`:"
   ]
  },
  {
   "cell_type": "code",
   "execution_count": null,
   "metadata": {
    "ExecuteTime": {
     "end_time": "2022-02-13T06:09:45.821114Z",
     "start_time": "2022-02-13T06:09:45.808115Z"
    }
   },
   "outputs": [],
   "source": [
    "geography_Asia = {'China':'Beijing', 'India':'New Delhi'}\n",
    "geography.update(geography_Asia)\n",
    "print(geography)"
   ]
  },
  {
   "cell_type": "markdown",
   "metadata": {},
   "source": [
    "Cloning of a dictionary is made by calling `copy()`:"
   ]
  },
  {
   "cell_type": "code",
   "execution_count": null,
   "metadata": {
    "ExecuteTime": {
     "end_time": "2022-02-13T06:10:25.342948Z",
     "start_time": "2022-02-13T06:10:25.328859Z"
    }
   },
   "outputs": [],
   "source": [
    "geography_copy = geography.copy()\n",
    "geography_copy['India'] = 'New----Delhi'\n",
    "print(geography['India'], ',', geography_copy['India'])"
   ]
  },
  {
   "cell_type": "markdown",
   "metadata": {},
   "source": [
    "More details on dicts can be found [here](https://realpython.com/python-dicts/)."
   ]
  },
  {
   "cell_type": "markdown",
   "metadata": {},
   "source": [
    "Language update: since Python 3.7, the dictionaries are preserving the order of insertions. Prior to this version, this feature was not guaranteed. Before 3.7, people used the type `OrderedDict` to keep ordering. You can still use this latter class. "
   ]
  },
  {
   "cell_type": "markdown",
   "metadata": {},
   "source": [
    "### Other types of collections"
   ]
  },
  {
   "cell_type": "markdown",
   "metadata": {},
   "source": [
    "We are often using the function `range` to rpoduce a sequence of numbers. The used forms are:\n",
    "* `range(n)` yields collection 0, 1, ..., n-1\n",
    "* `range(start, stop)` yields collection start, start+1, ..., stop-1\n",
    "* `range(start, stop, step)` yields a sequence whose values are determined by sign of `step`:\n",
    "    * if `step` is positive: start, start+step, start+2*step, ... k, where k is the largest integer less than `stop`\n",
    "    * if `step` is negative: start, start+step, start+2*step, ....k where k is the largest integer greater than `stop`"
   ]
  },
  {
   "cell_type": "code",
   "execution_count": null,
   "metadata": {
    "ExecuteTime": {
     "end_time": "2022-02-13T06:17:16.607726Z",
     "start_time": "2022-02-13T06:17:16.597400Z"
    }
   },
   "outputs": [],
   "source": [
    "# range with default step\n",
    "..."
   ]
  },
  {
   "cell_type": "code",
   "execution_count": null,
   "metadata": {
    "ExecuteTime": {
     "end_time": "2022-02-13T06:17:19.178076Z",
     "start_time": "2022-02-13T06:17:19.168076Z"
    }
   },
   "outputs": [],
   "source": [
    "# range with step 3\n",
    "..."
   ]
  },
  {
   "cell_type": "code",
   "execution_count": null,
   "metadata": {
    "ExecuteTime": {
     "end_time": "2022-02-13T06:17:21.382538Z",
     "start_time": "2022-02-13T06:17:21.374539Z"
    }
   },
   "outputs": [],
   "source": [
    "# range with negative step\n",
    "..."
   ]
  },
  {
   "cell_type": "markdown",
   "metadata": {},
   "source": [
    "The Python built-in function `enumerate` starts from a collection and provides both position index and current element:"
   ]
  },
  {
   "cell_type": "code",
   "execution_count": null,
   "metadata": {
    "ExecuteTime": {
     "end_time": "2022-02-13T06:18:36.916943Z",
     "start_time": "2022-02-13T06:18:36.910911Z"
    }
   },
   "outputs": [],
   "source": [
    "list1 = ['a', 'b', 'c']\n",
    "..."
   ]
  },
  {
   "cell_type": "markdown",
   "metadata": {},
   "source": [
    "By default, the index (`i` above) starts at 0. If one wants to start from a different value, the following form will be used:"
   ]
  },
  {
   "cell_type": "code",
   "execution_count": null,
   "metadata": {
    "ExecuteTime": {
     "end_time": "2022-02-13T06:19:40.465577Z",
     "start_time": "2022-02-13T06:19:40.458523Z"
    }
   },
   "outputs": [],
   "source": [
    "..."
   ]
  },
  {
   "cell_type": "markdown",
   "metadata": {},
   "source": [
    "The built in function `zip` produces 'pairing' of two colelctions (lists, tuples, dicts, ...)"
   ]
  },
  {
   "cell_type": "code",
   "execution_count": null,
   "metadata": {
    "ExecuteTime": {
     "end_time": "2022-02-13T06:20:40.555824Z",
     "start_time": "2022-02-13T06:20:40.538736Z"
    }
   },
   "outputs": [],
   "source": [
    "list2 = ['m', 'n', 'p']\n",
    "\n",
    "..."
   ]
  },
  {
   "cell_type": "markdown",
   "metadata": {},
   "source": [
    "If the zipped collections are of different lengths, the shortest collections decides the length of the result:"
   ]
  },
  {
   "cell_type": "code",
   "execution_count": null,
   "metadata": {
    "ExecuteTime": {
     "end_time": "2022-02-13T06:21:37.820370Z",
     "start_time": "2022-02-13T06:21:37.813169Z"
    }
   },
   "outputs": [],
   "source": [
    "list3 = list(range(100))\n",
    "for pair in zip(list1, list3):\n",
    "    print(pair)"
   ]
  },
  {
   "cell_type": "markdown",
   "metadata": {},
   "source": [
    "One can zip multiple collections:"
   ]
  },
  {
   "cell_type": "code",
   "execution_count": null,
   "metadata": {
    "ExecuteTime": {
     "end_time": "2022-02-13T06:23:33.395749Z",
     "start_time": "2022-02-13T06:23:33.381750Z"
    }
   },
   "outputs": [],
   "source": [
    "for tuple_of_3 in zip(list1, list2, list3):\n",
    "    print(tuple_of_3)"
   ]
  },
  {
   "cell_type": "markdown",
   "metadata": {},
   "source": [
    "Finally, another data type already provided by Python is `set`, extensively explained [here](https://realpython.com/python-sets/)."
   ]
  },
  {
   "cell_type": "markdown",
   "metadata": {},
   "source": [
    "## Statements, comments"
   ]
  },
  {
   "cell_type": "markdown",
   "metadata": {},
   "source": [
    "### Blocks of statemements"
   ]
  },
  {
   "cell_type": "markdown",
   "metadata": {},
   "source": [
    "Usually, in Python writes statements one by line. A statement which is too long can be broken on separate lines bu using a trailing \\ :"
   ]
  },
  {
   "cell_type": "code",
   "execution_count": null,
   "metadata": {
    "ExecuteTime": {
     "end_time": "2022-02-13T06:28:08.015269Z",
     "start_time": "2022-02-13T06:28:07.998202Z"
    }
   },
   "outputs": [],
   "source": [
    "a = 1 + 2 + 3 \\\n",
    "            + 4\n",
    "print(a)"
   ]
  },
  {
   "cell_type": "markdown",
   "metadata": {},
   "source": [
    "For collections, breaking the line does not require backslash:"
   ]
  },
  {
   "cell_type": "code",
   "execution_count": null,
   "metadata": {
    "ExecuteTime": {
     "end_time": "2020-02-19T17:38:40.449411Z",
     "start_time": "2020-02-19T17:38:40.442430Z"
    }
   },
   "outputs": [],
   "source": [
    "long_list = [1, 2, 3,\n",
    "              4, 5, 6]"
   ]
  },
  {
   "cell_type": "markdown",
   "metadata": {},
   "source": [
    "Although not recommended, one can write multiple statements on a line by separating them with `;`."
   ]
  },
  {
   "cell_type": "code",
   "execution_count": null,
   "metadata": {
    "ExecuteTime": {
     "end_time": "2022-02-13T06:29:25.411639Z",
     "start_time": "2022-02-13T06:29:25.404596Z"
    }
   },
   "outputs": [],
   "source": [
    "print('1'); print('2')"
   ]
  },
  {
   "cell_type": "markdown",
   "metadata": {},
   "source": [
    "The statements from a block of statements share the same indent. To indent, use tab or a specific number of spaces, but do not mix these styles. A block a statements finishes at - and does not contain - the first statement which has a smaller indent than it."
   ]
  },
  {
   "cell_type": "code",
   "execution_count": null,
   "metadata": {
    "ExecuteTime": {
     "end_time": "2022-02-13T06:32:50.415221Z",
     "start_time": "2022-02-13T06:32:50.407179Z"
    }
   },
   "outputs": [],
   "source": [
    "if 1 + 1 == 3:\n",
    "    print('If this is printed, sell your system')\n",
    "print('This statement is not part of the previous print-block')"
   ]
  },
  {
   "cell_type": "markdown",
   "metadata": {},
   "source": [
    "### Code comments"
   ]
  },
  {
   "cell_type": "markdown",
   "metadata": {},
   "source": [
    "Comments are either on a single line - starting with # character and aup to the end of that line - or using triple apostrophes or triple quortation marks."
   ]
  },
  {
   "cell_type": "code",
   "execution_count": null,
   "metadata": {
    "ExecuteTime": {
     "end_time": "2022-02-13T06:37:17.762566Z",
     "start_time": "2022-02-13T06:37:17.755566Z"
    }
   },
   "outputs": [],
   "source": [
    "\"\"\"A very long\n",
    "comment\"\"\""
   ]
  },
  {
   "cell_type": "markdown",
   "metadata": {},
   "source": [
    "### Assignment\n",
    "Binding a variable to a value was shown above. Other variants are shown below:"
   ]
  },
  {
   "cell_type": "code",
   "execution_count": null,
   "metadata": {
    "ExecuteTime": {
     "end_time": "2022-02-13T06:38:31.898119Z",
     "start_time": "2022-02-13T06:38:31.893116Z"
    }
   },
   "outputs": [],
   "source": [
    "# Multiple assignments, using a single value\n",
    "..."
   ]
  },
  {
   "cell_type": "code",
   "execution_count": null,
   "metadata": {
    "ExecuteTime": {
     "end_time": "2022-02-13T06:39:14.520133Z",
     "start_time": "2022-02-13T06:39:14.509100Z"
    }
   },
   "outputs": [],
   "source": [
    "# SImultaneous multiple assignments, with multiple values\n",
    "..."
   ]
  },
  {
   "cell_type": "markdown",
   "metadata": {},
   "source": [
    "The latter form can be cleverly used as follows: if `a` and `b` ae two variables with values atached and one wants to swap their values, one can write:"
   ]
  },
  {
   "cell_type": "code",
   "execution_count": null,
   "metadata": {
    "ExecuteTime": {
     "end_time": "2022-02-13T06:40:27.099877Z",
     "start_time": "2022-02-13T06:40:27.081763Z"
    }
   },
   "outputs": [],
   "source": [
    "print('Before swap: ', a, b)\n",
    "...\n",
    "print('After swap: ', a, b)"
   ]
  },
  {
   "cell_type": "markdown",
   "metadata": {},
   "source": [
    "### The `if` statement"
   ]
  },
  {
   "cell_type": "markdown",
   "metadata": {},
   "source": [
    "The popular forms are:\n",
    "```python\n",
    "if expression:\n",
    "    block 1\n",
    "else\n",
    "    block 2\n",
    "```\n",
    "The `else` branch can be skipped. The blocks of statements following `if` and `else` are indented."
   ]
  },
  {
   "cell_type": "code",
   "execution_count": null,
   "metadata": {
    "ExecuteTime": {
     "end_time": "2022-02-13T06:41:50.649753Z",
     "start_time": "2022-02-13T06:41:50.645157Z"
    }
   },
   "outputs": [],
   "source": [
    "var1 = 100\n",
    "var2 = 200\n",
    "if var1 > var2:\n",
    "   print(\"In if - Got a true expression value\")\n",
    "   print(var1)\n",
    "else:\n",
    "   print(\"In else - Got a false expression value\")\n",
    "   print(var2)"
   ]
  },
  {
   "cell_type": "markdown",
   "metadata": {},
   "source": [
    "An `if` statement can host multiple tests, using `elif`: \n",
    "```python\n",
    "if expression1:\n",
    "   statement(s)\n",
    "elif expression2:\n",
    "   statement(s)\n",
    "elif expression3:\n",
    "   statement(s)\n",
    "else:\n",
    "   statement(s)\n",
    "```\n",
    "In this case, the expressions `expression1`, `expression2` are evaluated in the writing order, until one of them is found to be true; its block is executed and the other ones are skipped. If non such expression is true, then the statements on the branch `else` are executed - if this branch exists."
   ]
  },
  {
   "cell_type": "code",
   "execution_count": null,
   "metadata": {
    "ExecuteTime": {
     "end_time": "2022-02-13T06:44:12.968149Z",
     "start_time": "2022-02-13T06:44:12.961149Z"
    }
   },
   "outputs": [],
   "source": [
    "var = 100\n",
    "if var == 200:\n",
    "   print(\"1 - Got a true expression value\")\n",
    "   print(var)\n",
    "elif var == 150:\n",
    "   print(\"2 - Got a true expression value\")\n",
    "   print(var)\n",
    "elif var == 100:\n",
    "   print(\"3 - Got a true expression value\")\n",
    "   print(var)\n",
    "else:\n",
    "   print(\"4 - Got a false expression value\")\n",
    "   print(var)"
   ]
  },
  {
   "cell_type": "markdown",
   "metadata": {},
   "source": [
    "The `if` statement can be used inline:\n",
    "```python\n",
    "expression_if_true if condition else expression_if_false\n",
    "```\n",
    "Example:"
   ]
  },
  {
   "cell_type": "code",
   "execution_count": null,
   "metadata": {
    "ExecuteTime": {
     "end_time": "2022-02-13T06:46:32.125718Z",
     "start_time": "2022-02-13T06:46:32.113478Z"
    }
   },
   "outputs": [],
   "source": [
    "a, b = 10, 100\n",
    "max_a_b = a if a >= b else b\n",
    "print(f'Max of {a} and {b} is {max_a_b}')"
   ]
  },
  {
   "cell_type": "markdown",
   "metadata": {},
   "source": [
    "The inline form is popular in collection comprehension."
   ]
  },
  {
   "cell_type": "markdown",
   "metadata": {},
   "source": [
    "### Cycling with `for`"
   ]
  },
  {
   "cell_type": "markdown",
   "metadata": {},
   "source": [
    "You will cycle with `for` over a collection of values. For each value in collection, the for's block of statements is executed."
   ]
  },
  {
   "cell_type": "code",
   "execution_count": null,
   "metadata": {
    "ExecuteTime": {
     "end_time": "2022-02-13T06:55:51.248258Z",
     "start_time": "2022-02-13T06:55:51.236293Z"
    }
   },
   "outputs": [],
   "source": [
    "for i in range(0, 3):\n",
    "    print('i=', i)"
   ]
  },
  {
   "cell_type": "code",
   "execution_count": null,
   "metadata": {
    "ExecuteTime": {
     "end_time": "2022-02-13T06:55:51.515475Z",
     "start_time": "2022-02-13T06:55:51.501436Z"
    }
   },
   "outputs": [],
   "source": [
    "# Computing factorial of a number\n",
    "..."
   ]
  },
  {
   "cell_type": "code",
   "execution_count": null,
   "metadata": {
    "ExecuteTime": {
     "end_time": "2022-02-13T06:55:51.815814Z",
     "start_time": "2022-02-13T06:55:51.808802Z"
    }
   },
   "outputs": [],
   "source": [
    "# %%timeit\n",
    "# n = 100\n",
    "# list_numbers = [str(i) for i in range(1, n+1)]\n",
    "# expression = '*'.join(list_numbers)\n",
    "# print(eval(expression))"
   ]
  },
  {
   "cell_type": "code",
   "execution_count": null,
   "metadata": {
    "ExecuteTime": {
     "end_time": "2022-02-13T06:55:52.301798Z",
     "start_time": "2022-02-13T06:55:52.285799Z"
    }
   },
   "outputs": [],
   "source": [
    "# iterating through a list\n",
    "names = ['Anna', 'Dan', 'George', 'Grace']\n",
    "..."
   ]
  },
  {
   "cell_type": "code",
   "execution_count": null,
   "metadata": {
    "ExecuteTime": {
     "end_time": "2022-02-13T06:55:52.774468Z",
     "start_time": "2022-02-13T06:55:52.758058Z"
    }
   },
   "outputs": [],
   "source": [
    "# iterate over keys of a dictionary\n",
    "geography = {'Romania': 'Bucharest', 'Serbia': 'Belgrade', 'Greece':'Athens'}\n",
    "..."
   ]
  },
  {
   "cell_type": "code",
   "execution_count": null,
   "metadata": {
    "ExecuteTime": {
     "end_time": "2022-02-13T06:55:53.245051Z",
     "start_time": "2022-02-13T06:55:53.227963Z"
    }
   },
   "outputs": [],
   "source": [
    "# iterate with key-value pair\n",
    "..."
   ]
  },
  {
   "cell_type": "code",
   "execution_count": null,
   "metadata": {
    "ExecuteTime": {
     "end_time": "2022-02-13T06:55:53.727791Z",
     "start_time": "2022-02-13T06:55:53.721706Z"
    }
   },
   "outputs": [],
   "source": [
    "# iterate with enumerate over dict\n",
    "for index, element in enumerate(geography):\n",
    "    print(index, element)"
   ]
  },
  {
   "cell_type": "code",
   "execution_count": null,
   "metadata": {
    "ExecuteTime": {
     "end_time": "2022-02-13T06:55:54.166230Z",
     "start_time": "2022-02-13T06:55:54.160260Z"
    }
   },
   "outputs": [],
   "source": [
    "# enumerate over to zipped collections: names and ages\n",
    "ages = [20, 21, 22, 23]\n",
    "..."
   ]
  },
  {
   "cell_type": "markdown",
   "metadata": {},
   "source": [
    "You can exit a `for` cycle by using `break`. One can skip the rest of the statements in a `for` block using `continue`:"
   ]
  },
  {
   "cell_type": "code",
   "execution_count": null,
   "metadata": {
    "ExecuteTime": {
     "end_time": "2022-02-13T06:53:55.759674Z",
     "start_time": "2022-02-13T06:53:55.745676Z"
    }
   },
   "outputs": [],
   "source": [
    "for i in range(100):\n",
    "    if i > 5:\n",
    "        break\n",
    "    print(i)"
   ]
  },
  {
   "cell_type": "code",
   "execution_count": null,
   "metadata": {
    "ExecuteTime": {
     "end_time": "2022-02-13T06:53:58.828832Z",
     "start_time": "2022-02-13T06:53:58.814825Z"
    }
   },
   "outputs": [],
   "source": [
    "for i in range(10):\n",
    "    if i % 2 == 0:\n",
    "        continue\n",
    "    print(i)"
   ]
  },
  {
   "cell_type": "markdown",
   "metadata": {},
   "source": [
    "A Python-specific form of `for` is appending an `else` branch: If no `break` was executed during the cycle, then the `else` block will be executed:"
   ]
  },
  {
   "cell_type": "code",
   "execution_count": null,
   "metadata": {
    "ExecuteTime": {
     "end_time": "2022-02-13T06:55:26.527743Z",
     "start_time": "2022-02-13T06:55:26.508744Z"
    }
   },
   "outputs": [],
   "source": [
    "for n in range(2, 18):\n",
    "    for x in range(2, n):\n",
    "        if n % x == 0:\n",
    "            print( n, 'equals', x, '*', n//x)\n",
    "            break\n",
    "    else:\n",
    "        # loop fell through without finding a factor\n",
    "        print(n, 'is a prime number')"
   ]
  },
  {
   "cell_type": "markdown",
   "metadata": {},
   "source": [
    "### Cycling with `while`"
   ]
  },
  {
   "cell_type": "markdown",
   "metadata": {},
   "source": [
    "With `while` one executes a block of statements as long a condition is fulfilled:\n",
    "```python\n",
    "while test_expression:\n",
    "    body of while\n",
    "```"
   ]
  },
  {
   "cell_type": "markdown",
   "metadata": {},
   "source": [
    "Compute $\\sum\\limits_{i=1}^n i^2$ with `while`:"
   ]
  },
  {
   "cell_type": "code",
   "execution_count": null,
   "metadata": {
    "ExecuteTime": {
     "end_time": "2020-02-19T17:38:40.683783Z",
     "start_time": "2020-02-19T17:38:40.674807Z"
    }
   },
   "outputs": [],
   "source": [
    "n = 10\n",
    "\n",
    "..."
   ]
  },
  {
   "cell_type": "markdown",
   "metadata": {},
   "source": [
    "As for the `for` statement, one can add a trailing `else` branch which will be executed only if a `break` was not encountered during cycle's run."
   ]
  },
  {
   "cell_type": "markdown",
   "metadata": {},
   "source": [
    "# Misc"
   ]
  },
  {
   "cell_type": "markdown",
   "metadata": {},
   "source": [
    "## Create Conda environment"
   ]
  },
  {
   "cell_type": "markdown",
   "metadata": {},
   "source": [
    "Live demo\n",
    "\n",
    "[Official doc](https://docs.conda.io/projects/conda/en/latest/user-guide/tasks/manage-environments.html)"
   ]
  },
  {
   "cell_type": "markdown",
   "metadata": {},
   "source": [
    "## Google colab"
   ]
  },
  {
   "cell_type": "markdown",
   "metadata": {},
   "source": [
    "[Google collaboratory](https://colab.research.google.com/) allows you to run Python code in Google's cloud. \n",
    "\n",
    "Features: \n",
    "* install packages on the fly\n",
    "* get data from gdrive or github\n",
    "* share notebooks with collaborators"
   ]
  },
  {
   "cell_type": "code",
   "execution_count": null,
   "metadata": {},
   "outputs": [],
   "source": []
  }
 ],
 "metadata": {
  "kernelspec": {
   "display_name": "Python 3 (ipykernel)",
   "language": "python",
   "name": "python3"
  },
  "language_info": {
   "codemirror_mode": {
    "name": "ipython",
    "version": 3
   },
   "file_extension": ".py",
   "mimetype": "text/x-python",
   "name": "python",
   "nbconvert_exporter": "python",
   "pygments_lexer": "ipython3",
   "version": "3.9.7"
  },
  "toc": {
   "base_numbering": 1,
   "nav_menu": {},
   "number_sections": true,
   "sideBar": true,
   "skip_h1_title": false,
   "title_cell": "Table of Contents",
   "title_sidebar": "Contents",
   "toc_cell": false,
   "toc_position": {
    "height": "calc(100% - 180px)",
    "left": "10px",
    "top": "150px",
    "width": "290.875px"
   },
   "toc_section_display": true,
   "toc_window_display": false
  },
  "varInspector": {
   "cols": {
    "lenName": 16,
    "lenType": 16,
    "lenVar": 40
   },
   "kernels_config": {
    "python": {
     "delete_cmd_postfix": "",
     "delete_cmd_prefix": "del ",
     "library": "var_list.py",
     "varRefreshCmd": "print(var_dic_list())"
    },
    "r": {
     "delete_cmd_postfix": ") ",
     "delete_cmd_prefix": "rm(",
     "library": "var_list.r",
     "varRefreshCmd": "cat(var_dic_list()) "
    }
   },
   "types_to_exclude": [
    "module",
    "function",
    "builtin_function_or_method",
    "instance",
    "_Feature"
   ],
   "window_display": false
  }
 },
 "nbformat": 4,
 "nbformat_minor": 2
}
